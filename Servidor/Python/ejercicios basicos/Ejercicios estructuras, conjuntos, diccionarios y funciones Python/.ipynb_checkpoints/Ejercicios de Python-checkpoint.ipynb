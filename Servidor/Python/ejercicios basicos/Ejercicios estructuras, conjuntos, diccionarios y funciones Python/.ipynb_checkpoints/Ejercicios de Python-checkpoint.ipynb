{
 "cells": [
  {
   "cell_type": "markdown",
   "metadata": {},
   "source": [
    "# Ejercicios de estructuras, conjuntos, diccionarios y funciones de Python\n",
    "**Docente**: Antonio Gago.  **I.E.S. Velázquez:** Curso 2020-2021\n",
    "**Alumno**:"
   ]
  },
  {
   "cell_type": "markdown",
   "metadata": {},
   "source": [
    "## Índice de ejercicios\n",
    "* [Ejercicio 1](#ejercicio_uno)\n",
    "* [Ejercicio 2](#ejercicio_dos)\n",
    "* [Ejercicio 3](#ejercicio_tres)\n",
    "* [Ejercicio 4](#ejercicio_cuatro)\n",
    "* [Ejercicio 5](#ejercicio_cinco)\n",
    "* [Ejercicio 6](#ejercicio_seis)"
   ]
  },
  {
   "cell_type": "markdown",
   "metadata": {},
   "source": [
    "## Ejercicio 1 <a name=\"ejercicio_uno\"/>"
   ]
  },
  {
   "cell_type": "markdown",
   "metadata": {},
   "source": [
    "Escriba un programa que pida un número de tiradas de un dado mayor que una. Si no salen dos dados iguales seguidos, el jugador gana. Si salen iguales, pierde.\n",
    "\n",
    "Número de tiradas de dados: 1 ¡Imposible!\n",
    "\n",
    "Número de tiradas de dados: 6 Dados: 3 1 1 4 6 2 El jugador ha perdido.\n",
    "\n",
    "Número de tiradas de dados: 4 Dados: 4 2 5 3 El jugador ha ganado."
   ]
  },
  {
   "cell_type": "markdown",
   "metadata": {},
   "source": [
    "### ¡Prueba tú!"
   ]
  },
  {
   "cell_type": "code",
   "execution_count": 53,
   "metadata": {},
   "outputs": [
    {
     "name": "stdout",
     "output_type": "stream",
     "text": [
      "Introduce un numero de tiradas: 5\n",
      "El jugador a perdido\n",
      "Tiradas [1, 2, 3, 5, 5]\n"
     ]
    }
   ],
   "source": [
    "#importación de la librería random\n",
    "import random\n",
    "# randrange devuelve un número aleatorio en un rango dentro de random\n",
    "num = int(input('Introduce un numero de tiradas: '))\n",
    "dados = []\n",
    "if(num == 1):\n",
    "    print(\"Imposible!!!!\")\n",
    "else:\n",
    "    dadoantiguo = 0\n",
    "    ganar = True\n",
    "    for i in range(0,num):\n",
    "        dados.append(random.randrange(1,6)) \n",
    "    for a in dados:\n",
    "        if(a == dadoantiguo):\n",
    "            print(\"El jugador ha perdido\")\n",
    "            ganar = False\n",
    "            break\n",
    "        dadoantiguo = a\n",
    "    if(ganar):\n",
    "        print(\"El jugador ha ganado\")\n",
    "    print(\"Tiradas\",dados)"
   ]
  },
  {
   "cell_type": "markdown",
   "metadata": {},
   "source": [
    "<hr>"
   ]
  },
  {
   "cell_type": "markdown",
   "metadata": {},
   "source": [
    "## Ejercicio 2 <a name=\"ejercicio_dos\"/>"
   ]
  },
  {
   "cell_type": "markdown",
   "metadata": {},
   "source": [
    "Dados dos listados independientes de nombres de los alumnos de 1º ESO y 2º ESO. \n",
    "\n",
    "| 1º ESO | 2º ESO |                \n",
    "|:-|:-:|\n",
    "|Antonio | Jaime|\n",
    "|María | Marta|\n",
    "|Juan | José|\n",
    "|Marina | Antonio|\n",
    "|Andrés | Marcos|\n",
    "|Jaime | Alba|\n",
    "|Lucía | Maite|\n",
    "|Belén | Esther|\n",
    "|Jorge | Paula|\n",
    "|Pedro | Alonso|\n",
    "|Ana | Lucía|\n",
    "|Violeta | Antonio|\n",
    "\n",
    "Mostrar:\n",
    "* Mostrar los nombres de todos los alumnos de 1º ESO y de 2º ESO (los repetidos sólo deben aparecer una vez)\n",
    "* Mostrar los nombres que se repiten entre los alumnos de 1º ESO y de 2º ESO. \n",
    "* Mostrar los nombres de los alumnos de 1º ESO que no se repiten en 2º ESO. "
   ]
  },
  {
   "cell_type": "markdown",
   "metadata": {},
   "source": [
    "### ¡Prueba tú!"
   ]
  },
  {
   "cell_type": "code",
   "execution_count": 63,
   "metadata": {},
   "outputs": [
    {
     "name": "stdout",
     "output_type": "stream",
     "text": [
      "Mostrar los nombres de todos los alumnos {'Jorge', 'Alonso', 'Antonio', 'María', 'Alba', 'Ana', 'Lucía', 'Belén', 'Marcos', 'Juan', 'Paula', 'Jaime', 'Esther', 'Marina', 'Violeta', 'Marta', 'Pedro', 'Maite', 'Andrés', 'José'}\n",
      "__________________________________________________________________________________\n",
      "Mostrar los nombres que se repiten entre los alumnos {'Antonio', 'Lucía', 'Jaime'}\n",
      "__________________________________________________________________________________\n",
      "Mostrar los nombres de los alumnos de 1º ESO que no se repiten en 2º ESO {'Belén', 'Juan', 'Andrés', 'Jorge', 'Marina', 'Violeta', 'Pedro', 'María', 'Ana'}\n"
     ]
    }
   ],
   "source": [
    "eso1 = {\"Antonio\",\"María\",\"Juan\",\"Marina\",\"Andrés\",\"Jaime\",\"Lucía\",\"Belén\",\"Jorge\",\"Pedro\",\"Ana\",\"Violeta\"}\n",
    "eso2 = {\"Jaime\",\"Marta\",\"José\",\"Antonio\",\"Marcos\",\"Alba\",\"Maite\",\"Esther\",\"Paula\",\"Alonso\",\"Lucía\",\"Antonio\"}\n",
    "\n",
    "print('Mostrar los nombres de todos los alumnos', eso1 | eso2)\n",
    "print(\"__________________________________________________________________________________\")\n",
    "print('Mostrar los nombres que se repiten entre los alumnos', eso1 & eso2)\n",
    "print(\"__________________________________________________________________________________\")\n",
    "print('Mostrar los nombres de los alumnos de 1º ESO que no se repiten en 2º ESO', eso1 - eso2)"
   ]
  },
  {
   "cell_type": "markdown",
   "metadata": {},
   "source": [
    "<hr>"
   ]
  },
  {
   "cell_type": "markdown",
   "metadata": {},
   "source": [
    "## Ejercicio 3 <a name=\"ejercicio_tres\"/>"
   ]
  },
  {
   "cell_type": "markdown",
   "metadata": {},
   "source": [
    "Suponer una lista de datos con las compras hechas por clientes de una empresa a lo largo de un mes, la cual contiene tuplas con información de cada venta:\n",
    "\n",
    "\n",
    "| Cliente | Día del Mes | Montaje | Dirección |                \n",
    "|:-|:-:| :-| :-|\n",
    "|Juan José | 5| 1234.50€ | Calle Sol nº 15 | \n",
    "|María Canto | 6| 875.15€ | Calle Luna nº 3 \n",
    "|Juan José | 8| 294.86€ | Calle Sol nº 15 |  \n",
    "|Marta López | 10 | 594.86€ | Calle León nº 15 | \n",
    "|María Canto | 13| 475.85€ | Calle Luna nº 3 |\n",
    "|Adriano | 17| 715.25€ | Calle Miel nº 30 |\n",
    "|Marta López | 20 | 1095.30€ | Calle León nº 15 | \n",
    "|Valeria | 25 | 745.30€ | Calle Pio nº 25 | \n",
    "\n",
    "Escribir una función que reciba como parámetro una lista con el fomato indicado anteriormente y devuelva las direcciones de cada cliente al que se le debe enviar una factura.\n",
    "\n",
    "**Nota:** Cada cliente puede haber hecho más de una compra durante el mes, por lo que la función dede develover uns estructura que contenga cada dirección sólo una vez."
   ]
  },
  {
   "cell_type": "markdown",
   "metadata": {},
   "source": [
    "### ¡Prueba tú!"
   ]
  },
  {
   "cell_type": "code",
   "execution_count": 77,
   "metadata": {},
   "outputs": [
    {
     "name": "stdout",
     "output_type": "stream",
     "text": [
      "{' Calle Luna nº 3', 'Calle León nº 15', 'Calle Sol nº 15'}\n"
     ]
    }
   ],
   "source": [
    "clientesDeuda = ((\"Juan José \",5,1234.50,\"Calle Sol nº 15\"),(\"María Canto\",6,875.15,\" Calle Luna nº 3\")\n",
    "                 ,(\"Juan José\",8,294.86,\"Calle Sol nº 15\"),(\"Marta López\",10,594.86,\"Calle León nº 15\")\n",
    "                 ,(\"María Canto\",6,875.15,\" Calle Luna nº 3\"),(\"María Canto\",6,875.15,\" Calle Luna nº 3\"))\n",
    "\n",
    "def DireccionMorosos(clientes):\n",
    "    direcciones = []\n",
    "    for cliente in clientes:\n",
    "        direcciones.append(cliente[3])\n",
    "    direccion = set(direcciones)\n",
    "    print(direccion)    \n",
    "\n",
    "DireccionMorosos(clientesDeuda)"
   ]
  },
  {
   "cell_type": "markdown",
   "metadata": {},
   "source": [
    "<hr>"
   ]
  },
  {
   "cell_type": "markdown",
   "metadata": {},
   "source": [
    "## Ejercicio 4 <a name=\"ejercicio_cuatro\"/>"
   ]
  },
  {
   "cell_type": "markdown",
   "metadata": {},
   "source": [
    "Obtener múltiplos de \"dos\", \"cuatro\" y \"ocho\".\n",
    "\n",
    "Construye un lista de tuplas en el que cada tupla es de la forma (numero, mayor divisor entre dos, cuatro y ocho)\n",
    "En las lista sólo se den incluir los números desde el 1 hasta el 1600 que sean múltiplos de dos cuatro u ocho.\n",
    "\n",
    "[(2,\"dos\"), (4,\"cuatro\"), (6,\"dos\"), (8, \"ocho\"), (10, \"dos\"), (12,\"cuatro\"), (14,\"dos\"), (16,\"ocho\"),....(1600,\"ocho\")]\n",
    "\n",
    "\n",
    "* Obtén mediante slicing las tuplas (numero, mayor divisor entre dos, cuatro y ocho) de los primeros 15 números cuyo mayor divisor sea dos.\n",
    "* Obtén mediante slicing las tuplas (numero, mayor divisor entre dos, cuatro y ocho) de los últimos 10 números cuyo mayor divisor sea ocho.\n",
    "* Obtén mediante slicing las tuplas (numero, mayor divisor entre dos, cuatro y ocho) todos los múltiplos de cuatro."
   ]
  },
  {
   "cell_type": "markdown",
   "metadata": {},
   "source": [
    "### ¡Prueba tú!"
   ]
  },
  {
   "cell_type": "code",
   "execution_count": 247,
   "metadata": {},
   "outputs": [
    {
     "name": "stdout",
     "output_type": "stream",
     "text": [
      "[(2, 'dos'), (6, 'dos'), (10, 'dos'), (14, 'dos'), (18, 'dos'), (22, 'dos'), (26, 'dos'), (30, 'dos'), (34, 'dos'), (38, 'dos'), (42, 'dos'), (46, 'dos'), (50, 'dos'), (54, 'dos'), (58, 'dos')]\n",
      "______________________________________________________________________________________________________________\n",
      "[(1528, 'ocho'), (1536, 'ocho'), (1544, 'ocho'), (1552, 'ocho'), (1560, 'ocho'), (1568, 'ocho'), (1576, 'ocho'), (1584, 'ocho'), (1592, 'ocho'), (1600, 'ocho')]\n",
      "______________________________________________________________________________________________________________\n",
      "[(4, 'cuatro'), (20, 'cuatro'), (36, 'cuatro'), (52, 'cuatro'), (68, 'cuatro'), (84, 'cuatro'), (100, 'cuatro'), (116, 'cuatro'), (132, 'cuatro'), (148, 'cuatro'), (164, 'cuatro'), (180, 'cuatro'), (196, 'cuatro'), (212, 'cuatro'), (228, 'cuatro'), (244, 'cuatro'), (260, 'cuatro'), (276, 'cuatro'), (292, 'cuatro'), (308, 'cuatro'), (324, 'cuatro'), (340, 'cuatro'), (356, 'cuatro'), (372, 'cuatro'), (388, 'cuatro'), (404, 'cuatro'), (420, 'cuatro'), (436, 'cuatro'), (452, 'cuatro'), (468, 'cuatro'), (484, 'cuatro'), (500, 'cuatro'), (516, 'cuatro'), (532, 'cuatro'), (548, 'cuatro'), (564, 'cuatro'), (580, 'cuatro'), (596, 'cuatro'), (612, 'cuatro'), (628, 'cuatro'), (644, 'cuatro'), (660, 'cuatro'), (676, 'cuatro'), (692, 'cuatro'), (708, 'cuatro'), (724, 'cuatro'), (740, 'cuatro'), (756, 'cuatro'), (772, 'cuatro'), (788, 'cuatro'), (804, 'cuatro'), (820, 'cuatro'), (836, 'cuatro'), (852, 'cuatro'), (868, 'cuatro'), (884, 'cuatro'), (900, 'cuatro'), (916, 'cuatro'), (932, 'cuatro'), (948, 'cuatro'), (964, 'cuatro'), (980, 'cuatro'), (996, 'cuatro'), (1012, 'cuatro'), (1028, 'cuatro'), (1044, 'cuatro'), (1060, 'cuatro'), (1076, 'cuatro'), (1092, 'cuatro'), (1108, 'cuatro'), (1124, 'cuatro'), (1140, 'cuatro'), (1156, 'cuatro'), (1172, 'cuatro'), (1188, 'cuatro'), (1204, 'cuatro'), (1220, 'cuatro'), (1236, 'cuatro'), (1252, 'cuatro'), (1268, 'cuatro'), (1284, 'cuatro'), (1300, 'cuatro'), (1316, 'cuatro'), (1332, 'cuatro'), (1348, 'cuatro'), (1364, 'cuatro'), (1380, 'cuatro'), (1396, 'cuatro'), (1412, 'cuatro'), (1428, 'cuatro'), (1444, 'cuatro'), (1460, 'cuatro'), (1476, 'cuatro'), (1492, 'cuatro'), (1508, 'cuatro'), (1524, 'cuatro'), (1540, 'cuatro'), (1556, 'cuatro'), (1572, 'cuatro'), (1588, 'cuatro'), (8, 'ocho'), (24, 'ocho'), (40, 'ocho'), (56, 'ocho'), (72, 'ocho'), (88, 'ocho'), (104, 'ocho'), (120, 'ocho'), (136, 'ocho'), (152, 'ocho'), (168, 'ocho'), (184, 'ocho'), (200, 'ocho'), (216, 'ocho'), (232, 'ocho'), (248, 'ocho'), (264, 'ocho'), (280, 'ocho'), (296, 'ocho'), (312, 'ocho'), (328, 'ocho'), (344, 'ocho'), (360, 'ocho'), (376, 'ocho'), (392, 'ocho'), (408, 'ocho'), (424, 'ocho'), (440, 'ocho'), (456, 'ocho'), (472, 'ocho'), (488, 'ocho'), (504, 'ocho'), (520, 'ocho'), (536, 'ocho'), (552, 'ocho'), (568, 'ocho'), (584, 'ocho'), (600, 'ocho'), (616, 'ocho'), (632, 'ocho'), (648, 'ocho'), (664, 'ocho'), (680, 'ocho'), (696, 'ocho'), (712, 'ocho'), (728, 'ocho'), (744, 'ocho'), (760, 'ocho'), (776, 'ocho'), (792, 'ocho'), (808, 'ocho'), (824, 'ocho'), (840, 'ocho'), (856, 'ocho'), (872, 'ocho'), (888, 'ocho'), (904, 'ocho'), (920, 'ocho'), (936, 'ocho'), (952, 'ocho'), (968, 'ocho'), (984, 'ocho'), (1000, 'ocho'), (1016, 'ocho'), (1032, 'ocho'), (1048, 'ocho'), (1064, 'ocho'), (1080, 'ocho'), (1096, 'ocho'), (1112, 'ocho'), (1128, 'ocho'), (1144, 'ocho'), (1160, 'ocho'), (1176, 'ocho'), (1192, 'ocho'), (1208, 'ocho'), (1224, 'ocho'), (1240, 'ocho'), (1256, 'ocho'), (1272, 'ocho'), (1288, 'ocho'), (1304, 'ocho'), (1320, 'ocho'), (1336, 'ocho'), (1352, 'ocho'), (1368, 'ocho'), (1384, 'ocho'), (1400, 'ocho'), (1416, 'ocho'), (1432, 'ocho'), (1448, 'ocho'), (1464, 'ocho'), (1480, 'ocho'), (1496, 'ocho'), (1512, 'ocho'), (1528, 'ocho'), (1544, 'ocho'), (1560, 'ocho'), (1576, 'ocho'), (1592, 'ocho'), (2, 'dos'), (10, 'dos'), (18, 'dos'), (26, 'dos'), (34, 'dos'), (42, 'dos'), (50, 'dos'), (58, 'dos'), (66, 'dos'), (74, 'dos'), (82, 'dos'), (90, 'dos'), (98, 'dos'), (106, 'dos'), (114, 'dos'), (122, 'dos'), (130, 'dos'), (138, 'dos'), (146, 'dos'), (154, 'dos'), (162, 'dos'), (170, 'dos'), (178, 'dos'), (186, 'dos'), (194, 'dos'), (202, 'dos'), (210, 'dos'), (218, 'dos'), (226, 'dos'), (234, 'dos'), (242, 'dos'), (250, 'dos'), (258, 'dos'), (266, 'dos'), (274, 'dos'), (282, 'dos'), (290, 'dos'), (298, 'dos'), (306, 'dos'), (314, 'dos'), (322, 'dos'), (330, 'dos'), (338, 'dos'), (346, 'dos'), (354, 'dos'), (362, 'dos'), (370, 'dos'), (378, 'dos'), (386, 'dos'), (394, 'dos'), (402, 'dos'), (410, 'dos'), (418, 'dos'), (426, 'dos'), (434, 'dos'), (442, 'dos'), (450, 'dos'), (458, 'dos'), (466, 'dos'), (474, 'dos'), (482, 'dos'), (490, 'dos'), (498, 'dos'), (506, 'dos'), (514, 'dos'), (522, 'dos'), (530, 'dos'), (538, 'dos'), (546, 'dos'), (554, 'dos'), (562, 'dos'), (570, 'dos'), (578, 'dos'), (586, 'dos'), (594, 'dos'), (602, 'dos'), (610, 'dos'), (618, 'dos'), (626, 'dos'), (634, 'dos'), (642, 'dos'), (650, 'dos'), (658, 'dos'), (666, 'dos'), (674, 'dos'), (682, 'dos'), (690, 'dos'), (698, 'dos'), (706, 'dos'), (714, 'dos'), (722, 'dos'), (730, 'dos'), (738, 'dos'), (746, 'dos'), (754, 'dos'), (762, 'dos'), (770, 'dos'), (778, 'dos'), (786, 'dos'), (794, 'dos'), (802, 'dos'), (810, 'dos'), (818, 'dos'), (826, 'dos'), (834, 'dos'), (842, 'dos'), (850, 'dos'), (858, 'dos'), (866, 'dos'), (874, 'dos'), (882, 'dos'), (890, 'dos'), (898, 'dos'), (906, 'dos'), (914, 'dos'), (922, 'dos'), (930, 'dos'), (938, 'dos'), (946, 'dos'), (954, 'dos'), (962, 'dos'), (970, 'dos'), (978, 'dos'), (986, 'dos'), (994, 'dos'), (1002, 'dos'), (1010, 'dos'), (1018, 'dos'), (1026, 'dos'), (1034, 'dos'), (1042, 'dos'), (1050, 'dos'), (1058, 'dos'), (1066, 'dos'), (1074, 'dos'), (1082, 'dos'), (1090, 'dos'), (1098, 'dos'), (1106, 'dos'), (1114, 'dos'), (1122, 'dos'), (1130, 'dos'), (1138, 'dos'), (1146, 'dos'), (1154, 'dos'), (1162, 'dos'), (1170, 'dos'), (1178, 'dos'), (1186, 'dos'), (1194, 'dos'), (1202, 'dos'), (1210, 'dos'), (1218, 'dos'), (1226, 'dos'), (1234, 'dos'), (1242, 'dos'), (1250, 'dos'), (1258, 'dos'), (1266, 'dos'), (1274, 'dos'), (1282, 'dos'), (1290, 'dos'), (1298, 'dos'), (1306, 'dos'), (1314, 'dos'), (1322, 'dos'), (1330, 'dos'), (1338, 'dos'), (1346, 'dos'), (1354, 'dos'), (1362, 'dos'), (1370, 'dos'), (1378, 'dos'), (1386, 'dos'), (1394, 'dos'), (1402, 'dos'), (1410, 'dos'), (1418, 'dos'), (1426, 'dos'), (1434, 'dos'), (1442, 'dos'), (1450, 'dos'), (1458, 'dos'), (1466, 'dos'), (1474, 'dos'), (1482, 'dos'), (1490, 'dos'), (1498, 'dos'), (1506, 'dos'), (1514, 'dos'), (1522, 'dos'), (1530, 'dos'), (1538, 'dos'), (1546, 'dos'), (1554, 'dos'), (1562, 'dos'), (1570, 'dos'), (1578, 'dos'), (1586, 'dos'), (1594, 'dos')]\n"
     ]
    }
   ],
   "source": [
    "\n",
    "numeros = ('dos','cuatro','ocho')\n",
    "numer = []\n",
    "for i in range(1,1602):\n",
    "     \n",
    "    if(i%8==0):\n",
    "        numer.append((i,numeros[i%2+2]))\n",
    "    elif(i%4==0):\n",
    "         numer.append((i,numeros[i%2+1]))\n",
    "    elif(i%2==0):\n",
    "         numer.append((i,numeros[i%2+0]))\n",
    "            \n",
    "\n",
    "print(numer[::2][:15])\n",
    "print(\"______________________________________________________________________________________________________________\")\n",
    "print(sorted(numer, key=lambda x: x[1])[-10:])\n",
    "print(\"______________________________________________________________________________________________________________\")\n",
    "\n",
    "\n",
    "\n"
   ]
  },
  {
   "cell_type": "markdown",
   "metadata": {},
   "source": [
    "<hr>"
   ]
  },
  {
   "cell_type": "markdown",
   "metadata": {},
   "source": [
    "## Ejercicio 5 <a name=\"ejercicio_cinco\"/>"
   ]
  },
  {
   "cell_type": "markdown",
   "metadata": {},
   "source": [
    "Escriba un programa que permita convertir un texto a código Morse.\n",
    "\n",
    "El texto a convertir a morse sólo estará compuesto por letras y espacios."
   ]
  },
  {
   "cell_type": "markdown",
   "metadata": {},
   "source": [
    "### ¡Prueba tú!"
   ]
  },
  {
   "cell_type": "code",
   "execution_count": 138,
   "metadata": {},
   "outputs": [
    {
     "name": "stdout",
     "output_type": "stream",
     "text": [
      "Escribe un textohola soy oscar\n",
      "....  ---  .-..  .-  _  ...  ---  -.--  _  ---  ...  -.-.  .-  .-.  "
     ]
    }
   ],
   "source": [
    "MORSE = {' ': '_', 'A': '.-', 'B': '-...', 'C': '-.-.', 'D': '-..', 'E': '.', 'F': '..-.', 'G': '--.', 'H': '....', \n",
    "         'I': '..', 'J': '.---', 'K': '-.-', 'L': '.-..', 'M': '--', 'N': '-.', 'O': '---', 'P': '.--.', 'Q': '--.-', \n",
    "         'R': '.-.', 'S': '...', 'T': '-', 'U': '..-', 'V': '...-', 'W': '.--', 'X': '-..-', 'Y': '-.--', 'Z': '--..' }\n",
    "\n",
    "texto = input('Escribe un texto')\n",
    "for caracter in texto:\n",
    "    print(MORSE[caracter.upper()], end =\"  \")\n",
    "        \n",
    "    "
   ]
  },
  {
   "cell_type": "markdown",
   "metadata": {},
   "source": [
    "<hr>"
   ]
  },
  {
   "cell_type": "markdown",
   "metadata": {},
   "source": [
    "## Ejercicio 6 <a name=\"ejercicio_seis\"/>"
   ]
  },
  {
   "cell_type": "markdown",
   "metadata": {},
   "source": [
    "Escribir un programa que dado un texto cree un diccionario en el que las claves sean las vocales y los valores las palabras que \n",
    "que empiecen por esa vocal. Las palabras repetidas sólo deben aparecer una vez.\n",
    "Se valorará el uso de la definición de diccionarios por comprensión para la creación del diccionario.\n",
    "\n",
    "Para el siguiente:\n",
    "\n",
    "*'Hoy estamos en otoño y aún no hace frío, pero en algo más de un mes empieza el invierno y el clima tendrá que cambiar'*\n",
    "\n",
    "El resultado debe ser:\n",
    "\n",
    "{'a': ['aún', 'algo'], 'e': ['en', 'estamos', 'empieza', 'el'], 'i': ['invierno'], 'o': ['otoño'], 'u': ['un']}"
   ]
  },
  {
   "cell_type": "markdown",
   "metadata": {},
   "source": [
    "### ¡Prueba tú!"
   ]
  },
  {
   "cell_type": "code",
   "execution_count": 182,
   "metadata": {},
   "outputs": [
    {
     "name": "stdout",
     "output_type": "stream",
     "text": [
      "[1]\n",
      "{'a': {'algo', 'aún'}, 'e': {'empieza', 'el', 'estamos', 'en'}, 'i': {'invierno'}, 'o': {'otoño'}, 'u': {'un'}}\n"
     ]
    }
   ],
   "source": [
    "texto = \"Hoy estamos en otoño y aún no hace frío, pero en algo más de un mes empieza el invierno y el clima tendrá que cambiar'\"\n",
    "vocales = \"aeiouAEIOU\"\n",
    "iniciales = []\n",
    "for palabra in texto:\n",
    "    if(palabra[0] in vocales):\n",
    "        iniciales.append(palabra[0])\n",
    "\n",
    "palabras_por_iniciales = {inicial: set([palabra for palabra in texto.split() \n",
    "                                    if palabra[0]==inicial])\n",
    "                          for inicial in sorted(iniciales)}\n",
    "\n",
    "print (palabras_por_iniciales)"
   ]
  },
  {
   "cell_type": "markdown",
   "metadata": {},
   "source": [
    "<hr>"
   ]
  }
 ],
 "metadata": {
  "kernelspec": {
   "display_name": "Python 3",
   "language": "python",
   "name": "python3"
  },
  "language_info": {
   "codemirror_mode": {
    "name": "ipython",
    "version": 3
   },
   "file_extension": ".py",
   "mimetype": "text/x-python",
   "name": "python",
   "nbconvert_exporter": "python",
   "pygments_lexer": "ipython3",
   "version": "3.8.3"
  }
 },
 "nbformat": 4,
 "nbformat_minor": 4
}
