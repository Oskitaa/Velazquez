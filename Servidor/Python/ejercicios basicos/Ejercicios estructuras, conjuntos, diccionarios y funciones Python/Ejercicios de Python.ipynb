{
 "cells": [
  {
   "cell_type": "markdown",
   "metadata": {},
   "source": [
    "# Ejercicios de estructuras, conjuntos, diccionarios y funciones de Python\n",
    "**Docente**: Antonio Gago.  **I.E.S. Velázquez:** Curso 2020-2021\n",
    "**Alumno**:"
   ]
  },
  {
   "cell_type": "markdown",
   "metadata": {},
   "source": [
    "## Índice de ejercicios\n",
    "* [Ejercicio 1](#ejercicio_uno)\n",
    "* [Ejercicio 2](#ejercicio_dos)\n",
    "* [Ejercicio 3](#ejercicio_tres)\n",
    "* [Ejercicio 4](#ejercicio_cuatro)\n",
    "* [Ejercicio 5](#ejercicio_cinco)\n",
    "* [Ejercicio 6](#ejercicio_seis)"
   ]
  },
  {
   "cell_type": "markdown",
   "metadata": {},
   "source": [
    "## Ejercicio 1 <a name=\"ejercicio_uno\"/>"
   ]
  },
  {
   "cell_type": "markdown",
   "metadata": {},
   "source": [
    "Escriba un programa que pida un número de tiradas de un dado mayor que una. Si no salen dos dados iguales seguidos, el jugador gana. Si salen iguales, pierde.\n",
    "\n",
    "Número de tiradas de dados: 1 ¡Imposible!\n",
    "\n",
    "Número de tiradas de dados: 6 Dados: 3 1 1 4 6 2 El jugador ha perdido.\n",
    "\n",
    "Número de tiradas de dados: 4 Dados: 4 2 5 3 El jugador ha ganado."
   ]
  },
  {
   "cell_type": "markdown",
   "metadata": {},
   "source": [
    "### ¡Prueba tú!"
   ]
  },
  {
   "cell_type": "code",
   "execution_count": 53,
   "metadata": {},
   "outputs": [
    {
     "name": "stdout",
     "output_type": "stream",
     "text": [
      "Introduce un numero de tiradas: 5\n",
      "El jugador a perdido\n",
      "Tiradas [1, 2, 3, 5, 5]\n"
     ]
    }
   ],
   "source": [
    "#importación de la librería random\n",
    "import random\n",
    "# randrange devuelve un número aleatorio en un rango dentro de random\n",
    "num = int(input('Introduce un numero de tiradas: '))\n",
    "dados = []\n",
    "if(num == 1):\n",
    "    print(\"Imposible!!!!\")\n",
    "else:\n",
    "    dadoantiguo = 0\n",
    "    ganar = True\n",
    "    for i in range(0,num):\n",
    "        dados.append(random.randrange(1,6)) \n",
    "    for a in dados:\n",
    "        if(a == dadoantiguo):\n",
    "            print(\"El jugador ha perdido\")\n",
    "            ganar = False\n",
    "            break\n",
    "        dadoantiguo = a\n",
    "    if(ganar):\n",
    "        print(\"El jugador ha ganado\")\n",
    "    print(\"Tiradas\",dados)"
   ]
  },
  {
   "cell_type": "markdown",
   "metadata": {},
   "source": [
    "<hr>"
   ]
  },
  {
   "cell_type": "markdown",
   "metadata": {},
   "source": [
    "## Ejercicio 2 <a name=\"ejercicio_dos\"/>"
   ]
  },
  {
   "cell_type": "markdown",
   "metadata": {},
   "source": [
    "Dados dos listados independientes de nombres de los alumnos de 1º ESO y 2º ESO. \n",
    "\n",
    "| 1º ESO | 2º ESO |                \n",
    "|:-|:-:|\n",
    "|Antonio | Jaime|\n",
    "|María | Marta|\n",
    "|Juan | José|\n",
    "|Marina | Antonio|\n",
    "|Andrés | Marcos|\n",
    "|Jaime | Alba|\n",
    "|Lucía | Maite|\n",
    "|Belén | Esther|\n",
    "|Jorge | Paula|\n",
    "|Pedro | Alonso|\n",
    "|Ana | Lucía|\n",
    "|Violeta | Antonio|\n",
    "\n",
    "Mostrar:\n",
    "* Mostrar los nombres de todos los alumnos de 1º ESO y de 2º ESO (los repetidos sólo deben aparecer una vez)\n",
    "* Mostrar los nombres que se repiten entre los alumnos de 1º ESO y de 2º ESO. \n",
    "* Mostrar los nombres de los alumnos de 1º ESO que no se repiten en 2º ESO. "
   ]
  },
  {
   "cell_type": "markdown",
   "metadata": {},
   "source": [
    "### ¡Prueba tú!"
   ]
  },
  {
   "cell_type": "code",
   "execution_count": 63,
   "metadata": {},
   "outputs": [
    {
     "name": "stdout",
     "output_type": "stream",
     "text": [
      "Mostrar los nombres de todos los alumnos {'Jorge', 'Alonso', 'Antonio', 'María', 'Alba', 'Ana', 'Lucía', 'Belén', 'Marcos', 'Juan', 'Paula', 'Jaime', 'Esther', 'Marina', 'Violeta', 'Marta', 'Pedro', 'Maite', 'Andrés', 'José'}\n",
      "__________________________________________________________________________________\n",
      "Mostrar los nombres que se repiten entre los alumnos {'Antonio', 'Lucía', 'Jaime'}\n",
      "__________________________________________________________________________________\n",
      "Mostrar los nombres de los alumnos de 1º ESO que no se repiten en 2º ESO {'Belén', 'Juan', 'Andrés', 'Jorge', 'Marina', 'Violeta', 'Pedro', 'María', 'Ana'}\n"
     ]
    }
   ],
   "source": [
    "eso1 = {\"Antonio\",\"María\",\"Juan\",\"Marina\",\"Andrés\",\"Jaime\",\"Lucía\",\"Belén\",\"Jorge\",\"Pedro\",\"Ana\",\"Violeta\"}\n",
    "eso2 = {\"Jaime\",\"Marta\",\"José\",\"Antonio\",\"Marcos\",\"Alba\",\"Maite\",\"Esther\",\"Paula\",\"Alonso\",\"Lucía\",\"Antonio\"}\n",
    "\n",
    "print('Mostrar los nombres de todos los alumnos', eso1 | eso2)\n",
    "print(\"__________________________________________________________________________________\")\n",
    "print('Mostrar los nombres que se repiten entre los alumnos', eso1 & eso2)\n",
    "print(\"__________________________________________________________________________________\")\n",
    "print('Mostrar los nombres de los alumnos de 1º ESO que no se repiten en 2º ESO', eso1 - eso2)"
   ]
  },
  {
   "cell_type": "markdown",
   "metadata": {},
   "source": [
    "<hr>"
   ]
  },
  {
   "cell_type": "markdown",
   "metadata": {},
   "source": [
    "## Ejercicio 3 <a name=\"ejercicio_tres\"/>"
   ]
  },
  {
   "cell_type": "markdown",
   "metadata": {},
   "source": [
    "Suponer una lista de datos con las compras hechas por clientes de una empresa a lo largo de un mes, la cual contiene tuplas con información de cada venta:\n",
    "\n",
    "\n",
    "| Cliente | Día del Mes | Montaje | Dirección |                \n",
    "|:-|:-:| :-| :-|\n",
    "|Juan José | 5| 1234.50€ | Calle Sol nº 15 | \n",
    "|María Canto | 6| 875.15€ | Calle Luna nº 3 \n",
    "|Juan José | 8| 294.86€ | Calle Sol nº 15 |  \n",
    "|Marta López | 10 | 594.86€ | Calle León nº 15 | \n",
    "|María Canto | 13| 475.85€ | Calle Luna nº 3 |\n",
    "|Adriano | 17| 715.25€ | Calle Miel nº 30 |\n",
    "|Marta López | 20 | 1095.30€ | Calle León nº 15 | \n",
    "|Valeria | 25 | 745.30€ | Calle Pio nº 25 | \n",
    "\n",
    "Escribir una función que reciba como parámetro una lista con el fomato indicado anteriormente y devuelva las direcciones de cada cliente al que se le debe enviar una factura.\n",
    "\n",
    "**Nota:** Cada cliente puede haber hecho más de una compra durante el mes, por lo que la función dede develover uns estructura que contenga cada dirección sólo una vez."
   ]
  },
  {
   "cell_type": "markdown",
   "metadata": {},
   "source": [
    "### ¡Prueba tú!"
   ]
  },
  {
   "cell_type": "code",
   "execution_count": 77,
   "metadata": {},
   "outputs": [
    {
     "name": "stdout",
     "output_type": "stream",
     "text": [
      "{' Calle Luna nº 3', 'Calle León nº 15', 'Calle Sol nº 15'}\n"
     ]
    }
   ],
   "source": [
    "clientesDeuda = ((\"Juan José \",5,1234.50,\"Calle Sol nº 15\"),(\"María Canto\",6,875.15,\" Calle Luna nº 3\")\n",
    "                 ,(\"Juan José\",8,294.86,\"Calle Sol nº 15\"),(\"Marta López\",10,594.86,\"Calle León nº 15\")\n",
    "                 ,(\"María Canto\",6,875.15,\" Calle Luna nº 3\"),(\"María Canto\",6,875.15,\" Calle Luna nº 3\"))\n",
    "\n",
    "def DireccionMorosos(clientes):\n",
    "    direcciones = []\n",
    "    for cliente in clientes:\n",
    "        direcciones.append(cliente[3])\n",
    "    direccion = set(direcciones)\n",
    "    print(direccion)    \n",
    "\n",
    "DireccionMorosos(clientesDeuda)"
   ]
  },
  {
   "cell_type": "markdown",
   "metadata": {},
   "source": [
    "<hr>"
   ]
  },
  {
   "cell_type": "markdown",
   "metadata": {},
   "source": [
    "## Ejercicio 4 <a name=\"ejercicio_cuatro\"/>"
   ]
  },
  {
   "cell_type": "markdown",
   "metadata": {},
   "source": [
    "Obtener múltiplos de \"dos\", \"cuatro\" y \"ocho\".\n",
    "\n",
    "Construye un lista de tuplas en el que cada tupla es de la forma (numero, mayor divisor entre dos, cuatro y ocho)\n",
    "En las lista sólo se den incluir los números desde el 1 hasta el 1600 que sean múltiplos de dos cuatro u ocho.\n",
    "\n",
    "[(2,\"dos\"), (4,\"cuatro\"), (6,\"dos\"), (8, \"ocho\"), (10, \"dos\"), (12,\"cuatro\"), (14,\"dos\"), (16,\"ocho\"),....(1600,\"ocho\")]\n",
    "\n",
    "\n",
    "* Obtén mediante slicing las tuplas (numero, mayor divisor entre dos, cuatro y ocho) de los primeros 15 números cuyo mayor divisor sea dos.\n",
    "* Obtén mediante slicing las tuplas (numero, mayor divisor entre dos, cuatro y ocho) de los últimos 10 números cuyo mayor divisor sea ocho.\n",
    "* Obtén mediante slicing las tuplas (numero, mayor divisor entre dos, cuatro y ocho) todos los múltiplos de cuatro."
   ]
  },
  {
   "cell_type": "markdown",
   "metadata": {},
   "source": [
    "### ¡Prueba tú!"
   ]
  },
  {
   "cell_type": "code",
   "execution_count": 1,
   "metadata": {},
   "outputs": [
    {
     "name": "stdout",
     "output_type": "stream",
     "text": [
      "[(2, 'dos'), (6, 'dos'), (10, 'dos'), (14, 'dos'), (18, 'dos'), (22, 'dos'), (26, 'dos'), (30, 'dos'), (34, 'dos'), (38, 'dos'), (42, 'dos'), (46, 'dos'), (50, 'dos'), (54, 'dos'), (58, 'dos')]\n",
      "______________________________________________________________________________________________________________\n",
      "[(1528, 'ocho'), (1536, 'ocho'), (1544, 'ocho'), (1552, 'ocho'), (1560, 'ocho'), (1568, 'ocho'), (1576, 'ocho'), (1584, 'ocho'), (1592, 'ocho'), (1600, 'ocho')]\n",
      "______________________________________________________________________________________________________________\n",
      "[(4, 'cuatro'), (12, 'cuatro'), (20, 'cuatro'), (28, 'cuatro'), (36, 'cuatro'), (44, 'cuatro'), (52, 'cuatro'), (60, 'cuatro'), (68, 'cuatro'), (76, 'cuatro'), (84, 'cuatro'), (92, 'cuatro'), (100, 'cuatro'), (108, 'cuatro'), (116, 'cuatro'), (124, 'cuatro'), (132, 'cuatro'), (140, 'cuatro'), (148, 'cuatro'), (156, 'cuatro'), (164, 'cuatro'), (172, 'cuatro'), (180, 'cuatro'), (188, 'cuatro'), (196, 'cuatro'), (204, 'cuatro'), (212, 'cuatro'), (220, 'cuatro'), (228, 'cuatro'), (236, 'cuatro'), (244, 'cuatro'), (252, 'cuatro'), (260, 'cuatro'), (268, 'cuatro'), (276, 'cuatro'), (284, 'cuatro'), (292, 'cuatro'), (300, 'cuatro'), (308, 'cuatro'), (316, 'cuatro'), (324, 'cuatro'), (332, 'cuatro'), (340, 'cuatro'), (348, 'cuatro'), (356, 'cuatro'), (364, 'cuatro'), (372, 'cuatro'), (380, 'cuatro'), (388, 'cuatro'), (396, 'cuatro'), (404, 'cuatro'), (412, 'cuatro'), (420, 'cuatro'), (428, 'cuatro'), (436, 'cuatro'), (444, 'cuatro'), (452, 'cuatro'), (460, 'cuatro'), (468, 'cuatro'), (476, 'cuatro'), (484, 'cuatro'), (492, 'cuatro'), (500, 'cuatro'), (508, 'cuatro'), (516, 'cuatro'), (524, 'cuatro'), (532, 'cuatro'), (540, 'cuatro'), (548, 'cuatro'), (556, 'cuatro'), (564, 'cuatro'), (572, 'cuatro'), (580, 'cuatro'), (588, 'cuatro'), (596, 'cuatro'), (604, 'cuatro'), (612, 'cuatro'), (620, 'cuatro'), (628, 'cuatro'), (636, 'cuatro'), (644, 'cuatro'), (652, 'cuatro'), (660, 'cuatro'), (668, 'cuatro'), (676, 'cuatro'), (684, 'cuatro'), (692, 'cuatro'), (700, 'cuatro'), (708, 'cuatro'), (716, 'cuatro'), (724, 'cuatro'), (732, 'cuatro'), (740, 'cuatro'), (748, 'cuatro'), (756, 'cuatro'), (764, 'cuatro'), (772, 'cuatro'), (780, 'cuatro'), (788, 'cuatro'), (796, 'cuatro'), (804, 'cuatro'), (812, 'cuatro'), (820, 'cuatro'), (828, 'cuatro'), (836, 'cuatro'), (844, 'cuatro'), (852, 'cuatro'), (860, 'cuatro'), (868, 'cuatro'), (876, 'cuatro'), (884, 'cuatro'), (892, 'cuatro'), (900, 'cuatro'), (908, 'cuatro'), (916, 'cuatro'), (924, 'cuatro'), (932, 'cuatro'), (940, 'cuatro'), (948, 'cuatro'), (956, 'cuatro'), (964, 'cuatro'), (972, 'cuatro'), (980, 'cuatro'), (988, 'cuatro'), (996, 'cuatro'), (1004, 'cuatro'), (1012, 'cuatro'), (1020, 'cuatro'), (1028, 'cuatro'), (1036, 'cuatro'), (1044, 'cuatro'), (1052, 'cuatro'), (1060, 'cuatro'), (1068, 'cuatro'), (1076, 'cuatro'), (1084, 'cuatro'), (1092, 'cuatro'), (1100, 'cuatro'), (1108, 'cuatro'), (1116, 'cuatro'), (1124, 'cuatro'), (1132, 'cuatro'), (1140, 'cuatro'), (1148, 'cuatro'), (1156, 'cuatro'), (1164, 'cuatro'), (1172, 'cuatro'), (1180, 'cuatro'), (1188, 'cuatro'), (1196, 'cuatro'), (1204, 'cuatro'), (1212, 'cuatro'), (1220, 'cuatro'), (1228, 'cuatro'), (1236, 'cuatro'), (1244, 'cuatro'), (1252, 'cuatro'), (1260, 'cuatro'), (1268, 'cuatro'), (1276, 'cuatro'), (1284, 'cuatro'), (1292, 'cuatro'), (1300, 'cuatro'), (1308, 'cuatro'), (1316, 'cuatro'), (1324, 'cuatro'), (1332, 'cuatro'), (1340, 'cuatro'), (1348, 'cuatro'), (1356, 'cuatro'), (1364, 'cuatro'), (1372, 'cuatro'), (1380, 'cuatro'), (1388, 'cuatro'), (1396, 'cuatro'), (1404, 'cuatro'), (1412, 'cuatro'), (1420, 'cuatro'), (1428, 'cuatro'), (1436, 'cuatro'), (1444, 'cuatro'), (1452, 'cuatro'), (1460, 'cuatro'), (1468, 'cuatro'), (1476, 'cuatro'), (1484, 'cuatro'), (1492, 'cuatro'), (1500, 'cuatro'), (1508, 'cuatro'), (1516, 'cuatro'), (1524, 'cuatro'), (1532, 'cuatro'), (1540, 'cuatro'), (1548, 'cuatro'), (1556, 'cuatro'), (1564, 'cuatro'), (1572, 'cuatro'), (1580, 'cuatro'), (1588, 'cuatro'), (1596, 'cuatro')]\n"
     ]
    }
   ],
   "source": [
    "\n",
    "numeros = ('dos','cuatro','ocho')\n",
    "numer = []\n",
    "for i in range(1,1602):\n",
    "     \n",
    "    if(i%8==0):\n",
    "        numer.append((i,numeros[i%2+2]))\n",
    "    elif(i%4==0):\n",
    "         numer.append((i,numeros[i%2+1]))\n",
    "    elif(i%2==0):\n",
    "         numer.append((i,numeros[  i%2+0]))\n",
    "            \n",
    "\n",
    "print(numer[::2][:15])\n",
    "print(\"______________________________________________________________________________________________________________\")\n",
    "print(sorted(numer, key=lambda x: x[1])[-10:])\n",
    "print(\"______________________________________________________________________________________________________________\")\n",
    "print(numer[1::4])\n",
    "\n",
    "\n"
   ]
  },
  {
   "cell_type": "markdown",
   "metadata": {},
   "source": [
    "<hr>"
   ]
  },
  {
   "cell_type": "markdown",
   "metadata": {},
   "source": [
    "## Ejercicio 5 <a name=\"ejercicio_cinco\"/>"
   ]
  },
  {
   "cell_type": "markdown",
   "metadata": {},
   "source": [
    "Escriba un programa que permita convertir un texto a código Morse.\n",
    "\n",
    "El texto a convertir a morse sólo estará compuesto por letras y espacios."
   ]
  },
  {
   "cell_type": "markdown",
   "metadata": {},
   "source": [
    "### ¡Prueba tú!"
   ]
  },
  {
   "cell_type": "code",
   "execution_count": 138,
   "metadata": {},
   "outputs": [
    {
     "name": "stdout",
     "output_type": "stream",
     "text": [
      "Escribe un textohola soy oscar\n",
      "....  ---  .-..  .-  _  ...  ---  -.--  _  ---  ...  -.-.  .-  .-.  "
     ]
    }
   ],
   "source": [
    "MORSE = {' ': '_', 'A': '.-', 'B': '-...', 'C': '-.-.', 'D': '-..', 'E': '.', 'F': '..-.', 'G': '--.', 'H': '....', \n",
    "         'I': '..', 'J': '.---', 'K': '-.-', 'L': '.-..', 'M': '--', 'N': '-.', 'O': '---', 'P': '.--.', 'Q': '--.-', \n",
    "         'R': '.-.', 'S': '...', 'T': '-', 'U': '..-', 'V': '...-', 'W': '.--', 'X': '-..-', 'Y': '-.--', 'Z': '--..' }\n",
    "\n",
    "texto = input('Escribe un texto')\n",
    "for caracter in texto:\n",
    "    print(MORSE[caracter.upper()], end =\"  \")\n",
    "        \n",
    "    "
   ]
  },
  {
   "cell_type": "markdown",
   "metadata": {},
   "source": [
    "<hr>"
   ]
  },
  {
   "cell_type": "markdown",
   "metadata": {},
   "source": [
    "## Ejercicio 6 <a name=\"ejercicio_seis\"/>"
   ]
  },
  {
   "cell_type": "markdown",
   "metadata": {},
   "source": [
    "Escribir un programa que dado un texto cree un diccionario en el que las claves sean las vocales y los valores las palabras que \n",
    "que empiecen por esa vocal. Las palabras repetidas sólo deben aparecer una vez.\n",
    "Se valorará el uso de la definición de diccionarios por comprensión para la creación del diccionario.\n",
    "\n",
    "Para el siguiente:\n",
    "\n",
    "*'Hoy estamos en otoño y aún no hace frío, pero en algo más de un mes empieza el invierno y el clima tendrá que cambiar'*\n",
    "\n",
    "El resultado debe ser:\n",
    "\n",
    "{'a': ['aún', 'algo'], 'e': ['en', 'estamos', 'empieza', 'el'], 'i': ['invierno'], 'o': ['otoño'], 'u': ['un']}"
   ]
  },
  {
   "cell_type": "markdown",
   "metadata": {},
   "source": [
    "### ¡Prueba tú!"
   ]
  },
  {
   "cell_type": "code",
   "execution_count": 182,
   "metadata": {},
   "outputs": [
    {
     "name": "stdout",
     "output_type": "stream",
     "text": [
      "[1]\n",
      "{'a': {'algo', 'aún'}, 'e': {'empieza', 'el', 'estamos', 'en'}, 'i': {'invierno'}, 'o': {'otoño'}, 'u': {'un'}}\n"
     ]
    }
   ],
   "source": [
    "texto = \"Hoy estamos en otoño y aún no hace frío, pero en algo más de un mes empieza el invierno y el clima tendrá que cambiar'\"\n",
    "vocales = \"aeiouAEIOU\"\n",
    "iniciales = []\n",
    "for palabra in texto:\n",
    "    if(palabra[0] in vocales):\n",
    "        iniciales.append(palabra[0])\n",
    "\n",
    "palabras_por_iniciales = {inicial: set([palabra for palabra in texto.split() \n",
    "                                    if palabra[0]==inicial])\n",
    "                          for inicial in sorted(iniciales)}\n",
    "\n",
    "print (palabras_por_iniciales)"
   ]
  },
  {
   "cell_type": "markdown",
   "metadata": {},
   "source": [
    "<hr>"
   ]
  }
 ],
 "metadata": {
  "kernelspec": {
   "display_name": "Python 3",
   "language": "python",
   "name": "python3"
  },
  "language_info": {
   "codemirror_mode": {
    "name": "ipython",
    "version": 3
   },
   "file_extension": ".py",
   "mimetype": "text/x-python",
   "name": "python",
   "nbconvert_exporter": "python",
   "pygments_lexer": "ipython3",
   "version": "3.8.3"
  }
 },
 "nbformat": 4,
 "nbformat_minor": 4
}
