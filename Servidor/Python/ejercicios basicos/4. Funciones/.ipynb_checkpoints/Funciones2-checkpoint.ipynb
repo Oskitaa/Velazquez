{
 "cells": [
  {
   "cell_type": "markdown",
   "metadata": {},
   "source": [
    "# Funciones\n",
    "**Docente**: Antonio Gago.  **I.E.S. Velázquez:** Curso 2020-2021"
   ]
  },
  {
   "cell_type": "markdown",
   "metadata": {},
   "source": [
    "## Índice de contenidos\n",
    "* [1. Definición e invocación de funciones](#sec_definicion)\n",
    "* [2. Paso de parámetros](#sec_paso)\n",
    " * [2.1. Parámetros con valores por defecto](#sec_defecto)\n",
    " * [2.2. Referencia de parámetros por nombre](#sec_nombre)\n",
    " * [2.3. Parámetros arbitrarios](#sec_arbitrarios)\n",
    "* [3. Funciones como parámetros](#sec_ordensuperior)\n",
    " * [3.1. Definición de funciones sin nombre](#sec_lambda)\n",
    "* [4. Conflictos de nombres de variables](#sec_conflictos) \n",
    " * [4.1. Variable local](#sec_local)\n",
    " * [4.2. Variables libres globales o no locales](#sec_libre)\n",
    " * [4.3. Variables declaradas global o nonlocals](#sec_global)\n",
    "* [5. Conflictos entre nombres de parámetros y nombre de variables globales](#sec_conflicto_nombre_parametro)"
   ]
  },
  {
   "cell_type": "markdown",
   "metadata": {},
   "source": [
    "## 1. Definición e invocación de funciones <a name=\"sec_definicion\"/>"
   ]
  },
  {
   "cell_type": "markdown",
   "metadata": {},
   "source": [
    "Un principio fundamental que debe seguir todo programador es el de la **reutilización del código**. Los lenguajes de programación nos ofrecen diversos mecanismos de reutilización que nos permiten implementar una única vez una funcionalidad y utilizarla múltiples veces. Uno de estos mecanismos de reutilización en Python es la **definición e invocación de funciones**. \n",
    "\n",
    "Como ya hemos visto anteriormente, la **definición** de una función consta de un bloque de instrucciones que llevan a cabo alguna tarea concreta y a la que le ponemos un nombre. Cuando escribimos estas instrucciones dentro de la definición de una función permitimos la ejecución \"a demanda\" de ese bloque de instrucciones, de manera que en cualquier punto del programa se puede solicitar la ejecución de la función (se dice que se hace una **llamada** o **invocación** a la función). "
   ]
  },
  {
   "cell_type": "code",
   "execution_count": null,
   "metadata": {},
   "outputs": [],
   "source": [
    "def imprime_linea():\n",
    "    ''' Imprime una línea formada por 40 repeticiones de los caracteres -= '''\n",
    "    linea = \"-=\" * 40\n",
    "    print(linea)\n",
    "\n",
    "# Vamos a imprimir 5 líneas\n",
    "for i in range(5):\n",
    "    imprime_linea()"
   ]
  },
  {
   "cell_type": "markdown",
   "metadata": {},
   "source": [
    "La primera línea de la definición se llama **cabecera** o **prototipo** de la función, y al resto de instrucciones que aparecen indentadas se las denomina **cuerpo** de la función. \n",
    "\n",
    "Algunas veces las funciones generan un **valor de salida** o de **retorno**, valor que será utilizado como resultado tras la ejecución de la función cuando es invocada en el contexto de una expresión. Podemos definir una función parecida a la anterior pero que *devuelva* la cadena de texto que representa la línea, en lugar de imprimirla:"
   ]
  },
  {
   "cell_type": "code",
   "execution_count": null,
   "metadata": {},
   "outputs": [],
   "source": [
    "def linea():\n",
    "    ''' Devuelve una cadena de texto formada por 40 repeticiones de los caracteres -= '''\n",
    "    return \"-=\" * 40"
   ]
  },
  {
   "cell_type": "markdown",
   "metadata": {},
   "source": [
    "Si ahora queremos usar esta función para imprimir 5 líneas en pantalla, habría que hacerlo así:"
   ]
  },
  {
   "cell_type": "code",
   "execution_count": null,
   "metadata": {},
   "outputs": [],
   "source": [
    "# Vamos a imprimir 5 líneas\n",
    "for i in range(5):\n",
    "    print(linea())"
   ]
  },
  {
   "cell_type": "markdown",
   "metadata": {},
   "source": [
    "Las instrucciones contenidas en la definición de una función son ejecutadas cuando se ejecuta alguna instrucción que contenga una llamada a la función. En el ejemplo anterior, al ejecutarse la línea `print(linea())` es cuando se desencadena la ejecución de las instrucciones de la función `linea`, que en este caso únicamente contiene la instrucción `return`. Una vez ejecutado el cuerpo de la función, el flujo de ejecución vuelve a la línea en la que aparecía la llamada, utilizándose el valor devuelto por la función para continuar ejecutando el programa. En el ejemplo, se ejecutaría la función predefinida `print` con el valor devuelto por la función `linea`, lo que muestra la cadena de caracteres correspondiente en pantalla.\n"
   ]
  },
  {
   "cell_type": "markdown",
   "metadata": {},
   "source": [
    "# 2. Paso de parámetros <a name=\"sec_paso\"/>"
   ]
  },
  {
   "cell_type": "markdown",
   "metadata": {},
   "source": [
    "Para que las funciones nos permitan implementar funcionalidades realmente útiles y reutilizables es fundamental contar con un mecanismo de **paso de parámetros**. Los **parámetros** o **argumentos** (*arguments*) de una función son variables que permiten que la función reciba determinados valores con los que llevar a cabo su funcionalidad. En el momento de la invocación a la función, el programador especifica el valor que desea *pasarle* a dichos parámetros, de manera que se lleva a cabo una asignación entre las variables que representan a los parámetros en la función y los valores especificados en la llamada. \n",
    "\n",
    "Veamos un ejemplo consistente en una nueva definición de la función `imprime_linea`:"
   ]
  },
  {
   "cell_type": "code",
   "execution_count": null,
   "metadata": {},
   "outputs": [],
   "source": [
    "def imprime_linea(repeticiones):\n",
    "    ''' Imprime una línea formada por repeticiones de los caracteres -=\n",
    "    \n",
    "    El parámetro repeticiones permite indicar el número de repeticiones de \n",
    "    los caracteres que forman la línea a imprimir.\n",
    "    '''\n",
    "    linea = \"-=\" * repeticiones\n",
    "    print(linea)\n",
    "\n",
    "# Vamos a imprimir 5 líneas\n",
    "for i in range(5):\n",
    "    imprime_linea(40)"
   ]
  },
  {
   "cell_type": "markdown",
   "metadata": {},
   "source": [
    "Hemos añadido un parámetro de nombre `repeticiones`, de manera que la línea que imprime la función estará formada por tantas repeticiones de la cadena `\"-=\"` como indique dicho parámetro. Al haber añadido un parámetro conseguimos que la tarea que lleva a cabo la función sea más genérica, más configurable, por lo que habrá más ocasiones en las que podamos emplear la función. Por tanto, es importante decidir bien los parámetros para conseguir nuestro objetivo de la reutilización del código.\n",
    "\n",
    "También podríamos hacer que los caracteres que forman la línea puedan ser escogidos en el momento de la invocación, añadiendo un nuevo parámetro:"
   ]
  },
  {
   "cell_type": "code",
   "execution_count": null,
   "metadata": {},
   "outputs": [],
   "source": [
    "def imprime_linea(repeticiones, cadena):\n",
    "    ''' Imprime una línea formada por repeticiones de caracteres\n",
    "    \n",
    "    El parámetro \"repeticiones\" permite indicar el número de repeticiones de \n",
    "    los caracteres que forman la línea a imprimir.\n",
    "    El parámetro \"cadena\" permite indicar la cadena que se repetirá para \n",
    "    construir la línea.\n",
    "    '''\n",
    "    linea = cadena * repeticiones\n",
    "    print(linea)\n",
    "\n",
    "# Vamos a imprimir 5 líneas\n",
    "for i in range(5):\n",
    "    imprime_linea(40, \"-.\")"
   ]
  },
  {
   "cell_type": "markdown",
   "metadata": {},
   "source": [
    "Veamos otro ejemplo en el que tras definir una función podemos invocarla en el contexto de una expresión:"
   ]
  },
  {
   "cell_type": "code",
   "execution_count": null,
   "metadata": {},
   "outputs": [],
   "source": [
    "def pvp(precio_sin_iva, iva_reducido):\n",
    "    ''' Devuelve el Precio de Venta al Público a partir de un precio sin IVA \n",
    "    \n",
    "    El parámetro \"precio_sin_iva\" sirve para indicar el precio sobre el calcular el PVP.\n",
    "    Si el parámetro \"iva_reducido\" es True, se aplicará el 10%. Si es False, el 21%.\n",
    "    '''   \n",
    "    if iva_reducido:\n",
    "        precio_con_iva = precio_sin_iva * 1.1\n",
    "    else:\n",
    "        precio_con_iva = precio_sin_iva * 1.21\n",
    "    return precio_con_iva\n",
    "\n",
    "# Test de la función anterior\n",
    "precio = float(input(\"Precio del producto: \"))\n",
    "unidades = int(input(\"Número de unidades: \"))\n",
    "precio_total = pvp(precio, False) * unidades  \n",
    "print(\"El precio total con IVA es\", precio_total)\n"
   ]
  },
  {
   "cell_type": "markdown",
   "metadata": {},
   "source": [
    "## 2.1. Parámetros con valores por defecto <a name=\"sec_defecto\"/>"
   ]
  },
  {
   "cell_type": "markdown",
   "metadata": {},
   "source": [
    "En la última definición de la función `imprime_linea` hemos incorporado parámetros para elegir la cadena concreta a utilizar y el número de repeticiones de la misma. Si bien *parametrizar* todos los detalles de una función la hacen más configurable y por tanto también más reutilizable, tiene la desventaja de que dificultamos su utilización, puesto que obligamos al programador que la quiera utilizar a elegir valores para todos los parámetros. Esto puede solucionarse utilizando **parámetros con valores por defecto** (también llamados **parámetros opcionales**).\n",
    "\n",
    "Mediante este mecanismo, Python nos permite elegir valores por defecto para algunos de los parámetros de una función. De esta forma, cuando la función es invocada, el programador puede optar por ignorar dichos parámetros, en cuyo caso se tomarán los valores por defecto. Volvamos a definir la función `imprime_linea` usando esta característica:"
   ]
  },
  {
   "cell_type": "code",
   "execution_count": null,
   "metadata": {},
   "outputs": [],
   "source": [
    "def imprime_linea(repeticiones=40, cadena =\"-=\"):\n",
    "    ''' Imprime una línea formada por repeticiones de caracteres\n",
    "    \n",
    "    El parámetro \"repeticiones\" permite indicar el número de repeticiones de \n",
    "    los caracteres que forman la línea a imprimir.\n",
    "    El parámetro \"cadena\" permite indicar la cadena que se repetirá para \n",
    "    construir la línea.\n",
    "    '''\n",
    "    linea = cadena * repeticiones\n",
    "    print(linea)"
   ]
  },
  {
   "cell_type": "markdown",
   "metadata": {},
   "source": [
    "Observa que los valores por defecto se añaden en la cabecera de la función, añadiendo un carácter `=` detrás del parámetro y a continuación su valor por defecto (en este caso no se ponen espacios alrededor del carácter `=`). Ahora podemos realizar llamadas a la función en las que aparezcan o no \n",
    "valores para los argumentos:"
   ]
  },
  {
   "cell_type": "code",
   "execution_count": null,
   "metadata": {},
   "outputs": [],
   "source": [
    "imprime_linea()\n",
    "imprime_linea(20) \n",
    "imprime_linea(20, \":)\")"
   ]
  },
  {
   "cell_type": "markdown",
   "metadata": {},
   "source": [
    "Por supuesto podemos combinar parámetros con valores por defecto y parámetros sin valores por defecto (podemos llamarles **parámetros obligatorios** a estos últimos). En ese caso, siempre deben venir primero los parámetros obligatorios y a continuación los parámetros con valores por defecto.\n",
    "\n",
    "Redefinamos la función `pvp` para que por defecto use el tipo de IVA normal:"
   ]
  },
  {
   "cell_type": "code",
   "execution_count": null,
   "metadata": {},
   "outputs": [],
   "source": [
    "def pvp(precio_sin_iva, iva_reducido=False):\n",
    "    ''' Devuelve el Precio de Venta al Público a partir de un precio sin IVA \n",
    "    \n",
    "    El parámetro \"precio_sin_iva\" sirve para indicar el precio sobre el que calcular el PVP.\n",
    "    Si el parámetro \"iva_reducido\" es True, se aplicará el 10%. Si es False, el 21%.\n",
    "    '''\n",
    "    if iva_reducido:\n",
    "        precio_con_iva = precio_sin_iva * 1.1\n",
    "    else:\n",
    "        precio_con_iva = precio_sin_iva * 1.21\n",
    "    return precio_con_iva\n",
    "\n",
    "# Test de la función anterior\n",
    "precio = float(input(\"Precio del producto: \"))\n",
    "unidades = int(input(\"Número de unidades: \"))\n",
    "precio_total = pvp(precio) * unidades  # Ahora no es necesario indicar el valor para el parámetro iva_reducido\n",
    "print(\"El precio total con IVA es\", precio_total)"
   ]
  },
  {
   "cell_type": "markdown",
   "metadata": {},
   "source": [
    "Si en algún momento queremos calcular un PVP para un producto con IVA reducido, entonces habría que hacer:\n",
    "```python\n",
    "pvp(precio, True)\n",
    "```"
   ]
  },
  {
   "cell_type": "markdown",
   "metadata": {},
   "source": [
    "## 2.2. Referencia de parámetros por nombre <a name=\"sec_nombre\"/>"
   ]
  },
  {
   "cell_type": "markdown",
   "metadata": {},
   "source": [
    "Al invocar a una función, Python nos permite especificar los parámetros de dos maneras distintas:\n",
    "\n",
    "* Mediante **parámetros posicionales**, esto es, pasando una lista de valores separados por comas, de manera que esos valores se asignan a los parámetros de la función en el orden en que estos aparecen en la cabecera de la función. Este es el método que hemos utilizado hasta ahora.\n",
    "* Mediante **parámetros por nombre**, esto es, indicando para cada parámetro el nombre y el valor que queremos asignarle. De esta manera, no es necesario que respetemos el orden en que dichos parámetros están especificados en la cabecera de la función.\n",
    "\n",
    "Veamos algunos ejemplos de llamadas a función usando parámetros por nombre:"
   ]
  },
  {
   "cell_type": "code",
   "execution_count": null,
   "metadata": {},
   "outputs": [],
   "source": [
    "imprime_linea(repeticiones=10, cadena=\":;\")\n",
    "imprime_linea(repeticiones=10)\n",
    "imprime_linea(cadena=\":;\")\n",
    "imprime_linea(\":;\")"
   ]
  },
  {
   "cell_type": "markdown",
   "metadata": {},
   "source": [
    "Fíjate que en la primera llamada estamos especificando valores para todos los parámetros de la función. En este caso, usar parámetros por nombre realmente no ayuda mucho, y de hecho hace que la llamada sea más larga de escribir. Por ello en la mayoría de las ocasiones optaremos por escribir los parámetros posicionales, sin indicar el nombre.\n",
    "\n",
    "Sin embargo, cuando los parámetros por nombre se usan para indicar sólo algunos valores de parámetros con valores por defecto, es cuando realmente son prácticos. Por ejemplo, la llamada `imprime_linea(cadena=\":;\")` indica un valor para el parámetro *cadena*, obviando el valor para *repeticiones*. Esto no podría hacerse mediante una llamada con parámetros posicionales, puesto que el parámetro *repeticiones* es el primero que aparece.\n",
    "\n",
    "En general, se suele proceder de la siguiente manera:\n",
    "\n",
    "* Cuando una función tiene una serie de parámetros sin valores por defecto, se utilizan llamadas con parámetros posicionales (es decir, sin indicar el nombre de cada parámetro en la llamada).\n",
    "* Si además la función tiene parámetros con valores por defecto, el programador utiliza en la llamada parámetros con nombre para indicar únicamente los valores que quiere especificar, entendiendo que el resto de parámetros se quedan con su valor por defecto.\n",
    "\n",
    "Esta manera de proceder permite diseñar funciones con un gran número de parámetros con valores por defecto, sin influir negativamente en la dificultad de utilización de dichas funciones, puesto que el programador puede especificar valores únicamente para los parámetros que necesite. Este tipo de diseños es muy habitual en Python; por ejemplo, observa estas llamadas a la función `pyplot.plot` de `matplotlib`:"
   ]
  },
  {
   "cell_type": "code",
   "execution_count": null,
   "metadata": {},
   "outputs": [],
   "source": [
    "# Para que las gráficas se muestren sobre el propio notebook, en lugar de en una ventana, hay que escribir:\n",
    "%matplotlib notebook    \n",
    "\n",
    "from matplotlib import pyplot  # pyplot es el módulo que permite dibujar gráficas matemáticas\n",
    "\n",
    "x = [0, 1, 2, 3, 4, 5]\n",
    "y = [6, 5, 4, 5, 6, 5]\n",
    "pyplot.plot(x, y) # Muestra los puntos con coordenadas x e y \n"
   ]
  },
  {
   "cell_type": "code",
   "execution_count": null,
   "metadata": {},
   "outputs": [],
   "source": [
    "%matplotlib notebook  \n",
    "# Podemos configurar el formato de la gráfica especificando valores para algunos parámetros opcionales\n",
    "pyplot.plot(x, y, color='green', linestyle='dashed', marker='o',\n",
    "     markerfacecolor='blue', markersize=12) "
   ]
  },
  {
   "cell_type": "markdown",
   "metadata": {},
   "source": [
    "Cuando utilizamos parámetros por nombre en una invocación podemos poner los parámetros en el orden que queramos. Prueba a cambiar de orden los parámetros opcionales de la llamada a la función `pyplot.plot` del ejemplo anterior y observa como se ejecuta correctamente."
   ]
  },
  {
   "cell_type": "markdown",
   "metadata": {},
   "source": [
    "### ¡Prueba tú!\n",
    "Añade a la función pvp un tercer parámetro `unidades` que representa del número de unidades del producto y que por defecto valga 1. Añade las pruebas necesarias. Prueba los parámetros por nombres en la función `pvp`. Prueba también a cambiar el orden en la llamada. ¿Podemos hacer la llamada solo con los parámetros precio y unidades, omitiendo el nombre del parámetro en este último? Compruébalo. ¿Por qué se utiliza el iva reducido en este caso?"
   ]
  },
  {
   "cell_type": "code",
   "execution_count": null,
   "metadata": {},
   "outputs": [],
   "source": []
  },
  {
   "cell_type": "markdown",
   "metadata": {},
   "source": [
    "## 2.3. Parámetros arbitrarios <a name=\"sec_arbitrarios\"/>"
   ]
  },
  {
   "cell_type": "markdown",
   "metadata": {},
   "source": [
    "Las funciones pueden admitir una cantidad indeterminada de parámetros. Para definir argumentos arbitrarios en una función, se antecede al parámetro un asterisco (*):"
   ]
  },
  {
   "cell_type": "code",
   "execution_count": null,
   "metadata": {},
   "outputs": [],
   "source": [
    "def calcula_media(*args):\n",
    "    total = 0\n",
    "    for i in args:\n",
    "        total += i\n",
    "    resultado = total / len(args)\n",
    "    return resultado\n",
    "\n",
    "a, b, c = 3, 5, 10\n",
    "media = calcula_media(a, b, c)\n",
    "print (media)"
   ]
  },
  {
   "cell_type": "markdown",
   "metadata": {},
   "source": [
    "Los parámetros arbitrarios se corren como tuplas.\n",
    "\n",
    "Si una función espera recibir parámetros fijos y arbitrarios, **los arbitrarios siempre deben suceder a los fijos**."
   ]
  },
  {
   "cell_type": "code",
   "execution_count": null,
   "metadata": {},
   "outputs": [],
   "source": [
    "def recorrer_parametros(parametro_fijo, *argumentos): \n",
    "    print (parametro_fijo) \n",
    " \n",
    "    # Los parámetros arbitrarios se corren como tuplas\n",
    "    for argumento in argumentos: \n",
    "        print (argumento)\n",
    " \n",
    "recorrer_parametros('Fijo', 'arbitrario 1', 'arbitrario 2', 'arbitrario 3')"
   ]
  },
  {
   "cell_type": "markdown",
   "metadata": {},
   "source": [
    "Es posible también, obtener parámetros arbitrarios como pares de clave=valor. En estos casos, al nombre del parámetro deben precederlo dos astericos (**):"
   ]
  },
  {
   "cell_type": "code",
   "execution_count": null,
   "metadata": {},
   "outputs": [],
   "source": [
    "def recorrer_parametros(parametro_fijo, *argumentos, **kwords): \n",
    "    print (parametro_fijo)\n",
    "    # Los parámetros arbitrarios se corren como tuplas\n",
    "    for argumento in argumentos: \n",
    "        print (argumento) \n",
    " \n",
    "    # Los parámetros arbitrarios tipo clave, se recorren como los diccionarios \n",
    "    for clave in kwords: \n",
    "        print (\"El valor de\", clave, \"es\", kwords[clave])\n",
    " \n",
    "recorrer_parametros(\"Fijo\", \"arbitrario 1\", \"arbitrario 2\", \"arbitrario 3\", clave1=\"valor uno\", clave2=\"valor dos\")"
   ]
  },
  {
   "cell_type": "markdown",
   "metadata": {},
   "source": [
    "Puede ocurrir además, una situación inversa a la anterior. Es decir, que la función espere una lista fija de parámetros, pero que éstos, en vez de estar disponibles de forma separada, se encuentren contenidos en una lista o tupla. En este caso, el signo asterisco (*) deberá preceder al nombre de la lista o tupla que es pasada como parámetro durante la llamada a la función:"
   ]
  },
  {
   "cell_type": "code",
   "execution_count": null,
   "metadata": {},
   "outputs": [],
   "source": [
    "def calcular_precio(importe, descuento): \n",
    "    return importe - (importe * descuento / 100) \n",
    " \n",
    "datos = [1500, 10] \n",
    "print (calcular_precio(*datos))"
   ]
  },
  {
   "cell_type": "markdown",
   "metadata": {},
   "source": [
    "El mismo caso puede darse cuando los valores a ser pasados como parámetros a una función, se encuentren disponibles en un diccionario. Aquí, deberán pasarse a la función, precedidos de dos asteriscos (**):"
   ]
  },
  {
   "cell_type": "code",
   "execution_count": null,
   "metadata": {},
   "outputs": [],
   "source": [
    "def calcular_precio(importe, descuento): \n",
    "    return importe - (importe * descuento / 100) \n",
    " \n",
    "datos = {\"descuento\": 10, \"importe\": 1500} \n",
    "print (calcular_precio(**datos))"
   ]
  },
  {
   "cell_type": "markdown",
   "metadata": {},
   "source": [
    "# 3. Funciones como parámetros <a name=\"sec_ordensuperior\"/>"
   ]
  },
  {
   "cell_type": "markdown",
   "metadata": {},
   "source": [
    "A diferencia de otros lenguajes de programación, en Python las funciones son un tipo más, como lo son el tipo entero, el tipo real o el tipo lista, entre otros. Que sea \"un tipo más\" (más formalmente se dice que las funciones son **objetos de primera clase**) significa que puedo declarar variables de tipo función, hacer asignaciones a esas variables, e incluso usar parámetros de tipo función.\n",
    "\n",
    "Por ejemplo, en el siguiente código definimos una variable llamada `funcion` a la que le asignamos distintas funciones. Como ves en el ejemplo, la variable de tipo función puede utilizarse después para invocar a la función que contiene:"
   ]
  },
  {
   "cell_type": "code",
   "execution_count": null,
   "metadata": {},
   "outputs": [],
   "source": [
    "funcion = imprime_linea \n",
    "print(\"El tipo de la variable función:\", type(funcion))  # Visualizamos el tipo de la variable funcion\n",
    "\n",
    "funcion() # Invocamos a la función que contenga la variable función"
   ]
  },
  {
   "cell_type": "markdown",
   "metadata": {},
   "source": [
    "Lo anterior se puede utilizar para dar un nuevo nombre a alguna función, aunque no es algo muy habitual. Lo que sí es muy útil y utilizaremos frecuentemente es la capacidad de pasar una función como parámetro a otra función. Observa el siguiente ejemplo:"
   ]
  },
  {
   "cell_type": "code",
   "execution_count": 2,
   "metadata": {},
   "outputs": [
    {
     "name": "stdout",
     "output_type": "stream",
     "text": [
      "[1.0, 1.4142135623730951, 1.7320508075688772, 2.0, 2.23606797749979]\n",
      "[0.8414709848078965, 0.9092974268256817, 0.1411200080598672, -0.7568024953079282, -0.9589242746631385]\n"
     ]
    }
   ],
   "source": [
    "def transforma(lista, transformacion):\n",
    "    ''' Devuelve una lista formada por los resultados de aplicar una función de \n",
    "    transformación a los elementos de una lista de entrada\n",
    "    \n",
    "    El parámetro \"transformacion\" debe ser una función que reciba un único parámetro \n",
    "    y devuelva algún valor.\n",
    "    \n",
    "    '''\n",
    "    lista_transformada = []\n",
    "    for elemento in lista:\n",
    "        lista_transformada.append(transformacion(elemento))\n",
    "    return lista_transformada\n",
    "\n",
    "# Test de la función transforma:\n",
    "# Pasamos distintas funciones en el segundo parámetro de la función\n",
    "import math\n",
    "x = [1, 2, 3, 4, 5]\n",
    "x_raices = transforma(x, math.sqrt)\n",
    "print(x_raices)\n",
    "x_senos = transforma(x, math.sin)\n",
    "print(x_senos)"
   ]
  },
  {
   "cell_type": "markdown",
   "metadata": {},
   "source": [
    "Las funciones que reciben parámetros que son a su vez de tipo función son llamadas **funciones de orden superior**."
   ]
  },
  {
   "cell_type": "markdown",
   "metadata": {},
   "source": [
    "### ¡Prueba tú!\n",
    "Añade la función adecuada para que transforme la lista x en una que contenga [2.718281828459045, 7.38905609893065, 20.085536923187668, 54.598150033144236, 148.4131591025766]."
   ]
  },
  {
   "cell_type": "code",
   "execution_count": 51,
   "metadata": {},
   "outputs": [
    {
     "name": "stdout",
     "output_type": "stream",
     "text": [
      "[2.718281828459045, 7.38905609893065, 20.085536923187668, 54.598150033144236, 148.4131591025766]\n"
     ]
    }
   ],
   "source": [
    "x = [1, 2, 3, 4, 5]\n",
    "test = transforma(x, math.exp)\n",
    "print(test)"
   ]
  },
  {
   "cell_type": "markdown",
   "metadata": {},
   "source": [
    "### ¡Prueba tú!\n",
    "¿Podrás encontrar la función de math que sería necesaria para conseguir la lista [1, 2, 6, 24, 120]?"
   ]
  },
  {
   "cell_type": "code",
   "execution_count": 50,
   "metadata": {},
   "outputs": [
    {
     "name": "stdout",
     "output_type": "stream",
     "text": [
      "[1, 2, 6, 24, 120]\n"
     ]
    }
   ],
   "source": [
    "test = transforma(x, math.perm)\n",
    "print(test)"
   ]
  },
  {
   "cell_type": "markdown",
   "metadata": {},
   "source": [
    "## 3.1. Definición de funciones sin nombre <a name=\"sec_lambda\"/>"
   ]
  },
  {
   "cell_type": "markdown",
   "metadata": {
    "collapsed": true
   },
   "source": [
    "Algunas veces cuando usamos funciones de orden superior necesitamos pasar como parámetro una función que aún no tenemos definida. Una solución es definir una nueva función que haga lo que queremos. Por ejemplo, supongamos que queremos transformar los elementos de una lista de manera que cada elemento se multiplique por 2:"
   ]
  },
  {
   "cell_type": "code",
   "execution_count": null,
   "metadata": {},
   "outputs": [],
   "source": [
    "def multiplica_por_dos(n):\n",
    "    return n * 2\n",
    "\n",
    "x = [1, 2, 3, 4 ,5]\n",
    "x_por_2 = transforma(x, multiplica_por_dos)\n",
    "print(x_por_2)"
   ]
  },
  {
   "cell_type": "markdown",
   "metadata": {},
   "source": [
    "Sin embargo, esta no es una buena solución, por dos razones:\n",
    "\n",
    "* La función multiplica_por_dos es \"de usar y tirar\", es posible que no la necesitemos nunca más.\n",
    "* Si en nuestro programa necesitamos usar la función `transforma` en muchas ocasiones, y cada vez necesitamos realizar una transformación sencilla distinta, tendríamos que implementar multitud de funciones \"de usar y tirar\", lo que complicaría y alargaría el código de nuestro programa.\n",
    "\n",
    "La solución a estos problemas es el uso de **funciones sin nombre** (también llamadas **funciones anónimas** o **funciones lambda**). Se trata de una manera de describir funciones sencillas mediante una expresión, sin necesidad de definir la función. Esta expresión la escribiremos directamente donde la necesitemos; por ejemplo, en la misma llamada a la función `transforma`. Observa el siguiente ejemplo:"
   ]
  },
  {
   "cell_type": "code",
   "execution_count": null,
   "metadata": {},
   "outputs": [],
   "source": [
    "x_por_2 = transforma(x, lambda n: 2 * n)\n",
    "print(x_por_2)"
   ]
  },
  {
   "cell_type": "markdown",
   "metadata": {},
   "source": [
    "La definición de función sin nombre del ejemplo anterior es:\n",
    "```python\n",
    "lambda n: 2 * n\n",
    "```"
   ]
  },
  {
   "cell_type": "markdown",
   "metadata": {},
   "source": [
    "La cual está definiendo una función que toma un parámetro `n` y devuelve el resultado de la expresión `2 * n`. Al escribir esta expresión directamente en la llamada de la función `transforma` nos ahorramos tener que definir la función `multiplica_por_dos`.\n",
    "\n",
    "Se pueden definir funciones sin nombre de más de un parámetro; por ejemplo la siguiente función lambda:\n",
    "```python\n",
    "lambda n, m: n + m\n",
    "```\n",
    ", representa la función que recibe dos parámetros y devuelve su suma. "
   ]
  },
  {
   "cell_type": "markdown",
   "metadata": {},
   "source": [
    "### ¡Prueba tú!\n",
    "Intenta obtener la lista [2, 4, 8, 16, 32] usando la función `transforma` y una expresión lambda."
   ]
  },
  {
   "cell_type": "code",
   "execution_count": 58,
   "metadata": {},
   "outputs": [
    {
     "name": "stdout",
     "output_type": "stream",
     "text": [
      "[2, 4, 8, 16, 32]\n"
     ]
    }
   ],
   "source": [
    "print (transforma(x, lambda n:2**n))"
   ]
  },
  {
   "cell_type": "markdown",
   "metadata": {},
   "source": [
    "## 4. Conflictos de nombres de variables en Python <a name=\"sec_conflictos\"/>"
   ]
  },
  {
   "cell_type": "markdown",
   "metadata": {},
   "source": [
    "Python distingue tres tipos de variables: las variables locales y dos tipos de variables libres (globales y no locales):\n",
    "- variables locales: las que pertenecen al ámbito de la subrutina (y que pueden ser accesibles a niveles inferiores)\n",
    "- variables globales: las que pertenecen al ámbito del programa principal.\n",
    "- variables no locales: las que pertenecen a un ámbito superior al de la subrutina, pero que no son globales."
   ]
  },
  {
   "cell_type": "markdown",
   "metadata": {},
   "source": [
    "### 4.1. Variables locales  <a name=\"sec_local\"/>"
   ]
  },
  {
   "cell_type": "markdown",
   "metadata": {},
   "source": [
    "Si no se han declarado como globales o no locales, las variables a las que se asigna valor en una función se consideran variables locales, es decir, sólo existen en la propia función, incluso cuando en el programa exista una variable con el mismo nombre."
   ]
  },
  {
   "cell_type": "code",
   "execution_count": null,
   "metadata": {},
   "outputs": [],
   "source": [
    "# Ejemplo de variable local\n",
    "\n",
    "variable_a =5\n",
    "print(variable_a)\n",
    "\n",
    "def funcion():\n",
    "    print(variable_a)\n",
    "    variable_a = 2\n",
    "\n",
    "funcion()"
   ]
  },
  {
   "cell_type": "code",
   "execution_count": null,
   "metadata": {},
   "outputs": [],
   "source": [
    "\"\"\"Las variables locales sólo existen en la propia función \n",
    "y no son accesibles desde niveles superiores\"\"\"\n",
    "\n",
    "def funcion():\n",
    "    variable_b = 2\n",
    "    print(variable_b)\n",
    "\n",
    "funcion()\n",
    "print(variable_b)"
   ]
  },
  {
   "cell_type": "markdown",
   "metadata": {},
   "source": [
    "Si en el interior de una función **se asigna valor** a una variable que no se ha declarado como global o no local, esa variable es **local** a todos los efecto"
   ]
  },
  {
   "cell_type": "code",
   "execution_count": null,
   "metadata": {},
   "outputs": [],
   "source": [
    "def funcion():\n",
    "    variable_c = 2\n",
    "    print(variable_c)\n",
    "    return\n",
    "\n",
    "variable_c = 5\n",
    "funcion()\n",
    "print(variable_c)"
   ]
  },
  {
   "cell_type": "markdown",
   "metadata": {},
   "source": [
    "### 4.2. Variables libres globales o no locales  <a name=\"sec_libre\"/>"
   ]
  },
  {
   "cell_type": "markdown",
   "metadata": {},
   "source": [
    "Si a una variable **no se le asigna valor** en una función, Python la considera **libre** y busca su valor en los niveles superiores de esa función, empezando por el inmediatamente superior y continuando hasta el programa principal. Si a la variable se le asigna valor en algún nivel intermedio la variable se considera **no local** y si se le asigna en el programa principal la variable se considera **global**."
   ]
  },
  {
   "cell_type": "code",
   "execution_count": null,
   "metadata": {},
   "outputs": [],
   "source": [
    "#Ejemplo de variable global\n",
    "\n",
    "def funcion():\n",
    "    print(variable_d)\n",
    "\n",
    "variable_d = 5\n",
    "funcion()\n",
    "print(variable_d)"
   ]
  },
  {
   "cell_type": "markdown",
   "metadata": {},
   "source": [
    "En el ejemplo siguiente, la variable libre \"variable_e\" de la función sub_funcion() se considera no local porque obtiene su valor de una función intermedia:"
   ]
  },
  {
   "cell_type": "code",
   "execution_count": null,
   "metadata": {},
   "outputs": [],
   "source": [
    "# Ejemplo de variable libre no local\n",
    "\n",
    "def funcion():\n",
    "    def sub_funcion():\n",
    "        print(variable_e)\n",
    "\n",
    "    variable_e = 3\n",
    "    sub_funcion()\n",
    "    print(variable_e)\n",
    "\n",
    "variable_e = 4\n",
    "funcion()\n",
    "print(variable_e)\n"
   ]
  },
  {
   "cell_type": "code",
   "execution_count": null,
   "metadata": {},
   "outputs": [],
   "source": [
    "def funcion():\n",
    "    print(variable_g)\n",
    "\n",
    "funcion()\n",
    "print(variable_g)"
   ]
  },
  {
   "cell_type": "markdown",
   "metadata": {},
   "source": [
    "### 4.3. Variables declaradas global o nonlocal   <a name=\"sec_global\"/>"
   ]
  },
  {
   "cell_type": "markdown",
   "metadata": {},
   "source": [
    "Si queremos asignar valor a una variable en una función, pero no queremos que Python la considere **local**, debemos declararla en la función como **global** o **nonlocal**."
   ]
  },
  {
   "cell_type": "code",
   "execution_count": null,
   "metadata": {},
   "outputs": [],
   "source": [
    "# Ejemplo de variable declarada global\n",
    "def funcion():\n",
    "    global variable_h\n",
    "    print(variable_h)\n",
    "    variable_h = 1\n",
    "\n",
    "\n",
    "variable_h=5\n",
    "funcion()\n",
    "print(variable_h)"
   ]
  },
  {
   "cell_type": "code",
   "execution_count": null,
   "metadata": {},
   "outputs": [],
   "source": [
    "# Ejemplo de variable declarada nonlocal\n",
    "def funcion():\n",
    "    def sub_funcion():\n",
    "        nonlocal variable_i\n",
    "        print(variable_i)\n",
    "        variable_i = 1\n",
    "\n",
    "    variable_i = 3\n",
    "    sub_funcion()\n",
    "    print(variable_i)\n",
    "\n",
    "variable_i = 4\n",
    "funcion()\n",
    "print(variable_i)"
   ]
  },
  {
   "cell_type": "markdown",
   "metadata": {},
   "source": [
    "**NOTA:** *nonlocal* no está definido en Python 2, es una característica nueva de Python 3"
   ]
  },
  {
   "cell_type": "code",
   "execution_count": null,
   "metadata": {},
   "outputs": [],
   "source": [
    "def funcion():\n",
    "    def sub_funcion():\n",
    "        global variable_j\n",
    "        print(variable_j)\n",
    "        variable_j = 1\n",
    "\n",
    "    sub_funcion()\n",
    "    print(variable_j)\n",
    "    return\n",
    "\n",
    "variable_j = 4\n",
    "funcion()\n",
    "print(variable_j)"
   ]
  },
  {
   "cell_type": "markdown",
   "metadata": {},
   "source": [
    "### 5. Conflictos entre nombres de parámetros y nombre de variables globales <a name=\"sec_conflicto_nombre_parametro\"/>"
   ]
  },
  {
   "cell_type": "markdown",
   "metadata": {},
   "source": [
    "En Python no se producen conflictos entre los nombres de los parámetros y los nombres de las variables globales. Es decir, el nombre de un parámetro puede coincidir o no con el de una variable global, pero Python no los confunde: en el ámbito de la función el parámetro hace siempre referencia al dato recibido y no a la variable global y los programas producen el mismo resultado.\n",
    "\n",
    "Eso nos facilita reutilizar funciones en otros programas sin tener que preocuparnos por este detalle.\n",
    "\n",
    "Aunque, como siempre, dependiendo de si a la función se le envía como parámetro un objeto mutable o inmutable, la función podrá modificar o no al objeto.\n",
    "\n",
    "- ### Ejemplo de conflicto entre nombre de parámetro y nombre de variable global. Objeto mutable\n"
   ]
  },
  {
   "cell_type": "code",
   "execution_count": 61,
   "metadata": {},
   "outputs": [
    {
     "name": "stdout",
     "output_type": "stream",
     "text": [
      "Al principio [3] [4]\n",
      "Después de modifica(a) [3, 5] [4]\n",
      "Después de modifica(b) [3, 5] [4, 5]\n",
      "Programa terminado\n"
     ]
    }
   ],
   "source": [
    "def modifica(b):\n",
    "    b += [5]\n",
    "\n",
    "a, b = [3], [4]\n",
    "print(\"Al principio\",a,b)\n",
    "modifica(a)\n",
    "print(\"Después de modifica(a)\",a,b)\n",
    "modifica(b)\n",
    "print(\"Después de modifica(b)\",a,b)\n",
    "print(\"Programa terminado\")"
   ]
  },
  {
   "cell_type": "markdown",
   "metadata": {},
   "source": [
    "Como en este caso las variables son listas (objetos mutables), la función modifica la lista que se envía como argumento: primero se modifica la lista \"a\" y a continuación la lista \"b\". La lista modificada no depende del nombre del parámetro en la función (que es \"b\"), sino de la variable enviada como argumento (\"a\" o \"b\").\n",
    "\n",
    "- ### Ejemplo de conflicto entre nombre de parámetro y nombre de variable global. Objeto inmutable\n"
   ]
  },
  {
   "cell_type": "code",
   "execution_count": 62,
   "metadata": {},
   "outputs": [
    {
     "name": "stdout",
     "output_type": "stream",
     "text": [
      "Al principio 3 4\n",
      "Después de modifica(a) 3 4\n",
      "Después de modifica(b) 3 4\n",
      "Programa terminado\n"
     ]
    }
   ],
   "source": [
    "def modifica(b):\n",
    "    b += 1\n",
    "\n",
    "a, b = 3, 4\n",
    "print(\"Al principio\",a,b)\n",
    "modifica(a)\n",
    "print(\"Después de modifica(a)\",a,b)\n",
    "modifica(b)\n",
    "print(\"Después de modifica(b)\",a,b)\n",
    "print(\"Programa terminado\")"
   ]
  },
  {
   "cell_type": "markdown",
   "metadata": {},
   "source": [
    "### Paso por valor o paso por referencia\n",
    "\n",
    "En los lenguajes en los que las variables son \"cajas\" en las que se guardan valores, cuando se envía una variable como argumento en una llamada a una función suelen existir dos posiblidades:\n",
    "\n",
    "- paso por valor: se envía simplemente el valor de la variable, en cuyo caso la función no puede modificar la variable, pues la función sólo conoce su valor, pero no la variable que lo almacenaba.\n",
    "- paso por referencia: se envía la dirección de memoria de la variable, en cuyo caso la función sí que puede modificar la variable.\n",
    "\n",
    "En Python no se hace ni una cosa ni otra. En Python cuando se envía una variable como argumento en una llamada a una función lo que se envía es la referencia al objeto al que hace referencia la variable. Dependiendo de si el objeto es mutable o inmutable, la función podrá modificar o no el objeto."
   ]
  }
 ],
 "metadata": {
  "anaconda-cloud": {},
  "kernelspec": {
   "display_name": "Python 3",
   "language": "python",
   "name": "python3"
  },
  "language_info": {
   "codemirror_mode": {
    "name": "ipython",
    "version": 3
   },
   "file_extension": ".py",
   "mimetype": "text/x-python",
   "name": "python",
   "nbconvert_exporter": "python",
   "pygments_lexer": "ipython3",
   "version": "3.8.3"
  }
 },
 "nbformat": 4,
 "nbformat_minor": 2
}
