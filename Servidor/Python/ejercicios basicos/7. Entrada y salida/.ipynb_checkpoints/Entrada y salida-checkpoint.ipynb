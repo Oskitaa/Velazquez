{
 "cells": [
  {
   "cell_type": "markdown",
   "metadata": {},
   "source": [
    "# Entrada y salida\n",
    "**Docente**: Antonio Gago.  **I.E.S. Velázquez:** Curso 2020-2021"
   ]
  },
  {
   "cell_type": "markdown",
   "metadata": {},
   "source": [
    "## Índice de contenidos\n",
    "* [1. Entrada y salida estándar](#sec_1)\n",
    " * [1.1. Funciones input y print](#sec_1_1)\n",
    " * [1.2. Formateo de cadenas](#sec_1_2)\n",
    "* [2. Lectura y escritura de ficheros](#sec_2)\n",
    " * [2.1. Apertura y cierre de ficheros](#sec_2_1)\n",
    " * [2.2. Lectura y escritura de texto libre](#sec_2_2)\n",
    " * [2.3. Lectura y escritura de CSV](#sec_2_3)\n",
    " * [2.4. Serialización y deserialización mediante JSON](#sec_2_4)"
   ]
  },
  {
   "cell_type": "markdown",
   "metadata": {},
   "source": [
    "# 1. Entrada y salida estándar <a name=\"sec_1\"/>"
   ]
  },
  {
   "cell_type": "markdown",
   "metadata": {},
   "source": [
    "## 1.1. Funciones input y print <a name=\"sec_1_1\"/>"
   ]
  },
  {
   "cell_type": "markdown",
   "metadata": {},
   "source": [
    "Por regla general, cuando ejecutamos un programa en Python llamamos **entrada estándar** al teclado de nuestro ordenador, y **salida estándar** a la pantalla. Como ya hemos visto, podemos leer datos desde el teclado mediante la función **input**, y escribir en la pantalla mediante la función **print**:"
   ]
  },
  {
   "cell_type": "code",
   "execution_count": 1,
   "metadata": {},
   "outputs": [
    {
     "output_type": "stream",
     "name": "stdout",
     "text": [
      "==== Cálculo de una potencia =====\n"
     ]
    },
    {
     "output_type": "error",
     "ename": "ValueError",
     "evalue": "invalid literal for int() with base 10: ''",
     "traceback": [
      "\u001b[1;31m---------------------------------------------------------------------------\u001b[0m",
      "\u001b[1;31mValueError\u001b[0m                                Traceback (most recent call last)",
      "\u001b[1;32m<ipython-input-1-974dabaa2d6f>\u001b[0m in \u001b[0;36m<module>\u001b[1;34m\u001b[0m\n\u001b[0;32m      1\u001b[0m \u001b[0mprint\u001b[0m\u001b[1;33m(\u001b[0m\u001b[1;34m\"==== Cálculo de una potencia =====\"\u001b[0m\u001b[1;33m)\u001b[0m\u001b[1;33m\u001b[0m\u001b[1;33m\u001b[0m\u001b[0m\n\u001b[1;32m----> 2\u001b[1;33m \u001b[0mbase\u001b[0m \u001b[1;33m=\u001b[0m \u001b[0mint\u001b[0m\u001b[1;33m(\u001b[0m\u001b[0minput\u001b[0m\u001b[1;33m(\u001b[0m\u001b[1;34m\"Introduzca un número entero (base):\"\u001b[0m\u001b[1;33m)\u001b[0m\u001b[1;33m)\u001b[0m \u001b[1;31m# La función predefinida input permite leer texto desde el teclado\u001b[0m\u001b[1;33m\u001b[0m\u001b[1;33m\u001b[0m\u001b[0m\n\u001b[0m\u001b[0;32m      3\u001b[0m \u001b[0mexponente\u001b[0m \u001b[1;33m=\u001b[0m \u001b[0mint\u001b[0m\u001b[1;33m(\u001b[0m\u001b[0minput\u001b[0m\u001b[1;33m(\u001b[0m\u001b[1;34m\"Introduzca un número entero (exponente):\"\u001b[0m\u001b[1;33m)\u001b[0m\u001b[1;33m)\u001b[0m\u001b[1;33m\u001b[0m\u001b[1;33m\u001b[0m\u001b[0m\n\u001b[0;32m      4\u001b[0m \u001b[1;33m\u001b[0m\u001b[0m\n\u001b[0;32m      5\u001b[0m \u001b[0mprint\u001b[0m\u001b[1;33m(\u001b[0m\u001b[1;34m\"El resultado de\"\u001b[0m\u001b[1;33m,\u001b[0m \u001b[0mbase\u001b[0m\u001b[1;33m,\u001b[0m \u001b[1;34m\"elevado a\"\u001b[0m\u001b[1;33m,\u001b[0m \u001b[0mexponente\u001b[0m\u001b[1;33m,\u001b[0m \u001b[1;34m\"es\"\u001b[0m\u001b[1;33m,\u001b[0m \u001b[0mbase\u001b[0m\u001b[1;33m**\u001b[0m\u001b[0mexponente\u001b[0m\u001b[1;33m,\u001b[0m \u001b[1;34m'.'\u001b[0m\u001b[1;33m)\u001b[0m\u001b[1;33m\u001b[0m\u001b[1;33m\u001b[0m\u001b[0m\n",
      "\u001b[1;31mValueError\u001b[0m: invalid literal for int() with base 10: ''"
     ]
    }
   ],
   "source": [
    "print(\"==== Cálculo de una potencia =====\")\n",
    "base = int(input(\"Introduzca un número entero (base):\")) # La función predefinida input permite leer texto desde el teclado\n",
    "exponente = int(input(\"Introduzca un número entero (exponente):\"))\n",
    "print(\"El resultado de\", base, \"elevado a\", exponente, \"es\", base**exponente, '.')"
   ]
  },
  {
   "cell_type": "markdown",
   "metadata": {},
   "source": [
    "La función **input** recibe opcionalmente un mensaje, que es mostrado al usuario para a continuación esperar que introduzca un texto. La ejecución del programa \"se espera\" en este punto, hasta que el usuario introduce el texto y pulsa la tecla *enter*. Entonces, **la función *input* devuelve el texto introducido por el usuario** (excluyendo la pulsación de la tecla *enter*, que no aparece en la cadena devuelta). Si en nuestro programa estábamos esperando un dato numérico, en lugar de una cadena, será necesario convertir la cadena al tipo deseado mediante alguna de las funciones de construcción de tipos que ya conocemos (por ejemplo, *int* para obtener un número entero o *float* para obtener un número real).\n",
    "\n",
    "Por su parte, la función **print** recibe una o varias expresiones por parámetros, y **muestra el resultado** de dichas expresiones en **pantalla**. Si el resultado de alguna de las expresiones es una cadena de texto, la muestra tal cual. Si el resultado de alguna de las expresiones es de cualquier otro tipo, la función *print* se encarga de convertir el resultado a cadena mediante el uso de la función *str*. Si recibe varias expresiones, por defecto *print* las muestra una tras otra, separadas por un espacio en blanco. Al finalizar de mostrar las expresiones, la ejecución de *print* finaliza imprimiendo un salto de línea; por consiguiente, la siguiente llamada a *print* escribirá en la siguiente línea de la pantalla. Ambas cosas, el carácter usado para separar las distintas expresiones y el carácter usado como finalizador, pueden cambiarse utilizando los parámetros opcionales adecuados:"
   ]
  },
  {
   "cell_type": "code",
   "execution_count": 13,
   "metadata": {},
   "outputs": [
    {
     "name": "stdout",
     "output_type": "stream",
     "text": [
      "Se han generado los siguientes números aleatorios: \n",
      "0: 84\n",
      "1: 43\n",
      "2: 92\n",
      "3: 97\n",
      "4: 15\n",
      "5: 75\n",
      "6: 95\n",
      "7: 1\n",
      "8: 77\n",
      "9: 69\n"
     ]
    }
   ],
   "source": [
    "import random\n",
    "numeros = [random.randint(1, 100) for _ in range(10)]\n",
    "print(\"Se han generado los siguientes números aleatorios: \")\n",
    "for i, numero in enumerate(numeros):\n",
    "    print(i, numero, sep=': ') # Se usa la cadena ': ' para separar las expresiones recibidas por print"
   ]
  },
  {
   "cell_type": "code",
   "execution_count": 14,
   "metadata": {},
   "outputs": [
    {
     "name": "stdout",
     "output_type": "stream",
     "text": [
      "-M-u-e-s-t-r-a-m-e- -c-o-n- -g-u-i-o-n-e-s"
     ]
    }
   ],
   "source": [
    "texto = \"Muestrame con guiones\"\n",
    "for caracter in texto:\n",
    "    print('-' + caracter, end='') # Se indica a print que no concatene ninguna cadena al final del mensaje a mostrar"
   ]
  },
  {
   "cell_type": "markdown",
   "metadata": {},
   "source": [
    "Aunque el uso de los parámetro opcionales *sep* y *end* nos da algunas opciones para obtener la salida que deseamos en pantalla, a veces se nos puede quedar corto. Por ejemplo, si queremos mostrar un mensaje formado por distintos trozos de texto y datos a extraer de variables o expresiones, puede que no siempre queramos usar el mismo separador entre cada dos expresiones. Un ejemplo sencillo lo tenemos en la siguiente sentencia que ya hemos escrito antes:"
   ]
  },
  {
   "cell_type": "code",
   "execution_count": 15,
   "metadata": {},
   "outputs": [
    {
     "name": "stdout",
     "output_type": "stream",
     "text": [
      "El resultado de 1 elevado a 1 es 1 .\n"
     ]
    }
   ],
   "source": [
    "print(\"El resultado de\", base, \"elevado a\", exponente, \"es\", base**exponente, '.')"
   ]
  },
  {
   "cell_type": "markdown",
   "metadata": {},
   "source": [
    "En este caso, nos interesa usar el espacio para separar los distintos trozos del mensaje a mostrar, salvo para el punto final, que debería aparecer a continuación del resultado de la expresión ``base**exponente``. Además, la forma en que las cadenas de texto y las expresiones se van intercalando en los parámetros del *print* complica un poco la legibilidad de la sentencia. Es por todo esto por lo que es apropiado usar el **formateo de cadenas** en estos casos."
   ]
  },
  {
   "cell_type": "markdown",
   "metadata": {},
   "source": [
    "## 1.2. Formateo de cadenas <a name=\"sec_1_2\"/>"
   ]
  },
  {
   "cell_type": "markdown",
   "metadata": {},
   "source": [
    "El método **format** de las cadenas devuelve una versión *formateada* de la cadena. Entre otras cosas, nos permite intercalar en una cadena los resultados de diversas expresiones, eligiendo el orden o el formato en que se representan dichos resultados. Esta flexibilidad hace de *format* una función perfecta para ser utilizada junto a *print* para mostrar mensajes más o menos complejos, con mucho más control sobre la salida obtenida del que tendríamos usando únicamente *print*. \n",
    "\n",
    "El uso más básico de *format* consiste en intercalar en la cadena parejas de llaves, de manera que el método devolverá una cadena en la que se sustituirán las llaves por los resultados de evaluar las expresiones que reciba como parámetros, en el mismo orden:"
   ]
  },
  {
   "cell_type": "code",
   "execution_count": 16,
   "metadata": {},
   "outputs": [
    {
     "name": "stdout",
     "output_type": "stream",
     "text": [
      "Introduce un número:1\n",
      "Introduce un número:1\n",
      "El resultado de 1 elevado a 1 es 1.\n"
     ]
    }
   ],
   "source": [
    "a = int(input('Introduce un número:'))\n",
    "b = int(input('Introduce un número:'))\n",
    "\n",
    "print('El resultado de {} elevado a {} es {}.'.format(a, b, a**b))"
   ]
  },
  {
   "cell_type": "markdown",
   "metadata": {},
   "source": [
    "Podemos hacer mención explícita entre las llaves a la expresión concreta que queremos intercalar. Para ello utilizamos números comenzando en cero (como si los parámetros recibidos por format fueran una lista):"
   ]
  },
  {
   "cell_type": "code",
   "execution_count": 17,
   "metadata": {},
   "outputs": [
    {
     "name": "stdout",
     "output_type": "stream",
     "text": [
      "El resultado de 1 multiplicado por 1 es 1\n"
     ]
    }
   ],
   "source": [
    "print('El resultado de {0} multiplicado por {1} es {2}'.format(a, b, a*b))"
   ]
  },
  {
   "cell_type": "markdown",
   "metadata": {},
   "source": [
    "Esto nos permite intercalar los datos en cualquier orden, o usarlos varias veces dentro de la cadena:"
   ]
  },
  {
   "cell_type": "code",
   "execution_count": 18,
   "metadata": {},
   "outputs": [
    {
     "name": "stdout",
     "output_type": "stream",
     "text": [
      "El resultado de { } 1 entre 1 es 1.0, y el de 1 entre 1 es 1.0\n"
     ]
    }
   ],
   "source": [
    "print('El resultado de {{ }} {0} entre {1} es {2}, y el de {1} entre {0} es {3}'.format(a, b, a/b, b/a))"
   ]
  },
  {
   "cell_type": "markdown",
   "metadata": {},
   "source": [
    "Podemos formatear los valores numéricos, por ejemplo indicando que queremos redondear a 2 decimales. La f del siguiente ejemplo indica que el número a mostrar es un real:"
   ]
  },
  {
   "cell_type": "code",
   "execution_count": 19,
   "metadata": {},
   "outputs": [
    {
     "name": "stdout",
     "output_type": "stream",
     "text": [
      "El resultado de 1 entre 1 es 1.00, y el de 1 entre 1 es 1.0\n"
     ]
    }
   ],
   "source": [
    "print('El resultado de {0} entre {1} es {2:.2f}, y el de {1} entre {0} es {3}'.format(a, b, a/b, b/a))"
   ]
  },
  {
   "cell_type": "markdown",
   "metadata": {},
   "source": [
    "También es posible conseguir que un dato ocupe un mínimo de caracteres, rellenando  los huecos con espacios si es necesario. Esto es especialmente útil cuando se desea mostrar información en forma de tabla, consiguiendo que las columnas queden alineadas. La d en el siguiente ejemplo indica que los números a mostrar son enteros:"
   ]
  },
  {
   "cell_type": "code",
   "execution_count": 20,
   "metadata": {},
   "outputs": [
    {
     "name": "stdout",
     "output_type": "stream",
     "text": [
      "Mostrando los cuadrados y los cubos de los números del 1 al 5:\n",
      "1  1   1\n",
      "2  4   8\n",
      "3  9  27\n",
      "4 16  64\n",
      "5 25 125\n"
     ]
    }
   ],
   "source": [
    "print(\"Mostrando los cuadrados y los cubos de los números del 1 al 5:\")\n",
    "for i in range(1,6):\n",
    "    print('{0} {1:2d} {2:3d}'.format(i, i*i, i*i*i))"
   ]
  },
  {
   "cell_type": "markdown",
   "metadata": {},
   "source": [
    "Si lo preferimos, podemos rellenar los huecos con ceros en lugar de espacios, como se muestra en este ejemplo:"
   ]
  },
  {
   "cell_type": "code",
   "execution_count": 21,
   "metadata": {},
   "outputs": [
    {
     "name": "stdout",
     "output_type": "stream",
     "text": [
      "Mostrando los cuadrados y los cubos de los números del 1 al 5:\n",
      "001 001 001\n",
      "002 004 008\n",
      "003 009 027\n",
      "004 016 064\n",
      "005 025 125\n",
      "-----\n",
      "005 025 125\n"
     ]
    }
   ],
   "source": [
    "print(\"Mostrando los cuadrados y los cubos de los números del 1 al 5:\")\n",
    "\n",
    "for i in range(1,6):\n",
    "    print('{0:03d} {1:03d} {2:03d}'.format(i, i*i, i*i*i))\n",
    "    dd = '{0:03d} {1:03d} {2:03d}'.format(i, i*i, i*i*i)\n",
    "print (\"-----\")\n",
    "print (dd)"
   ]
  },
  {
   "cell_type": "markdown",
   "metadata": {},
   "source": [
    "En ocasiones, nombrar a las distintas expresiones que pasamos al método format puede mejorar la legibilidad. Para ello, usaremos parámetros con nombre en la llamada a format, y podremos referirnos a dichos nombres en las distintas llaves que utilicemos en la cadena a formatear:"
   ]
  },
  {
   "cell_type": "code",
   "execution_count": 22,
   "metadata": {},
   "outputs": [
    {
     "name": "stdout",
     "output_type": "stream",
     "text": [
      "Si x es igual a 1 e y es igual a 1, entonces la inecuación x < (y * 2) es True\n"
     ]
    }
   ],
   "source": [
    "print('Si x es igual a {x} e y es igual a {y}, entonces la inecuación x < (y * 2) es {inecuacion}'.\n",
    "             format(x=a, y=b, inecuacion= a<(b*2)))"
   ]
  },
  {
   "cell_type": "markdown",
   "metadata": {
    "collapsed": true
   },
   "source": [
    "# 2. Lectura y escritura de ficheros <a name=\"sec_2\"/>"
   ]
  },
  {
   "cell_type": "markdown",
   "metadata": {},
   "source": [
    "Muchas veces no es suficiente con la introducción de datos desde el teclado por parte del usuario. Es muy habitual leer datos desde un fichero o archivo (que llamamos de entrada). Igualmente, es posible escribir datos en un fichero (que llamamos de salida).\n",
    "\n",
    "Tanto la lectura como la escritura de datos en un fichero se puede realizar de diversas formas:\n",
    "\n",
    "* Mediante cadenas de texto libres, en lo que llamamos **ficheros de texto**.\n",
    "* Mediante cadenas de texto de un formato predefinido, como es el caso de los ficheros **csv**.\n",
    "* Mediante algún formato estándar de intercambio de datos (por ejemplo, **json**), lo que nos permite guardar y recuperar más tarde fácilmente el contenido de las variables de nuestros programas. A este tipo de escrituras y lecturas las llamamos *serialización* y *deserialización*, respectivamente.\n",
    "* Mediante datos binarios, en lo que llamamos *ficheros binarios*. De esta forma, el programador tiene el control absoluto de los datos que se escriben o se leen de un fichero. Esto no lo veremos en esta asignatura.\n"
   ]
  },
  {
   "cell_type": "markdown",
   "metadata": {},
   "source": [
    "## 2.1. Apertura y cierre de ficheros <a name=\"sec_2_1\"/>\n",
    "\n",
    "Lo primero que hay que hacer para poder trabajar con un fichero es abrirlo. Al abrir un fichero, establecemos la manera en que vamos a trabajar con él: si lo haremos en modo texto o modo binario, o si vamos a leer o escribir de él, entre otras cosas. \n",
    "\n",
    "La apertura de un fichero se realiza mediante la función **open**:"
   ]
  },
  {
   "cell_type": "code",
   "execution_count": 23,
   "metadata": {},
   "outputs": [],
   "source": [
    "f = open('fichero.txt')"
   ]
  },
  {
   "cell_type": "markdown",
   "metadata": {},
   "source": [
    "Si la apertura del fichero se lleva a cabo sin problemas, la función nos devuelve un **descriptor del fichero**. Usaremos esta variable más adelante para leer o escribir en el fichero.\n",
    "\n",
    "Por defecto, el fichero se abre en modo texto para lectura. Podemos cambiar el modo en que se abre el fichero mediante el parámetro opcional **mode**, en el que pasaremos una cadena formada por alguno(s) de los caracteres siguientes:\n",
    "* 'r': abre el fichero en modo lectura.\n",
    "* 'w': abre el fichero en modo escritura. Si el archivo existía, lo sobrescribe (es decir, primero es borrado).\n",
    "* 'a': abre el fichero en modo escritura. Si el archivo existía, las escrituras se añadirán al final del fichero.\n",
    "* 't': abre el fichero en modo texto. Es el modo por defecto, así que normalmente no lo indicaremos y se entenderá que lo abrimos en modo texto. Es el modo que usaremos siempre en nuestra asignatura.\n",
    "* 'b': abre el fichero en modo binario.\n",
    "\n",
    "Veamos como ejemplo cómo abrir un fichero de texto para escribir en él, sobrescribiéndolo si ya existía:"
   ]
  },
  {
   "cell_type": "code",
   "execution_count": 24,
   "metadata": {},
   "outputs": [],
   "source": [
    "f2 = open('fichero_escritura.txt', mode='w')"
   ]
  },
  {
   "cell_type": "markdown",
   "metadata": {},
   "source": [
    "Cuando abrimos un fichero de texto es importante que tengamos en cuenta la **codificación de caracteres** utilizada por el fichero. Existen diversos estándares, aunque el más utilizado hoy en día en el contexto de Internet es el **utf-8**. Será éste el que usaremos preferiblemente. Por defecto, la función *open* decide la codificación de caracteres en función de la configuración de nuestro sistema operativo. Para especificar explícitamente que se utilice *utf-8* lo haremos mediantes el parámetro opcional **encoding**:"
   ]
  },
  {
   "cell_type": "code",
   "execution_count": 25,
   "metadata": {},
   "outputs": [],
   "source": [
    "f3 = open('fichero.txt', encoding='utf-8')"
   ]
  },
  {
   "cell_type": "markdown",
   "metadata": {},
   "source": [
    "Cuando terminemos de trabajar con el fichero (por ejemplo, al acabar de leer su contenido), es importante **cerrarlo**. De esta forma liberamos el recurso para que puedan trabajar con él otros procesos de nuestra máquina, y también nos aseguramos de que las escrituras que hayamos realizado se llevan a cabo de manera efectiva en disco (ya que las escrituras suelen utilizar un buffer en memoria para mejorar la eficiencia). Para cerrar un fichero usamos el método **close** sobre el descriptor del fichero que queremos cerrar:"
   ]
  },
  {
   "cell_type": "code",
   "execution_count": 26,
   "metadata": {},
   "outputs": [],
   "source": [
    "f.close()\n",
    "f2.close()\n",
    "f3.close()"
   ]
  },
  {
   "cell_type": "markdown",
   "metadata": {},
   "source": [
    "Una forma de no olvidarnos de cerrar el fichero (algo muy habitual) es usar la sentencia **with**:"
   ]
  },
  {
   "cell_type": "code",
   "execution_count": 27,
   "metadata": {},
   "outputs": [
    {
     "name": "stdout",
     "output_type": "stream",
     "text": [
      "Trabajamos con el fichero...\n"
     ]
    }
   ],
   "source": [
    "with open('fichero.txt', encoding='utf-8') as f:\n",
    "    print('Trabajamos con el fichero...')    "
   ]
  },
  {
   "cell_type": "markdown",
   "metadata": {},
   "source": [
    "Una vez ejecutadas las instrucciones contenidas en el bloque *with*, el fichero es cerrado automáticamente. Esta variante tiene la ventaja además de que si se produce cualquier error mientras trabajamos con el fichero, que produzca la parada de la ejecución de nuestro programa, el fichero también es cerrado. Esto no ocurre si abrimos el fichero sin usar *with*."
   ]
  },
  {
   "cell_type": "markdown",
   "metadata": {},
   "source": [
    "## 2.2. Lectura y escritura de texto libre <a name=\"sec_2_2\"/>"
   ]
  },
  {
   "cell_type": "markdown",
   "metadata": {},
   "source": [
    "Una vez abierto un fichero en modo texto, podemos leer todo el contenido y guardarlo en una variable de tipo cadena mediante el método **read**:"
   ]
  },
  {
   "cell_type": "code",
   "execution_count": 28,
   "metadata": {},
   "outputs": [
    {
     "name": "stdout",
     "output_type": "stream",
     "text": [
      "Este es un fichero de texto usado como ejemplo en el notebook 7.\n",
      "Esta es otra línea del fichero.\n",
      "Y esta una tercera.\n",
      "Aquí se acaba el fichero.\n"
     ]
    }
   ],
   "source": [
    "with open('fichero.txt', encoding='utf-8') as f:\n",
    "    contenido = f.read()\n",
    "    print(contenido)  # Mostramos el contenido del fichero"
   ]
  },
  {
   "cell_type": "markdown",
   "metadata": {},
   "source": [
    "Aunque se puede hacer de esta forma, es más habitual leer los ficheros de texto línea a línea. De esta forma podemos procesar archivos muy grandes sin usar demasiada memoria. Para ello, podemos usar el descriptor del fichero dentro de un bucle *for*, como si se tratara de una secuencia de cadenas, de manera que en cada paso del bucle obtendremos la siguiente línea del fichero:"
   ]
  },
  {
   "cell_type": "code",
   "execution_count": 29,
   "metadata": {},
   "outputs": [
    {
     "name": "stdout",
     "output_type": "stream",
     "text": [
      "Este es un fichero de texto usado como ejemplo en el notebook 7.\n",
      "\n",
      "Esta es otra línea del fichero.\n",
      "\n",
      "Y esta una tercera.\n",
      "\n",
      "Aquí se acaba el fichero.\n"
     ]
    }
   ],
   "source": [
    "with open('fichero.txt', encoding='utf-8') as f:\n",
    "    for linea in f:\n",
    "        print(linea)"
   ]
  },
  {
   "cell_type": "markdown",
   "metadata": {},
   "source": [
    "Observarás que en el ejemplo anterior se está visualizando cada línea separada con una línea vacía. Esto es así porque la línea leida del fichero incluye al final un salto de línea, y a su vez la función *print* incluye un salto de línea tras la cadena a mostrar. Si queremos mostrar el contenido del fichero con el mismo formato que en el ejemplo anterior, podríamos hacer esto:"
   ]
  },
  {
   "cell_type": "code",
   "execution_count": 30,
   "metadata": {},
   "outputs": [
    {
     "name": "stdout",
     "output_type": "stream",
     "text": [
      "Este es un fichero de texto usado como ejemplo en el notebook 7.\n",
      "Esta es otra línea del fichero.\n",
      "Y esta una tercera.\n",
      "Aquí se acaba el fichero."
     ]
    }
   ],
   "source": [
    "with open('fichero.txt', encoding='utf-8') as f:\n",
    "    for linea in f:\n",
    "        print(linea, end='')"
   ]
  },
  {
   "cell_type": "markdown",
   "metadata": {},
   "source": [
    "Para escribir texto en un fichero, usaremos el método **write** sobre el descriptor del fichero:"
   ]
  },
  {
   "cell_type": "code",
   "execution_count": 31,
   "metadata": {},
   "outputs": [],
   "source": [
    "with open('./ejemplo/fichero_escritura.txt', mode='w', encoding='utf-8') as f:\n",
    "    f.write('Este texto se almacenará en el fichero.')"
   ]
  },
  {
   "cell_type": "markdown",
   "metadata": {},
   "source": [
    "Comprobemos si se ha realizado la escritura correctamente:"
   ]
  },
  {
   "cell_type": "code",
   "execution_count": 32,
   "metadata": {},
   "outputs": [
    {
     "name": "stdout",
     "output_type": "stream",
     "text": [
      "Este texto se almacenará en el fichero.\n"
     ]
    }
   ],
   "source": [
    "with open('./ejemplo/fichero_escritura.txt', encoding='utf-8') as f:\n",
    "    contenido = f.read()\n",
    "    print(contenido)\n",
    "    "
   ]
  },
  {
   "cell_type": "markdown",
   "metadata": {},
   "source": [
    "## 2.3. Lectura y escritura de CSV <a name=\"sec_2_3\"/>"
   ]
  },
  {
   "cell_type": "markdown",
   "metadata": {},
   "source": [
    "Un tipo de fichero de texto que suele usarse es el llamado formato **CSV** (por *Comma-Separated Values*). Estos ficheros se utilizan para almacenar datos de tipo tabular, al estilo de una hoja de cálculo. En este notebook se incluye un fichero con este formato, extraído del \"Servicio de alquiler de bicicletas públicas de Sevilla (Sevici)\". Veamos un trozo de su contenido:"
   ]
  },
  {
   "cell_type": "code",
   "execution_count": 33,
   "metadata": {},
   "outputs": [
    {
     "name": "stdout",
     "output_type": "stream",
     "text": [
      "name,slots,empty_slots,free_bikes,latitude,longitude\n",
      "149_CALLE ARROYO,20,11,9,37.397829929383,-5.97567172039552\n",
      "257_TORRES ALBARRACIN,20,16,4,37.38376948792722,-5.908921914235877\n",
      "243_GLORIETA DEL PRIMERO DE MAYO,15,6,9,37.380439481169994,-5.953481197462845\n",
      "109_AVENIDA SAN FRANCISCO JAVIER,15,1,14,37.37988413609134,-5.974382770011586\n",
      "073_PLAZA SAN AGUSTIN,15,10,4,37.38951386231434,-5.984362789545622\n",
      "096_CALLE BETIS,19,17,2,37.3835407311529,-5.999910722822249\n",
      "256_MIGUEL MONTORO,29,27,1,37.386100496778624,-5.910090919676698\n",
      "082_CALLE LUIS MONTOTO,17,12,5,37.387098477016366,-5.974843147214583\n",
      "226_AVENIDA DOCTOR EMILIO LEMOS,15,10,5,37.402862871745285,-5.921753676327738\n",
      "103_AVENIDA EDUARDO DATO,20,20,0,37.384432463478554,-5.982738173371375\n"
     ]
    }
   ],
   "source": [
    "with open('estaciones.csv', encoding='utf-8') as f:\n",
    "    # Leemos las líneas del fichero junto con un número que indica la línea por la que vamos\n",
    "    for num_linea, linea in enumerate(f):  \n",
    "        print(linea, end='')\n",
    "        if num_linea == 10:   # Al llegar a las 10 líneas, paramos\n",
    "            break"
   ]
  },
  {
   "cell_type": "markdown",
   "metadata": {},
   "source": [
    "Como puedes observar, los datos vienen expresados por columnas. Cada columna o atributo representa un dato concreto, y cada línea representa una tupla o registro de valores para cada uno de los atributos. \n",
    "\n",
    "Para poder trabajar con estos datos, lo normal es que necesitemos acceder a cada atributo de cada registro por separado. Si leemos el fichero línea a línea, podríamos acceder a cada atributo si rompemos la cadena en cada uno de los trozos separados por una coma. Esto puede conseguirse así:"
   ]
  },
  {
   "cell_type": "code",
   "execution_count": 34,
   "metadata": {},
   "outputs": [
    {
     "name": "stdout",
     "output_type": "stream",
     "text": [
      "['name', 'slots', 'empty_slots', 'free_bikes', 'latitude', 'longitude\\n']\n",
      "['149_CALLE ARROYO', '20', '11', '9', '37.397829929383', '-5.97567172039552\\n']\n",
      "['257_TORRES ALBARRACIN', '20', '16', '4', '37.38376948792722', '-5.908921914235877\\n']\n",
      "['243_GLORIETA DEL PRIMERO DE MAYO', '15', '6', '9', '37.380439481169994', '-5.953481197462845\\n']\n",
      "['109_AVENIDA SAN FRANCISCO JAVIER', '15', '1', '14', '37.37988413609134', '-5.974382770011586\\n']\n",
      "['073_PLAZA SAN AGUSTIN', '15', '10', '4', '37.38951386231434', '-5.984362789545622\\n']\n",
      "['096_CALLE BETIS', '19', '17', '2', '37.3835407311529', '-5.999910722822249\\n']\n",
      "['256_MIGUEL MONTORO', '29', '27', '1', '37.386100496778624', '-5.910090919676698\\n']\n",
      "['082_CALLE LUIS MONTOTO', '17', '12', '5', '37.387098477016366', '-5.974843147214583\\n']\n",
      "['226_AVENIDA DOCTOR EMILIO LEMOS', '15', '10', '5', '37.402862871745285', '-5.921753676327738\\n']\n",
      "['103_AVENIDA EDUARDO DATO', '20', '20', '0', '37.384432463478554', '-5.982738173371375\\n']\n"
     ]
    }
   ],
   "source": [
    "with open('estaciones.csv', encoding='utf-8') as f:\n",
    "    for num_linea, linea in enumerate(f):  \n",
    "        trozos = linea.split(',')\n",
    "        print(trozos)\n",
    "        if num_linea == 10:   # Al llegar a las 10 líneas, paramos\n",
    "            break"
   ]
  },
  {
   "cell_type": "markdown",
   "metadata": {},
   "source": [
    "Como puedes observar, al usar el método *split* obtenemos una lista con los distintos atributos de cada línea. Podríamos acceder ahora al atributo que quisiéramos usando los corchetes sobre dicha lista.\n",
    "\n",
    "Sin embargo, esta no es la mejor manera de trabajar con un CSV, ya que se nos pueden colar espacios en blanco en sitios que no esperamos, caracteres de salto de línea... Existen en Python dos mecanismos que nos permiten leer CSV de una forma más sencilla y robusta:\n",
    "* Mediante la función **csv.reader**, que nos permite recorrer cada registro del fichero en formato lista.\n",
    "* Mediante el objeto **csv.DictReader**, que nos permite recorrer cada registro del fichero en formato diccionario.\n",
    "\n",
    "Empecemos viendo un ejemplo de uso de **csv.reader**:"
   ]
  },
  {
   "cell_type": "code",
   "execution_count": 35,
   "metadata": {},
   "outputs": [
    {
     "name": "stdout",
     "output_type": "stream",
     "text": [
      "['name', 'slots', 'empty_slots', 'free_bikes', 'latitude', 'longitude']\n"
     ]
    }
   ],
   "source": [
    "import csv # Hay que importar el paquete csv\n",
    "\n",
    "with open('estaciones.csv', encoding='utf-8') as f:\n",
    "    lector = csv.reader(f)\n",
    "    for registro in lector:\n",
    "        print(registro)\n",
    "        # Para este ejemplo, nos basta con ver el primer registro\n",
    "        break;"
   ]
  },
  {
   "cell_type": "markdown",
   "metadata": {},
   "source": [
    "En el CSV que estamos procesando, la primera línea contiene los nombres de los atributos. No es por tanto un registro como tal (no contiene valores), por lo que lo habitual es saltárnoslo. Esto se puede conseguir de la siguiente forma:"
   ]
  },
  {
   "cell_type": "code",
   "execution_count": 36,
   "metadata": {},
   "outputs": [
    {
     "name": "stdout",
     "output_type": "stream",
     "text": [
      "['149_CALLE ARROYO', '20', '11', '9', '37.397829929383', '-5.97567172039552']\n"
     ]
    }
   ],
   "source": [
    "with open('estaciones.csv', encoding='utf-8') as f:\n",
    "    lector = csv.reader(f)\n",
    "    next(lector) # Nos saltamos la cabecera del CSV\n",
    "    for registro in lector:\n",
    "        print(registro)\n",
    "        # Para este ejemplo, nos basta con ver el primer registro\n",
    "        break;"
   ]
  },
  {
   "cell_type": "markdown",
   "metadata": {},
   "source": [
    "Normalmente, nos interesa almacenar los registros en alguna estructura de datos, para utilizarlos más adelante en nuestro programa. Podemos utilizar por ejemplo una lista para almacenar cada registro. Además, es conveniente que convirtamos cada atributo al tipo de datos de Python que mejor se adapte al tipo de dato que representa el atributo. En nuestro ejemplo, el primer atributo es una cadena de texto, los tres siguientes son números enteros, y los dos últimos números reales.\n",
    "\n",
    "Podríamos obtener una lista de tuplas, cada tupla representando un registro del fichero, de esta manera:"
   ]
  },
  {
   "cell_type": "code",
   "execution_count": 37,
   "metadata": {},
   "outputs": [
    {
     "name": "stdout",
     "output_type": "stream",
     "text": [
      "[('149_CALLE ARROYO', 20, 11, 9, 37.397829929383, -5.97567172039552), ('257_TORRES ALBARRACIN', 20, 16, 4, 37.38376948792722, -5.908921914235877), ('243_GLORIETA DEL PRIMERO DE MAYO', 15, 6, 9, 37.380439481169994, -5.953481197462845), ('109_AVENIDA SAN FRANCISCO JAVIER', 15, 1, 14, 37.37988413609134, -5.974382770011586), ('073_PLAZA SAN AGUSTIN', 15, 10, 4, 37.38951386231434, -5.984362789545622), ('096_CALLE BETIS', 19, 17, 2, 37.3835407311529, -5.999910722822249), ('256_MIGUEL MONTORO', 29, 27, 1, 37.386100496778624, -5.910090919676698), ('082_CALLE LUIS MONTOTO', 17, 12, 5, 37.387098477016366, -5.974843147214583), ('226_AVENIDA DOCTOR EMILIO LEMOS', 15, 10, 5, 37.402862871745285, -5.921753676327738), ('103_AVENIDA EDUARDO DATO', 20, 20, 0, 37.384432463478554, -5.982738173371375)]\n"
     ]
    }
   ],
   "source": [
    "with open('estaciones.csv', encoding='utf-8') as f:\n",
    "    lector = csv.reader(f)\n",
    "    next(lector) # Nos saltamos la cabecera del CSV\n",
    "    registros = []\n",
    "    for registro in lector:\n",
    "        name = registro[0]\n",
    "        slots = int(registro[1])\n",
    "        empty_slots = int(registro[2])\n",
    "        free_bikes = int(registro[3])\n",
    "        latitude = float(registro[4])\n",
    "        longitude = float(registro[5])\n",
    "        tupla = (name, slots, empty_slots, free_bikes, latitude, longitude)\n",
    "        registros.append(tupla)\n",
    "\n",
    "# Mostremos los 10 primeros registros\n",
    "print(registros[:10])"
   ]
  },
  {
   "cell_type": "markdown",
   "metadata": {},
   "source": [
    "Si tenemos muchos atributos, es preferible utilizar **csv.DictReader** para leer el CSV. La diferencia con *csv.reader* es que cada registro devuelto está representado mediante un diccionario, en el que las claves son los nombres de los atributos (obtenidos a partir de la cabecera del CSV) y los valores asociados son los valores de los atributos correspondientes. Al hacer uso de los nombres de los atributos para acceder a los atributos se mejora la legibilidad del código:"
   ]
  },
  {
   "cell_type": "code",
   "execution_count": 38,
   "metadata": {},
   "outputs": [
    {
     "name": "stdout",
     "output_type": "stream",
     "text": [
      "[{'name': '149_CALLE ARROYO', 'slots': '20', 'empty_slots': '11', 'free_bikes': '9', 'latitude': '37.397829929383', 'longitude': '-5.97567172039552'}, {'name': '257_TORRES ALBARRACIN', 'slots': '20', 'empty_slots': '16', 'free_bikes': '4', 'latitude': '37.38376948792722', 'longitude': '-5.908921914235877'}, {'name': '243_GLORIETA DEL PRIMERO DE MAYO', 'slots': '15', 'empty_slots': '6', 'free_bikes': '9', 'latitude': '37.380439481169994', 'longitude': '-5.953481197462845'}, {'name': '109_AVENIDA SAN FRANCISCO JAVIER', 'slots': '15', 'empty_slots': '1', 'free_bikes': '14', 'latitude': '37.37988413609134', 'longitude': '-5.974382770011586'}, {'name': '073_PLAZA SAN AGUSTIN', 'slots': '15', 'empty_slots': '10', 'free_bikes': '4', 'latitude': '37.38951386231434', 'longitude': '-5.984362789545622'}, {'name': '096_CALLE BETIS', 'slots': '19', 'empty_slots': '17', 'free_bikes': '2', 'latitude': '37.3835407311529', 'longitude': '-5.999910722822249'}, {'name': '256_MIGUEL MONTORO', 'slots': '29', 'empty_slots': '27', 'free_bikes': '1', 'latitude': '37.386100496778624', 'longitude': '-5.910090919676698'}, {'name': '082_CALLE LUIS MONTOTO', 'slots': '17', 'empty_slots': '12', 'free_bikes': '5', 'latitude': '37.387098477016366', 'longitude': '-5.974843147214583'}, {'name': '226_AVENIDA DOCTOR EMILIO LEMOS', 'slots': '15', 'empty_slots': '10', 'free_bikes': '5', 'latitude': '37.402862871745285', 'longitude': '-5.921753676327738'}, {'name': '103_AVENIDA EDUARDO DATO', 'slots': '20', 'empty_slots': '20', 'free_bikes': '0', 'latitude': '37.384432463478554', 'longitude': '-5.982738173371375'}]\n"
     ]
    }
   ],
   "source": [
    "with open('estaciones.csv', encoding='utf-8') as f:\n",
    "    lector = csv.DictReader(f)\n",
    "    registros = []\n",
    "    for registro in lector:\n",
    "        registros.append(registro)\n",
    "\n",
    "# Mostremos los 10 primeros registros\n",
    "print(registros[:10])"
   ]
  },
  {
   "cell_type": "markdown",
   "metadata": {},
   "source": [
    "Si el CSV que utilizamos no tiene una primera línea de cabecera con los nombres de los atributos, podemos pasarle dichos nombres a *csv.DictReader* mediante el parámetro opcional **fieldnames**. Debemos pasar en dicho parámetro una lista de cadenas con los nombres que queremos asignarle a los atributos, en el mismo orden en que aparezcan en el CSV."
   ]
  },
  {
   "cell_type": "markdown",
   "metadata": {},
   "source": [
    "### ¡Prueba tú!"
   ]
  },
  {
   "cell_type": "code",
   "execution_count": 39,
   "metadata": {},
   "outputs": [],
   "source": [
    "# Personaliza las claves del diccionario obtenido con DictReader de forma que sean las traducciones de los atributos"
   ]
  },
  {
   "cell_type": "markdown",
   "metadata": {},
   "source": [
    "## 2.4. Serialización y deserialización mediante JSON <a name=\"sec_2_4\"/>"
   ]
  },
  {
   "cell_type": "markdown",
   "metadata": {},
   "source": [
    "Llamamos **serialización** al proceso de convertir los datos almacenados en una o varias variables de nuestro programa a una representación en formato textual o binario, de manera que posteriormente esta representación pueda ser utilizada para volver a cargar dichos datos en nuestro programa, proceso que se conoce como **deserialización**. \n",
    "\n",
    "La serialización/deserialización nos permite guardar el contenido de una variable tal cual en un fichero, de manera que en una ejecución posterior de nuestro programa (o de otro programa) esos datos puedan ser cargados fácilmente en otra variable, y se pueda seguir trabajando con ellos. Otra posibilidad es utilizar la representación obtenida para enviarla a través de Internet, de manera que permitamos que dos programas situados en máquinas distintas se envíen estos datos uno al otro; conseguimos así que ambos programas puedan colaborar como si se ejecutaran en una misma máquina y compartieran dicha variable. Esta es la base de los **servicios web**, aplicaciones que ofrecen funcionalidades que pueden ser utilizadas por programas a través del protocolo **http**. Por poner algunos ejemplos, es posible consultar información sobre artistas o canciones haciendo consultas a los servicios web ofrecidos por *Spotify*. La información requerida es serializada por los servidores de *Spotify*, y enviada por Internet como respuesta a la petición de un cliente. El programa del cliente deserializará dicha información y podrá utilizarla para llevar a cabo la funcionalidad que se desee.\n",
    "\n",
    "Un formato estándar de intercambio de datos ampliamente utilizado y muy bien integrado en Python es **json**. De hecho, la representación de los datos en *json* es muy parecida a la propia sintaxis de Python. Puedes comprobarlo en el siguiente ejemplo, en el que serializamos la variable glosario:"
   ]
  },
  {
   "cell_type": "code",
   "execution_count": 40,
   "metadata": {},
   "outputs": [
    {
     "name": "stdout",
     "output_type": "stream",
     "text": [
      "{\"programaci\\u00f3n estructurada\": [14, 15, 18, 24, 85, 86], \"funciones\": [2, 3, 4, 8, 9, 10, 11, 14, 15, 18]}\n"
     ]
    }
   ],
   "source": [
    "import json\n",
    "\n",
    "glosario = {'programación estructurada': [14,15,18,24,85,86], 'funciones': [2,3,4,8,9,10,11,14,15,18]}\n",
    "glosario_json = json.dumps(glosario)\n",
    "print(glosario_json)"
   ]
  },
  {
   "cell_type": "markdown",
   "metadata": {},
   "source": [
    "Aunque la variable que se está serializando en este ejemplo es simple, con el mismo código podemos serializar cualquier variable, sea cual sea la complejidad de los datos que almacena. \n",
    "\n",
    "Para deserializar la representación *json* obtenida, lo haremos así:"
   ]
  },
  {
   "cell_type": "code",
   "execution_count": 41,
   "metadata": {},
   "outputs": [
    {
     "name": "stdout",
     "output_type": "stream",
     "text": [
      "{'programación estructurada': [14, 15, 18, 24, 85, 86], 'funciones': [2, 3, 4, 8, 9, 10, 11, 14, 15, 18]}\n"
     ]
    }
   ],
   "source": [
    "glosario = json.loads(glosario_json)\n",
    "print(glosario)"
   ]
  },
  {
   "cell_type": "markdown",
   "metadata": {},
   "source": [
    "Si combinamos los ejemplos anteriores con la escritura y lectura de ficheros de texto, podemos guardar en un fichero el contenido de la variable, y en una ejecución posterior leer el fichero y cargar dichos datos de nuevo en una variable:"
   ]
  },
  {
   "cell_type": "code",
   "execution_count": 42,
   "metadata": {},
   "outputs": [
    {
     "name": "stdout",
     "output_type": "stream",
     "text": [
      "Almacenando la variable glosario en el fichero glosario.txt\n"
     ]
    }
   ],
   "source": [
    "glosario = {'programación estructurada': [14,15,18,24,85,86], 'funciones': [2,3,4,8,9,10,11,14,15,18]}\n",
    "glosario_json = json.dumps(glosario)\n",
    "print('Almacenando la variable glosario en el fichero glosario.txt')\n",
    "with open('glosario.txt','w') as f:\n",
    "    f.write(glosario_json)"
   ]
  },
  {
   "cell_type": "code",
   "execution_count": 43,
   "metadata": {},
   "outputs": [
    {
     "name": "stdout",
     "output_type": "stream",
     "text": [
      "Cargando los datos del fichero glosario.txt en la variable glosario\n",
      "Datos cargados: {'programación estructurada': [14, 15, 18, 24, 85, 86], 'funciones': [2, 3, 4, 8, 9, 10, 11, 14, 15, 18]}\n"
     ]
    }
   ],
   "source": [
    "print('Cargando los datos del fichero glosario.txt en la variable glosario')\n",
    "with open('glosario.txt') as f:\n",
    "    glosario_json = f.read()\n",
    "    glosario = json.loads(glosario_json)\n",
    "    print('Datos cargados:', glosario)"
   ]
  },
  {
   "cell_type": "markdown",
   "metadata": {},
   "source": [
    "La deserialización de *json* nos permite hacer multitud de consultas a diversos servicios web, y trabajar con los datos obtenidos directamente en nuestro programa Python. Por ejemplo, el siguiente ejemplo muestra cómo obtener la información sobre las estaciones de bicicletas de alquiler de Sevici (servicio público de alquiler de bicicletas de Sevilla), a través del servicio web ofrecido por https://citybik.es/:"
   ]
  },
  {
   "cell_type": "code",
   "execution_count": 44,
   "metadata": {},
   "outputs": [
    {
     "name": "stdout",
     "output_type": "stream",
     "text": [
      "{'network': {'company': ['JCDecaux'], 'href': '/v2/networks/sevici', 'id': 'sevici', 'license': {'name': 'Open Licence', 'url': 'https://developer.jcdecaux.com/#/opendata/licence'}, 'location': {'city': 'Sevilla', 'country': 'ES', 'latitude': 37.3880961, 'longitude': -5.9823299}, 'name': 'Sevici', 'source': 'https://developer.jcdecaux.com', 'stations': [{'empty_slots': 10, 'extra': {'address': 'PLAZA NUEVA - Aprox. C/ Mendez Núñez', 'banking': True, 'bonus': False, 'last_update': 1606295112000, 'slots': 20, 'status': 'OPEN', 'uid': 242}, 'free_bikes': 10, 'id': 'd5470c8bd4fcea96295747146833c850', 'latitude': 37.38881830392981, 'longitude': -5.995750976296489, 'name': '242_PLAZA NUEVA', 'timestamp': '2020-11-25T09:13:09.982000Z'}, {'empty_slots': 0, 'extra': {'address': 'PLAZA NUEVA - Aprox. C/ Jaen', 'banking': True, 'bonus': False, 'last_update': 1606295187000, 'slots': 30, 'status': 'OPEN', 'uid': 76}, 'free_bikes': 30, 'id': '631add9c5f015627addf1d9c2edee7dd', 'latitude': 37.3889394767379, 'longitude': -5.99564622125814, 'name': '076_PLAZA NUEVA', 'timestamp': '2020-11-25T09:13:10.273000Z'}, {'empty_slots': 15, 'extra': {'address': 'CALLE PARQUE DE DOÑANA - Aprox. Calle Corral de los Olmos', 'banking': True, 'bonus': False, 'last_update': 1606295348000, 'slots': 20, 'status': 'OPEN', 'uid': 194}, 'free_bikes': 4, 'id': '226239bb2cc5780404add299da3c4636', 'latitude': 37.418732603824466, 'longitude': -5.97319415962488, 'name': '194_CALLE PARQUE DE DOÑANA', 'timestamp': '2020-11-25T09:13:09.747000Z'}, {'empty_slots': 7, 'extra': {'address': 'AVENIDA REINA MERCEDES - Aprox. Facultad de Informática', 'banking': True, 'bonus': False, 'last_update': 1606295480000, 'slots': 25, 'status': 'OPEN', 'uid': 126}, 'free_bikes': 18, 'id': 'c82bd767011e78ecab4f630637a20300', 'latitude': 37.358164858839395, 'longitude': -5.986482708713183, 'name': '126_AVENIDA REINA MERCEDES', 'timestamp': '2020-11-25T09:13:09.750000Z'}, {'empty_slots': 8, 'extra': {'address': 'PLAZA SAN AGUSTIN - Aprox. C/ Concepción', 'banking': True, 'bonus': False, 'last_update': 1606282518000, 'slots': 15, 'status': 'OPEN', 'uid': 73}, 'free_bikes': 7, 'id': '951d9a15a4feba656b01b29923387821', 'latitude': 37.38951386231434, 'longitude': -5.984362789545622, 'name': '073_PLAZA SAN AGUSTIN', 'timestamp': '2020-11-25T09:13:09.751000Z'}, {'empty_slots': 18, 'extra': {'address': 'CALLE ORFEBRE DOMINGUEZ VÁZQUEZ - Aprox. C/ Pino Montano', 'banking': True, 'bonus': False, 'last_update': 1606295334000, 'slots': 20, 'status': 'OPEN', 'uid': 186}, 'free_bikes': 2, 'id': '3077f6e052b55a72fd0dd39e03cd3bb9', 'latitude': 37.40860456343952, 'longitude': -5.973161153696026, 'name': '186_CALLE ORFEBRE DOMINGUEZ VÁZQUEZ', 'timestamp': '2020-11-25T09:13:09.752000Z'}, {'empty_slots': 7, 'extra': {'address': 'PASEO CATALINA RIBERA - Aprox. C/ San Fernando', 'banking': True, 'bonus': False, 'last_update': 1606295412000, 'slots': 20, 'status': 'OPEN', 'uid': 100}, 'free_bikes': 13, 'id': '975f84a3b28ddb79ae65224738358442', 'latitude': 37.381516148333745, 'longitude': -5.98899864813969, 'name': '100_PASEO CATALINA RIBERA', 'timestamp': '2020-11-25T09:13:09.753000Z'}, {'empty_slots': 2, 'extra': {'address': 'CALLE BETIS - Aprox. C/ Juan de Lugo', 'banking': True, 'bonus': False, 'last_update': 1606295005000, 'slots': 19, 'status': 'OPEN', 'uid': 96}, 'free_bikes': 17, 'id': '86dcc1cad87d8c714d67f25f5b1c676b', 'latitude': 37.3835407311529, 'longitude': -5.999910722822249, 'name': '096_CALLE BETIS', 'timestamp': '2020-11-25T09:13:09.760000Z'}, {'empty_slots': 2, 'extra': {'address': 'CALLE PAEZ DE RIVERA - Aprox. Paseo de la Palmera', 'banking': True, 'bonus': False, 'last_update': 1606295570000, 'slots': 20, 'status': 'OPEN', 'uid': 132}, 'free_bikes': 18, 'id': '9422d2414a31f20c0216517069d21b97', 'latitude': 37.36361937962884, 'longitude': -5.984785168525709, 'name': '132_CALLE PAEZ DE RIVERA', 'timestamp': '2020-11-25T09:13:09.801000Z'}, {'empty_slots': 27, 'extra': {'address': 'Esquina Calle Pero Mingo', 'banking': False, 'bonus': False, 'last_update': 1606295181000, 'slots': 29, 'status': 'OPEN', 'uid': 256}, 'free_bikes': 2, 'id': '89a51ac8f130eb787c090c0921f97a7b', 'latitude': 37.386100496778624, 'longitude': -5.910090919676698, 'name': '256_MIGUEL MONTORO', 'timestamp': '2020-11-25T09:13:09.809000Z'}, {'empty_slots': 1, 'extra': {'address': 'CALLE LUIS MONTOTO - Aprox. C/ Maese Farfán', 'banking': True, 'bonus': False, 'last_update': 1606295060000, 'slots': 17, 'status': 'OPEN', 'uid': 82}, 'free_bikes': 16, 'id': 'f53d1f7cdffab0303d60b8769a0e862c', 'latitude': 37.387098477016366, 'longitude': -5.974843147214583, 'name': '082_CALLE LUIS MONTOTO', 'timestamp': '2020-11-25T09:13:09.816000Z'}, {'empty_slots': 12, 'extra': {'address': 'AVENIDA MUJER TRABAJADORA - Aprox. Avda Miraflores', 'banking': True, 'bonus': False, 'last_update': 1606295350000, 'slots': 20, 'status': 'OPEN', 'uid': 202}, 'free_bikes': 7, 'id': '5fffeebda40686f94421fc80f1ce58ff', 'latitude': 37.41146657719195, 'longitude': -5.966763132907271, 'name': '202_AVENIDA MUJER TRABAJADORA', 'timestamp': '2020-11-25T09:13:09.817000Z'}, {'empty_slots': 14, 'extra': {'address': 'AVENIDA DOCTOR EMILIO LEMOS - Aprox. C/ de Birmania', 'banking': True, 'bonus': False, 'last_update': 1606295199000, 'slots': 15, 'status': 'OPEN', 'uid': 226}, 'free_bikes': 0, 'id': '16a073a62f6b86100e0250cb13e777ce', 'latitude': 37.402862871745285, 'longitude': -5.921753676327738, 'name': '226_AVENIDA DOCTOR EMILIO LEMOS', 'timestamp': '2020-11-25T09:13:09.824000Z'}, {'empty_slots': 17, 'extra': {'address': 'AVENIDA EDUARDO DATO - Aprox. C/ San Bernardo', 'banking': True, 'bonus': False, 'last_update': 1606295541000, 'slots': 20, 'status': 'OPEN', 'uid': 103}, 'free_bikes': 2, 'id': '56c9c43bd088078ec78e174108316c42', 'latitude': 37.384432463478554, 'longitude': -5.982738173371375, 'name': '103_AVENIDA EDUARDO DATO', 'timestamp': '2020-11-25T09:13:09.825000Z'}, {'empty_slots': 17, 'extra': {'address': 'CALLE DE MANUEL VILLALOBOS - Aprox. C/ Sor Francisca Dorotea', 'banking': True, 'bonus': False, 'last_update': 1606295458000, 'slots': 20, 'status': 'OPEN', 'uid': 16}, 'free_bikes': 3, 'id': 'ead5e1849a30b97e5bbf6b89399276d1', 'latitude': 37.40705079945115, 'longitude': -5.982430505819379, 'name': '016_CALLE DE MANUEL VILLALOBOS', 'timestamp': '2020-11-25T09:13:09.832000Z'}, {'empty_slots': 6, 'extra': {'address': 'CALLE RAMON DE CARRANZA - Aprox. C/ Virgen de la Oliva', 'banking': True, 'bonus': False, 'last_update': 1606295028000, 'slots': 18, 'status': 'OPEN', 'uid': 143}, 'free_bikes': 12, 'id': '65a34560f269b84bccfd1c136c95430c', 'latitude': 37.37172440518047, 'longitude': -6.00331223823691, 'name': '143_CALLE RAMON DE CARRANZA', 'timestamp': '2020-11-25T09:13:09.833000Z'}, {'empty_slots': 7, 'extra': {'address': 'PLAZA DEL PELICANO - Aprox. C/ Enladrilladas', 'banking': True, 'bonus': False, 'last_update': 1606295330000, 'slots': 16, 'status': 'OPEN', 'uid': 46}, 'free_bikes': 8, 'id': 'bd3d1cf45d579f64649de528454c023d', 'latitude': 37.397593515590735, 'longitude': -5.983873184934495, 'name': '046_PLAZA DEL PELICANO', 'timestamp': '2020-11-25T09:13:09.836000Z'}, {'empty_slots': 3, 'extra': {'address': 'AVENIDA ALEMANIA - Aprox. Glorieta Chekia', 'banking': True, 'bonus': False, 'last_update': 1606295405000, 'slots': 15, 'status': 'OPEN', 'uid': 209}, 'free_bikes': 11, 'id': '25b9042cb04476827226cc12d0be41a9', 'latitude': 37.34531731164308, 'longitude': -5.982656150368391, 'name': '209_AVENIDA ALEMANIA', 'timestamp': '2020-11-25T09:13:09.837000Z'}, {'empty_slots': 14, 'extra': {'address': 'AVENIDA DE MIRAFLORES - Aprox. C/ Manuel Ródenas', 'banking': True, 'bonus': False, 'last_update': 1606295034000, 'slots': 17, 'status': 'OPEN', 'uid': 26}, 'free_bikes': 3, 'id': '9fdae9b20c7d32e84eebdeecfe3b5f58', 'latitude': 37.40249453741322, 'longitude': -5.977678166024575, 'name': '026_AVENIDA DE MIRAFLORES', 'timestamp': '2020-11-25T09:13:09.839000Z'}, {'empty_slots': 30, 'extra': {'address': 'Esquina rotanda Torreblanca', 'banking': False, 'bonus': False, 'last_update': 1606295516000, 'slots': 30, 'status': 'OPEN', 'uid': 255}, 'free_bikes': 0, 'id': 'e2c61d56bb76b45c5d4a01a1682cd99a', 'latitude': 37.385659308608595, 'longitude': -5.913451790889467, 'name': '255_PERO MINGO', 'timestamp': '2020-11-25T09:13:09.840000Z'}, {'empty_slots': 4, 'extra': {'address': 'AVENIDA ALCALDE LUIS URUÑUELA - Aprox. Hotel Sevilla Congresos', 'banking': True, 'bonus': False, 'last_update': 1606295479000, 'slots': 15, 'status': 'OPEN', 'uid': 221}, 'free_bikes': 10, 'id': '98a96e63144764f7b4982afa114c222a', 'latitude': 37.40560856297865, 'longitude': -5.930524002164018, 'name': '221_AVENIDA ALCALDE LUIS URUÑUELA', 'timestamp': '2020-11-25T09:13:09.844000Z'}, {'empty_slots': 11, 'extra': {'address': 'Virgen de Loreto - Aprox. C/ Arcos', 'banking': True, 'bonus': False, 'last_update': 1606295321000, 'slots': 18, 'status': 'OPEN', 'uid': 128}, 'free_bikes': 7, 'id': 'cc0f3b9bc33b69b30138938afbba94e6', 'latitude': 37.37645342505249, 'longitude': -6.000632231559362, 'name': '128_VIRGEN DE LORETO', 'timestamp': '2020-11-25T09:13:09.846000Z'}, {'empty_slots': 6, 'extra': {'address': 'CAMINO DE LOS DESCUBRIMIENTOS - Aprox. C/ Albert Einstein', 'banking': True, 'bonus': False, 'last_update': 1606295190000, 'slots': 20, 'status': 'OPEN', 'uid': 9}, 'free_bikes': 14, 'id': 'a01cf3f7621ad82a1d0bcf4a7cd8ede2', 'latitude': 37.40332453110276, 'longitude': -6.004020258912579, 'name': '009_CAMINO DE LOS DESCUBRIMIENTOS', 'timestamp': '2020-11-25T09:13:09.849000Z'}, {'empty_slots': 9, 'extra': {'address': 'AVENIDA DE CHILE - Aprox. Costurero de la Reina', 'banking': True, 'bonus': False, 'last_update': 1606295181000, 'slots': 20, 'status': 'OPEN', 'uid': 119}, 'free_bikes': 11, 'id': '2b4604e07d04befc6bdfdaed74b56640', 'latitude': 37.37740443203299, 'longitude': -5.991965201690994, 'name': '119_AVENIDA DE CHILE', 'timestamp': '2020-11-25T09:13:09.861000Z'}, {'empty_slots': 12, 'extra': {'address': 'CALLE LEÓN XIII - Aprox. C/ Antonio Pantión', 'banking': True, 'bonus': False, 'last_update': 1606295556000, 'slots': 15, 'status': 'OPEN', 'uid': 33}, 'free_bikes': 3, 'id': '979d2da97f09ddb12f9b77d90529bf40', 'latitude': 37.401460531089214, 'longitude': -5.983690186516563, 'name': '033_CALLE LEÓN XIII', 'timestamp': '2020-11-25T09:13:09.862000Z'}, {'empty_slots': 4, 'extra': {'address': 'CAMINO DE LOS TOROS - Aprox. C/ Mediterráneo', 'banking': True, 'bonus': False, 'last_update': 1606295319000, 'slots': 20, 'status': 'OPEN', 'uid': 200}, 'free_bikes': 16, 'id': 'd1d24e491773ff3be0f16e47dbf35ccf', 'latitude': 37.41891360818369, 'longitude': -5.963217124751443, 'name': '200_CAMINO DE LOS TOROS', 'timestamp': '2020-11-25T09:13:09.863000Z'}, {'empty_slots': 15, 'extra': {'address': 'PLAZA CHAPINA - Aprox. Hotel Abba Triana', 'banking': True, 'bonus': False, 'last_update': 1606295379000, 'slots': 20, 'status': 'OPEN', 'uid': 77}, 'free_bikes': 5, 'id': '097cc15337fd976f56f3bb03a3d512a2', 'latitude': 37.389629475123165, 'longitude': -6.007581263540937, 'name': '077_PLAZA CHAPINA', 'timestamp': '2020-11-25T09:13:09.868000Z'}, {'empty_slots': 13, 'extra': {'address': 'CALLE NAVARRA - Aprox. C/ Cataluña', 'banking': True, 'bonus': False, 'last_update': 1606295229000, 'slots': 15, 'status': 'OPEN', 'uid': 249}, 'free_bikes': 1, 'id': 'e60ae04340097d67436a6830ddeacc25', 'latitude': 37.42475843174024, 'longitude': -5.984823673360926, 'name': '249_CALLE NAVARRA', 'timestamp': '2020-11-25T09:13:09.871000Z'}, {'empty_slots': 0, 'extra': {'address': 'PLAZA NUEVA - Aprox. C/ Tetuan', 'banking': True, 'bonus': False, 'last_update': 1606295054000, 'slots': 40, 'status': 'OPEN', 'uid': 87}, 'free_bikes': 40, 'id': 'ccde09c4d71b6ed843cb769dace15562', 'latitude': 37.38896647697466, 'longitude': -5.995294220038549, 'name': '087_PLAZA NUEVA', 'timestamp': '2020-11-25T09:13:09.872000Z'}, {'empty_slots': 4, 'extra': {'address': 'AVENIDA HYTASA - Aprox. C/ Romeral', 'banking': True, 'bonus': False, 'last_update': 1606294975000, 'slots': 20, 'status': 'OPEN', 'uid': 188}, 'free_bikes': 16, 'id': '5d3c3bdf3de17bd6c9021bd2adb56aff', 'latitude': 37.37256042361221, 'longitude': -5.963362098447178, 'name': '188_AVENIDA HYTASA', 'timestamp': '2020-11-25T09:13:09.873000Z'}, {'empty_slots': 20, 'extra': {'address': 'CALLE SAN VICENTE - Aprox. C/ Guadalquivir', 'banking': True, 'bonus': False, 'last_update': 1606295350000, 'slots': 20, 'status': 'OPEN', 'uid': 36}, 'free_bikes': 0, 'id': '8ebed57c4d613baa2560741b3ea77bcb', 'latitude': 37.40050052188098, 'longitude': -5.998403237581298, 'name': '036_CALLE SAN VICENTE', 'timestamp': '2020-11-25T09:13:09.875000Z'}, {'empty_slots': 21, 'extra': {'address': 'AVENIDA ALCALDE LUIS URUÑUELA - Aprox. Centro Comercial Zona Este', 'banking': True, 'bonus': False, 'last_update': 1606295399000, 'slots': 30, 'status': 'OPEN', 'uid': 220}, 'free_bikes': 9, 'id': '983ec17d7073029f1e26d95656b183d2', 'latitude': 37.40518956185269, 'longitude': -5.935780020616404, 'name': '220_AVENIDA ALCALDE LUIS URUÑUELA', 'timestamp': '2020-11-25T09:13:09.876000Z'}, {'empty_slots': 12, 'extra': {'address': 'CALLE MANUEL VILLALOBOS - Aprox. C/ Madre San Marcelo', 'banking': True, 'bonus': False, 'last_update': 1606295193000, 'slots': 20, 'status': 'OPEN', 'uid': 21}, 'free_bikes': 8, 'id': '756f7c4ae5b0e17b2865f0d0ce089fef', 'latitude': 37.405473547892335, 'longitude': -5.981527181236149, 'name': '021_CALLE MANUEL VILLALOBOS', 'timestamp': '2020-11-25T09:13:09.877000Z'}, {'empty_slots': 18, 'extra': {'address': 'AVENIDA KANSAS CITY - Aprox. C/ Naranjito de Triana', 'banking': True, 'bonus': False, 'last_update': 1606295475000, 'slots': 20, 'status': 'OPEN', 'uid': 154}, 'free_bikes': 2, 'id': '9d2941eef00d69a04deccbe32e41c3c1', 'latitude': 37.394836510246314, 'longitude': -5.96842612917054, 'name': '154_AVENIDA KANSAS CITY', 'timestamp': '2020-11-25T09:13:09.878000Z'}, {'empty_slots': 11, 'extra': {'address': 'CALLE LEÓN XIII - Aprox. C/ Fray Isidoro de Sevilla', 'banking': True, 'bonus': False, 'last_update': 1606295496000, 'slots': 15, 'status': 'OPEN', 'uid': 24}, 'free_bikes': 4, 'id': '6ba6417e6c3a0f0d816d5478fb436845', 'latitude': 37.404035541034794, 'longitude': -5.984592191160378, 'name': '024_CALLE LEÓN XIII', 'timestamp': '2020-11-25T09:13:09.879000Z'}, {'empty_slots': 8, 'extra': {'address': 'CALLE DE INCA GARCILASO - Aprox. C/ Juan Antonio de Vizarrón', 'banking': True, 'bonus': False, 'last_update': 1606295198000, 'slots': 40, 'status': 'OPEN', 'uid': 38}, 'free_bikes': 32, 'id': '946a668963fab9ebac3840c54bfbe9f6', 'latitude': 37.3920814836453, 'longitude': -6.011051277130786, 'name': '038_CALLE DE INCA GARCILASO', 'timestamp': '2020-11-25T09:13:09.881000Z'}, {'empty_slots': 7, 'extra': {'address': 'CALLE TESALÓNICA - Calle Mazzantini', 'banking': True, 'bonus': False, 'last_update': 1606295245000, 'slots': 20, 'status': 'OPEN', 'uid': 203}, 'free_bikes': 13, 'id': '456269502736201cda5f24e369342e6c', 'latitude': 37.396093518802566, 'longitude': -5.958764096016824, 'name': '203_CALLE TESALÓNICA', 'timestamp': '2020-11-25T09:13:09.882000Z'}, {'empty_slots': 16, 'extra': {'address': 'CALLE CORRAL DEL AGUA - Aprox. Camino de los toros', 'banking': True, 'bonus': False, 'last_update': 1606295431000, 'slots': 20, 'status': 'OPEN', 'uid': 195}, 'free_bikes': 4, 'id': 'f94eb8774dcc9f4931db0421fab6e92e', 'latitude': 37.42171561628419, 'longitude': -5.971648155914519, 'name': '195_CALLE CORRAL DEL AGUA', 'timestamp': '2020-11-25T09:13:09.883000Z'}, {'empty_slots': 16, 'extra': {'address': 'PLAZA DUQUESA DE ALBA - Puente de la Barqueta', 'banking': True, 'bonus': False, 'last_update': 1606295541000, 'slots': 30, 'status': 'OPEN', 'uid': 12}, 'free_bikes': 14, 'id': '9a7410d0490a197563c98bcbba1af954', 'latitude': 37.403869536605576, 'longitude': -5.994904227249628, 'name': '012_PLAZA DUQUESA DE ALBA', 'timestamp': '2020-11-25T09:13:09.884000Z'}, {'empty_slots': 9, 'extra': {'address': 'PLAZA NUEVA - Aprox. C/ Mendez Núñez', 'banking': True, 'bonus': False, 'last_update': 1606295069000, 'slots': 20, 'status': 'OPEN', 'uid': 241}, 'free_bikes': 11, 'id': 'b36177ed639c2c4cbc342628d091dfc0', 'latitude': 37.38881544328257, 'longitude': -5.995863788052556, 'name': '241_PLAZA NUEVA', 'timestamp': '2020-11-25T09:13:09.885000Z'}, {'empty_slots': 14, 'extra': {'address': 'PLAZA DE LA CONCORDIA - Aprox. C/ Teniente Borges', 'banking': True, 'bonus': False, 'last_update': 1606295548000, 'slots': 19, 'status': 'OPEN', 'uid': 60}, 'free_bikes': 5, 'id': '0171fbb5b139425c14808f5e6374df8d', 'latitude': 37.39395749631202, 'longitude': -5.996899228542791, 'name': '060_PLAZA DE LA CONCORDIA', 'timestamp': '2020-11-25T09:13:09.886000Z'}, {'empty_slots': 10, 'extra': {'address': 'AAVENIDA DE GRECIA - Aprox. Avda de Italia', 'banking': True, 'bonus': False, 'last_update': 1606295000000, 'slots': 15, 'status': 'OPEN', 'uid': 208}, 'free_bikes': 5, 'id': 'd68b216992b13099e06fde2254b96c1b', 'latitude': 37.35065632807553, 'longitude': -5.984190158922543, 'name': '208_AVENIDA DE GRECIA', 'timestamp': '2020-11-25T09:13:09.887000Z'}, {'empty_slots': 6, 'extra': {'address': 'AVENIDA RAMÓN Y CAJAL - Aprox. Avda de la Ciudad Jardín', 'banking': True, 'bonus': False, 'last_update': 1606295019000, 'slots': 18, 'status': 'OPEN', 'uid': 168}, 'free_bikes': 12, 'id': '1e991bc0900e880d5b996666706a0b78', 'latitude': 37.37505743166244, 'longitude': -5.967492114476132, 'name': '168_AVENIDA RAMÓN Y CAJAL', 'timestamp': '2020-11-25T09:13:09.888000Z'}, {'empty_slots': 2, 'extra': {'address': 'AVENIDA RAMÓN Y CAJAL - Aprox. C/ Villegas Marmolejo', 'banking': True, 'bonus': False, 'last_update': 1606295143000, 'slots': 20, 'status': 'OPEN', 'uid': 169}, 'free_bikes': 18, 'id': '547563a0ff2b631a312f4763b3ab9c72', 'latitude': 37.37650143552164, 'longitude': -5.972667133462907, 'name': '169_AVENIDA RAMÓN Y CAJAL', 'timestamp': '2020-11-25T09:13:09.889000Z'}, {'empty_slots': 12, 'extra': {'address': 'AVENIDA KANSAS CITY - Aprox. C/ Macedonia', 'banking': True, 'bonus': False, 'last_update': 1606295003000, 'slots': 15, 'status': 'OPEN', 'uid': 206}, 'free_bikes': 3, 'id': '77411497868304a7478edf5aa5eec4d3', 'latitude': 37.402963548427635, 'longitude': -5.958211097806437, 'name': '206_AVENIDA KANSAS CITY', 'timestamp': '2020-11-25T09:13:09.890000Z'}, {'empty_slots': 6, 'extra': {'address': 'CALLE ARROYO - Aprox. Avda. José Laguillo', 'banking': True, 'bonus': False, 'last_update': 1606295312000, 'slots': 20, 'status': 'OPEN', 'uid': 66}, 'free_bikes': 14, 'id': '69358e9c464ef43d83c3d4078681f458', 'latitude': 37.39362550048881, 'longitude': -5.981869175620968, 'name': '066_CALLE ARROYO', 'timestamp': '2020-11-25T09:13:09.891000Z'}, {'empty_slots': 10, 'extra': {'address': 'PLAZA DEL MUSEO - Aprox. C/ Alfonso XII', 'banking': True, 'bonus': False, 'last_update': 1606295096000, 'slots': 20, 'status': 'OPEN', 'uid': 61}, 'free_bikes': 10, 'id': 'f294da7a66e6a510aa8cf4695709ef87', 'latitude': 37.392813490850365, 'longitude': -5.999344236464369, 'name': '061_PLAZA DEL MUSEO', 'timestamp': '2020-11-25T09:13:09.892000Z'}, {'empty_slots': 4, 'extra': {'address': 'AVENIDA DE ALEMANIA - Aprox. Glorieta de Letonia', 'banking': True, 'bonus': False, 'last_update': 1606295359000, 'slots': 15, 'status': 'OPEN', 'uid': 211}, 'free_bikes': 11, 'id': 'a90e6fbfda3eb20387ac9445abc2a611', 'latitude': 37.34620231070945, 'longitude': -5.976200128537064, 'name': '211_AVENIDA DE ALEMANIA', 'timestamp': '2020-11-25T09:13:09.893000Z'}, {'empty_slots': 11, 'extra': {'address': 'PLAZA CALDERÓN DE LA BARCA - Aprox. C/ Amargura', 'banking': True, 'bonus': False, 'last_update': 1606295531000, 'slots': 15, 'status': 'OPEN', 'uid': 41}, 'free_bikes': 4, 'id': 'ff74e5f1bbd735562765660e6885868e', 'latitude': 37.39958252091155, 'longitude': -5.991029211181825, 'name': '041_PLAZA CALDERÓN DE LA BARCA', 'timestamp': '2020-11-25T09:13:09.894000Z'}, {'empty_slots': 7, 'extra': {'address': 'AVENIDA SAN FRANCISCO JAVIER - Aprox. Avda De Ramón y Cajal', 'banking': True, 'bonus': False, 'last_update': 1606295065000, 'slots': 15, 'status': 'OPEN', 'uid': 125}, 'free_bikes': 8, 'id': '64c1396501d6541a62b25af4ce4145ef', 'latitude': 37.377406438312754, 'longitude': -5.974900141818838, 'name': '125_AVENIDA SAN FRANCISCO JAVIER', 'timestamp': '2020-11-25T09:13:09.895000Z'}, {'empty_slots': 4, 'extra': {'address': 'CALLE REGINA - Aprox. Pza de la Encarnación', 'banking': True, 'bonus': False, 'last_update': 1606295236000, 'slots': 19, 'status': 'OPEN', 'uid': 58}, 'free_bikes': 15, 'id': '849936fa6e8e7d3906df4a8796b25a9d', 'latitude': 37.39436722277961, 'longitude': -5.991544993040244, 'name': '058_CALLE REGINA', 'timestamp': '2020-11-25T09:13:09.896000Z'}, {'empty_slots': 17, 'extra': {'address': 'CALLE THARSIS - Aprox. C/ Aorno', 'banking': True, 'bonus': False, 'last_update': 1606295029000, 'slots': 20, 'status': 'OPEN', 'uid': 148}, 'free_bikes': 3, 'id': '6aafb44a9406877f2b941c7b8a14c6ff', 'latitude': 37.39876767567268, 'longitude': -5.973182395926595, 'name': '148_CALLE THARSIS', 'timestamp': '2020-11-25T09:13:09.897000Z'}, {'empty_slots': 8, 'extra': {'address': 'PLAZA DE CUBA - Aprox. Puente de San Telmo', 'banking': True, 'bonus': False, 'last_update': 1606295051000, 'slots': 20, 'status': 'OPEN', 'uid': 118}, 'free_bikes': 12, 'id': 'ef3bb63705260a05c0e2e7f272dccee7', 'latitude': 37.379791416292186, 'longitude': -5.997107796424417, 'name': '118_PLAZA DE CUBA', 'timestamp': '2020-11-25T09:13:09.899000Z'}, {'empty_slots': 9, 'extra': {'address': 'CALLE ENRAMADILLA - Aprox. C/ Balbino Marrón', 'banking': True, 'bonus': False, 'last_update': 1606295016000, 'slots': 20, 'status': 'OPEN', 'uid': 122}, 'free_bikes': 11, 'id': 'a536ffeecd6c7d5e1e24f2baf6032e91', 'latitude': 37.37848444133301, 'longitude': -5.978389154681133, 'name': '122_CALLE ENRAMADILLA', 'timestamp': '2020-11-25T09:13:09.900000Z'}, {'empty_slots': 12, 'extra': {'address': 'AVENIDA DE ALVAR NUÑEZ - Aprox. C/ Collante', 'banking': True, 'bonus': False, 'last_update': 1606295309000, 'slots': 19, 'status': 'OPEN', 'uid': 192}, 'free_bikes': 7, 'id': '840692ac601e9e28c7146f90654b42dd', 'latitude': 37.37833442855656, 'longitude': -6.011556270990402, 'name': '192_AVENIDA DE ALVAR NUÑEZ', 'timestamp': '2020-11-25T09:13:09.901000Z'}, {'empty_slots': 27, 'extra': {'address': 'PRADO DE SAN SEBASTIAN - Estación de autobuses', 'banking': True, 'bonus': False, 'last_update': 1606295451000, 'slots': 40, 'status': 'OPEN', 'uid': 101}, 'free_bikes': 13, 'id': '58754384a4017d6c0bc2602c035b49ee', 'latitude': 37.38111568185353, 'longitude': -5.986949751279455, 'name': '101_PRADO DE SAN SEBASTIAN', 'timestamp': '2020-11-25T09:13:09.902000Z'}, {'empty_slots': 1, 'extra': {'address': 'CALLE LEONARDO DA VINCI - Aprox. C/ Albert Einstein', 'banking': True, 'bonus': False, 'last_update': 1606295403000, 'slots': 20, 'status': 'OPEN', 'uid': 67}, 'free_bikes': 19, 'id': '09e2542b38bd358819d81d82ca76219e', 'latitude': 37.404162533250535, 'longitude': -6.00730227091074, 'name': '067_CALLE LEONARDO DA VINCI', 'timestamp': '2020-11-25T09:13:09.903000Z'}, {'empty_slots': 4, 'extra': {'address': 'PUERTO DE LOS AZORES - Aprox. C/ Paulo Orosio', 'banking': True, 'bonus': False, 'last_update': 1606295544000, 'slots': 15, 'status': 'OPEN', 'uid': 246}, 'free_bikes': 11, 'id': '477f33e5e087d89ca781fd824b671e48', 'latitude': 37.376139062455664, 'longitude': -5.955017317014327, 'name': '246_PUERTO DE LOS AZORES', 'timestamp': '2020-11-25T09:13:09.904000Z'}, {'empty_slots': 4, 'extra': {'address': 'CALLE IFNI - Aprox. Avda de Holanda', 'banking': True, 'bonus': False, 'last_update': 1606295371000, 'slots': 20, 'status': 'OPEN', 'uid': 207}, 'free_bikes': 16, 'id': 'a87c0d2df23e92c9ed75d80ebddb0ef5', 'latitude': 37.35501634616241, 'longitude': -5.982370155065175, 'name': '207_CALLE IFNI', 'timestamp': '2020-11-25T09:13:09.905000Z'}, {'empty_slots': 10, 'extra': {'address': 'CALLE JUAN DE MATA CARRIAZO - Aprox. antigua estación San Bernardo', 'banking': True, 'bonus': False, 'last_update': 1606295337000, 'slots': 20, 'status': 'OPEN', 'uid': 102}, 'free_bikes': 10, 'id': 'dc9ddaf5e9dabe1be482ad85c93314df', 'latitude': 37.38273945636004, 'longitude': -5.983720175839885, 'name': '102_CALLE JUAN DE MATA CARRIAZO', 'timestamp': '2020-11-25T09:13:09.906000Z'}, {'empty_slots': 11, 'extra': {'address': 'RONDA TAMARGUILLO - Aprox. Avda de la Paz', 'banking': True, 'bonus': False, 'last_update': 1606295218000, 'slots': 20, 'status': 'OPEN', 'uid': 173}, 'free_bikes': 9, 'id': '01906d02d4023d00014e523006e45271', 'latitude': 37.370048411458974, 'longitude': -5.968064113583803, 'name': '173_RONDA TAMARGUILLO', 'timestamp': '2020-11-25T09:13:09.907000Z'}, {'empty_slots': 38, 'extra': {'address': 'AVENIDA SANCHEZ PIZJUAN - Facultad de Medicina', 'banking': True, 'bonus': False, 'last_update': 1606295385000, 'slots': 40, 'status': 'OPEN', 'uid': 14}, 'free_bikes': 2, 'id': '6a90d77049e71701e13a87e7b560f30a', 'latitude': 37.4064737057759, 'longitude': -5.989118739088445, 'name': '014_AVENIDA SANCHEZ PIZJUAN', 'timestamp': '2020-11-25T09:13:09.908000Z'}, {'empty_slots': 2, 'extra': {'address': 'CALLE ALFONSO LASO DE LA VEGA - Aprox. Parroco Antonio González', 'banking': True, 'bonus': False, 'last_update': 1606295510000, 'slots': 19, 'status': 'OPEN', 'uid': 171}, 'free_bikes': 16, 'id': '4b53741acba61e8b80fda2a69618621a', 'latitude': 37.36614639337372, 'longitude': -5.974870135199807, 'name': '171_CALLE ALFONSO LASO DE LA VEGA', 'timestamp': '2020-11-25T09:13:09.909000Z'}, {'empty_slots': 5, 'extra': {'address': 'AVENIDA DE LA PALMERA - Aprox. Avenida del Líbano', 'banking': True, 'bonus': False, 'last_update': 1606295273000, 'slots': 18, 'status': 'OPEN', 'uid': 59}, 'free_bikes': 13, 'id': 'eb06ed48e082d329cb80892b260bdd50', 'latitude': 37.37123840842449, 'longitude': -5.989210188461531, 'name': '059_AVENIDA DE LA PALMERA', 'timestamp': '2020-11-25T09:13:09.910000Z'}, {'empty_slots': 7, 'extra': {'address': 'AVENIDA ALCALDE LUIS URUÑUELA - Aprox. Pza de la Acogida', 'banking': True, 'bonus': False, 'last_update': 1606295560000, 'slots': 15, 'status': 'OPEN', 'uid': 232}, 'free_bikes': 6, 'id': 'b8536c2fb4a8c82500866f1206540a66', 'latitude': 37.40393955876748, 'longitude': -5.939739033438785, 'name': '232_AVENIDA ALCALDE LUIS URUÑUELA', 'timestamp': '2020-11-25T09:13:09.911000Z'}, {'empty_slots': 4, 'extra': {'address': 'GLORIETA BIZCO AMATE - Aprox. Avda Ramón y Cajal', 'banking': True, 'bonus': False, 'last_update': 1606295537000, 'slots': 20, 'status': 'OPEN', 'uid': 167}, 'free_bikes': 15, 'id': 'b04ff2ac173e752c5d5b6c33e49f0746', 'latitude': 37.37334966832237, 'longitude': -5.964933613203329, 'name': '167_GLORIETA BIZCO AMATE', 'timestamp': '2020-11-25T09:13:09.912000Z'}, {'empty_slots': 2, 'extra': {'address': 'CALLE LUIS MONTOTO - Aprox. C/ Benitos Mas y Prat', 'banking': True, 'bonus': False, 'last_update': 1606295484000, 'slots': 15, 'status': 'OPEN', 'uid': 81}, 'free_bikes': 13, 'id': '8328eac28aface1abc7ccfbf86c77885', 'latitude': 37.387156202671285, 'longitude': -5.971016767894659, 'name': '081_CALLE LUIS MONTOTO', 'timestamp': '2020-11-25T09:13:09.913000Z'}, {'empty_slots': 11, 'extra': {'address': 'CALLE MÉDICOS SIN FRONTERA - Aprox. Avda de las Ciencias', 'banking': True, 'bonus': False, 'last_update': 1606295081000, 'slots': 14, 'status': 'OPEN', 'uid': 234}, 'free_bikes': 3, 'id': 'e953c55aa98c475716ff24c5ee85c3f5', 'latitude': 37.3999401269442, 'longitude': -5.925163964339344, 'name': '234_CALLE MÉDICOS SIN FRONTERA', 'timestamp': '2020-11-25T09:13:09.915000Z'}, {'empty_slots': 27, 'extra': {'address': 'HOPITAL VALME.-Esquina Carretera Bellasvistas', 'banking': True, 'bonus': False, 'last_update': 1606295564000, 'slots': 30, 'status': 'OPEN', 'uid': 253}, 'free_bikes': 3, 'id': 'a54f8cbf5af4a61a4755797b695ae1a6', 'latitude': 37.320417860390016, 'longitude': -5.96902252657327, 'name': '253_HOSPITAL VALME', 'timestamp': '2020-11-25T09:13:09.916000Z'}, {'empty_slots': 12, 'extra': {'address': 'CALLE CUESTA DE ROSARIO - Pza de la Pescadería', 'banking': True, 'bonus': False, 'last_update': 1606295386000, 'slots': 15, 'status': 'OPEN', 'uid': 64}, 'free_bikes': 3, 'id': 'bafc7154426199edd406984d556679d8', 'latitude': 37.38985648205481, 'longitude': -5.991125205922743, 'name': '064_CALLE CUESTA DE ROSARIO', 'timestamp': '2020-11-25T09:13:09.945000Z'}, {'empty_slots': 1, 'extra': {'address': 'PLAZA DE LAS MERCEDARIAS - Aprox. C/ Ibarra', 'banking': True, 'bonus': False, 'last_update': 1606295380000, 'slots': 10, 'status': 'OPEN', 'uid': 79}, 'free_bikes': 9, 'id': 'b3e48b126d5df4ee044bac3351c36805', 'latitude': 37.388326477494125, 'longitude': -5.98690419023187, 'name': '079_PLAZA DE LAS MERCEDARIAS', 'timestamp': '2020-11-25T09:13:09.946000Z'}, {'empty_slots': 7, 'extra': {'address': 'CIUDAD DE CHIVA - Aprox. C/ ciudad de Alfajar', 'banking': True, 'bonus': False, 'last_update': 1606295141000, 'slots': 15, 'status': 'OPEN', 'uid': 235}, 'free_bikes': 8, 'id': 'b7c7b301a5d57a2cb911ff15199fb237', 'latitude': 37.411735810991, 'longitude': -5.929859071297002, 'name': '235_CIUDAD DE CHIVA', 'timestamp': '2020-11-25T09:13:09.947000Z'}, {'empty_slots': 4, 'extra': {'address': 'AVENIDA ALCALDE LUIS URUÑUELA - Aprox. C/ Carlinga', 'banking': True, 'bonus': False, 'last_update': 1606295084000, 'slots': 12, 'status': 'OPEN', 'uid': 227}, 'free_bikes': 8, 'id': 'b9d6309f1dd611cba758df6af57f37e8', 'latitude': 37.39075351415996, 'longitude': -5.91963595581283, 'name': '227_AVENIDA ALCALDE LUIS URUÑUELA', 'timestamp': '2020-11-25T09:13:09.948000Z'}, {'empty_slots': 17, 'extra': {'address': 'CALLE ROMA - Aprox. C/ Palos de la Frontera', 'banking': True, 'bonus': False, 'last_update': 1606295130000, 'slots': 20, 'status': 'OPEN', 'uid': 90}, 'free_bikes': 3, 'id': 'ff9f4eb5ad01ffd382f28ecadc64fda2', 'latitude': 37.381198446608074, 'longitude': -5.993528209364882, 'name': '090_CALLE ROMA', 'timestamp': '2020-11-25T09:13:09.949000Z'}, {'empty_slots': 14, 'extra': {'address': 'AVENIDA DE LAS CIENCIAS - Aprox. C/ de Ulises', 'banking': True, 'bonus': False, 'last_update': 1606295045000, 'slots': 15, 'status': 'OPEN', 'uid': 224}, 'free_bikes': 1, 'id': '82933b1f212457262a328c0e430be0ed', 'latitude': 37.397013539467245, 'longitude': -5.923756974136509, 'name': '224_AVENIDA DE LAS CIENCIAS', 'timestamp': '2020-11-25T09:13:09.958000Z'}, {'empty_slots': 4, 'extra': {'address': 'AVDA ESPERANZA DE TRIANA - Aprox. Avda Republica Argentina', 'banking': True, 'bonus': False, 'last_update': 1606295289000, 'slots': 14, 'status': 'OPEN', 'uid': 117}, 'free_bikes': 10, 'id': 'a5e81843454a3a571287e55f46ca605d', 'latitude': 37.377806429728786, 'longitude': -6.002613239293098, 'name': '117_AVDA ESPERANZA DE TRIANA', 'timestamp': '2020-11-25T09:13:09.959000Z'}, {'empty_slots': 2, 'extra': {'address': 'PASEO CRISTOBAL COLON - Aprox. Puente de Triana', 'banking': True, 'bonus': False, 'last_update': 1606295271000, 'slots': 20, 'status': 'OPEN', 'uid': 160}, 'free_bikes': 17, 'id': '315dcf9f0e51338553e0b06fdd61470a', 'latitude': 37.387178, 'longitude': -6.001376, 'name': '160_PASEO CRISTOBAL COLON', 'timestamp': '2020-11-25T09:13:09.960000Z'}, {'empty_slots': 5, 'extra': {'address': 'ESTADIO OLIMPICO', 'banking': True, 'bonus': False, 'last_update': 1606295422000, 'slots': 20, 'status': 'OPEN', 'uid': 123}, 'free_bikes': 15, 'id': '5df4d1f5185403ffd7a7a75b2adcf51f', 'latitude': 37.41585058006381, 'longitude': -6.005474271334001, 'name': '123_ESTADIO OLIMPICO', 'timestamp': '2020-11-25T09:13:09.961000Z'}, {'empty_slots': 5, 'extra': {'address': 'Esquina Calle Creus', 'banking': True, 'bonus': False, 'last_update': 1606230699000, 'slots': 17, 'status': 'OPEN', 'uid': 258}, 'free_bikes': 12, 'id': 'dba320ffa22f0be192f2bf10fae4c5d3', 'latitude': 37.38369648551305, 'longitude': -5.914819934855601, 'name': '258_ESTACA DE VARES', 'timestamp': '2020-11-25T09:13:09.962000Z'}, {'empty_slots': 4, 'extra': {'address': 'CALLE RAMON DE CARRANZA - Aprox. C/ Asunción', 'banking': True, 'bonus': False, 'last_update': 1606295555000, 'slots': 18, 'status': 'OPEN', 'uid': 142}, 'free_bikes': 14, 'id': '2ca07cd0c6253b3c5c178b01c4018205', 'latitude': 37.371651407131054, 'longitude': -5.997212216783402, 'name': '142_CALLE RAMON DE CARRANZA', 'timestamp': '2020-11-25T09:13:09.969000Z'}, {'empty_slots': 0, 'extra': {'address': 'AVENIDA LOS GAVILANES - Aprox. Avda Juan XXIII', 'banking': True, 'bonus': False, 'last_update': 1606295111000, 'slots': 15, 'status': 'OPEN', 'uid': 244}, 'free_bikes': 15, 'id': '08218e44c39489d6ec7ac58e2c6af01d', 'latitude': 37.3780400290467, 'longitude': -5.95178368562984, 'name': '244_AVENIDA LOS GAVILANES', 'timestamp': '2020-11-25T09:13:09.970000Z'}, {'empty_slots': 15, 'extra': {'address': 'AVENIDA HYTASA - Aprox. C/ Herramienta', 'banking': True, 'bonus': False, 'last_update': 1606295137000, 'slots': 15, 'status': 'OPEN', 'uid': 190}, 'free_bikes': 0, 'id': 'cdd3876257f626394fe69f108f798c84', 'latitude': 37.36873540997663, 'longitude': -5.957293074803896, 'name': '190_AVENIDA HYTASA', 'timestamp': '2020-11-25T09:13:09.971000Z'}, {'empty_slots': 16, 'extra': {'address': 'Esquina con C/Enramadilla', 'banking': True, 'bonus': False, 'last_update': 1606295351000, 'slots': 30, 'status': 'OPEN', 'uid': 247}, 'free_bikes': 14, 'id': '67830e53db231542a90c76eb89f18864', 'latitude': 37.37823143994186, 'longitude': -5.979362157954825, 'name': '247_AVDA. RAMON Y CAJAL', 'timestamp': '2020-11-25T09:13:09.972000Z'}, {'empty_slots': 13, 'extra': {'address': 'AVENIDA TORNEO - Aprox. C/ Luis Rey Romero', 'banking': True, 'bonus': False, 'last_update': 1606295218000, 'slots': 20, 'status': 'OPEN', 'uid': 51}, 'free_bikes': 7, 'id': 'dd5db9c1275bc618140470044d984aff', 'latitude': 37.395519500564795, 'longitude': -6.002321248467498, 'name': '051_AVENIDA TORNEO', 'timestamp': '2020-11-25T09:13:09.973000Z'}, {'empty_slots': 13, 'extra': {'address': 'Esquina con Alejandro Collantes', 'banking': True, 'bonus': False, 'last_update': 1606295174000, 'slots': 15, 'status': 'OPEN', 'uid': 251}, 'free_bikes': 2, 'id': '6db6a100d305400beab5f844a0e3838e', 'latitude': 37.384349424571234, 'longitude': -5.965378365247481, 'name': '251_AVDA. CRUZ CAMPO', 'timestamp': '2020-11-25T09:13:09.975000Z'}, {'empty_slots': 14, 'extra': {'address': 'CALLE FELIPE II - Aprox. C/ Ramón Carande', 'banking': True, 'bonus': False, 'last_update': 1606295324000, 'slots': 20, 'status': 'OPEN', 'uid': 141}, 'free_bikes': 6, 'id': 'c5a08727e6b72f89f2f06e12ba38cd39', 'latitude': 37.37173344957564, 'longitude': -5.981895354240737, 'name': '141_CALLE FELIPE II', 'timestamp': '2020-11-25T09:13:09.981000Z'}, {'empty_slots': 3, 'extra': {'address': 'RONDA CAPUCHINOS - Aprox. C/ Maestro Quiroga', 'banking': True, 'bonus': False, 'last_update': 1606295425000, 'slots': 15, 'status': 'OPEN', 'uid': 43}, 'free_bikes': 12, 'id': '95ef58a71f9d9e7919185bb96c8a3739', 'latitude': 37.399156087435365, 'longitude': -5.982736630025496, 'name': '043_RONDA CAPUCHINOS', 'timestamp': '2020-11-25T09:13:09.983000Z'}, {'empty_slots': 7, 'extra': {'address': 'CIUDAD DE CHIVA - Aprox. C/ Ildefonso Marañon', 'banking': True, 'bonus': False, 'last_update': 1606295259000, 'slots': 15, 'status': 'OPEN', 'uid': 237}, 'free_bikes': 8, 'id': '862b6b54e590b0c71fa847f5feaceaba', 'latitude': 37.409334585727706, 'longitude': -5.923254979770833, 'name': '237_CIUDAD DE CHIVA', 'timestamp': '2020-11-25T09:13:09.984000Z'}, {'empty_slots': 12, 'extra': {'address': 'Avda Alberto Jiménez Becerril - Antes Calle Maimonides', 'banking': True, 'bonus': False, 'last_update': 1606295413000, 'slots': 20, 'status': 'OPEN', 'uid': 11}, 'free_bikes': 8, 'id': '2fddb64fd72eb313d5facebc33466c7c', 'latitude': 37.4071428838914, 'longitude': -5.99259029973418, 'name': '011_ALBERTO JIMÉNEZ BECERRIL', 'timestamp': '2020-11-25T09:13:09.985000Z'}, {'empty_slots': 11, 'extra': {'address': 'PLAZA DEL ALTOZANO - Aprox. C/ San Jorge', 'banking': True, 'bonus': False, 'last_update': 1606295517000, 'slots': 14, 'status': 'OPEN', 'uid': 218}, 'free_bikes': 3, 'id': '1eb4f79a9a3eb21a2b8076440dccc134', 'latitude': 37.38512441847878, 'longitude': -6.003542147441712, 'name': '218_PLAZA DEL ALTOZANO', 'timestamp': '2020-11-25T09:13:09.986000Z'}, {'empty_slots': 5, 'extra': {'address': 'AVENIDA DE LLANES - Aprox C/ Escultor Francisco Buiza', 'banking': True, 'bonus': False, 'last_update': 1606295229000, 'slots': 17, 'status': 'OPEN', 'uid': 27}, 'free_bikes': 12, 'id': 'dd338d4292d010c98c6e668edd243bd3', 'latitude': 37.403877544974165, 'longitude': -5.972090147223454, 'name': '027_AVENIDA DE LLANES', 'timestamp': '2020-11-25T09:13:09.989000Z'}, {'empty_slots': 20, 'extra': {'address': 'GLORIETA OLIMPICA - Aprox. Concejal Alberto Jiménez-Becerril', 'banking': True, 'bonus': False, 'last_update': 1606295575000, 'slots': 20, 'status': 'OPEN', 'uid': 1}, 'free_bikes': 0, 'id': 'b79123ee7564b687880a7ad4c30e08f2', 'latitude': 37.4129235511391, 'longitude': -5.98890593824315, 'name': '001_GLORIETA OLIMPICA', 'timestamp': '2020-11-25T09:13:09.990000Z'}, {'empty_slots': 7, 'extra': {'address': 'CALLE ESTRELLA CANOPUS - Aprox. C/ estrella Betelgeuse', 'banking': True, 'bonus': False, 'last_update': 1606295231000, 'slots': 20, 'status': 'OPEN', 'uid': 196}, 'free_bikes': 13, 'id': '96fa0588dfc84e7046dc51d239f2b8f6', 'latitude': 37.42470162875488, 'longitude': -5.970101152202059, 'name': '196_CALLE ESTRELLA CANOPUS', 'timestamp': '2020-11-25T09:13:09.992000Z'}, {'empty_slots': 13, 'extra': {'address': 'CALLE DE LA A.D.A. - Aprox. C/ Jerusalén', 'banking': True, 'bonus': False, 'last_update': 1606295506000, 'slots': 15, 'status': 'OPEN', 'uid': 217}, 'free_bikes': 2, 'id': '7ba22d126888edcee6b348e2d2ede28a', 'latitude': 37.393874505420214, 'longitude': -5.962371106824864, 'name': '217_CALLE DE LA A.D.A.', 'timestamp': '2020-11-25T09:13:09.993000Z'}, {'empty_slots': 18, 'extra': {'address': 'PLAZA DE ARMAS - Avda Torneo (estación de autobuses)', 'banking': True, 'bonus': False, 'last_update': 1606295358000, 'slots': 39, 'status': 'OPEN', 'uid': 62}, 'free_bikes': 20, 'id': 'a49eed349f075e6a12365a67fc6cfe6a', 'latitude': 37.391061482462725, 'longitude': -6.003150248813141, 'name': '062_PLAZA DE ARMAS', 'timestamp': '2020-11-25T09:13:09.994000Z'}, {'empty_slots': 11, 'extra': {'address': 'AVENIDA REINA MERCEDES - Aprox. Escuela de arquitectura', 'banking': True, 'bonus': False, 'last_update': 1606295424000, 'slots': 27, 'status': 'OPEN', 'uid': 153}, 'free_bikes': 16, 'id': 'f16459622fda07f35cba910667deb808', 'latitude': 37.36297137649665, 'longitude': -5.986262173333679, 'name': '153_AVENIDA REINA MERCEDES', 'timestamp': '2020-11-25T09:13:09.995000Z'}, {'empty_slots': 12, 'extra': {'address': 'CALLE ANTIOQUIA - Aprox. Avda de Pedro Romero', 'banking': True, 'bonus': False, 'last_update': 1606295280000, 'slots': 15, 'status': 'OPEN', 'uid': 216}, 'free_bikes': 3, 'id': '8cb061bf81e9a48da35b367c2acc9ab2', 'latitude': 37.39993753083735, 'longitude': -5.95628508908707, 'name': '216_CALLE ANTIOQUIA', 'timestamp': '2020-11-25T09:13:10Z'}, {'empty_slots': 14, 'extra': {'address': '140 NUESTRA SEÑORA DE LAS MERCEDES', 'banking': True, 'bonus': False, 'last_update': 1606295534000, 'slots': 16, 'status': 'OPEN', 'uid': 140}, 'free_bikes': 2, 'id': 'ef5b6bde40566bc49a9c30583d87b44c', 'latitude': 37.3723704173039, 'longitude': -5.97736214754443, 'name': '140 NUESTRA SEÑORA DE LAS MERCEDES', 'timestamp': '2020-11-25T09:13:10.002000Z'}, {'empty_slots': 15, 'extra': {'address': 'CALLE CHURRUCA - Aprox. C/ Gonzáles Cuadrado', 'banking': True, 'bonus': False, 'last_update': 1606295094000, 'slots': 15, 'status': 'OPEN', 'uid': 48}, 'free_bikes': 0, 'id': '18252740fdf97b255a9501bea6b8d4a8', 'latitude': 37.39715651121527, 'longitude': -5.991066209916829, 'name': '048_CALLE CHURRUCA', 'timestamp': '2020-11-25T09:13:10.003000Z'}, {'empty_slots': 6, 'extra': {'address': 'GLORIETA DE LOS FERROVIARIOS - Aprox. C/ Navarra', 'banking': True, 'bonus': False, 'last_update': 1606295185000, 'slots': 15, 'status': 'OPEN', 'uid': 248}, 'free_bikes': 9, 'id': '8a041e9c8fae77b16463236632bdff75', 'latitude': 37.421903023693936, 'longitude': -5.983004288085699, 'name': '248_GLORIETA DE LOS FERROVIARIOS', 'timestamp': '2020-11-25T09:13:10.006000Z'}, {'empty_slots': 14, 'extra': {'address': 'CALLE LUIS MONTOTO - Aprox. C/ Alberto Duero', 'banking': True, 'bonus': False, 'last_update': 1606295357000, 'slots': 20, 'status': 'OPEN', 'uid': 80}, 'free_bikes': 6, 'id': 'ce1e6a65c0c1a5c06182de3fa36bc2e7', 'latitude': 37.3876274768589, 'longitude': -5.98102716921146, 'name': '080_CALLE LUIS MONTOTO', 'timestamp': '2020-11-25T09:13:10.009000Z'}, {'empty_slots': 6, 'extra': {'address': '261: AVDA/ JUAN PABLO II - – ESQUINA C/ ALFONSO DE ORLEANS Y BORBÓN.', 'banking': True, 'bonus': False, 'last_update': 1606295473000, 'slots': 15, 'status': 'OPEN', 'uid': 261}, 'free_bikes': 8, 'id': '0598825cbc105a9074a85cbbd73592f9', 'latitude': 37.36913889, 'longitude': -6.004388889, 'name': '261_AVDA JUAN PABLO II', 'timestamp': '2020-11-25T09:13:10.010000Z'}, {'empty_slots': 14, 'extra': {'address': 'CALLE DE MADRESELVA - Aprox. Ronda de Pio XII', 'banking': True, 'bonus': False, 'last_update': 1606295227000, 'slots': 20, 'status': 'OPEN', 'uid': 17}, 'free_bikes': 6, 'id': '2a043b8877c9d4615ec08bda389e00e2', 'latitude': 37.40715155556869, 'longitude': -5.978840172776446, 'name': '017_CALLE DE MADRESELVA', 'timestamp': '2020-11-25T09:13:10.011000Z'}, {'empty_slots': 3, 'extra': {'address': 'ALAMEDA DE HERCULES - Aprox. C/ Amor de Dios', 'banking': True, 'bonus': False, 'last_update': 1606295354000, 'slots': 20, 'status': 'OPEN', 'uid': 49}, 'free_bikes': 17, 'id': '5379f77a9275eabb474ccf5debb32d61', 'latitude': 37.39686550900737, 'longitude': -5.99392721978722, 'name': '049_ALAMEDA DE HERCULES', 'timestamp': '2020-11-25T09:13:10.012000Z'}, {'empty_slots': 17, 'extra': {'address': 'CALLE PROCURADOR - Clara de Jesús Monteto', 'banking': True, 'bonus': False, 'last_update': 1606295492000, 'slots': 20, 'status': 'OPEN', 'uid': 91}, 'free_bikes': 3, 'id': '26d83f2d38d6fb87b0e71e0c66691718', 'latitude': 37.38690746421921, 'longitude': -6.007674262301094, 'name': '091_CALLE PROCURADOR', 'timestamp': '2020-11-25T09:13:10.013000Z'}, {'empty_slots': 5, 'extra': {'address': 'Ciudad de Ronda - Aprox. Avda Carlos V', 'banking': True, 'bonus': False, 'last_update': 1606295386000, 'slots': 20, 'status': 'OPEN', 'uid': 110}, 'free_bikes': 15, 'id': 'fbba1a45c5945d0899eb2e7c09ff7b6f', 'latitude': 37.37972144428237, 'longitude': -5.983801174387398, 'name': '110_CIUDAD DE RONDA', 'timestamp': '2020-11-25T09:13:10.018000Z'}, {'empty_slots': 4, 'extra': {'address': 'AVENIDA ALCALDE MANUEL DEL VALLE - Aprox. C/ San Juan de la Salle', 'banking': True, 'bonus': False, 'last_update': 1606295378000, 'slots': 20, 'status': 'OPEN', 'uid': 184}, 'free_bikes': 15, 'id': '5c455dcdc2d3d01028e5a86c0bdd05de', 'latitude': 37.408524564095075, 'longitude': -5.97049314429485, 'name': '184_AVENIDA ALCALDE MANUEL DEL VALLE', 'timestamp': '2020-11-25T09:13:10.019000Z'}, {'empty_slots': 3, 'extra': {'address': 'AVENIDA SANTA FE - Aprox. C/ Virgen de la Oliva', 'banking': True, 'bonus': False, 'last_update': 1606295222000, 'slots': 20, 'status': 'OPEN', 'uid': 133}, 'free_bikes': 17, 'id': '95c0913e439fa4ef00d0721fc8634d28', 'latitude': 37.37403941410158, 'longitude': -6.004198242683363, 'name': '133_AVENIDA SANTA FE', 'timestamp': '2020-11-25T09:13:10.020000Z'}, {'empty_slots': 20, 'extra': {'address': 'CALLE LOPEZ DE GOMARA - En frente Instituto Adolfo Becker', 'banking': True, 'bonus': False, 'last_update': 1606295039000, 'slots': 20, 'status': 'OPEN', 'uid': 115}, 'free_bikes': 0, 'id': '7b87141896dda6407467021e050c9452', 'latitude': 37.377892428375446, 'longitude': -6.007237255573729, 'name': '115_CALLE LOPEZ DE GOMARA', 'timestamp': '2020-11-25T09:13:10.022000Z'}, {'empty_slots': 18, 'extra': {'address': 'GLORIETA CARLOS CANO - Aprox. C/ Blas Infante', 'banking': True, 'bonus': False, 'last_update': 1606295496000, 'slots': 20, 'status': 'OPEN', 'uid': 191}, 'free_bikes': 2, 'id': '085abb1aa2fe5d98f80ee0b76d090d2c', 'latitude': 37.37411641267212, 'longitude': -6.008853259077473, 'name': '191_GLORIETA CARLOS CANO', 'timestamp': '2020-11-25T09:13:10.023000Z'}, {'empty_slots': 4, 'extra': {'address': 'CALLE DOCTOR LAFFON - Aprox. C/ Efeso', 'banking': True, 'bonus': False, 'last_update': 1606295157000, 'slots': 20, 'status': 'OPEN', 'uid': 187}, 'free_bikes': 16, 'id': '98731ad8e1f82cf931bf6c3208c49547', 'latitude': 37.39540051410288, 'longitude': -5.964043114126317, 'name': '187_CALLE DOCTOR LAFFON', 'timestamp': '2020-11-25T09:13:10.024000Z'}, {'empty_slots': 1, 'extra': {'address': 'AVENIDA DE ANDALUCIA - Aprox. Centro Comercial Los Arcos', 'banking': True, 'bonus': False, 'last_update': 1606295318000, 'slots': 20, 'status': 'OPEN', 'uid': 165}, 'free_bikes': 15, 'id': 'eaac713b44bd6e70d24d2ff79e39aa49', 'latitude': 37.38764548429808, 'longitude': -5.96095309881845, 'name': '165_AVENIDA DE ANDALUCIA', 'timestamp': '2020-11-25T09:13:10.025000Z'}, {'empty_slots': 6, 'extra': {'address': 'AVENIDA KANSAS CITY - Aprox. Pza el Tato', 'banking': True, 'bonus': False, 'last_update': 1606295514000, 'slots': 20, 'status': 'OPEN', 'uid': 205}, 'free_bikes': 14, 'id': 'ee59291a1ff7037e581950192048e03b', 'latitude': 37.39981714629299, 'longitude': -5.961922341869038, 'name': '205_AVENIDA KANSAS CITY', 'timestamp': '2020-11-25T09:13:10.026000Z'}, {'empty_slots': 4, 'extra': {'address': 'CALLE ARROYO - Aprox. C/ Tena', 'banking': True, 'bonus': False, 'last_update': 1606295255000, 'slots': 20, 'status': 'OPEN', 'uid': 149}, 'free_bikes': 16, 'id': 'cf19a777ff51a94366d6481d555c906a', 'latitude': 37.397829929383, 'longitude': -5.97567172039552, 'name': '149_CALLE ARROYO', 'timestamp': '2020-11-25T09:13:10.028000Z'}, {'empty_slots': 24, 'extra': {'address': 'Esquina Calle Aguila Perdicera', 'banking': False, 'bonus': False, 'last_update': 1606295416000, 'slots': 30, 'status': 'OPEN', 'uid': 259}, 'free_bikes': 6, 'id': '62e4f47ad7f6d51bdae6c630451a0bbd', 'latitude': 37.36731840562508, 'longitude': -5.954117063090828, 'name': '259_OCHO DE MARZO', 'timestamp': '2020-11-25T09:13:10.033000Z'}, {'empty_slots': 2, 'extra': {'address': 'CALLE DE SALVADOR ALLENDE - Aprox. C/ de Marruecos', 'banking': True, 'bonus': False, 'last_update': 1606295467000, 'slots': 15, 'status': 'OPEN', 'uid': 250}, 'free_bikes': 12, 'id': '890f0d479456b1106f47492dfe3c8a50', 'latitude': 37.421879, 'longitude': -5.985663, 'name': '250_CALLE DE SALVADOR ALLENDE', 'timestamp': '2020-11-25T09:13:10.034000Z'}, {'empty_slots': 13, 'extra': {'address': 'AVENIDA EDUARDO DATO - Aprox. C/ Oscar Carvallo', 'banking': True, 'bonus': False, 'last_update': 1606295197000, 'slots': 15, 'status': 'OPEN', 'uid': 106}, 'free_bikes': 2, 'id': '71bb391aa938e3ec1c0032b03972cac0', 'latitude': 37.383797462883464, 'longitude': -5.977454154468565, 'name': '106_AVENIDA EDUARDO DATO', 'timestamp': '2020-11-25T09:13:10.035000Z'}, {'empty_slots': 14, 'extra': {'address': 'AVENIDA DE LLANES - Aprox. Avda de Miraflores', 'banking': True, 'bonus': False, 'last_update': 1606295081000, 'slots': 20, 'status': 'OPEN', 'uid': 22}, 'free_bikes': 6, 'id': '432e8cf76c504f3ed65602efb811a086', 'latitude': 37.40512954896668, 'longitude': -5.974831157557763, 'name': '022_AVENIDA DE LLANES', 'timestamp': '2020-11-25T09:13:10.037000Z'}, {'empty_slots': 5, 'extra': {'address': 'AVENIDA ALCALDE LUIS URUÑUELA - Aprox. Palacio de los Congresos', 'banking': True, 'bonus': False, 'last_update': 1606295093000, 'slots': 16, 'status': 'OPEN', 'uid': 222}, 'free_bikes': 11, 'id': '2937fca5b297b68d760ce79b3ce4a1ae', 'latitude': 37.40508356497133, 'longitude': -5.933616012901859, 'name': '222_AVENIDA ALCALDE LUIS URUÑUELA', 'timestamp': '2020-11-25T09:13:10.038000Z'}, {'empty_slots': 9, 'extra': {'address': 'AVENIDA ALCALDE JUAN FERNÁNDEZ - Aprox. C/ Profesor Buenaventura Pinillos', 'banking': True, 'bonus': False, 'last_update': 1606294974000, 'slots': 17, 'status': 'OPEN', 'uid': 177}, 'free_bikes': 8, 'id': 'f9271234eda77273d71d8562cbde7292', 'latitude': 37.373068423133994, 'longitude': -5.9690941189446, 'name': '177_AVENIDA ALCALDE JUAN FERNÁNDEZ', 'timestamp': '2020-11-25T09:13:10.039000Z'}, {'empty_slots': 15, 'extra': {'address': \"CALLE AMERICO VESPUCIO - Aprox. C/ Hermanos d'Eluyar\", 'banking': True, 'bonus': False, 'last_update': 1606295177000, 'slots': 20, 'status': 'OPEN', 'uid': 88}, 'free_bikes': 5, 'id': 'ee35a4236fb1ef3556f719652209adc0', 'latitude': 37.40934127713802, 'longitude': -6.006338859390215, 'name': '088_CALLE AMERICO VESPUCIO', 'timestamp': '2020-11-25T09:13:10.040000Z'}, {'empty_slots': 1, 'extra': {'address': 'PASEO DE CRISTÓBAL COLÓN - Aprox. Torre del Oro', 'banking': True, 'bonus': False, 'last_update': 1606295475000, 'slots': 20, 'status': 'OPEN', 'uid': 97}, 'free_bikes': 19, 'id': '9f79aecc816b94595437754c6cbbc756', 'latitude': 37.381535447210965, 'longitude': -5.995552216661944, 'name': '097_PASEO DE CRISTÓBAL COLÓN', 'timestamp': '2020-11-25T09:13:10.041000Z'}, {'empty_slots': 0, 'extra': {'address': 'CALLE AMÉRICO VESPUCIO - Aprox. Calle de Jacques Cousteau', 'banking': True, 'bonus': False, 'last_update': 1606294984000, 'slots': 20, 'status': 'OPEN', 'uid': 7}, 'free_bikes': 20, 'id': '931ab6d919e93177acacb64ef761f501', 'latitude': 37.4074694906696, 'longitude': -6.007603350403363, 'name': '007_CALLE AMÉRICO VESPUCIO', 'timestamp': '2020-11-25T09:13:10.043000Z'}, {'empty_slots': 1, 'extra': {'address': 'CARRETERA DE CARMONA - Aprox. C/ de Francisco de Ariño', 'banking': True, 'bonus': False, 'last_update': 1606295539000, 'slots': 15, 'status': 'OPEN', 'uid': 45}, 'free_bikes': 14, 'id': 'bcf20e003a094b26efa9e0f4fe2b477f', 'latitude': 37.39992052707672, 'longitude': -5.97781616502751, 'name': '045_CARRETERA DE CARMONA', 'timestamp': '2020-11-25T09:13:10.044000Z'}, {'empty_slots': 18, 'extra': {'address': 'Esquina corazon de MAria', 'banking': False, 'bonus': False, 'last_update': 1606295563000, 'slots': 20, 'status': 'OPEN', 'uid': 257}, 'free_bikes': 2, 'id': 'fe36e281084fb3638a6d850d25c94816', 'latitude': 37.38376948792722, 'longitude': -5.908921914235877, 'name': '257_TORRES ALBARRACIN', 'timestamp': '2020-11-25T09:13:10.045000Z'}, {'empty_slots': 26, 'extra': {'address': 'CAMINO DE LOS DESCUBRIMIENTOS - Aprox. Pasarela de la Cartuja', 'banking': True, 'bonus': False, 'last_update': 1606295167000, 'slots': 40, 'status': 'OPEN', 'uid': 86}, 'free_bikes': 13, 'id': 'f4b6eb33429a5bd5e407f2caf7ac35f3', 'latitude': 37.39707250530929, 'longitude': -6.006304263337968, 'name': '086_CAMINO DE LOS DESCUBRIMIENTOS', 'timestamp': '2020-11-25T09:13:10.057000Z'}, {'empty_slots': 11, 'extra': {'address': 'CAMINO DE LOS DESCUBRIMIENTOS - Aprox. C/ Thomás Alba Edison', 'banking': True, 'bonus': False, 'last_update': 1606295286000, 'slots': 40, 'status': 'OPEN', 'uid': 5}, 'free_bikes': 28, 'id': 'ef5710d59b936679d39a970a5d6e9886', 'latitude': 37.41104356266495, 'longitude': -6.001959256107801, 'name': '005_CAMINO DE LOS DESCUBRIMIENTOS', 'timestamp': '2020-11-25T09:13:10.058000Z'}, {'empty_slots': 15, 'extra': {'address': 'CALLE LUIS MONTOTO - Aprox. C/ El Greco', 'banking': True, 'bonus': False, 'last_update': 1606295166000, 'slots': 19, 'status': 'OPEN', 'uid': 164}, 'free_bikes': 4, 'id': '08440763cca759bf186439e8e5b28585', 'latitude': 37.387649350924015, 'longitude': -5.965655252045698, 'name': '164_CALLE LUIS MONTOTO', 'timestamp': '2020-11-25T09:13:10.059000Z'}, {'empty_slots': 28, 'extra': {'address': 'CALLE LEONARDO DA VINCI - Aprox C/ Thomas Alba Edison', 'banking': True, 'bonus': False, 'last_update': 1606295283000, 'slots': 40, 'status': 'OPEN', 'uid': 4}, 'free_bikes': 12, 'id': 'ac50eb8f4bfcd746e605ad9007612bc9', 'latitude': 37.41011155757378, 'longitude': -6.005722268777397, 'name': '004_CALLE LEONARDO DA VINCI', 'timestamp': '2020-11-25T09:13:10.060000Z'}, {'empty_slots': 6, 'extra': {'address': 'CALLE ASUNCIÓN - Aprox. C/ Virgen de la Antigua', 'banking': True, 'bonus': False, 'last_update': 1606295091000, 'slots': 20, 'status': 'OPEN', 'uid': 136}, 'free_bikes': 14, 'id': '9a766338f7b17b94d9b0a19fa7587254', 'latitude': 37.37311941284756, 'longitude': -5.997610219028108, 'name': '136_CALLE ASUNCIÓN', 'timestamp': '2020-11-25T09:13:10.063000Z'}, {'empty_slots': 15, 'extra': {'address': 'AVENIDA DE LA CIUDAD JARDÍN - Aprox. C/ Profesor Braña', 'banking': True, 'bonus': False, 'last_update': 1606295502000, 'slots': 20, 'status': 'OPEN', 'uid': 176}, 'free_bikes': 5, 'id': '8d63f2ee842a4fe98c470963217e1150', 'latitude': 37.3775594419921, 'longitude': -5.966557112643772, 'name': '176_AVENIDA DE LA CIUDAD JARDÍN', 'timestamp': '2020-11-25T09:13:10.064000Z'}, {'empty_slots': 11, 'extra': {'address': 'AVENIDA LA BUHAIRA - Aprox. Avda Luis Montoto', 'banking': True, 'bonus': False, 'last_update': 1606295175000, 'slots': 20, 'status': 'OPEN', 'uid': 83}, 'free_bikes': 9, 'id': '505380d39b1e44edc3d641806806a215', 'latitude': 37.386955475268515, 'longitude': -5.978051158384551, 'name': '083_AVENIDA LA BUHAIRA', 'timestamp': '2020-11-25T09:13:10.065000Z'}, {'empty_slots': 13, 'extra': {'address': 'CALLE DR MARAÑON - Aprox. C/ San Juan de Ribera', 'banking': True, 'bonus': False, 'last_update': 1606295209000, 'slots': 15, 'status': 'OPEN', 'uid': 15}, 'free_bikes': 2, 'id': '5fe0dcfb2111edba02eedcac01869b93', 'latitude': 37.40604157176221, 'longitude': -5.985733700014785, 'name': '015_CALLE DR MARAÑON', 'timestamp': '2020-11-25T09:13:10.068000Z'}, {'empty_slots': 11, 'extra': {'address': 'AVENIDA EDUARDO DATO - Aprox. C/ Fuenteovejuna', 'banking': True, 'bonus': False, 'last_update': 1606295083000, 'slots': 20, 'status': 'OPEN', 'uid': 104}, 'free_bikes': 9, 'id': '0a9975e90f8699b44e341f4fdd0aa08e', 'latitude': 37.38413592692444, 'longitude': -5.979676676296534, 'name': '104_AVENIDA EDUARDO DATO', 'timestamp': '2020-11-25T09:13:10.069000Z'}, {'empty_slots': 14, 'extra': {'address': 'AVENIDA DE CORIA - Aprox. C/ Coruña', 'banking': True, 'bonus': False, 'last_update': 1606295095000, 'slots': 20, 'status': 'OPEN', 'uid': 193}, 'free_bikes': 6, 'id': '552a6e6b59ea5ab2f95fba8ddea155ab', 'latitude': 37.38111143948424, 'longitude': -6.012005274166835, 'name': '193_AVENIDA DE CORIA', 'timestamp': '2020-11-25T09:13:10.070000Z'}, {'empty_slots': 1, 'extra': {'address': 'AVENIDA REINIDO UNIDO - Aprox. Avda de Italia', 'banking': True, 'bonus': False, 'last_update': 1606295449000, 'slots': 15, 'status': 'OPEN', 'uid': 212}, 'free_bikes': 14, 'id': 'c87b1bfe39dc70bc0c2a027f7a2c252f', 'latitude': 37.351582337691354, 'longitude': -5.977784137525409, 'name': '212_AVENIDA REINIDO UNIDO', 'timestamp': '2020-11-25T09:13:10.071000Z'}, {'empty_slots': 0, 'extra': {'address': 'RONDA DEL TAMARGUILLO - Aprox. Centro Comercial Los Arcos', 'banking': True, 'bonus': False, 'last_update': 1606295367000, 'slots': 13, 'status': 'OPEN', 'uid': 166}, 'free_bikes': 13, 'id': '5a237fa5a976c009d2f4a6ad6777087a', 'latitude': 37.38859048869724, 'longitude': -5.959240093357595, 'name': '166_RONDA DEL TAMARGUILLO', 'timestamp': '2020-11-25T09:13:10.072000Z'}, {'empty_slots': 17, 'extra': {'address': 'AVENIDA EDUARDO DATO - Aprox. C/ Marqués del Nervión', 'banking': True, 'bonus': False, 'last_update': 1606295085000, 'slots': 20, 'status': 'OPEN', 'uid': 18}, 'free_bikes': 2, 'id': '0c649c3214aa89c67c66d3aa9d23c25b', 'latitude': 37.38207545943934, 'longitude': -5.968121120738779, 'name': '018_AVENIDA EDUARDO DATO', 'timestamp': '2020-11-25T09:13:10.074000Z'}, {'empty_slots': 9, 'extra': {'address': 'CAMINO DE LOS DESCUBRIMIENTOS - Aprox. Calle Isaac Newton', 'banking': True, 'bonus': False, 'last_update': 1606295391000, 'slots': 20, 'status': 'OPEN', 'uid': 6}, 'free_bikes': 11, 'id': '798054946291ae378fcfebecdf9671ca', 'latitude': 37.40661378981103, 'longitude': -6.002977947581603, 'name': '006_CAMINO DE LOS DESCUBRIMIENTOS', 'timestamp': '2020-11-25T09:13:10.075000Z'}, {'empty_slots': 29, 'extra': {'address': 'CALLE AMÉRICO VESPUCIO - Aprox. Gerencia de Urbanismo de Sevilla', 'banking': True, 'bonus': False, 'last_update': 1606295303000, 'slots': 40, 'status': 'OPEN', 'uid': 99}, 'free_bikes': 11, 'id': 'b0bf02bee5da7f05df7d55c5eb2b28a0', 'latitude': 37.397394505010546, 'longitude': -6.010641278744458, 'name': '099_CALLE AMÉRICO VESPUCIO', 'timestamp': '2020-11-25T09:13:10.076000Z'}, {'empty_slots': 12, 'extra': {'address': 'CALLE FERIA - Aprox. C/ Resolana', 'banking': True, 'bonus': False, 'last_update': 1606295400000, 'slots': 15, 'status': 'OPEN', 'uid': 13}, 'free_bikes': 3, 'id': '34204498532c8e2fd2f0eb9442cac2e1', 'latitude': 37.40313353475898, 'longitude': -5.991918216341031, 'name': '013_CALLE FERIA', 'timestamp': '2020-11-25T09:13:10.077000Z'}, {'empty_slots': 4, 'extra': {'address': 'CALLE JOSE LAGUILLO - Aprox. Pablo Iglesias', 'banking': True, 'bonus': False, 'last_update': 1606295496000, 'slots': 20, 'status': 'OPEN', 'uid': 69}, 'free_bikes': 16, 'id': 'f2444bd78d3b1201898c56d99c3cfea0', 'latitude': 37.39201049535389, 'longitude': -5.978293162147303, 'name': '069_CALLE JOSE LAGUILLO', 'timestamp': '2020-11-25T09:13:10.079000Z'}, {'empty_slots': 16, 'extra': {'address': 'PLAZA ANTONIO APARICIO HERRERO - Aprox. C/ San Juan de Dios', 'banking': True, 'bonus': False, 'last_update': 1606295282000, 'slots': 18, 'status': 'OPEN', 'uid': 170}, 'free_bikes': 1, 'id': '77ab4c98434beb5ec412b5cfc4719f0d', 'latitude': 37.37896644673701, 'longitude': -5.968923121755333, 'name': '170_PLAZA ANTONIO APARICIO HERRERO', 'timestamp': '2020-11-25T09:13:10.080000Z'}, {'empty_slots': 14, 'extra': {'address': 'CALLE MAR DE ALBORÁN - Aprox. C/ Camino de los Toros', 'banking': True, 'bonus': False, 'last_update': 1606295138000, 'slots': 20, 'status': 'OPEN', 'uid': 198}, 'free_bikes': 6, 'id': 'f69aeeb5e86df532f2a79e416e09b8aa', 'latitude': 37.42044661256891, 'longitude': -5.967956142243533, 'name': '198_CALLE MAR DE ALBORÁN', 'timestamp': '2020-11-25T09:13:10.081000Z'}, {'empty_slots': 2, 'extra': {'address': 'CALLE DE LA A.D.A. - Aprox. C/ de Tesalónica', 'banking': True, 'bonus': False, 'last_update': 1606295127000, 'slots': 15, 'status': 'OPEN', 'uid': 219}, 'free_bikes': 13, 'id': '8c3c11bb2d90682eb72e26c31550d275', 'latitude': 37.3905365010144, 'longitude': -5.959072093702479, 'name': '219_CALLE DE LA A.D.A.', 'timestamp': '2020-11-25T09:13:10.096000Z'}, {'empty_slots': 7, 'extra': {'address': 'AVENIDA DE LA BORBOLLA - Aprox. C/ Porvenir', 'banking': True, 'bonus': False, 'last_update': 1606295542000, 'slots': 20, 'status': 'OPEN', 'uid': 137}, 'free_bikes': 13, 'id': '9092b5e4a0e5f14ee17f55675d05e7c7', 'latitude': 37.37375841984501, 'longitude': -5.985517176959137, 'name': '137_AVENIDA DE LA BORBOLLA', 'timestamp': '2020-11-25T09:13:10.098000Z'}, {'empty_slots': 11, 'extra': {'address': 'CALLE JUAN ANTONIO CABESTANY - Aprox. Calle Júpiter', 'banking': True, 'bonus': False, 'last_update': 1606295534000, 'slots': 15, 'status': 'OPEN', 'uid': 68}, 'free_bikes': 4, 'id': '583151d9ad0df980b5f5bc502a8ecc6b', 'latitude': 37.39029248788509, 'longitude': -5.979964167018684, 'name': '068_CALLE JUAN ANTONIO CABESTANY', 'timestamp': '2020-11-25T09:13:10.113000Z'}, {'empty_slots': 16, 'extra': {'address': 'ALHAMBRA.- Esquina Carretera Bellasvistas', 'banking': False, 'bonus': False, 'last_update': 1606295535000, 'slots': 30, 'status': 'OPEN', 'uid': 254}, 'free_bikes': 14, 'id': '17cacad2b9dd0c78a38de5ec4a26614d', 'latitude': 37.32942977136568, 'longitude': -5.968971229675001, 'name': '254_ALHAMBRA', 'timestamp': '2020-11-25T09:13:10.114000Z'}, {'empty_slots': 3, 'extra': {'address': 'CALLE RAMÓN CARANDE - Aprox. C/ San Salvador', 'banking': True, 'bonus': False, 'last_update': 1606295132000, 'slots': 20, 'status': 'OPEN', 'uid': 138}, 'free_bikes': 16, 'id': 'bb8014f31eeecb1f7db280a589110808', 'latitude': 37.374370424709774, 'longitude': -5.978934154215835, 'name': '138_CALLE RAMÓN CARANDE', 'timestamp': '2020-11-25T09:13:10.117000Z'}, {'empty_slots': 1, 'extra': {'address': 'AVENIDA ALCALDE LUIS URUÑUELA - Aprox. Cueva de la Pileta', 'banking': True, 'bonus': False, 'last_update': 1606295001000, 'slots': 15, 'status': 'OPEN', 'uid': 240}, 'free_bikes': 14, 'id': 'a8599395a3f1267694a7790aa2ae0100', 'latitude': 37.402579544488994, 'longitude': -5.940435585086025, 'name': '240_AVENIDA ALCALDE LUIS URUÑUELA', 'timestamp': '2020-11-25T09:13:10.133000Z'}, {'empty_slots': 4, 'extra': {'address': 'Aproximado Parque Amate', 'banking': False, 'bonus': False, 'last_update': 1606295480000, 'slots': 18, 'status': 'OPEN', 'uid': 260}, 'free_bikes': 14, 'id': '4f45fbc60df428f2cde3a16948fb1ef0', 'latitude': 37.377023215492, 'longitude': -5.9470354861559, 'name': '260_REVOLTOSA', 'timestamp': '2020-11-25T09:13:10.134000Z'}, {'empty_slots': 3, 'extra': {'address': 'RONDA CAPUCHINOS - Aprox. C/ Corinto', 'banking': True, 'bonus': False, 'last_update': 1606295349000, 'slots': 15, 'status': 'OPEN', 'uid': 44}, 'free_bikes': 10, 'id': '8498da52f48bca9c52c6d7c53b86f55c', 'latitude': 37.39833897229492, 'longitude': -5.981640026763738, 'name': '044_RONDA CAPUCHINOS', 'timestamp': '2020-11-25T09:13:10.135000Z'}, {'empty_slots': 1, 'extra': {'address': 'CALLE JOSÉ MARÍA MORENO GALVÁN - Aprox. C/ Juan Antonio Cabestany', 'banking': True, 'bonus': False, 'last_update': 1606295046000, 'slots': 20, 'status': 'OPEN', 'uid': 84}, 'free_bikes': 19, 'id': '689a62a151988c7551483039e854b6f8', 'latitude': 37.387350475004816, 'longitude': -5.983068176211725, 'name': '084_CALLE JOSÉ MARÍA MORENO GALVÁN', 'timestamp': '2020-11-25T09:13:10.136000Z'}, {'empty_slots': 8, 'extra': {'address': 'Aprox. Avda Los Gavilanes', 'banking': True, 'bonus': False, 'last_update': 1606295562000, 'slots': 15, 'status': 'OPEN', 'uid': 245}, 'free_bikes': 7, 'id': '5d5d2cf01ee56c70dd069fb2f2a926c6', 'latitude': 37.37539881124939, 'longitude': -5.952549466245021, 'name': '245_CALLE LAS LEANDRAS', 'timestamp': '2020-11-25T09:13:10.137000Z'}, {'empty_slots': 3, 'extra': {'address': 'PLAZA PILATOS - Aprox. C/ San Esteban', 'banking': True, 'bonus': False, 'last_update': 1606295010000, 'slots': 15, 'status': 'OPEN', 'uid': 74}, 'free_bikes': 12, 'id': '497ae8ba9059791f6173baa4f3931124', 'latitude': 37.38977148326459, 'longitude': -5.986897191039803, 'name': '074_PLAZA PILATOS', 'timestamp': '2020-11-25T09:13:10.148000Z'}, {'empty_slots': 13, 'extra': {'address': 'CALLE SAN JUAN BOSCO - Aprox. C/ Arroyo', 'banking': True, 'bonus': False, 'last_update': 1606295125000, 'slots': 20, 'status': 'OPEN', 'uid': 150}, 'free_bikes': 7, 'id': '252bbad8d154dc006df67b54a11d76d9', 'latitude': 37.39674851413617, 'longitude': -5.978634166071806, 'name': '150_CALLE SAN JUAN BOSCO', 'timestamp': '2020-11-25T09:13:10.150000Z'}, {'empty_slots': 1, 'extra': {'address': 'PLAZA CRONISTA - Aprox. C/ Divina Pastora', 'banking': True, 'bonus': False, 'last_update': 1606295112000, 'slots': 15, 'status': 'OPEN', 'uid': 42}, 'free_bikes': 13, 'id': '36575e47c69b64441b1a591f521b3ebf', 'latitude': 37.3987059174522, 'longitude': -5.989460016816095, 'name': '042_PLAZA CRONISTA', 'timestamp': '2020-11-25T09:13:10.151000Z'}, {'empty_slots': 10, 'extra': {'address': 'MAR DE ALBORÁN - Aprox. Corral de los Olmos', 'banking': True, 'bonus': False, 'last_update': 1606295055000, 'slots': 20, 'status': 'OPEN', 'uid': 199}, 'free_bikes': 10, 'id': 'efe29d86cc9383e7f6dd4e6eee3f27eb', 'latitude': 37.417855601747895, 'longitude': -5.969296145455354, 'name': '199_MAR DE ALBORÁN', 'timestamp': '2020-11-25T09:13:10.152000Z'}, {'empty_slots': 8, 'extra': {'address': 'RONDA DE TRIANA - Aprox. C/ San Vicente de Paul', 'banking': True, 'bonus': False, 'last_update': 1606295172000, 'slots': 15, 'status': 'OPEN', 'uid': 93}, 'free_bikes': 7, 'id': '085c2f3a499442fe3ef5db5858fcb0ad', 'latitude': 37.38312344793415, 'longitude': -6.010876271362328, 'name': '093_RONDA DE TRIANA', 'timestamp': '2020-11-25T09:13:10.156000Z'}, {'empty_slots': 3, 'extra': {'address': 'PLAZA SAN MARTÍN DE PORRES - Aprox. Avda Alvar Núñez', 'banking': True, 'bonus': False, 'last_update': 1606295161000, 'slots': 15, 'status': 'OPEN', 'uid': 113}, 'free_bikes': 12, 'id': '60f6523890541af675631fbf0bc0f077', 'latitude': 37.380778439190046, 'longitude': -6.009179264054355, 'name': '113_PLAZA SAN MARTÍN DE PORRES', 'timestamp': '2020-11-25T09:13:10.161000Z'}, {'empty_slots': 14, 'extra': {'address': 'PLAZA DEL ZURRAQUE - Aprox. C/ Doc. Jeronimo Pou', 'banking': True, 'bonus': False, 'last_update': 1606295190000, 'slots': 18, 'status': 'OPEN', 'uid': 94}, 'free_bikes': 4, 'id': '2bc9ce3174539e5579836e63f73e86ca', 'latitude': 37.383369449862734, 'longitude': -6.008294262440252, 'name': '094_PLAZA DEL ZURRAQUE', 'timestamp': '2020-11-25T09:13:10.162000Z'}, {'empty_slots': 10, 'extra': {'address': 'CALLE SAMANIEGO - Aprox. C/ Esperanza de la Trinidad', 'banking': True, 'bonus': False, 'last_update': 1606295560000, 'slots': 20, 'status': 'OPEN', 'uid': 152}, 'free_bikes': 9, 'id': 'c5a5746578475c87bb998c990148f6cd', 'latitude': 37.3957905118738, 'longitude': -5.97437315057576, 'name': '152_CALLE SAMANIEGO', 'timestamp': '2020-11-25T09:13:10.163000Z'}, {'empty_slots': 7, 'extra': {'address': 'AVENIDA SAN FRANCISCO JAVIER - Aprox. C/ Camilo José Cela', 'banking': True, 'bonus': False, 'last_update': 1606295087000, 'slots': 15, 'status': 'OPEN', 'uid': 109}, 'free_bikes': 7, 'id': 'd6a778d6ed263095127b1ce94417ca01', 'latitude': 37.37988413609134, 'longitude': -5.974382770011586, 'name': '109_AVENIDA SAN FRANCISCO JAVIER', 'timestamp': '2020-11-25T09:13:10.164000Z'}, {'empty_slots': 6, 'extra': {'address': 'AVENIDA DE ROMA - Puerta de Jerez', 'banking': True, 'bonus': False, 'last_update': 1606295439000, 'slots': 30, 'status': 'OPEN', 'uid': 98}, 'free_bikes': 23, 'id': '9e6c4977cfff22f171344563291ce4eb', 'latitude': 37.382043350305, 'longitude': -5.993030169261488, 'name': '098_AVENIDA DE ROMA', 'timestamp': '2020-11-25T09:13:10.169000Z'}, {'empty_slots': 36, 'extra': {'address': 'PUERTA DE LA BARQUETA - Aprox. Puente de la Barqueta', 'banking': True, 'bonus': False, 'last_update': 1606295198000, 'slots': 40, 'status': 'OPEN', 'uid': 3}, 'free_bikes': 4, 'id': '4e6ee179d0a18d88f3e055b4a228e3b7', 'latitude': 37.40564154237001, 'longitude': -5.998488240831263, 'name': '003_PUERTA DE LA BARQUETA', 'timestamp': '2020-11-25T09:13:10.170000Z'}, {'empty_slots': 12, 'extra': {'address': 'PARLAMENTO - Aprox. C/ Don Fadrique', 'banking': True, 'bonus': False, 'last_update': 1606295430000, 'slots': 20, 'status': 'OPEN', 'uid': 19}, 'free_bikes': 8, 'id': 'a88f337544b9f344820e03c59722e3bd', 'latitude': 37.403327536585486, 'longitude': -5.989037206345736, 'name': '019_PARLAMENTO', 'timestamp': '2020-11-25T09:13:10.177000Z'}, {'empty_slots': 13, 'extra': {'address': 'CARRETERA DE CARMONA - Aprox. C/ Maestro Solano', 'banking': True, 'bonus': False, 'last_update': 1606295499000, 'slots': 15, 'status': 'OPEN', 'uid': 147}, 'free_bikes': 2, 'id': '03603755b4cf50d65c80eb3f0ff1178f', 'latitude': 37.40079553153059, 'longitude': -5.975228156455095, 'name': '147_CARRETERA DE CARMONA', 'timestamp': '2020-11-25T09:13:10.178000Z'}, {'empty_slots': 14, 'extra': {'address': 'AVENIDA ALCALDE MANUEL DEL VALLE - Aprox. C/ Alejandro Sawa', 'banking': True, 'bonus': False, 'last_update': 1606295424000, 'slots': 20, 'status': 'OPEN', 'uid': 185}, 'free_bikes': 5, 'id': '18f769d8a1aee6e97da8b6ec90ae420e', 'latitude': 37.40509431569403, 'longitude': -5.968862135165761, 'name': '185_AVENIDA ALCALDE MANUEL DEL VALLE', 'timestamp': '2020-11-25T09:13:10.179000Z'}, {'empty_slots': 2, 'extra': {'address': 'CALLE SAN PABLO - Aprox. C/ Bailén', 'banking': True, 'bonus': False, 'last_update': 1606295561000, 'slots': 20, 'status': 'OPEN', 'uid': 63}, 'free_bikes': 18, 'id': '546ef124c5dd2e22b962bc10f6f0551f', 'latitude': 37.390456481894525, 'longitude': -5.998103230753266, 'name': '063_CALLE SAN PABLO', 'timestamp': '2020-11-25T09:13:10.180000Z'}, {'empty_slots': 11, 'extra': {'address': 'CALLE DOCTOR LAFFON - Aprox. C/ Tesalonica', 'banking': True, 'bonus': False, 'last_update': 1606295354000, 'slots': 15, 'status': 'OPEN', 'uid': 204}, 'free_bikes': 4, 'id': 'ff9cfa7996f57fe623a5419822d0963b', 'latitude': 37.39768969188425, 'longitude': -5.96160136486722, 'name': '204_CALLE DOCTOR LAFFON', 'timestamp': '2020-11-25T09:13:10.181000Z'}, {'empty_slots': 16, 'extra': {'address': 'CALLE ALFARERIA - Aprox. Ronda de Triana', 'banking': True, 'bonus': False, 'last_update': 1606295397000, 'slots': 20, 'status': 'OPEN', 'uid': 78}, 'free_bikes': 4, 'id': '00770e994d0c3c194df4a550c22aaa64', 'latitude': 37.38857113316299, 'longitude': -6.010282378350756, 'name': '078_CALLE ALFARERIA', 'timestamp': '2020-11-25T09:13:10.183000Z'}, {'empty_slots': 10, 'extra': {'address': 'GLORIETA REPUBLICA DOMINICANA - Aprox. C/ López de Gomara', 'banking': True, 'bonus': False, 'last_update': 1606295484000, 'slots': 20, 'status': 'OPEN', 'uid': 130}, 'free_bikes': 9, 'id': '9babdae6feea1041d22f49d15e95e28e', 'latitude': 37.3757454179548, 'longitude': -6.00524772730203, 'name': '130_GLORIETA REPUBLICA DOMINICANA', 'timestamp': '2020-11-25T09:13:10.184000Z'}, {'empty_slots': 15, 'extra': {'address': 'AVENIDA REINA MERCEDES - Aprox. C/ Profesor García González', 'banking': True, 'bonus': False, 'last_update': 1606295340000, 'slots': 20, 'status': 'OPEN', 'uid': 145}, 'free_bikes': 4, 'id': 'ed7c20d28623e29e238148a84867fd9a', 'latitude': 37.360233228861155, 'longitude': -5.986318234050904, 'name': '145_AVENIDA REINA MERCEDES', 'timestamp': '2020-11-25T09:13:10.188000Z'}, {'empty_slots': 14, 'extra': {'address': 'CALLE CIUDAD DE LIRIA - Aprox. Avda de Fernando', 'banking': True, 'bonus': False, 'last_update': 1606295040000, 'slots': 15, 'status': 'OPEN', 'uid': 239}, 'free_bikes': 1, 'id': '031c94eb373c19d2bbeb9df6ed43409f', 'latitude': 37.408691582745696, 'longitude': -5.927718994548674, 'name': '239_CALLE CIUDAD DE LIRIA', 'timestamp': '2020-11-25T09:13:10.189000Z'}, {'empty_slots': 14, 'extra': {'address': 'CARRETERA DE CARMONA - Aprox. Avda de Llanes', 'banking': True, 'bonus': False, 'last_update': 1606295300000, 'slots': 15, 'status': 'OPEN', 'uid': 29}, 'free_bikes': 1, 'id': '449c670b62a5faaacdd4154816d36685', 'latitude': 37.402463540044714, 'longitude': -5.970145139589757, 'name': '029_CARRETERA DE CARMONA', 'timestamp': '2020-11-25T09:13:10.191000Z'}, {'empty_slots': 3, 'extra': {'address': 'CALLE VICTORIA KENT - Aprox. Avda Alcalde Manuel del Valle', 'banking': True, 'bonus': False, 'last_update': 1606295428000, 'slots': 15, 'status': 'OPEN', 'uid': 182}, 'free_bikes': 12, 'id': 'c2e6ab859414764d36d682e3dfe07a7d', 'latitude': 37.41459658707776, 'longitude': -5.973881159661203, 'name': '182_CALLE VICTORIA KENT', 'timestamp': '2020-11-25T09:13:10.192000Z'}, {'empty_slots': 7, 'extra': {'address': 'AVENIDA DE MIRAFLORES - Aprox. C/ Albaida', 'banking': True, 'bonus': False, 'last_update': 1606295098000, 'slots': 13, 'status': 'OPEN', 'uid': 31}, 'free_bikes': 6, 'id': 'cb74f638d46b5d47443884f4292b36ca', 'latitude': 37.40054152885159, 'longitude': -5.979781172277264, 'name': '031_AVENIDA DE MIRAFLORES', 'timestamp': '2020-11-25T09:13:10.193000Z'}, {'empty_slots': 10, 'extra': {'address': 'RONDA TAMARGUILLO - Aprox. Alfonso Laso de la Vega', 'banking': True, 'bonus': False, 'last_update': 1606295128000, 'slots': 20, 'status': 'OPEN', 'uid': 172}, 'free_bikes': 10, 'id': '05bb58341e119c08e41f6bf3372cd6ff', 'latitude': 37.367172398818624, 'longitude': -5.971211122957581, 'name': '172_RONDA TAMARGUILLO', 'timestamp': '2020-11-25T09:13:10.194000Z'}, {'empty_slots': 18, 'extra': {'address': 'AVENIDA CARDENAL BUENO MONREAL - Aprox. C/ Bogota', 'banking': True, 'bonus': False, 'last_update': 1606295489000, 'slots': 20, 'status': 'OPEN', 'uid': 158}, 'free_bikes': 2, 'id': '95bf0ca8060e82442f6975fc845f7da9', 'latitude': 37.3688534016955, 'longitude': -5.981618160442233, 'name': '158_AVENIDA CARDENAL BUENO MONREAL', 'timestamp': '2020-11-25T09:13:10.195000Z'}, {'empty_slots': 12, 'extra': {'address': 'CALLE SINAÍ - Aprox. C/ Baltazar Gracián', 'banking': True, 'bonus': False, 'last_update': 1606295228000, 'slots': 14, 'status': 'OPEN', 'uid': 163}, 'free_bikes': 2, 'id': '9a52a5c7fe1bf66e94e856e0b20764ef', 'latitude': 37.38995448989595, 'longitude': -5.970802134688754, 'name': '163_CALLE SINAÍ', 'timestamp': '2020-11-25T09:13:10.196000Z'}, {'empty_slots': 9, 'extra': {'address': 'AVENIDA KANSAS CITY - Aprox. C/ Baltasar Gracián', 'banking': True, 'bonus': False, 'last_update': 1606295245000, 'slots': 20, 'status': 'OPEN', 'uid': 156}, 'free_bikes': 11, 'id': '456f04677cb84b1a7cd16beb7653c088', 'latitude': 37.391453411096606, 'longitude': -5.972761755091493, 'name': '156_AVENIDA KANSAS CITY', 'timestamp': '2020-11-25T09:13:10.198000Z'}, {'empty_slots': 17, 'extra': {'address': 'AVENIDA ALCALDE MANUEL DEL VALLE - Aprox. C/ Baltasar de Alcázar', 'banking': True, 'bonus': False, 'last_update': 1606295014000, 'slots': 20, 'status': 'OPEN', 'uid': 161}, 'free_bikes': 3, 'id': '19bcbae399cae92042cf5cca9aa5cc41', 'latitude': 37.40000053060032, 'longitude': -5.969103134518509, 'name': '161_AVENIDA ALCALDE MANUEL DEL VALLE', 'timestamp': '2020-11-25T09:13:10.203000Z'}, {'empty_slots': 4, 'extra': {'address': 'PARLAMENTO - Aprox. C/ San Juan de Ribera', 'banking': True, 'bonus': False, 'last_update': 1606295160000, 'slots': 15, 'status': 'OPEN', 'uid': 23}, 'free_bikes': 11, 'id': 'a5c584ae781cfa5d8f687217f6b9ffcc', 'latitude': 37.403337536978945, 'longitude': -5.98787920228648, 'name': '023_PARLAMENTO', 'timestamp': '2020-11-25T09:13:10.204000Z'}, {'empty_slots': 1, 'extra': {'address': 'GLORIETA SAN DIEGO - Aprox. C/ Palos de la Frontera', 'banking': True, 'bonus': False, 'last_update': 1606295087000, 'slots': 15, 'status': 'OPEN', 'uid': 120}, 'free_bikes': 14, 'id': 'dfc499193adad983bbebd10423eb0350', 'latitude': 37.37896144135567, 'longitude': -5.989966195594725, 'name': '120_GLORIETA SAN DIEGO', 'timestamp': '2020-11-25T09:13:10.205000Z'}, {'empty_slots': 7, 'extra': {'address': 'CALLE AMERICO VESPUCIO - Aprox. C/ Gregor Mendel', 'banking': True, 'bonus': False, 'last_update': 1606295038000, 'slots': 20, 'status': 'OPEN', 'uid': 8}, 'free_bikes': 13, 'id': '144b20a55740602c025fc83856fbfbe5', 'latitude': 37.4009693828541, 'longitude': -6.00938173537619, 'name': '008_CALLE AMERICO VESPUCIO', 'timestamp': '2020-11-25T09:13:10.206000Z'}, {'empty_slots': 9, 'extra': {'address': 'PASEO DE EUROPA - Aprox. Ava de Francia', 'banking': True, 'bonus': False, 'last_update': 1606295508000, 'slots': 15, 'status': 'OPEN', 'uid': 210}, 'free_bikes': 6, 'id': 'e1eb21d2baaa37ef0ecce21703da967e', 'latitude': 37.348061320332235, 'longitude': -5.980058142587488, 'name': '210_PASEO DE EUROPA', 'timestamp': '2020-11-25T09:13:10.207000Z'}, {'empty_slots': 13, 'extra': {'address': 'AVENIDA EDUARDO DATO - Detrás Estadio Sánchez Pizjuan', 'banking': True, 'bonus': False, 'last_update': 1606294999000, 'slots': 20, 'status': 'OPEN', 'uid': 30}, 'free_bikes': 7, 'id': 'c3b6d23a5661b79f7777467226ebb59b', 'latitude': 37.382628460642394, 'longitude': -5.970853130640082, 'name': '030_AVENIDA EDUARDO DATO', 'timestamp': '2020-11-25T09:13:10.212000Z'}, {'empty_slots': 5, 'extra': {'address': 'AVENIDA KANSAS CITY - Aprox. Hotel Occidental', 'banking': True, 'bonus': False, 'last_update': 1606295374000, 'slots': 18, 'status': 'OPEN', 'uid': 71}, 'free_bikes': 13, 'id': '848100dd4dbf02e644de109942389e09', 'latitude': 37.39003048884624, 'longitude': -5.974491147670695, 'name': '071_AVENIDA KANSAS CITY', 'timestamp': '2020-11-25T09:13:10.213000Z'}, {'empty_slots': 4, 'extra': {'address': 'AVENIDA EDUARDO DATO - Aprox. Avda de San Francisco Javier', 'banking': True, 'bonus': False, 'last_update': 1606295338000, 'slots': 15, 'status': 'OPEN', 'uid': 108}, 'free_bikes': 11, 'id': 'e05b12df74dff286bf68762415d3ba68', 'latitude': 37.382852503457265, 'longitude': -5.973249491935667, 'name': '108_AVENIDA EDUARDO DATO', 'timestamp': '2020-11-25T09:13:10.214000Z'}, {'empty_slots': 14, 'extra': {'address': 'GRAN PLAZA - Aprox. Calle Marquez de Pickman', 'banking': True, 'bonus': False, 'last_update': 1606294974000, 'slots': 18, 'status': 'OPEN', 'uid': 2}, 'free_bikes': 4, 'id': 'c53e237f47e8f63bfdc9e70c83156ed6', 'latitude': 37.381578045327934, 'longitude': -5.96522396639778, 'name': '002_GRAN PLAZA', 'timestamp': '2020-11-25T09:13:10.215000Z'}, {'empty_slots': 0, 'extra': {'address': 'ALAMEDA DE HÉRCULES - Aprox. C/ Vulcano', 'banking': True, 'bonus': False, 'last_update': 1606295130000, 'slots': 20, 'status': 'OPEN', 'uid': 37}, 'free_bikes': 19, 'id': 'bb607b4b6a1d53dcbfadd373cf9590a9', 'latitude': 37.398785772824745, 'longitude': -5.99318901314001, 'name': '037_ALAMEDA DE HÉRCULES', 'timestamp': '2020-11-25T09:13:10.216000Z'}, {'empty_slots': 2, 'extra': {'address': 'AVENIDA ALCALDE LUIS URUÑUELA - Aprox. Estación de RENFE', 'banking': True, 'bonus': False, 'last_update': 1606294993000, 'slots': 15, 'status': 'OPEN', 'uid': 233}, 'free_bikes': 12, 'id': '3d92086ac4bb21084d7812e7a80aa644', 'latitude': 37.404112556103925, 'longitude': -5.937092024971125, 'name': '233_AVENIDA ALCALDE LUIS URUÑUELA', 'timestamp': '2020-11-25T09:13:10.221000Z'}, {'empty_slots': 13, 'extra': {'address': 'AVENIDA DE LAS CIENCIAS - Aprox. Avda de la Republica China', 'banking': True, 'bonus': False, 'last_update': 1606295270000, 'slots': 14, 'status': 'OPEN', 'uid': 230}, 'free_bikes': 1, 'id': '4b34497858bc401632c8d2cb53497daf', 'latitude': 37.403927559446025, 'longitude': -5.928139993197263, 'name': '230_AVENIDA DE LAS CIENCIAS', 'timestamp': '2020-11-25T09:13:10.222000Z'}, {'empty_slots': 11, 'extra': {'address': 'CALLE JOSÉ SARAMAGO - Aprox. Avda del Alcalde Juan Fernández', 'banking': True, 'bonus': False, 'last_update': 1606294978000, 'slots': 20, 'status': 'OPEN', 'uid': 178}, 'free_bikes': 9, 'id': 'fe5238b8f2a010fed351ab6410d39bbc', 'latitude': 37.373304076262805, 'longitude': -5.97391890132113, 'name': '178_CALLE JOSÉ SARAMAGO', 'timestamp': '2020-11-25T09:13:10.224000Z'}, {'empty_slots': 0, 'extra': {'address': 'PLAZA SAN FRANCISCO - Aprox C/ Hernando Colón', 'banking': True, 'bonus': False, 'last_update': 1606295157000, 'slots': 20, 'status': 'OPEN', 'uid': 75}, 'free_bikes': 20, 'id': 'f49a59e7861f0e74a8fcfc2c61215bc2', 'latitude': 37.387997377700096, 'longitude': -5.993587446638155, 'name': '075_PLAZA SAN FRANCISCO', 'timestamp': '2020-11-25T09:13:10.225000Z'}, {'empty_slots': 14, 'extra': {'address': 'CIUDAD DE CHIVA - Aprox. C/ ciudad de Liria', 'banking': True, 'bonus': False, 'last_update': 1606295530000, 'slots': 15, 'status': 'OPEN', 'uid': 236}, 'free_bikes': 1, 'id': 'df3f082efcbec76c2c844c06e23b9ef5', 'latitude': 37.4102171143178, 'longitude': -5.926422374057527, 'name': '236_CIUDAD DE CHIVA', 'timestamp': '2020-11-25T09:13:10.226000Z'}, {'empty_slots': 12, 'extra': {'address': 'GLORIETA DEL PRIMERO DE MAYO - Aprox. C/ Carlos Marx', 'banking': True, 'bonus': False, 'last_update': 1606295515000, 'slots': 15, 'status': 'OPEN', 'uid': 243}, 'free_bikes': 3, 'id': 'ca5f718fb724576325a5828917bd633d', 'latitude': 37.380439481169994, 'longitude': -5.953481197462845, 'name': '243_GLORIETA DEL PRIMERO DE MAYO', 'timestamp': '2020-11-25T09:13:10.227000Z'}, {'empty_slots': 4, 'extra': {'address': 'PLAZA SAN JUAN DE LA PALMA - Aprox. iglesia', 'banking': True, 'bonus': False, 'last_update': 1606295491000, 'slots': 15, 'status': 'OPEN', 'uid': 54}, 'free_bikes': 11, 'id': '77ef2d2e1efa715f7915d90d9ac65121', 'latitude': 37.39523950356959, 'longitude': -5.991050208758028, 'name': '054_PLAZA SAN JUAN DE LA PALMA', 'timestamp': '2020-11-25T09:13:10.228000Z'}, {'empty_slots': 9, 'extra': {'address': 'CALLE RAFAEL SALGADO - Aprox. C/ Castillo Alcala de Guadaira', 'banking': True, 'bonus': False, 'last_update': 1606295162000, 'slots': 18, 'status': 'OPEN', 'uid': 28}, 'free_bikes': 9, 'id': '67a187839b2ef7e45ca6f40e4edbf55a', 'latitude': 37.360261369216595, 'longitude': -5.976659138066708, 'name': '028_CALLE RAFAEL SALGADO', 'timestamp': '2020-11-25T09:13:10.229000Z'}, {'empty_slots': 8, 'extra': {'address': 'RONDA TAMARGUILLO - Plaza Ruperto Chapí', 'banking': True, 'bonus': False, 'last_update': 1606295247000, 'slots': 20, 'status': 'OPEN', 'uid': 175}, 'free_bikes': 11, 'id': '105291095821328b397b7f0819fbe12c', 'latitude': 37.37775744487495, 'longitude': -5.960870092813821, 'name': '175_RONDA TAMARGUILLO', 'timestamp': '2020-11-25T09:13:10.230000Z'}, {'empty_slots': 15, 'extra': {'address': 'CALLE PINO MONTANO - Aprox. C/ Estafeta', 'banking': True, 'bonus': False, 'last_update': 1606295155000, 'slots': 20, 'status': 'OPEN', 'uid': 201}, 'free_bikes': 5, 'id': '7bc710b71e593bbef3cec3aa604bae2a', 'latitude': 37.41568359361039, 'longitude': -5.967858139167567, 'name': '201_CALLE PINO MONTANO', 'timestamp': '2020-11-25T09:13:10.232000Z'}, {'empty_slots': 15, 'extra': {'address': 'CALLE AMÉRICO VESPUCIO - Aprox. C/ Juan Bautista Muñoz', 'banking': True, 'bonus': False, 'last_update': 1606295277000, 'slots': 20, 'status': 'OPEN', 'uid': 95}, 'free_bikes': 5, 'id': '1ec8b101b2bde074a5c74fd5ac70a28a', 'latitude': 37.41217356557977, 'longitude': -6.006338272120392, 'name': '095_CALLE AMÉRICO VESPUCIO', 'timestamp': '2020-11-25T09:13:10.234000Z'}, {'empty_slots': 9, 'extra': {'address': 'PLAZA CRISTO DE BURGOS - Pza de San Pedro', 'banking': True, 'bonus': False, 'last_update': 1606295063000, 'slots': 15, 'status': 'OPEN', 'uid': 57}, 'free_bikes': 6, 'id': 'cf439943abd1f9e9133f4fca42dc803a', 'latitude': 37.39231861674279, 'longitude': -5.989705187094715, 'name': '057_PLAZA CRISTO DE BURGOS', 'timestamp': '2020-11-25T09:13:10.235000Z'}, {'empty_slots': 0, 'extra': {'address': 'CALLE FLOR DE RETAMA - Aprox. Centro Deportivo Entreflores', 'banking': True, 'bonus': False, 'last_update': 1606295201000, 'slots': 15, 'status': 'OPEN', 'uid': 225}, 'free_bikes': 15, 'id': '17be83522db5b2def412efc860ecf7ca', 'latitude': 37.397390540237105, 'longitude': -5.918776956284244, 'name': '225_CALLE FLOR DE RETAMA', 'timestamp': '2020-11-25T09:13:10.236000Z'}, {'empty_slots': 0, 'extra': {'address': 'AVENIDA ALCALDE LUIS URUÑUELA - Aprox. Paseo Miguel de Unamuno', 'banking': True, 'bonus': False, 'last_update': 1606295377000, 'slots': 15, 'status': 'OPEN', 'uid': 231}, 'free_bikes': 15, 'id': '3a066298e4c7220c914e95e5efb1c55f', 'latitude': 37.401673546456635, 'longitude': -5.942139041014662, 'name': '231_AVENIDA ALCALDE LUIS URUÑUELA', 'timestamp': '2020-11-25T09:13:10.238000Z'}, {'empty_slots': 26, 'extra': {'address': 'CALLE LUIS MORALES - Aprox. Nervión Plaza', 'banking': True, 'bonus': False, 'last_update': 1606295328000, 'slots': 30, 'status': 'OPEN', 'uid': 107}, 'free_bikes': 4, 'id': 'a107a306f21bed6071494f0cff486e0a', 'latitude': 37.38425946651307, 'longitude': -5.972591137677613, 'name': '107_CALLE LUIS MORALES', 'timestamp': '2020-11-25T09:13:10.239000Z'}, {'empty_slots': 3, 'extra': {'address': 'CALLE VIRGEN DE LA VICTORIA - Aprox. C/ Asunción', 'banking': True, 'bonus': False, 'last_update': 1606295138000, 'slots': 15, 'status': 'OPEN', 'uid': 127}, 'free_bikes': 12, 'id': '4eb403c75381ba7a589124864cdaa4dc', 'latitude': 37.37764043077863, 'longitude': -5.997947222820481, 'name': '127_CALLE VIRGEN DE LA VICTORIA', 'timestamp': '2020-11-25T09:13:10.240000Z'}, {'empty_slots': 11, 'extra': {'address': 'AVENIDA DIEGO MARTINEZ BARRIO - Aprox. Avda Gal Garcia de la Herranz', 'banking': True, 'bonus': False, 'last_update': 1606295472000, 'slots': 15, 'status': 'OPEN', 'uid': 139}, 'free_bikes': 3, 'id': '9e51b60b8bac9e3821e9d79ccfc9e475', 'latitude': 37.375075258863696, 'longitude': -5.975863125578401, 'name': '139_AVENIDA DIEGO MARTINEZ BARRIO', 'timestamp': '2020-11-25T09:13:10.241000Z'}, {'empty_slots': 6, 'extra': {'address': 'CALLE AGRICULTORES - Aprox. C/ estrella Betelgeuse', 'banking': True, 'bonus': False, 'last_update': 1606295187000, 'slots': 20, 'status': 'OPEN', 'uid': 197}, 'free_bikes': 14, 'id': '5bb71a154727e893486f094f5e4718f3', 'latitude': 37.423438625065074, 'longitude': -5.96640413851815, 'name': '197_CALLE AGRICULTORES', 'timestamp': '2020-11-25T09:13:10.242000Z'}, {'empty_slots': 14, 'extra': {'address': 'PLAZA PUMAREJO - Aprox. Calle San Luis', 'banking': True, 'bonus': False, 'last_update': 1606294988000, 'slots': 15, 'status': 'OPEN', 'uid': 34}, 'free_bikes': 1, 'id': 'e1d72696c6c4d8691561d1e674c83f21', 'latitude': 37.40102752757453, 'longitude': -5.988578203413862, 'name': '034_PLAZA PUMAREJO', 'timestamp': '2020-11-25T09:13:10.243000Z'}, {'empty_slots': 0, 'extra': {'address': 'CALLE ADRIANO - Aprox. C/ Antonia Díaz', 'banking': True, 'bonus': False, 'last_update': 1606295342000, 'slots': 18, 'status': 'OPEN', 'uid': 89}, 'free_bikes': 18, 'id': '84e1d2d017dd050a467c87a63e29bb52', 'latitude': 37.38648146613877, 'longitude': -5.997790227366178, 'name': '089_CALLE ADRIANO', 'timestamp': '2020-11-25T09:13:10.244000Z'}, {'empty_slots': 17, 'extra': {'address': 'GASPAR CALDERAS.- Esquina con Carretera Bellasvistas', 'banking': False, 'bonus': False, 'last_update': 1606295373000, 'slots': 25, 'status': 'OPEN', 'uid': 252}, 'free_bikes': 8, 'id': 'd8add46ebd83b5bfd460c6bbecfc6010', 'latitude': 37.32458203503861, 'longitude': -5.968972128124462, 'name': '252_GASPAR CALDERAS', 'timestamp': '2020-11-25T09:13:10.245000Z'}, {'empty_slots': 18, 'extra': {'address': 'AVENIDA REINA MERCEDES - Aprox. Glorieta Alcalde de Parias Merry', 'banking': True, 'bonus': False, 'last_update': 1606295236000, 'slots': 30, 'status': 'OPEN', 'uid': 40}, 'free_bikes': 11, 'id': '9d32ad1767cc2f028d7d4446b852c07e', 'latitude': 37.35635082669173, 'longitude': -5.986459877403918, 'name': '040_AVENIDA REINA MERCEDES', 'timestamp': '2020-11-25T09:13:10.246000Z'}, {'empty_slots': 4, 'extra': {'address': 'ALCALDE MANUEL DEL VALLE - Aprox. C/ Pino Montano', 'banking': True, 'bonus': False, 'last_update': 1606295294000, 'slots': 15, 'status': 'OPEN', 'uid': 183}, 'free_bikes': 10, 'id': '8022ae8667ce495283d1f52ad3ae6cb2', 'latitude': 37.41101757377389, 'longitude': -5.97121914827267, 'name': '183_ALCALDE MANUEL DEL VALLE', 'timestamp': '2020-11-25T09:13:10.247000Z'}, {'empty_slots': 8, 'extra': {'address': 'CIUDAD DE CHIVA - Aprox. Pza del Árbol Rey', 'banking': True, 'bonus': False, 'last_update': 1606295330000, 'slots': 15, 'status': 'OPEN', 'uid': 238}, 'free_bikes': 7, 'id': '07e57eb15fbb02695d1de71b1d58e253', 'latitude': 37.408132573830756, 'longitude': -5.919993048486191, 'name': '238_CIUDAD DE CHIVA', 'timestamp': '2020-11-25T09:13:10.248000Z'}, {'empty_slots': 2, 'extra': {'address': 'CALLE DE HERNÁN CORTÉS - Aprox. C/ Eslava', 'banking': True, 'bonus': False, 'last_update': 1606295477000, 'slots': 17, 'status': 'OPEN', 'uid': 50}, 'free_bikes': 15, 'id': 'f6ae83a3de761840ba7babbf781294b1', 'latitude': 37.397554510745486, 'longitude': -5.996695229895344, 'name': '050_CALLE DE HERNÁN CORTÉS', 'timestamp': '2020-11-25T09:13:10.249000Z'}, {'empty_slots': 14, 'extra': {'address': 'AVENIDA AERONAUTICA - Aprox. Avda del Deporte', 'banking': True, 'bonus': False, 'last_update': 1606295227000, 'slots': 15, 'status': 'OPEN', 'uid': 229}, 'free_bikes': 1, 'id': 'd132e990a916b811cac1435aa728ba62', 'latitude': 37.38735449491008, 'longitude': -5.919918954593122, 'name': '229_AVENIDA AERONAUTICA', 'timestamp': '2020-11-25T09:13:10.250000Z'}, {'empty_slots': 15, 'extra': {'address': 'CALLE URQUIZA - Aprox. C/ Venecia', 'banking': True, 'bonus': False, 'last_update': 1606295087000, 'slots': 20, 'status': 'OPEN', 'uid': 151}, 'free_bikes': 5, 'id': '6f6bf1ab5eb45e52f174e989d0017ecb', 'latitude': 37.394544466945845, 'longitude': -5.979897194354694, 'name': '151_CALLE URQUIZA', 'timestamp': '2020-11-25T09:13:10.251000Z'}, {'empty_slots': 9, 'extra': {'address': 'CALLE MANUEL SIUROT - Aprox. Hospital Universitario Virgen del Rocio', 'banking': True, 'bonus': False, 'last_update': 1606295279000, 'slots': 20, 'status': 'OPEN', 'uid': 116}, 'free_bikes': 11, 'id': '1dea226073a64282130264dded71dbbe', 'latitude': 37.36143037206055, 'longitude': -5.981603156091943, 'name': '116_CALLE MANUEL SIUROT', 'timestamp': '2020-11-25T09:13:10.252000Z'}, {'empty_slots': 17, 'extra': {'address': 'PLAZA SAN ANTONIO DE PADUA - Aprox. C/ Marqués de la Mina', 'banking': True, 'bonus': False, 'last_update': 1606295569000, 'slots': 20, 'status': 'OPEN', 'uid': 39}, 'free_bikes': 3, 'id': '9240a00b882640574557bdc9e04638a9', 'latitude': 37.397840022304365, 'longitude': -5.998504686877961, 'name': '039_PLAZA SAN ANTONIO DE PADUA', 'timestamp': '2020-11-25T09:13:10.253000Z'}, {'empty_slots': 7, 'extra': {'address': 'CALLE REYES CATÓLICOS - Aprox. C/ Gravina', 'banking': True, 'bonus': False, 'last_update': 1606295192000, 'slots': 17, 'status': 'OPEN', 'uid': 53}, 'free_bikes': 10, 'id': '58e4fd426cd1c611f1cf1ed4fa7c9730', 'latitude': 37.38934147689296, 'longitude': -5.999605235382445, 'name': '053_CALLE REYES CATÓLICOS', 'timestamp': '2020-11-25T09:13:10.254000Z'}, {'empty_slots': 6, 'extra': {'address': 'AVENIDA KANSAS CITY - Aprox. Avda El Greco', 'banking': True, 'bonus': False, 'last_update': 1606295005000, 'slots': 20, 'status': 'OPEN', 'uid': 155}, 'free_bikes': 14, 'id': '0d140a9d1cddcf301264f67316f72a3e', 'latitude': 37.392910501713985, 'longitude': -5.970739136171973, 'name': '155_AVENIDA KANSAS CITY', 'timestamp': '2020-11-25T09:13:10.255000Z'}, {'empty_slots': 8, 'extra': {'address': 'CALLE TABLADILLA - Aprox. C/ Cardenal Ilundaín', 'banking': True, 'bonus': False, 'last_update': 1606295453000, 'slots': 20, 'status': 'OPEN', 'uid': 131}, 'free_bikes': 12, 'id': '0c062346d2906d8c93bc7cb1e07bf578', 'latitude': 37.364750385373725, 'longitude': -5.981452157485012, 'name': '131_CALLE TABLADILLA', 'timestamp': '2020-11-25T09:13:10.256000Z'}, {'empty_slots': 6, 'extra': {'address': 'ALAMEDA DE HERCULES - Aprox. Calle Peris Mencheta', 'banking': True, 'bonus': False, 'last_update': 1606295184000, 'slots': 20, 'status': 'OPEN', 'uid': 35}, 'free_bikes': 13, 'id': '2c5174ab09015935af4c67845ad1f242', 'latitude': 37.400682524351275, 'longitude': -5.993630220939186, 'name': '035_ALAMEDA DE HERCULES', 'timestamp': '2020-11-25T09:13:10.257000Z'}, {'empty_slots': 0, 'extra': {'address': 'PLAZA JERONIMO DE CORDOBA- Aprox. C/ Escuelas Pías', 'banking': True, 'bonus': False, 'last_update': 1606294975000, 'slots': 20, 'status': 'OPEN', 'uid': 56}, 'free_bikes': 20, 'id': '9cd38b6604a35cdc0871e2e4401518c8', 'latitude': 37.39308649644441, 'longitude': -5.98703819345455, 'name': '056_PLAZA JERÓNIMO DE CORDOBA', 'timestamp': '2020-11-25T09:13:10.258000Z'}, {'empty_slots': 11, 'extra': {'address': 'CALLE VIRGEN DE LUJAN - Aprox. Virgen de la Victoria', 'banking': True, 'bonus': False, 'last_update': 1606295486000, 'slots': 20, 'status': 'OPEN', 'uid': 129}, 'free_bikes': 8, 'id': '4a234494f739dabf816a7a434fafb646', 'latitude': 37.374668417254036, 'longitude': -6.002455236928109, 'name': '129_CALLE VIRGEN DE LUJAN', 'timestamp': '2020-11-25T09:13:10.261000Z'}, {'empty_slots': 3, 'extra': {'address': 'CALLE ENRAMADILLA - Aprox. C/ Barrau', 'banking': True, 'bonus': False, 'last_update': 1606295406000, 'slots': 20, 'status': 'OPEN', 'uid': 124}, 'free_bikes': 17, 'id': '12cb9434b3168efb48839335e48686e9', 'latitude': 37.3777304387441, 'longitude': -5.97724415022871, 'name': '124_CALLE ENRAMADILLA', 'timestamp': '2020-11-25T09:13:10.260000Z'}, {'empty_slots': 12, 'extra': {'address': 'RONDA DE TRIANA - Aprox. C/ de Manuel Arellano', 'banking': True, 'bonus': False, 'last_update': 1606295321000, 'slots': 20, 'status': 'OPEN', 'uid': 92}, 'free_bikes': 8, 'id': '3d4890bc946dc78402979f0d01e14a16', 'latitude': 37.385838469752265, 'longitude': -6.011220377621846, 'name': '092_RONDA DE TRIANA', 'timestamp': '2020-11-25T09:13:10.259000Z'}, {'empty_slots': 13, 'extra': {'address': 'PZA FARMACÉUTICO MURILLO HERRERA - Aprox. C/ Pajes de Corro', 'banking': True, 'bonus': False, 'last_update': 1606295512000, 'slots': 20, 'status': 'OPEN', 'uid': 111}, 'free_bikes': 6, 'id': 'cea51577fbf9383e325df35f9aa888d3', 'latitude': 37.3813174443225, 'longitude': -6.001053235842167, 'name': '111_PZA FARMACÉUTICO MURILLO HERRERA', 'timestamp': '2020-11-25T09:13:10.262000Z'}, {'empty_slots': 8, 'extra': {'address': 'AVENIDA HYTASA - Aprox. Nuestra Señora de los Dolores', 'banking': True, 'bonus': False, 'last_update': 1606295432000, 'slots': 20, 'status': 'OPEN', 'uid': 189}, 'free_bikes': 12, 'id': '92ed7057363ebc942e0ce2acfa8c3bc7', 'latitude': 37.37005341642907, 'longitude': -5.959496083704879, 'name': '189_AVENIDA HYTASA', 'timestamp': '2020-11-25T09:13:10.263000Z'}, {'empty_slots': 18, 'extra': {'address': 'RONDA TAMARGUILLO - Aprox. Marqués de Pickman', 'banking': True, 'bonus': False, 'last_update': 1606295531000, 'slots': 20, 'status': 'OPEN', 'uid': 174}, 'free_bikes': 2, 'id': '5b3a548b0510cc7d38f8e28db9a9c98b', 'latitude': 37.38061245637617, 'longitude': -5.960574093426685, 'name': '174_RONDA TAMARGUILLO', 'timestamp': '2020-11-25T09:13:10.263000Z'}, {'empty_slots': 6, 'extra': {'address': 'CALLE DE MARIA AUXILIADORA - Aprox. C/ Gonzalo de Bilbao', 'banking': True, 'bonus': False, 'last_update': 1606295502000, 'slots': 15, 'status': 'OPEN', 'uid': 55}, 'free_bikes': 9, 'id': 'ae9c9307882714951947bcf1ac4eedf7', 'latitude': 37.393318498568895, 'longitude': -5.983766182098622, 'name': '055_CALLE DE MARIA AUXILIADORA', 'timestamp': '2020-11-25T09:13:10.265000Z'}, {'empty_slots': 14, 'extra': {'address': 'CALLE GEMA - Aprox. Avda de las Ciencias', 'banking': True, 'bonus': False, 'last_update': 1606295351000, 'slots': 15, 'status': 'OPEN', 'uid': 223}, 'free_bikes': 1, 'id': 'b499e0b7bb4aae9889e8e88ce178cce4', 'latitude': 37.40073135956411, 'longitude': -5.92632420198497, 'name': '223_CALLE GEMA', 'timestamp': '2020-11-25T09:13:10.265000Z'}, {'empty_slots': 8, 'extra': {'address': 'CALLE DOCTOR PEDRO DE CASTRO - Aprox. C/ Doc. Gabriel Sánchez', 'banking': True, 'bonus': False, 'last_update': 1606295355000, 'slots': 15, 'status': 'OPEN', 'uid': 121}, 'free_bikes': 7, 'id': '85fa52fcb89efb3e3529bc404b4579bf', 'latitude': 37.377158434736266, 'longitude': -5.981935166355452, 'name': '121_CALLE DOCTOR PEDRO DE CASTRO', 'timestamp': '2020-11-25T09:13:10.266000Z'}, {'empty_slots': 19, 'extra': {'address': 'AVENIDA DE LA CRUZ ROJA - Aprox. C/ Albaida', 'banking': True, 'bonus': False, 'last_update': 1606295300000, 'slots': 20, 'status': 'OPEN', 'uid': 25}, 'free_bikes': 0, 'id': 'a0b2fa34dec52efc056751002c118a6f', 'latitude': 37.40313253870445, 'longitude': -5.981109178424791, 'name': '025_AVENIDA DE LA CRUZ ROJA', 'timestamp': '2020-11-25T09:13:10.269000Z'}, {'empty_slots': 4, 'extra': {'address': 'PASEO CATALINA RIBERA - Frente a la Diputación Provincial', 'banking': True, 'bonus': False, 'last_update': 1606295460000, 'slots': 20, 'status': 'OPEN', 'uid': 85}, 'free_bikes': 16, 'id': '1161e569ee3376fee850efdbe181820b', 'latitude': 37.38535146566221, 'longitude': -5.986785188099708, 'name': '085_PASEO CATALINA RIBERA', 'timestamp': '2020-11-25T09:13:10.270000Z'}, {'empty_slots': 11, 'extra': {'address': 'CALLE HINIESTA - Aprox. Convento Santa Isabel', 'banking': True, 'bonus': False, 'last_update': 1606295028000, 'slots': 15, 'status': 'OPEN', 'uid': 47}, 'free_bikes': 4, 'id': '24c504a1da0a7bd905c83491e756194f', 'latitude': 37.39713251259333, 'longitude': -5.987037195768433, 'name': '047_CALLE HINIESTA', 'timestamp': '2020-11-25T09:13:10.271000Z'}, {'empty_slots': 2, 'extra': {'address': 'AVENIDA DE LAS CIENCIAS - Aprox. C/ Flor de Salvia', 'banking': True, 'bonus': False, 'last_update': 1606295310000, 'slots': 15, 'status': 'OPEN', 'uid': 228}, 'free_bikes': 13, 'id': '4b508a7f5b333bf913216821aaa73b0c', 'latitude': 37.394449523785354, 'longitude': -5.921230963560515, 'name': '228_AVENIDA DE LAS CIENCIAS', 'timestamp': '2020-11-25T09:13:10.272000Z'}, {'empty_slots': 15, 'extra': {'address': 'CALLE AMADOR DE LOS RIOS - Aprox. C/ Lope de Vega', 'banking': True, 'bonus': False, 'last_update': 1606295129000, 'slots': 20, 'status': 'OPEN', 'uid': 72}, 'free_bikes': 5, 'id': '670fa2c68b47ec46e105d6f668b2e057', 'latitude': 37.39071248853365, 'longitude': -5.982768177096753, 'name': '072_CALLE AMADOR DE LOS RIOS', 'timestamp': '2020-11-25T09:13:10.274000Z'}, {'empty_slots': 18, 'extra': {'address': 'CALLE DOCTOR JAIME MARCOS - Aprox. Avda. Doc. Fedriani', 'banking': True, 'bonus': False, 'last_update': 1606295494000, 'slots': 20, 'status': 'OPEN', 'uid': 180}, 'free_bikes': 2, 'id': '62993ab868ccc52f3e32f7abad2cba57', 'latitude': 37.40964956350476, 'longitude': -5.98440119371439, 'name': '180_CALLE DOCTOR JAIME MARCOS', 'timestamp': '2020-11-25T09:13:10.275000Z'}, {'empty_slots': 5, 'extra': {'address': 'CALLE SAN JUAN DE RIBERA - Aprox. C/ Fray Isidoro de Sevilla', 'banking': True, 'bonus': False, 'last_update': 1606295447000, 'slots': 15, 'status': 'OPEN', 'uid': 20}, 'free_bikes': 9, 'id': '9697f2b7484f11c92ec63cd112409cd2', 'latitude': 37.404869543652175, 'longitude': -5.986537198461927, 'name': '020_CALLE SAN JUAN DE RIBERA', 'timestamp': '2020-11-25T09:13:10.276000Z'}, {'empty_slots': 13, 'extra': {'address': 'CALLE DEL INCA GARCILASO - Aprox. C/ Jerónimo de Aguilar', 'banking': True, 'bonus': False, 'last_update': 1606295555000, 'slots': 37, 'status': 'OPEN', 'uid': 52}, 'free_bikes': 24, 'id': 'bb5ade1836af3a3a70d27c51b17534bb', 'latitude': 37.39422649248208, 'longitude': -6.010309275759171, 'name': '052_CALLE DEL INCA GARCILASO', 'timestamp': '2020-11-25T09:13:10.278000Z'}, {'empty_slots': 10, 'extra': {'address': 'CALLE FRANCISCO MURILLO - Aprox. C/ Manuel Siurot', 'banking': True, 'bonus': False, 'last_update': 1606295173000, 'slots': 19, 'status': 'OPEN', 'uid': 105}, 'free_bikes': 9, 'id': '18ae23891b84bd6fe5f943ad37e45b8b', 'latitude': 37.358910362359936, 'longitude': -5.980620151182153, 'name': '105_CALLE FRANCISCO MURILLO', 'timestamp': '2020-11-25T09:13:10.279000Z'}, {'empty_slots': 10, 'extra': {'address': 'CALLE MUÑOZ LEÓN - Aprox. C/ Morera', 'banking': True, 'bonus': False, 'last_update': 1606295184000, 'slots': 15, 'status': 'OPEN', 'uid': 32}, 'free_bikes': 5, 'id': '402fc7639b83eb9590a196e3f952626c', 'latitude': 37.402019532357485, 'longitude': -5.986323196073661, 'name': '032_CALLE MUÑOZ LEÓN', 'timestamp': '2020-11-25T09:13:10.280000Z'}, {'empty_slots': 8, 'extra': {'address': 'AVENIDA CARDENAL BUENO MONREAL - Aprox. Avda Ramón Carande', 'banking': True, 'bonus': False, 'last_update': 1606295271000, 'slots': 20, 'status': 'OPEN', 'uid': 157}, 'free_bikes': 12, 'id': '4cfd9434435ca855af7560475d18e15f', 'latitude': 37.369799405424466, 'longitude': -5.978194722821982, 'name': '157_AVENIDA CARDENAL BUENO MONREAL', 'timestamp': '2020-11-25T09:13:10.281000Z'}, {'empty_slots': 26, 'extra': {'address': 'GLORIETA PLUS ULTRA - Aprox. Estadio Manuel Ruiz de Lopera', 'banking': True, 'bonus': False, 'last_update': 1606295200000, 'slots': 30, 'status': 'OPEN', 'uid': 114}, 'free_bikes': 3, 'id': 'e223dea1951bc1b1a4030390034fb643', 'latitude': 37.356372352725714, 'longitude': -5.979262144945245, 'name': '114_GLORIETA PLUS ULTRA', 'timestamp': '2020-11-25T09:13:10.282000Z'}, {'empty_slots': 9, 'extra': {'address': 'AVDA ESPERANZA DE TRIANA - Aprox. Plaza Amadeo Janone', 'banking': True, 'bonus': False, 'last_update': 1606295278000, 'slots': 20, 'status': 'OPEN', 'uid': 112}, 'free_bikes': 11, 'id': '300f1d15da6633ca0ac6e16c3a481407', 'latitude': 37.380153438452595, 'longitude': -6.004383246859136, 'name': '112_AVDA ESPERANZA DE TRIANA', 'timestamp': '2020-11-25T09:13:10.283000Z'}, {'empty_slots': 3, 'extra': {'address': 'CALLE VIRGEN DE LUJÁN - Aprox. C/ Asunción', 'banking': True, 'bonus': False, 'last_update': 1606295028000, 'slots': 24, 'status': 'OPEN', 'uid': 134}, 'free_bikes': 21, 'id': '92a3a6724b43a248a6c8b96f210d910e', 'latitude': 37.374770419100905, 'longitude': -5.998536223231469, 'name': '134_CALLE VIRGEN DE LUJÁN', 'timestamp': '2020-11-25T09:13:10.284000Z'}, {'empty_slots': 25, 'extra': {'address': 'ESTACIÓN RENFE SANTA JUSTA', 'banking': True, 'bonus': False, 'last_update': 1606295524000, 'slots': 40, 'status': 'OPEN', 'uid': 70}, 'free_bikes': 15, 'id': 'd16b898b9b594e7cba06105edf8e9e59', 'latitude': 37.3911584928049, 'longitude': -5.97597115351185, 'name': '070_ESTACIÓN RENFE SANTA JUSTA', 'timestamp': '2020-11-25T09:13:10.285000Z'}, {'empty_slots': 10, 'extra': {'address': 'AVENIDA DE LA PALMERA - Aprox. Clinica de Fátima', 'banking': True, 'bonus': False, 'last_update': 1606295332000, 'slots': 20, 'status': 'OPEN', 'uid': 144}, 'free_bikes': 10, 'id': '69c7d8bac2f4cf7b899cce0f829ec823', 'latitude': 37.36912633937041, 'longitude': -5.988080397280193, 'name': '144_AVENIDA DE LA PALMERA', 'timestamp': '2020-11-25T09:13:10.286000Z'}, {'empty_slots': 12, 'extra': {'address': 'AVENIDA CARDENAL BUENO MONREAL - Aprox. Avda Manuel Siurot', 'banking': True, 'bonus': False, 'last_update': 1606295067000, 'slots': 20, 'status': 'OPEN', 'uid': 159}, 'free_bikes': 8, 'id': '765ed426f65aa461c48ab95b903814d2', 'latitude': 37.36804539727759, 'longitude': -5.984854171329494, 'name': '159_AVENIDA CARDENAL BUENO MONREAL', 'timestamp': '2020-11-25T09:13:10.287000Z'}, {'empty_slots': 4, 'extra': {'address': 'CALLE ALHÓNDIGA - Aprox. Card. Cervantes', 'banking': True, 'bonus': False, 'last_update': 1606295034000, 'slots': 14, 'status': 'OPEN', 'uid': 65}, 'free_bikes': 8, 'id': '7871070c2c58657b859bd8621cd74bef', 'latitude': 37.391299488908295, 'longitude': -5.988140196280803, 'name': '065_CALLE ALHÓNDIGA', 'timestamp': '2020-11-25T09:13:10.288000Z'}, {'empty_slots': 4, 'extra': {'address': 'AVENIDA REINA MERCEDES - Aprox. C/ Profesor García González', 'banking': True, 'bonus': False, 'last_update': 1606295020000, 'slots': 20, 'status': 'OPEN', 'uid': 146}, 'free_bikes': 15, 'id': '4aa2d4fb8dbed41926bdaba11601ae92', 'latitude': 37.360100626411395, 'longitude': -5.986312974875395, 'name': '146_AVENIDA REINA MERCEDES', 'timestamp': '2020-11-25T09:13:10.289000Z'}, {'empty_slots': 3, 'extra': {'address': 'CALLE VIRGEN DE LUJÁN - Aprox. Glorieta las Cigarreras', 'banking': True, 'bonus': False, 'last_update': 1606295375000, 'slots': 17, 'status': 'OPEN', 'uid': 135}, 'free_bikes': 14, 'id': '373f56e9f479c5280de1951f26ce1f52', 'latitude': 37.37465142036539, 'longitude': -5.993801206544696, 'name': '135_CALLE VIRGEN DE LUJÁN', 'timestamp': '2020-11-25T09:13:10.290000Z'}, {'empty_slots': 12, 'extra': {'address': 'CALLE ZORZAL - Aprox. Avenida de Andalucia', 'banking': True, 'bonus': False, 'last_update': 1606295239000, 'slots': 15, 'status': 'OPEN', 'uid': 215}, 'free_bikes': 3, 'id': '655e976c0d9bf67309f1e3372934232f', 'latitude': 37.38664148025849, 'longitude': -5.953981074150936, 'name': '215_CALLE ZORZAL', 'timestamp': '2020-11-25T09:13:10.291000Z'}, {'empty_slots': 10, 'extra': {'address': 'AVENIDA SOLEA - Aprox. C/ Media Granaína', 'banking': True, 'bonus': False, 'last_update': 1606295401000, 'slots': 18, 'status': 'OPEN', 'uid': 162}, 'free_bikes': 8, 'id': 'b89d8eb8aad138d97575ec76547996f0', 'latitude': 37.39154049708111, 'longitude': -5.96846612741093, 'name': '162_AVENIDA SOLEA', 'timestamp': '2020-11-25T09:13:10.292000Z'}, {'empty_slots': 10, 'extra': {'address': 'CALLE JOSE DIAZ - Aprox. Avda Concejal Alberto Jiménez-Becerril', 'banking': True, 'bonus': False, 'last_update': 1606295144000, 'slots': 20, 'status': 'OPEN', 'uid': 10}, 'free_bikes': 10, 'id': '6300304166632afb4672ce4938d0e1cf', 'latitude': 37.4093850256092, 'longitude': -5.99076600871424, 'name': '010_CALLE JOSE DIAZ', 'timestamp': '2020-11-25T09:13:10.293000Z'}, {'empty_slots': 14, 'extra': {'address': 'AVENIDA DE ANDALUCIA - Aprox. Entrada TUSSAM', 'banking': True, 'bonus': False, 'last_update': 1606295561000, 'slots': 20, 'status': 'OPEN', 'uid': 214}, 'free_bikes': 6, 'id': '11ec16ec86365b3c67626a64f33fe617', 'latitude': 37.3870909, 'longitude': -5.9483186, 'name': '214_AVENIDA DE ANDALUCIA', 'timestamp': '2020-11-25T09:13:09.957000Z'}, {'empty_slots': 17, 'extra': {'address': 'AVENIDA DE ANDALUCIA - Aprox. Cochera de TUSSAM', 'banking': True, 'bonus': False, 'last_update': 1606295076000, 'slots': 20, 'status': 'OPEN', 'uid': 213}, 'free_bikes': 3, 'id': '26fb7607ec06403304e1e58e00b258b5', 'latitude': 37.3871434869041, 'longitude': -5.94841005455344, 'name': '213_AVENIDA DE ANDALUCIA', 'timestamp': '2020-11-25T09:13:10.267000Z'}]}}\n"
     ]
    }
   ],
   "source": [
    "import urllib.request\n",
    "\n",
    "# urllib.request.urlopen es parecido a la función open, pero en lugar de leer\n",
    "# desde un fichero estamos leyendo una dirección http\n",
    "with urllib.request.urlopen(\"https://api.citybik.es/v2/networks/sevici\") as f:\n",
    "    sevici_json = f.read()\n",
    "    estaciones = json.loads(sevici_json)\n",
    "    print(estaciones)"
   ]
  },
  {
   "cell_type": "markdown",
   "metadata": {},
   "source": [
    "El objeto que hemos cargado en la variable estaciones tiene una estructura compleja, por lo que es conveniente consultar la [documentación del servicio](https://api.citybik.es/v2/) si queremos utilizar dichos datos en nuestro programa. Observe el abundante uso de diccionarios y listas. Por ejemplo, es posible acceder a las direcciones de todas las estaciones mediante este código:"
   ]
  },
  {
   "cell_type": "code",
   "execution_count": 45,
   "metadata": {},
   "outputs": [
    {
     "name": "stdout",
     "output_type": "stream",
     "text": [
      "PLAZA NUEVA - Aprox. C/ Mendez Núñez\n",
      "PLAZA NUEVA - Aprox. C/ Jaen\n",
      "CALLE PARQUE DE DOÑANA - Aprox. Calle Corral de los Olmos\n",
      "AVENIDA REINA MERCEDES - Aprox. Facultad de Informática\n",
      "PLAZA SAN AGUSTIN - Aprox. C/ Concepción\n",
      "CALLE ORFEBRE DOMINGUEZ VÁZQUEZ - Aprox. C/ Pino Montano\n",
      "PASEO CATALINA RIBERA - Aprox. C/ San Fernando\n",
      "CALLE BETIS - Aprox. C/ Juan de Lugo\n",
      "CALLE PAEZ DE RIVERA - Aprox. Paseo de la Palmera\n",
      "Esquina Calle Pero Mingo\n",
      "CALLE LUIS MONTOTO - Aprox. C/ Maese Farfán\n",
      "AVENIDA MUJER TRABAJADORA - Aprox. Avda Miraflores\n",
      "AVENIDA DOCTOR EMILIO LEMOS - Aprox. C/ de Birmania\n",
      "AVENIDA EDUARDO DATO - Aprox. C/ San Bernardo\n",
      "CALLE DE MANUEL VILLALOBOS - Aprox. C/ Sor Francisca Dorotea\n",
      "CALLE RAMON DE CARRANZA - Aprox. C/ Virgen de la Oliva\n",
      "PLAZA DEL PELICANO - Aprox. C/ Enladrilladas\n",
      "AVENIDA ALEMANIA - Aprox. Glorieta Chekia\n",
      "AVENIDA DE MIRAFLORES - Aprox. C/ Manuel Ródenas\n",
      "Esquina rotanda Torreblanca\n",
      "AVENIDA ALCALDE LUIS URUÑUELA - Aprox. Hotel Sevilla Congresos\n",
      "Virgen de Loreto - Aprox. C/ Arcos\n",
      "CAMINO DE LOS DESCUBRIMIENTOS - Aprox. C/ Albert Einstein\n",
      "AVENIDA DE CHILE - Aprox. Costurero de la Reina\n",
      "CALLE LEÓN XIII - Aprox. C/ Antonio Pantión\n",
      "CAMINO DE LOS TOROS - Aprox. C/ Mediterráneo\n",
      "PLAZA CHAPINA - Aprox. Hotel Abba Triana\n",
      "CALLE NAVARRA - Aprox. C/ Cataluña\n",
      "PLAZA NUEVA - Aprox. C/ Tetuan\n",
      "AVENIDA HYTASA - Aprox. C/ Romeral\n",
      "CALLE SAN VICENTE - Aprox. C/ Guadalquivir\n",
      "AVENIDA ALCALDE LUIS URUÑUELA - Aprox. Centro Comercial Zona Este\n",
      "CALLE MANUEL VILLALOBOS - Aprox. C/ Madre San Marcelo\n",
      "AVENIDA KANSAS CITY - Aprox. C/ Naranjito de Triana\n",
      "CALLE LEÓN XIII - Aprox. C/ Fray Isidoro de Sevilla\n",
      "CALLE DE INCA GARCILASO - Aprox. C/ Juan Antonio de Vizarrón\n",
      "CALLE TESALÓNICA - Calle Mazzantini\n",
      "CALLE CORRAL DEL AGUA - Aprox. Camino de los toros\n",
      "PLAZA DUQUESA DE ALBA - Puente de la Barqueta\n",
      "PLAZA NUEVA - Aprox. C/ Mendez Núñez\n",
      "PLAZA DE LA CONCORDIA - Aprox. C/ Teniente Borges\n",
      "AAVENIDA DE GRECIA - Aprox. Avda de Italia\n",
      "AVENIDA RAMÓN Y CAJAL - Aprox. Avda de la Ciudad Jardín\n",
      "AVENIDA RAMÓN Y CAJAL - Aprox. C/ Villegas Marmolejo\n",
      "AVENIDA KANSAS CITY - Aprox. C/ Macedonia\n",
      "CALLE ARROYO - Aprox. Avda. José Laguillo\n",
      "PLAZA DEL MUSEO - Aprox. C/ Alfonso XII\n",
      "AVENIDA DE ALEMANIA - Aprox. Glorieta de Letonia\n",
      "PLAZA CALDERÓN DE LA BARCA - Aprox. C/ Amargura\n",
      "AVENIDA SAN FRANCISCO JAVIER - Aprox. Avda De Ramón y Cajal\n",
      "CALLE REGINA - Aprox. Pza de la Encarnación\n",
      "CALLE THARSIS - Aprox. C/ Aorno\n",
      "PLAZA DE CUBA - Aprox. Puente de San Telmo\n",
      "CALLE ENRAMADILLA - Aprox. C/ Balbino Marrón\n",
      "AVENIDA DE ALVAR NUÑEZ - Aprox. C/ Collante\n",
      "PRADO DE SAN SEBASTIAN - Estación de autobuses\n",
      "CALLE LEONARDO DA VINCI - Aprox. C/ Albert Einstein\n",
      "PUERTO DE LOS AZORES - Aprox. C/ Paulo Orosio\n",
      "CALLE IFNI - Aprox. Avda de Holanda\n",
      "CALLE JUAN DE MATA CARRIAZO - Aprox. antigua estación San Bernardo\n",
      "RONDA TAMARGUILLO - Aprox. Avda de la Paz\n",
      "AVENIDA SANCHEZ PIZJUAN - Facultad de Medicina\n",
      "CALLE ALFONSO LASO DE LA VEGA - Aprox. Parroco Antonio González\n",
      "AVENIDA DE LA PALMERA - Aprox. Avenida del Líbano\n",
      "AVENIDA ALCALDE LUIS URUÑUELA - Aprox. Pza de la Acogida\n",
      "GLORIETA BIZCO AMATE - Aprox. Avda Ramón y Cajal\n",
      "CALLE LUIS MONTOTO - Aprox. C/ Benitos Mas y Prat\n",
      "CALLE MÉDICOS SIN FRONTERA - Aprox. Avda de las Ciencias\n",
      "HOPITAL VALME.-Esquina Carretera Bellasvistas\n",
      "CALLE CUESTA DE ROSARIO - Pza de la Pescadería\n",
      "PLAZA DE LAS MERCEDARIAS - Aprox. C/ Ibarra\n",
      "CIUDAD DE CHIVA - Aprox. C/ ciudad de Alfajar\n",
      "AVENIDA ALCALDE LUIS URUÑUELA - Aprox. C/ Carlinga\n",
      "CALLE ROMA - Aprox. C/ Palos de la Frontera\n",
      "AVENIDA DE LAS CIENCIAS - Aprox. C/ de Ulises\n",
      "AVDA ESPERANZA DE TRIANA - Aprox. Avda Republica Argentina\n",
      "PASEO CRISTOBAL COLON - Aprox. Puente de Triana\n",
      "ESTADIO OLIMPICO\n",
      "Esquina Calle Creus\n",
      "CALLE RAMON DE CARRANZA - Aprox. C/ Asunción\n",
      "AVENIDA LOS GAVILANES - Aprox. Avda Juan XXIII\n",
      "AVENIDA HYTASA - Aprox. C/ Herramienta\n",
      "Esquina con C/Enramadilla\n",
      "AVENIDA TORNEO - Aprox. C/ Luis Rey Romero\n",
      "Esquina con Alejandro Collantes\n",
      "CALLE FELIPE II - Aprox. C/ Ramón Carande\n",
      "RONDA CAPUCHINOS - Aprox. C/ Maestro Quiroga\n",
      "CIUDAD DE CHIVA - Aprox. C/ Ildefonso Marañon\n",
      "Avda Alberto Jiménez Becerril - Antes Calle Maimonides\n",
      "PLAZA DEL ALTOZANO - Aprox. C/ San Jorge\n",
      "AVENIDA DE LLANES - Aprox C/ Escultor Francisco Buiza\n",
      "GLORIETA OLIMPICA - Aprox. Concejal Alberto Jiménez-Becerril\n",
      "CALLE ESTRELLA CANOPUS - Aprox. C/ estrella Betelgeuse\n",
      "CALLE DE LA A.D.A. - Aprox. C/ Jerusalén\n",
      "PLAZA DE ARMAS - Avda Torneo (estación de autobuses)\n",
      "AVENIDA REINA MERCEDES - Aprox. Escuela de arquitectura\n",
      "CALLE ANTIOQUIA - Aprox. Avda de Pedro Romero\n",
      "140 NUESTRA SEÑORA DE LAS MERCEDES\n",
      "CALLE CHURRUCA - Aprox. C/ Gonzáles Cuadrado\n",
      "GLORIETA DE LOS FERROVIARIOS - Aprox. C/ Navarra\n",
      "CALLE LUIS MONTOTO - Aprox. C/ Alberto Duero\n",
      "261: AVDA/ JUAN PABLO II - – ESQUINA C/ ALFONSO DE ORLEANS Y BORBÓN.\n",
      "CALLE DE MADRESELVA - Aprox. Ronda de Pio XII\n",
      "ALAMEDA DE HERCULES - Aprox. C/ Amor de Dios\n",
      "CALLE PROCURADOR - Clara de Jesús Monteto\n",
      "Ciudad de Ronda - Aprox. Avda Carlos V\n",
      "AVENIDA ALCALDE MANUEL DEL VALLE - Aprox. C/ San Juan de la Salle\n",
      "AVENIDA SANTA FE - Aprox. C/ Virgen de la Oliva\n",
      "CALLE LOPEZ DE GOMARA - En frente Instituto Adolfo Becker\n",
      "GLORIETA CARLOS CANO - Aprox. C/ Blas Infante\n",
      "CALLE DOCTOR LAFFON - Aprox. C/ Efeso\n",
      "AVENIDA DE ANDALUCIA - Aprox. Centro Comercial Los Arcos\n",
      "AVENIDA KANSAS CITY - Aprox. Pza el Tato\n",
      "CALLE ARROYO - Aprox. C/ Tena\n",
      "Esquina Calle Aguila Perdicera\n",
      "CALLE DE SALVADOR ALLENDE - Aprox. C/ de Marruecos\n",
      "AVENIDA EDUARDO DATO - Aprox. C/ Oscar Carvallo\n",
      "AVENIDA DE LLANES - Aprox. Avda de Miraflores\n",
      "AVENIDA ALCALDE LUIS URUÑUELA - Aprox. Palacio de los Congresos\n",
      "AVENIDA ALCALDE JUAN FERNÁNDEZ - Aprox. C/ Profesor Buenaventura Pinillos\n",
      "CALLE AMERICO VESPUCIO - Aprox. C/ Hermanos d'Eluyar\n",
      "PASEO DE CRISTÓBAL COLÓN - Aprox. Torre del Oro\n",
      "CALLE AMÉRICO VESPUCIO - Aprox. Calle de Jacques Cousteau\n",
      "CARRETERA DE CARMONA - Aprox. C/ de Francisco de Ariño\n",
      "Esquina corazon de MAria\n",
      "CAMINO DE LOS DESCUBRIMIENTOS - Aprox. Pasarela de la Cartuja\n",
      "CAMINO DE LOS DESCUBRIMIENTOS - Aprox. C/ Thomás Alba Edison\n",
      "CALLE LUIS MONTOTO - Aprox. C/ El Greco\n",
      "CALLE LEONARDO DA VINCI - Aprox C/ Thomas Alba Edison\n",
      "CALLE ASUNCIÓN - Aprox. C/ Virgen de la Antigua\n",
      "AVENIDA DE LA CIUDAD JARDÍN - Aprox. C/ Profesor Braña\n",
      "AVENIDA LA BUHAIRA - Aprox. Avda Luis Montoto\n",
      "CALLE DR MARAÑON - Aprox. C/ San Juan de Ribera\n",
      "AVENIDA EDUARDO DATO - Aprox. C/ Fuenteovejuna\n",
      "AVENIDA DE CORIA - Aprox. C/ Coruña\n",
      "AVENIDA REINIDO UNIDO - Aprox. Avda de Italia\n",
      "RONDA DEL TAMARGUILLO - Aprox. Centro Comercial Los Arcos\n",
      "AVENIDA EDUARDO DATO - Aprox. C/ Marqués del Nervión\n",
      "CAMINO DE LOS DESCUBRIMIENTOS - Aprox. Calle Isaac Newton\n",
      "CALLE AMÉRICO VESPUCIO - Aprox. Gerencia de Urbanismo de Sevilla\n",
      "CALLE FERIA - Aprox. C/ Resolana\n",
      "CALLE JOSE LAGUILLO - Aprox. Pablo Iglesias\n",
      "PLAZA ANTONIO APARICIO HERRERO - Aprox. C/ San Juan de Dios\n",
      "CALLE MAR DE ALBORÁN - Aprox. C/ Camino de los Toros\n",
      "CALLE DE LA A.D.A. - Aprox. C/ de Tesalónica\n",
      "AVENIDA DE LA BORBOLLA - Aprox. C/ Porvenir\n",
      "CALLE JUAN ANTONIO CABESTANY - Aprox. Calle Júpiter\n",
      "ALHAMBRA.- Esquina Carretera Bellasvistas\n",
      "CALLE RAMÓN CARANDE - Aprox. C/ San Salvador\n",
      "AVENIDA ALCALDE LUIS URUÑUELA - Aprox. Cueva de la Pileta\n",
      "Aproximado Parque Amate\n",
      "RONDA CAPUCHINOS - Aprox. C/ Corinto\n",
      "CALLE JOSÉ MARÍA MORENO GALVÁN - Aprox. C/ Juan Antonio Cabestany\n",
      "Aprox. Avda Los Gavilanes\n",
      "PLAZA PILATOS - Aprox. C/ San Esteban\n",
      "CALLE SAN JUAN BOSCO - Aprox. C/ Arroyo\n",
      "PLAZA CRONISTA - Aprox. C/ Divina Pastora\n",
      "MAR DE ALBORÁN - Aprox. Corral de los Olmos\n",
      "RONDA DE TRIANA - Aprox. C/ San Vicente de Paul\n",
      "PLAZA SAN MARTÍN DE PORRES - Aprox. Avda Alvar Núñez\n",
      "PLAZA DEL ZURRAQUE - Aprox. C/ Doc. Jeronimo Pou\n",
      "CALLE SAMANIEGO - Aprox. C/ Esperanza de la Trinidad\n",
      "AVENIDA SAN FRANCISCO JAVIER - Aprox. C/ Camilo José Cela\n",
      "AVENIDA DE ROMA - Puerta de Jerez\n",
      "PUERTA DE LA BARQUETA - Aprox. Puente de la Barqueta\n",
      "PARLAMENTO - Aprox. C/ Don Fadrique\n",
      "CARRETERA DE CARMONA - Aprox. C/ Maestro Solano\n",
      "AVENIDA ALCALDE MANUEL DEL VALLE - Aprox. C/ Alejandro Sawa\n",
      "CALLE SAN PABLO - Aprox. C/ Bailén\n",
      "CALLE DOCTOR LAFFON - Aprox. C/ Tesalonica\n",
      "CALLE ALFARERIA - Aprox. Ronda de Triana\n",
      "GLORIETA REPUBLICA DOMINICANA - Aprox. C/ López de Gomara\n",
      "AVENIDA REINA MERCEDES - Aprox. C/ Profesor García González\n",
      "CALLE CIUDAD DE LIRIA - Aprox. Avda de Fernando\n",
      "CARRETERA DE CARMONA - Aprox. Avda de Llanes\n",
      "CALLE VICTORIA KENT - Aprox. Avda Alcalde Manuel del Valle\n",
      "AVENIDA DE MIRAFLORES - Aprox. C/ Albaida\n",
      "RONDA TAMARGUILLO - Aprox. Alfonso Laso de la Vega\n",
      "AVENIDA CARDENAL BUENO MONREAL - Aprox. C/ Bogota\n",
      "CALLE SINAÍ - Aprox. C/ Baltazar Gracián\n",
      "AVENIDA KANSAS CITY - Aprox. C/ Baltasar Gracián\n",
      "AVENIDA ALCALDE MANUEL DEL VALLE - Aprox. C/ Baltasar de Alcázar\n",
      "PARLAMENTO - Aprox. C/ San Juan de Ribera\n",
      "GLORIETA SAN DIEGO - Aprox. C/ Palos de la Frontera\n",
      "CALLE AMERICO VESPUCIO - Aprox. C/ Gregor Mendel\n",
      "PASEO DE EUROPA - Aprox. Ava de Francia\n",
      "AVENIDA EDUARDO DATO - Detrás Estadio Sánchez Pizjuan\n",
      "AVENIDA KANSAS CITY - Aprox. Hotel Occidental\n",
      "AVENIDA EDUARDO DATO - Aprox. Avda de San Francisco Javier\n",
      "GRAN PLAZA - Aprox. Calle Marquez de Pickman\n",
      "ALAMEDA DE HÉRCULES - Aprox. C/ Vulcano\n",
      "AVENIDA ALCALDE LUIS URUÑUELA - Aprox. Estación de RENFE\n",
      "AVENIDA DE LAS CIENCIAS - Aprox. Avda de la Republica China\n",
      "CALLE JOSÉ SARAMAGO - Aprox. Avda del Alcalde Juan Fernández\n",
      "PLAZA SAN FRANCISCO - Aprox C/ Hernando Colón\n",
      "CIUDAD DE CHIVA - Aprox. C/ ciudad de Liria\n",
      "GLORIETA DEL PRIMERO DE MAYO - Aprox. C/ Carlos Marx\n",
      "PLAZA SAN JUAN DE LA PALMA - Aprox. iglesia\n",
      "CALLE RAFAEL SALGADO - Aprox. C/ Castillo Alcala de Guadaira\n",
      "RONDA TAMARGUILLO - Plaza Ruperto Chapí\n",
      "CALLE PINO MONTANO - Aprox. C/ Estafeta\n",
      "CALLE AMÉRICO VESPUCIO - Aprox. C/ Juan Bautista Muñoz\n",
      "PLAZA CRISTO DE BURGOS - Pza de San Pedro\n",
      "CALLE FLOR DE RETAMA - Aprox. Centro Deportivo Entreflores\n",
      "AVENIDA ALCALDE LUIS URUÑUELA - Aprox. Paseo Miguel de Unamuno\n",
      "CALLE LUIS MORALES - Aprox. Nervión Plaza\n",
      "CALLE VIRGEN DE LA VICTORIA - Aprox. C/ Asunción\n",
      "AVENIDA DIEGO MARTINEZ BARRIO - Aprox. Avda Gal Garcia de la Herranz\n",
      "CALLE AGRICULTORES - Aprox. C/ estrella Betelgeuse\n",
      "PLAZA PUMAREJO - Aprox. Calle San Luis\n",
      "CALLE ADRIANO - Aprox. C/ Antonia Díaz\n",
      "GASPAR CALDERAS.- Esquina con Carretera Bellasvistas\n",
      "AVENIDA REINA MERCEDES - Aprox. Glorieta Alcalde de Parias Merry\n",
      "ALCALDE MANUEL DEL VALLE - Aprox. C/ Pino Montano\n",
      "CIUDAD DE CHIVA - Aprox. Pza del Árbol Rey\n",
      "CALLE DE HERNÁN CORTÉS - Aprox. C/ Eslava\n",
      "AVENIDA AERONAUTICA - Aprox. Avda del Deporte\n",
      "CALLE URQUIZA - Aprox. C/ Venecia\n",
      "CALLE MANUEL SIUROT - Aprox. Hospital Universitario Virgen del Rocio\n",
      "PLAZA SAN ANTONIO DE PADUA - Aprox. C/ Marqués de la Mina\n",
      "CALLE REYES CATÓLICOS - Aprox. C/ Gravina\n",
      "AVENIDA KANSAS CITY - Aprox. Avda El Greco\n",
      "CALLE TABLADILLA - Aprox. C/ Cardenal Ilundaín\n",
      "ALAMEDA DE HERCULES - Aprox. Calle Peris Mencheta\n",
      "PLAZA JERONIMO DE CORDOBA- Aprox. C/ Escuelas Pías\n",
      "CALLE VIRGEN DE LUJAN - Aprox. Virgen de la Victoria\n",
      "CALLE ENRAMADILLA - Aprox. C/ Barrau\n",
      "RONDA DE TRIANA - Aprox. C/ de Manuel Arellano\n",
      "PZA FARMACÉUTICO MURILLO HERRERA - Aprox. C/ Pajes de Corro\n",
      "AVENIDA HYTASA - Aprox. Nuestra Señora de los Dolores\n",
      "RONDA TAMARGUILLO - Aprox. Marqués de Pickman\n",
      "CALLE DE MARIA AUXILIADORA - Aprox. C/ Gonzalo de Bilbao\n",
      "CALLE GEMA - Aprox. Avda de las Ciencias\n",
      "CALLE DOCTOR PEDRO DE CASTRO - Aprox. C/ Doc. Gabriel Sánchez\n",
      "AVENIDA DE LA CRUZ ROJA - Aprox. C/ Albaida\n",
      "PASEO CATALINA RIBERA - Frente a la Diputación Provincial\n",
      "CALLE HINIESTA - Aprox. Convento Santa Isabel\n",
      "AVENIDA DE LAS CIENCIAS - Aprox. C/ Flor de Salvia\n",
      "CALLE AMADOR DE LOS RIOS - Aprox. C/ Lope de Vega\n",
      "CALLE DOCTOR JAIME MARCOS - Aprox. Avda. Doc. Fedriani\n",
      "CALLE SAN JUAN DE RIBERA - Aprox. C/ Fray Isidoro de Sevilla\n",
      "CALLE DEL INCA GARCILASO - Aprox. C/ Jerónimo de Aguilar\n",
      "CALLE FRANCISCO MURILLO - Aprox. C/ Manuel Siurot\n",
      "CALLE MUÑOZ LEÓN - Aprox. C/ Morera\n",
      "AVENIDA CARDENAL BUENO MONREAL - Aprox. Avda Ramón Carande\n",
      "GLORIETA PLUS ULTRA - Aprox. Estadio Manuel Ruiz de Lopera\n",
      "AVDA ESPERANZA DE TRIANA - Aprox. Plaza Amadeo Janone\n",
      "CALLE VIRGEN DE LUJÁN - Aprox. C/ Asunción\n",
      "ESTACIÓN RENFE SANTA JUSTA\n",
      "AVENIDA DE LA PALMERA - Aprox. Clinica de Fátima\n",
      "AVENIDA CARDENAL BUENO MONREAL - Aprox. Avda Manuel Siurot\n",
      "CALLE ALHÓNDIGA - Aprox. Card. Cervantes\n",
      "AVENIDA REINA MERCEDES - Aprox. C/ Profesor García González\n",
      "CALLE VIRGEN DE LUJÁN - Aprox. Glorieta las Cigarreras\n",
      "CALLE ZORZAL - Aprox. Avenida de Andalucia\n",
      "AVENIDA SOLEA - Aprox. C/ Media Granaína\n",
      "CALLE JOSE DIAZ - Aprox. Avda Concejal Alberto Jiménez-Becerril\n",
      "AVENIDA DE ANDALUCIA - Aprox. Entrada TUSSAM\n",
      "AVENIDA DE ANDALUCIA - Aprox. Cochera de TUSSAM\n"
     ]
    }
   ],
   "source": [
    "with urllib.request.urlopen(\"https://api.citybik.es/v2/networks/sevici\") as f:\n",
    "    sevici_json = f.read()\n",
    "    estaciones = json.loads(sevici_json)\n",
    "    for estacion in estaciones['network']['stations']:\n",
    "        print(estacion['extra']['address'])"
   ]
  },
  {
   "cell_type": "markdown",
   "metadata": {},
   "source": [
    "### ¡Prueba tú!\n",
    "El servicio web ofrecido por https://swapi.dev/ proporciona información sobre las películas de la saga Star Wars. Consulta la [documentación del servicio](https://swapi.dev/documentation) y escribe un código similar al de Sevici que muestre los nombres de todos los personajes que aparecen en el episodio VI."
   ]
  },
  {
   "cell_type": "code",
   "execution_count": 49,
   "metadata": {},
   "outputs": [
    {
     "name": "stdout",
     "output_type": "stream",
     "text": [
      "Luke Skywalker\n",
      "C-3PO\n",
      "R2-D2\n",
      "Darth Vader\n",
      "Leia Organa\n",
      "Owen Lars\n",
      "Beru Whitesun lars\n",
      "R5-D4\n",
      "Biggs Darklighter\n",
      "Obi-Wan Kenobi\n"
     ]
    }
   ],
   "source": [
    "with urllib.request.urlopen(\"https://swapi.dev/api/films/6/?format=json\") as f:\n",
    "    swapi_json = f.read()\n",
    "    personajes = json.loads(swapi_json)\n",
    "    for personaje in personajes['results']:\n",
    "        print(personaje['name'])"
   ]
  },
  {
   "cell_type": "code",
   "execution_count": null,
   "metadata": {},
   "outputs": [],
   "source": []
  }
 ],
 "metadata": {
  "anaconda-cloud": {},
  "kernelspec": {
   "display_name": "Python 3",
   "language": "python",
   "name": "python3"
  },
  "language_info": {
   "codemirror_mode": {
    "name": "ipython",
    "version": 3
   },
   "file_extension": ".py",
   "mimetype": "text/x-python",
   "name": "python",
   "nbconvert_exporter": "python",
   "pygments_lexer": "ipython3",
   "version": "3.8.3-final"
  }
 },
 "nbformat": 4,
 "nbformat_minor": 2
}