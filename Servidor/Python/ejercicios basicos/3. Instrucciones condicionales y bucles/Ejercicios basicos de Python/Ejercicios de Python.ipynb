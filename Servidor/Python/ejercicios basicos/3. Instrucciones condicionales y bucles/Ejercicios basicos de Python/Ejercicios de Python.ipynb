{
 "cells": [
  {
   "cell_type": "markdown",
   "metadata": {},
   "source": [
    "# Ejercicios básicos de Python\n",
    "**Docente**: Antonio Gago.  **I.E.S. Velázquez:** Curso 2020-2021\n",
    "**ALumno**: Óscar Carballar Bocanegra"
   ]
  },
  {
   "cell_type": "markdown",
   "metadata": {},
   "source": [
    "## Índice de ejercicios\n",
    "* [Ejercicio 1](#ejercicio_uno)\n",
    "* [Ejercicio 2](#ejercicio_dos)\n",
    "* [Ejercicio 3](#ejercicio_tres)\n",
    "* [Ejercicio 4](#ejercicio_cuatro)\n",
    "* [Ejercicio 5](#ejercicio_cinco)\n",
    "* [Ejercicio 6](#ejercicio_seis)\n",
    "* [Ejercicio 7](#ejercicio_siete)\n",
    "* [Ejercicio 8](#ejercicio_ocho)\n",
    "* [Ejercicio 9](#ejercicio_nueve)\n",
    "* [Ejercicio 10](#ejercicio_diez)"
   ]
  },
  {
   "cell_type": "markdown",
   "metadata": {},
   "source": [
    "## Ejercicio 1 <a name=\"ejercicio_uno\"/>"
   ]
  },
  {
   "cell_type": "markdown",
   "metadata": {},
   "source": [
    "Escribe un programa que solicite al usuario el ingreso de una temperatura en escala Fahrenheit (debe permitir decimales) y le muestre el equivalente en grados Celsius. La fórmula de conversión que se usa para este cálculo es:`Celsius = (5/9) * (Fahrenheit-32)`"
   ]
  },
  {
   "cell_type": "markdown",
   "metadata": {},
   "source": [
    "### ¡Prueba tú!"
   ]
  },
  {
   "cell_type": "code",
   "execution_count": 3,
   "metadata": {},
   "outputs": [
    {
     "name": "stdout",
     "output_type": "stream",
     "text": [
      "10.20\n"
     ]
    },
    {
     "data": {
      "text/plain": [
       "-12.111111111111112"
      ]
     },
     "execution_count": 3,
     "metadata": {},
     "output_type": "execute_result"
    }
   ],
   "source": [
    "def fahrenheitToCelsius():\n",
    "    fahrenheit = float(input())\n",
    "    return (5/9) * (fahrenheit -32)\n",
    "\n",
    "fahrenheitToCelsius()"
   ]
  },
  {
   "cell_type": "markdown",
   "metadata": {},
   "source": [
    "<hr>"
   ]
  },
  {
   "cell_type": "markdown",
   "metadata": {},
   "source": [
    "## Ejercicio 2 <a name=\"ejercicio_dos\"/>"
   ]
  },
  {
   "cell_type": "markdown",
   "metadata": {},
   "source": [
    "Escribe un programa que solicite al usuario ingresar tres números para luego mostrarle el promedio de los tres."
   ]
  },
  {
   "cell_type": "markdown",
   "metadata": {},
   "source": [
    "### ¡Prueba tú!"
   ]
  },
  {
   "cell_type": "code",
   "execution_count": 4,
   "metadata": {},
   "outputs": [
    {
     "name": "stdout",
     "output_type": "stream",
     "text": [
      "introduzca 3 numeros\n",
      "10\n",
      "20\n",
      "30\n",
      "20.0\n"
     ]
    }
   ],
   "source": [
    "print (\"introduzca 3 numeros\"\n",
    "num = 0\n",
    "for i in range(3):\n",
    "    num += int(input())\n",
    "\n",
    "print (num/3)"
   ]
  },
  {
   "cell_type": "markdown",
   "metadata": {},
   "source": [
    "<hr>"
   ]
  },
  {
   "cell_type": "markdown",
   "metadata": {},
   "source": [
    "## Ejercicio 3 <a name=\"ejercicio_tres\"/>"
   ]
  },
  {
   "cell_type": "markdown",
   "metadata": {},
   "source": [
    "Escribe un programa que solicite al usuario el ingreso de dos palabras, las cuales se guardarán en dos variables distintas. A continuación, almacená en una variable la concatenación de la primera palabra, más un espacio, más la segunda palabra. Mostrar este resultado en pantalla.\n"
   ]
  },
  {
   "cell_type": "markdown",
   "metadata": {},
   "source": [
    "### ¡Prueba tú!"
   ]
  },
  {
   "cell_type": "code",
   "execution_count": 5,
   "metadata": {},
   "outputs": [
    {
     "name": "stdout",
     "output_type": "stream",
     "text": [
      "Palabra uno: andres\n",
      "Palabra dos: puta\n",
      "andres puta\n"
     ]
    }
   ],
   "source": [
    "palabra1 = input('Palabra uno: ')\n",
    "palabra2 = input('Palabra dos: ')\n",
    "\n",
    "union = palabra1 + \" \" + palabra2\n",
    "print (union)"
   ]
  },
  {
   "cell_type": "markdown",
   "metadata": {},
   "source": [
    "<hr>"
   ]
  },
  {
   "cell_type": "markdown",
   "metadata": {},
   "source": [
    "## Ejercicio 4 <a name=\"ejercicio_cuatro\"/>"
   ]
  },
  {
   "cell_type": "markdown",
   "metadata": {},
   "source": [
    "Escribe un programa que solicite al usuario el ingreso de un texto y almacene ese texto en una variable. A continuación, mostrar en pantalla la primera letra del texto ingresado. Luego, solicitar al usuario que ingrese un número positivo menor a la cantidad de caracteres que tiene el texto que ingresó (por ejemplo, si escribió la palabra “HOLA”, tendrá que ser un número entre 0 y 4) y almacenar este número en una variable llamada indice.\n",
    "Mostrar en pantalla el carácter del texto ubicado en la posición dada por indice.\n"
   ]
  },
  {
   "cell_type": "markdown",
   "metadata": {},
   "source": [
    "### ¡Prueba tú!"
   ]
  },
  {
   "cell_type": "code",
   "execution_count": 6,
   "metadata": {},
   "outputs": [
    {
     "name": "stdout",
     "output_type": "stream",
     "text": [
      "Introduce una palabra: hola\n",
      "h\n",
      "2\n",
      "l\n"
     ]
    }
   ],
   "source": [
    "palabra = input('Introduce una palabra: ')\n",
    "print (palabra[0])\n",
    "max = len(palabra)\n",
    "num = int(input())\n",
    "while(num > len(palabra) and num < 0):\n",
    "    print(\"Introduce un numero mayor que la longitud de la palabra:\")\n",
    "    num = int(input())\n",
    "print (palabra[num])"
   ]
  },
  {
   "cell_type": "markdown",
   "metadata": {},
   "source": [
    "<hr>"
   ]
  },
  {
   "cell_type": "markdown",
   "metadata": {},
   "source": [
    "## Ejercicio 5 <a name=\"ejercicio_cinco\"/>"
   ]
  },
  {
   "cell_type": "markdown",
   "metadata": {},
   "source": [
    "Escribe un programa para solicitar al usuario el ingreso de un número entero y que luego imprima un valor booleano (**True** o **False**) dependiendo de si el número es par o no."
   ]
  },
  {
   "cell_type": "markdown",
   "metadata": {},
   "source": [
    "### ¡Prueba tú!"
   ]
  },
  {
   "cell_type": "code",
   "execution_count": 167,
   "metadata": {},
   "outputs": [
    {
     "name": "stdout",
     "output_type": "stream",
     "text": [
      "9\n",
      "false\n"
     ]
    }
   ],
   "source": [
    "\n",
    "if ((int(input())%2 == 0) ):\n",
    "    print(\"true\")\n",
    "else:\n",
    "    print(\"false\")"
   ]
  },
  {
   "cell_type": "markdown",
   "metadata": {},
   "source": [
    "<hr>"
   ]
  },
  {
   "cell_type": "markdown",
   "metadata": {},
   "source": [
    "## Ejercicio 6 <a name=\"ejercicio_seis\"/>"
   ]
  },
  {
   "cell_type": "markdown",
   "metadata": {},
   "source": [
    "Escribe un programa para pedir al usuario su nombre y luego el nombre de otra persona, almacenando cada nombre en una variable. Luego mostrar en pantalla un valor booleano (**True** o **False**) que indique si los nombres de ambas personas comienzan con la misma letra ó si terminan con la misma letra. Por ejemplo, si los nombres ingresados son María y Marcos, se mostrará **True**, ya que ambos comienzan con la misma letra. Si los nombres son Ricardo y Gonzalo se mostrará **True**, ya que ambos terminan con la misma letra. Si los nombres son Florencia y Lautaro se mostrará **False**, ya que no coinciden ni la primera ni la última letra."
   ]
  },
  {
   "cell_type": "markdown",
   "metadata": {},
   "source": [
    "### ¡Prueba tú!"
   ]
  },
  {
   "cell_type": "code",
   "execution_count": 9,
   "metadata": {},
   "outputs": [
    {
     "name": "stdout",
     "output_type": "stream",
     "text": [
      "Introduce su nombre: \n",
      "pepe\n",
      "Introduce otro nombre: \n",
      "\n",
      "Te equivocasteeee\n"
     ]
    }
   ],
   "source": [
    "print(\"Introduce su nombre: \")\n",
    "nombre = input()\n",
    "print(\"Introduce otro nombre: \")\n",
    "nombre2 = input()\n",
    "\n",
    "if len(nombre) == 0 or len(nombre2)==0:\n",
    "    print(\"Te equivocasteeee\")\n",
    "else:\n",
    "    if nombre[0] == nombre2[0] or nombre[-1] == nombre2[-1]:\n",
    "        print(\"true\")\n",
    "    else: \n",
    "        print(\"false\")"
   ]
  },
  {
   "cell_type": "markdown",
   "metadata": {},
   "source": [
    "<hr>"
   ]
  },
  {
   "cell_type": "markdown",
   "metadata": {},
   "source": [
    "# Ejercicio 7 <a name=\"ejercicio_siete\"/>"
   ]
  },
  {
   "cell_type": "markdown",
   "metadata": {},
   "source": [
    "Escribe un programa para solicitar al usuario tres números y mostrar en pantalla el menor de los tres."
   ]
  },
  {
   "cell_type": "markdown",
   "metadata": {},
   "source": [
    "### ¡Prueba tú!"
   ]
  },
  {
   "cell_type": "code",
   "execution_count": 11,
   "metadata": {},
   "outputs": [
    {
     "name": "stdout",
     "output_type": "stream",
     "text": [
      "Introduce 3 numeros: \n",
      "0\n",
      "8\n",
      "-9\n",
      "-9\n"
     ]
    }
   ],
   "source": [
    "print (\"Introduce 3 numeros: \")\n",
    "array = []\n",
    "for i in range(3):\n",
    "    array.append(int(input()))\n",
    "array.sort()\n",
    "print(array[0])"
   ]
  },
  {
   "cell_type": "markdown",
   "metadata": {},
   "source": [
    "<hr>"
   ]
  },
  {
   "cell_type": "markdown",
   "metadata": {},
   "source": [
    "# Ejercicio 8 <a name=\"ejercicio_ocho\"/>"
   ]
  },
  {
   "cell_type": "markdown",
   "metadata": {},
   "source": [
    "Escribe un programa que, dada una frase por el usuario, muestre la cantidad total de vocales (tanto mayúsculas como minúsculas) que contiene."
   ]
  },
  {
   "cell_type": "markdown",
   "metadata": {},
   "source": [
    "### ¡Prueba tú!"
   ]
  },
  {
   "cell_type": "code",
   "execution_count": 172,
   "metadata": {},
   "outputs": [
    {
     "name": "stdout",
     "output_type": "stream",
     "text": [
      "el pepe\n",
      "3\n"
     ]
    }
   ],
   "source": [
    "cadena = input()\n",
    "total = 0\n",
    "vocales = \"aeiouAEIOU\"\n",
    "for caracter in cadena:\n",
    "    if caracter in vocales:\n",
    "        total +=1\n",
    "print (total)"
   ]
  },
  {
   "cell_type": "markdown",
   "metadata": {},
   "source": [
    "<hr>"
   ]
  },
  {
   "cell_type": "markdown",
   "metadata": {},
   "source": [
    "# Ejercicio 9 <a name=\"ejercicio_nueve\"/>"
   ]
  },
  {
   "cell_type": "markdown",
   "metadata": {},
   "source": [
    "Escribe un programa que solicite al usuario el ingreso de cadenas de longitud 1 (un solo carácter), uno por vez. La repetición finalizará cuando se ingrese una cadena que no tenga longitud 1, o cuando la cadena ingresada corresponda al dígito numérico 0. Al finalizar, mostrar la cadena completa que se formó con todos los caracteres ingresados y qué porcentaje de caracteres del total fueron la letra **\"a\"**."
   ]
  },
  {
   "cell_type": "markdown",
   "metadata": {},
   "source": [
    "### ¡Prueba tú!"
   ]
  },
  {
   "cell_type": "code",
   "execution_count": 14,
   "metadata": {},
   "outputs": [
    {
     "name": "stdout",
     "output_type": "stream",
     "text": [
      "p\n",
      "p\n",
      "p\n",
      "p\n",
      "p\n",
      "p\n",
      "a\n",
      "0\n",
      "ppppppa\n",
      "Porcentaje de a 14.285714285714286\n"
     ]
    }
   ],
   "source": [
    "cadenaTotal = \"\"\n",
    "caracter = input()\n",
    "totala = 0\n",
    "\n",
    "while len(caracter) == 1 and caracter != \"0\":\n",
    "    cadenaTotal += caracter\n",
    "    if caracter in \"a\":\n",
    "        totala +=1\n",
    "    caracter = input()\n",
    "\n",
    "totala = (totala*100)/len(cadenaTotal)\n",
    "print(cadenaTotal)\n",
    "print(\"Porcentaje de a\", totala)"
   ]
  },
  {
   "cell_type": "markdown",
   "metadata": {},
   "source": [
    "<hr>"
   ]
  },
  {
   "cell_type": "markdown",
   "metadata": {},
   "source": [
    "# Ejercicio 10 <a name=\"ejercicio_diez\"/>"
   ]
  },
  {
   "cell_type": "markdown",
   "metadata": {},
   "source": [
    "Escribe un programa que, dado un número entero por el usuario (guardado como **int**), muestre la suma de todos sus dígitos. Recuerda que vas a necesitar obtener cada uno de los dígitos por separado para poder sumarlos entre sí. "
   ]
  },
  {
   "cell_type": "markdown",
   "metadata": {},
   "source": [
    "### ¡Prueba tú!"
   ]
  },
  {
   "cell_type": "code",
   "execution_count": 174,
   "metadata": {},
   "outputs": [
    {
     "name": "stdout",
     "output_type": "stream",
     "text": [
      "Introduce un numero grande: \n",
      "999\n",
      "27\n"
     ]
    }
   ],
   "source": [
    "print(\"Introduce un numero grande: \")\n",
    "numeros = int(input())\n",
    "num = 0\n",
    "\n",
    "for i in range(len(str(numeros))):\n",
    "    num += numeros%10\n",
    "    numeros = int(numeros/10)\n",
    "        \n",
    "print (num)"
   ]
  },
  {
   "cell_type": "markdown",
   "metadata": {},
   "source": [
    "<hr>"
   ]
  }
 ],
 "metadata": {
  "kernelspec": {
   "display_name": "Python 3",
   "language": "python",
   "name": "python3"
  },
  "language_info": {
   "codemirror_mode": {
    "name": "ipython",
    "version": 3
   },
   "file_extension": ".py",
   "mimetype": "text/x-python",
   "name": "python",
   "nbconvert_exporter": "python",
   "pygments_lexer": "ipython3",
   "version": "3.8.3"
  }
 },
 "nbformat": 4,
 "nbformat_minor": 4
}
