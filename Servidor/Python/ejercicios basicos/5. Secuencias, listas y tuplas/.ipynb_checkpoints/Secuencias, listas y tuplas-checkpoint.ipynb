{
 "cells": [
  {
   "cell_type": "markdown",
   "metadata": {},
   "source": [
    "# Secuencias, listas y tuplas\n",
    "**Docente**: Antonio Gago.  **I.E.S. Velázquez:** Curso 2020-2021"
   ]
  },
  {
   "cell_type": "markdown",
   "metadata": {},
   "source": [
    "## Índice de contenidos\n",
    "* [1. Secuencias](#sec_secuencias)\n",
    " * [1.1. Operadores sobre secuencias](#sec_operadores_sec)\n",
    " * [1.2. _Slicing_](#sec_slicing_sec)\n",
    " * [1.3. Métodos y funciones _built-in_ para secuencias](#sec_builtin_sec)\n",
    "* [2. Listas](#sec_listas)\n",
    " * [2.1. Creación de una lista](#sec_creacion)\n",
    " * [2.2. Acceso a una lista](#sec_acceso)\n",
    " * [2.3. Otras operaciones con listas](#sec_otras)\n",
    "* [3. Comprensión de listas](#sec_comprension_listas)\n",
    "* [4. Tuplas](#sec_tuplas)"
   ]
  },
  {
   "cell_type": "markdown",
   "metadata": {},
   "source": [
    "## 1. Secuencias <a name=\"sec_secuencias\"/>"
   ]
  },
  {
   "cell_type": "markdown",
   "metadata": {},
   "source": [
    "Las **secuencias** son todos aquellos tipos contenedores cuyos elementos pueden ser recorridos mediante un bucle *for*, o accedidos mediante los corchetes. Es decir, si la variable *sec* es una secuencia, podremos recorrer sus elementos mediante el siguiente código:\n",
    "\n",
    "```python\n",
    "for elemento in sec:\n",
    "   ...\n",
    "```\n",
    ", y acceder a los elementos mediante `sec[i]`, para valores de `i` mayores o iguales a 0.\n",
    "\n",
    "Además de lo anterior, con las secuencias podemos hacer una serie de operaciones, independientemente del tipo de secuencia. En esta sección estudiaremos estas operaciones comunes a todas las secuencias.\n",
    "\n",
    "Entre otros, tenemos los siguientes tipos de secuencias:\n",
    "- Listas: secuencias **mutables**, habitualmente se usan para representar colecciones ordenadas de objetos homogéneos (aunque no hay problema en que una lista contenga objetos de distintos tipos).\n",
    "- Tuplas: secuencias **inmutables**, habitualmente se usan para representar _registros_ de datos heterogéneos (aunque no hay problema en que todos los elementos de una tupla sean del mismo tipo).\n",
    "- Rangos: representación de una secuencia **inmutable** de números que habitualmente se usan como índices al iterar con un bucle <code>for</code>. Un objeto rango no contiene todos los valores de un rango, solo _está preparado para generarlos_ en el momento en el que se le solicitan (se dice que es una secuencia **perezosa**).\n",
    "\n",
    "Las cadenas también son secuencias, por lo que podemos aplicar todas las operaciones que veremos a continuación (aunque en este notebook nos centraremos en los tres tipos de secuencias que acabamos de enumerar).\n",
    "\n",
    "\n",
    "Las **listas** se construyen con corchetes y las **tuplas** con paréntesis:"
   ]
  },
  {
   "cell_type": "code",
   "execution_count": 3,
   "metadata": {},
   "outputs": [
    {
     "name": "stdout",
     "output_type": "stream",
     "text": [
      "[1, 2, 3]\n",
      "(1, 2, 3)\n"
     ]
    }
   ],
   "source": [
    "lista = [1, 2, 3]\n",
    "print(lista)\n",
    "tupla = (1, 2, 3)\n",
    "print(tupla)    "
   ]
  },
  {
   "cell_type": "markdown",
   "metadata": {},
   "source": [
    "Los **rangos** se construyen con la función _built-in_ <code>range</code>. Si intentamos imprimir un objeto <code>range</code> solo obtendremos la información sobre sus límites. Para acceder a todos los elementos debemos forzar la conversión a un objeto, por ejemplo, de tipo lista:"
   ]
  },
  {
   "cell_type": "code",
   "execution_count": 4,
   "metadata": {},
   "outputs": [
    {
     "name": "stdout",
     "output_type": "stream",
     "text": [
      "range(0, 10)\n",
      "[0, 1, 2, 3, 4, 5, 6, 7, 8, 9]\n"
     ]
    }
   ],
   "source": [
    "rango = range(10)\n",
    "print(rango)\n",
    "print(list(rango))"
   ]
  },
  {
   "cell_type": "markdown",
   "metadata": {},
   "source": [
    "Podemos especificar rangos de varias formas:\n",
    "- Indicando solo un límite superior: se genera un rango desde <code>0</code> hasta ese límite menos uno.\n",
    "- Indicando el límite inferior y el límite superior del rango: se genera un rango desde el límite inferior (incluido) hasta el límite superior (excluido).\n",
    "- Indicando ambos límites y un paso, que determina el incremento de un elemento del rango al siguiente.\n",
    "- Indicando un paso negativo, en ese caso el límite izquierdo debe ser mayor que el derecho.\n"
   ]
  },
  {
   "cell_type": "code",
   "execution_count": 5,
   "metadata": {},
   "outputs": [
    {
     "name": "stdout",
     "output_type": "stream",
     "text": [
      "[0, 1, 2, 3, 4, 5, 6, 7, 8, 9]\n",
      "[10, 11, 12, 13, 14, 15, 16, 17, 18, 19]\n",
      "[10, 12, 14, 16, 18]\n",
      "[20, 19, 18, 17, 16, 15, 14, 13, 12, 11]\n"
     ]
    }
   ],
   "source": [
    "print(list(range(10)))\n",
    "print(list(range(10, 20)))\n",
    "print(list(range(10, 20, 2)))\n",
    "print(list(range(20, 10, -1)))"
   ]
  },
  {
   "cell_type": "markdown",
   "metadata": {},
   "source": [
    "Para acceder a los elementos de una secuencia se utilizan los corchetes, indicando la posición que nos interesa. La posición es un número entre <code>0</code> (la primera posición) y <code>tamaño-1</code> (la última posición). Si intentamos acceder a una posición no existente provocaremos un error, como en la última instrucción de la siguiente celda:"
   ]
  },
  {
   "cell_type": "code",
   "execution_count": 6,
   "metadata": {},
   "outputs": [
    {
     "name": "stdout",
     "output_type": "stream",
     "text": [
      "1 3\n",
      "2 3\n",
      "0 1\n"
     ]
    },
    {
     "ename": "IndexError",
     "evalue": "list index out of range",
     "output_type": "error",
     "traceback": [
      "\u001b[1;31m---------------------------------------------------------------------------\u001b[0m",
      "\u001b[1;31mIndexError\u001b[0m                                Traceback (most recent call last)",
      "\u001b[1;32m<ipython-input-6-86e81a49ba4b>\u001b[0m in \u001b[0;36m<module>\u001b[1;34m\u001b[0m\n\u001b[0;32m      4\u001b[0m \u001b[1;33m\u001b[0m\u001b[0m\n\u001b[0;32m      5\u001b[0m \u001b[1;31m# ERROR: el índice 3 no existe en la variable 'lista' (el máximo es 3)\u001b[0m\u001b[1;33m\u001b[0m\u001b[1;33m\u001b[0m\u001b[1;33m\u001b[0m\u001b[0m\n\u001b[1;32m----> 6\u001b[1;33m \u001b[0mprint\u001b[0m\u001b[1;33m(\u001b[0m\u001b[0mlista\u001b[0m\u001b[1;33m[\u001b[0m\u001b[1;36m3\u001b[0m\u001b[1;33m]\u001b[0m\u001b[1;33m)\u001b[0m\u001b[1;33m\u001b[0m\u001b[1;33m\u001b[0m\u001b[0m\n\u001b[0m",
      "\u001b[1;31mIndexError\u001b[0m: list index out of range"
     ]
    }
   ],
   "source": [
    "print(lista[0], lista[2])\n",
    "print(tupla[1], tupla[2])\n",
    "print(rango[0], rango[1])\n",
    "\n",
    "# ERROR: el índice 3 no existe en la variable 'lista' (el máximo es 3)\n",
    "print(lista[3])"
   ]
  },
  {
   "cell_type": "markdown",
   "metadata": {},
   "source": [
    "Los índices negativos permiten acceder a una secuencia desde el final. El índice <code>-1</code> accede a la última posición de una secuencia, el <code>-2</code> a la penúltima, y así sucesivamente. Los índices negativos se pueden usar en cualquier tipo de secuencia:"
   ]
  },
  {
   "cell_type": "code",
   "execution_count": 7,
   "metadata": {},
   "outputs": [
    {
     "name": "stdout",
     "output_type": "stream",
     "text": [
      "3\n",
      "8\n",
      "8\n"
     ]
    }
   ],
   "source": [
    "print(lista[-1])\n",
    "print((2, 4, 6, 8)[-1])\n",
    "print(rango[-2])"
   ]
  },
  {
   "cell_type": "markdown",
   "metadata": {},
   "source": [
    "Se denomina **unpacking** al proceso de extraer valores desde una secuencia y guardarlos en variables independientes. Esto se consigue mediante una asignación en la que en la parte izquierda hay varias variables receptoras. \n",
    "\n",
    "Podemos aplicar **unpacking** desde cualquier secuencia: listas, tuplas y rangos. El número de elementos de la colección debe coincidir con el número de variables receptoras. Si eso no ocurre provocaremos un error, como en la última instrucción de la siguiente celda:"
   ]
  },
  {
   "cell_type": "code",
   "execution_count": 8,
   "metadata": {},
   "outputs": [
    {
     "name": "stdout",
     "output_type": "stream",
     "text": [
      "1 2 3\n",
      "4 5 6\n",
      "7 8 9\n"
     ]
    },
    {
     "ename": "ValueError",
     "evalue": "too many values to unpack (expected 3)",
     "output_type": "error",
     "traceback": [
      "\u001b[1;31m---------------------------------------------------------------------------\u001b[0m",
      "\u001b[1;31mValueError\u001b[0m                                Traceback (most recent call last)",
      "\u001b[1;32m<ipython-input-8-d1ec2f5cfe7a>\u001b[0m in \u001b[0;36m<module>\u001b[1;34m\u001b[0m\n\u001b[0;32m      7\u001b[0m \u001b[1;33m\u001b[0m\u001b[0m\n\u001b[0;32m      8\u001b[0m \u001b[1;31m# ERROR: más elementos que variables receptoras\u001b[0m\u001b[1;33m\u001b[0m\u001b[1;33m\u001b[0m\u001b[1;33m\u001b[0m\u001b[0m\n\u001b[1;32m----> 9\u001b[1;33m \u001b[0ma\u001b[0m\u001b[1;33m,\u001b[0m \u001b[0mb\u001b[0m\u001b[1;33m,\u001b[0m \u001b[0mc\u001b[0m \u001b[1;33m=\u001b[0m \u001b[1;33m[\u001b[0m\u001b[1;36m1\u001b[0m\u001b[1;33m,\u001b[0m \u001b[1;36m2\u001b[0m\u001b[1;33m,\u001b[0m \u001b[1;36m3\u001b[0m\u001b[1;33m,\u001b[0m \u001b[1;36m4\u001b[0m\u001b[1;33m]\u001b[0m\u001b[1;33m\u001b[0m\u001b[1;33m\u001b[0m\u001b[0m\n\u001b[0m",
      "\u001b[1;31mValueError\u001b[0m: too many values to unpack (expected 3)"
     ]
    }
   ],
   "source": [
    "a, b, c = [1, 2, 3]\n",
    "print(a, b, c)\n",
    "a, b, c = (4, 5, 6)\n",
    "print(a, b, c)\n",
    "a, b, c = range(7, 10)\n",
    "print(a, b, c)\n",
    "\n",
    "# ERROR: más elementos que variables receptoras\n",
    "a, b, c = [1, 2, 3, 4]"
   ]
  },
  {
   "cell_type": "markdown",
   "metadata": {},
   "source": [
    "El *unpacking* se utiliza habitualmente en dos situaciones:\n",
    "* Para recoger los valores devueltos por una función, cuando la función devuelve una tupla. De esta forma podemos utilizar una variable independiente para cada uno de los valores devueltos por la función:\n",
    "```python\n",
    "# La función busca_alumno_mejor_calificacion devuelve el alumno con mejor nota y su calificacion\n",
    "alumno, calificacion = busca_alumno_mejor_calificacion(alumnos)\n",
    "```\n",
    "* Para recorrer los elementos de una secuencia, cuando dichos elementos son a su vez secuencias (generalmente, tuplas):\n",
    "```python\n",
    "# La lista alumnos_con_notas es de la forma [(alumno1, nota1), (alumno2,nota2), ...]\n",
    "for alumno, calificacion in alumnos_con_notas:\n",
    "   ...\n",
    "```"
   ]
  },
  {
   "cell_type": "markdown",
   "metadata": {},
   "source": [
    "### 1.1. Operadores sobre secuencias<a name=\"sec_operadores_sec\"/>"
   ]
  },
  {
   "cell_type": "markdown",
   "metadata": {},
   "source": [
    "En esta sección veremos una serie de operadores comunes a los tres tipos de secuencias. **Por tanto pueden ser utilizadas con listas, tuplas, cadenas o rangos.**\n",
    "\n",
    "En muchas de las celdas con las que ilustraremos estos operadores usaremos como base las siguientes listas:"
   ]
  },
  {
   "cell_type": "code",
   "execution_count": 9,
   "metadata": {},
   "outputs": [],
   "source": [
    "estados = ['nublado', 'nublado', 'soleado', 'soleado', ('soleado','ventoso'), 'nublado', ('lluvioso', 'ventoso')]\n",
    "temperaturas = [23, 23, 28, 29, 25, 24, 20]"
   ]
  },
  {
   "cell_type": "markdown",
   "metadata": {},
   "source": [
    "El operador <code>in</code> evalua si un determinado elemento _pertenece_ a una colección. He aquí algunos ejemplos: "
   ]
  },
  {
   "cell_type": "code",
   "execution_count": 10,
   "metadata": {},
   "outputs": [
    {
     "name": "stdout",
     "output_type": "stream",
     "text": [
      "True\n",
      "True\n",
      "False\n",
      "True\n",
      "True\n"
     ]
    }
   ],
   "source": [
    "# Sobre listas\n",
    "print('nublado' in estados)\n",
    "print(('lluvioso', 'ventoso') in estados)\n",
    "print(('nublado', 'ventoso') in estados)\n",
    "\n",
    "# Sobre tuplas\n",
    "print(1 in (2, 1, 5))\n",
    "\n",
    "# Sobre rangos\n",
    "print(1 in range(10))"
   ]
  },
  {
   "cell_type": "markdown",
   "metadata": {},
   "source": [
    "El operador <code>not in</code> determina si un determinado elemento _no pertenece_ a una colección. He aquí algunos ejemplos: "
   ]
  },
  {
   "cell_type": "code",
   "execution_count": 11,
   "metadata": {},
   "outputs": [
    {
     "name": "stdout",
     "output_type": "stream",
     "text": [
      "True\n",
      "True\n",
      "False\n"
     ]
    }
   ],
   "source": [
    "print(('nublado', 'ventoso') not in estados)\n",
    "print(1 not in range(10, 20))\n",
    "print(1 not in (2, 3, 1))"
   ]
  },
  {
   "cell_type": "markdown",
   "metadata": {},
   "source": [
    "Los operadores aritméticos <code>+</code> y <code>*</code> están definidos para listas, tuplas y cadenas (no para rangos). El significado de cada uno de ellos es el siguiente:\n",
    "- El operador <code>+</code>, entre dos secuencias, concatena dos secuencias. No se pueden concatenar secuencias de tipos distintos (por ejemplo, listas con tuplas o con cadenas).\n",
    "- El operador <code>*</code>, entre una secuencia y un número, replica la secuencia tantas veces como indique el número."
   ]
  },
  {
   "cell_type": "code",
   "execution_count": 12,
   "metadata": {},
   "outputs": [
    {
     "name": "stdout",
     "output_type": "stream",
     "text": [
      "[23, 23, 28, 29, 25, 24, 20, 22]\n",
      "[23, 23, 28, 29, 25, 24, 20, 23, 23, 28, 29, 25, 24, 20]\n",
      "(1, 2, 3, 4)\n",
      "(1, 2, 1, 2)\n"
     ]
    }
   ],
   "source": [
    "# Sobre listas\n",
    "print(temperaturas + [22])\n",
    "print(temperaturas * 2)\n",
    "\n",
    "# Sobre tuplas\n",
    "print((1, 2) + (3, 4))\n",
    "print((1, 2) * 2)"
   ]
  },
  {
   "cell_type": "markdown",
   "metadata": {},
   "source": [
    "La prioridad de los operadores es similar a la de los operadores aritméticos. De mayor a menor prioridad, este es el orden en el que se aplican los operadores de manejo de secuencias:\n",
    "- Operador <code>*</code>\n",
    "- Operador <code>+</code>\n",
    "- Operadores <code>in</code>, <code>not in</code>"
   ]
  },
  {
   "cell_type": "code",
   "execution_count": 13,
   "metadata": {},
   "outputs": [
    {
     "name": "stdout",
     "output_type": "stream",
     "text": [
      "[1, 2, 2, 2]\n",
      "True\n"
     ]
    }
   ],
   "source": [
    "print([1] + [2] * 3)\n",
    "print(1 in [2] + [1])"
   ]
  },
  {
   "cell_type": "markdown",
   "metadata": {},
   "source": [
    "### ¡Prueba tú!"
   ]
  },
  {
   "cell_type": "code",
   "execution_count": 14,
   "metadata": {},
   "outputs": [
    {
     "name": "stdout",
     "output_type": "stream",
     "text": [
      "[(1, 'Miercoles'), (2, 'Jueves'), (3, 'Viernes'), (4, 'Sabado'), (5, 'Domingo'), (6, 'Lunes'), (7, 'Martes'), (8, 'Miercoles'), (9, 'Jueves'), (10, 'Viernes'), (11, 'Sabado'), (12, 'Domingo'), (13, 'Lunes'), (14, 'Martes'), (15, 'Miercoles'), (16, 'Jueves'), (17, 'Viernes'), (18, 'Sabado'), (19, 'Domingo'), (20, 'Lunes'), (21, 'Martes'), (22, 'Miercoles'), (23, 'Jueves'), (24, 'Viernes'), (25, 'Sabado'), (26, 'Domingo'), (27, 'Lunes'), (28, 'Martes'), (29, 'Miercoles'), (30, 'Jueves'), (31, 'Viernes'), (32, 'Sabado'), (33, 'Domingo'), (34, 'Lunes'), (35, 'Martes'), (36, 'Miercoles'), (37, 'Jueves'), (38, 'Viernes'), (39, 'Sabado'), (40, 'Domingo'), (41, 'Lunes'), (42, 'Martes'), (43, 'Miercoles'), (44, 'Jueves'), (45, 'Viernes'), (46, 'Sabado'), (47, 'Domingo'), (48, 'Lunes'), (49, 'Martes'), (50, 'Miercoles'), (51, 'Jueves'), (52, 'Viernes'), (53, 'Sabado'), (54, 'Domingo'), (55, 'Lunes'), (56, 'Martes'), (57, 'Miercoles'), (58, 'Jueves'), (59, 'Viernes'), (60, 'Sabado'), (61, 'Domingo'), (62, 'Lunes'), (63, 'Martes'), (64, 'Miercoles'), (65, 'Jueves'), (66, 'Viernes'), (67, 'Sabado'), (68, 'Domingo'), (69, 'Lunes'), (70, 'Martes'), (71, 'Miercoles'), (72, 'Jueves'), (73, 'Viernes'), (74, 'Sabado'), (75, 'Domingo'), (76, 'Lunes'), (77, 'Martes'), (78, 'Miercoles'), (79, 'Jueves'), (80, 'Viernes'), (81, 'Sabado'), (82, 'Domingo'), (83, 'Lunes'), (84, 'Martes'), (85, 'Miercoles'), (86, 'Jueves'), (87, 'Viernes'), (88, 'Sabado'), (89, 'Domingo'), (90, 'Lunes'), (91, 'Martes'), (92, 'Miercoles'), (93, 'Jueves'), (94, 'Viernes'), (95, 'Sabado'), (96, 'Domingo'), (97, 'Lunes'), (98, 'Martes'), (99, 'Miercoles'), (100, 'Jueves'), (101, 'Viernes'), (102, 'Sabado'), (103, 'Domingo'), (104, 'Lunes'), (105, 'Martes'), (106, 'Miercoles'), (107, 'Jueves'), (108, 'Viernes'), (109, 'Sabado'), (110, 'Domingo'), (111, 'Lunes'), (112, 'Martes'), (113, 'Miercoles'), (114, 'Jueves'), (115, 'Viernes'), (116, 'Sabado'), (117, 'Domingo'), (118, 'Lunes'), (119, 'Martes'), (120, 'Miercoles'), (121, 'Jueves'), (122, 'Viernes'), (123, 'Sabado'), (124, 'Domingo'), (125, 'Lunes'), (126, 'Martes'), (127, 'Miercoles'), (128, 'Jueves'), (129, 'Viernes'), (130, 'Sabado'), (131, 'Domingo'), (132, 'Lunes'), (133, 'Martes'), (134, 'Miercoles'), (135, 'Jueves'), (136, 'Viernes'), (137, 'Sabado'), (138, 'Domingo'), (139, 'Lunes'), (140, 'Martes'), (141, 'Miercoles'), (142, 'Jueves'), (143, 'Viernes'), (144, 'Sabado'), (145, 'Domingo'), (146, 'Lunes'), (147, 'Martes'), (148, 'Miercoles'), (149, 'Jueves'), (150, 'Viernes'), (151, 'Sabado'), (152, 'Domingo'), (153, 'Lunes'), (154, 'Martes'), (155, 'Miercoles'), (156, 'Jueves'), (157, 'Viernes'), (158, 'Sabado'), (159, 'Domingo'), (160, 'Lunes'), (161, 'Martes'), (162, 'Miercoles'), (163, 'Jueves'), (164, 'Viernes'), (165, 'Sabado'), (166, 'Domingo'), (167, 'Lunes'), (168, 'Martes'), (169, 'Miercoles'), (170, 'Jueves'), (171, 'Viernes'), (172, 'Sabado'), (173, 'Domingo'), (174, 'Lunes'), (175, 'Martes'), (176, 'Miercoles'), (177, 'Jueves'), (178, 'Viernes'), (179, 'Sabado'), (180, 'Domingo'), (181, 'Lunes'), (182, 'Martes'), (183, 'Miercoles'), (184, 'Jueves'), (185, 'Viernes'), (186, 'Sabado'), (187, 'Domingo'), (188, 'Lunes'), (189, 'Martes'), (190, 'Miercoles'), (191, 'Jueves'), (192, 'Viernes'), (193, 'Sabado'), (194, 'Domingo'), (195, 'Lunes'), (196, 'Martes'), (197, 'Miercoles'), (198, 'Jueves'), (199, 'Viernes'), (200, 'Sabado'), (201, 'Domingo'), (202, 'Lunes'), (203, 'Martes'), (204, 'Miercoles'), (205, 'Jueves'), (206, 'Viernes'), (207, 'Sabado'), (208, 'Domingo'), (209, 'Lunes'), (210, 'Martes'), (211, 'Miercoles'), (212, 'Jueves'), (213, 'Viernes'), (214, 'Sabado'), (215, 'Domingo'), (216, 'Lunes'), (217, 'Martes'), (218, 'Miercoles'), (219, 'Jueves'), (220, 'Viernes'), (221, 'Sabado'), (222, 'Domingo'), (223, 'Lunes'), (224, 'Martes'), (225, 'Miercoles'), (226, 'Jueves'), (227, 'Viernes'), (228, 'Sabado'), (229, 'Domingo'), (230, 'Lunes'), (231, 'Martes'), (232, 'Miercoles'), (233, 'Jueves'), (234, 'Viernes'), (235, 'Sabado'), (236, 'Domingo'), (237, 'Lunes'), (238, 'Martes'), (239, 'Miercoles'), (240, 'Jueves'), (241, 'Viernes'), (242, 'Sabado'), (243, 'Domingo'), (244, 'Lunes'), (245, 'Martes'), (246, 'Miercoles'), (247, 'Jueves'), (248, 'Viernes'), (249, 'Sabado'), (250, 'Domingo'), (251, 'Lunes'), (252, 'Martes'), (253, 'Miercoles'), (254, 'Jueves'), (255, 'Viernes'), (256, 'Sabado'), (257, 'Domingo'), (258, 'Lunes'), (259, 'Martes'), (260, 'Miercoles'), (261, 'Jueves'), (262, 'Viernes'), (263, 'Sabado'), (264, 'Domingo'), (265, 'Lunes'), (266, 'Martes'), (267, 'Miercoles'), (268, 'Jueves'), (269, 'Viernes'), (270, 'Sabado'), (271, 'Domingo'), (272, 'Lunes'), (273, 'Martes'), (274, 'Miercoles'), (275, 'Jueves'), (276, 'Viernes'), (277, 'Sabado'), (278, 'Domingo'), (279, 'Lunes'), (280, 'Martes'), (281, 'Miercoles'), (282, 'Jueves'), (283, 'Viernes'), (284, 'Sabado'), (285, 'Domingo'), (286, 'Lunes'), (287, 'Martes'), (288, 'Miercoles'), (289, 'Jueves'), (290, 'Viernes'), (291, 'Sabado'), (292, 'Domingo'), (293, 'Lunes'), (294, 'Martes'), (295, 'Miercoles'), (296, 'Jueves'), (297, 'Viernes'), (298, 'Sabado'), (299, 'Domingo'), (300, 'Lunes'), (301, 'Martes'), (302, 'Miercoles'), (303, 'Jueves'), (304, 'Viernes'), (305, 'Sabado'), (306, 'Domingo'), (307, 'Lunes'), (308, 'Martes'), (309, 'Miercoles'), (310, 'Jueves'), (311, 'Viernes'), (312, 'Sabado'), (313, 'Domingo'), (314, 'Lunes'), (315, 'Martes'), (316, 'Miercoles'), (317, 'Jueves'), (318, 'Viernes'), (319, 'Sabado'), (320, 'Domingo'), (321, 'Lunes'), (322, 'Martes'), (323, 'Miercoles'), (324, 'Jueves'), (325, 'Viernes'), (326, 'Sabado'), (327, 'Domingo'), (328, 'Lunes'), (329, 'Martes'), (330, 'Miercoles'), (331, 'Jueves'), (332, 'Viernes'), (333, 'Sabado'), (334, 'Domingo'), (335, 'Lunes'), (336, 'Martes'), (337, 'Miercoles'), (338, 'Jueves'), (339, 'Viernes'), (340, 'Sabado'), (341, 'Domingo'), (342, 'Lunes'), (343, 'Martes'), (344, 'Miercoles'), (345, 'Jueves'), (346, 'Viernes'), (347, 'Sabado'), (348, 'Domingo'), (349, 'Lunes'), (350, 'Martes'), (351, 'Miercoles'), (352, 'Jueves'), (353, 'Viernes'), (354, 'Sabado'), (355, 'Domingo'), (356, 'Lunes'), (357, 'Martes'), (358, 'Miercoles'), (359, 'Jueves'), (360, 'Viernes'), (361, 'Sabado'), (362, 'Domingo'), (363, 'Lunes'), (364, 'Martes'), (365, 'Miercoles'), (366, 'Jueves')]\n"
     ]
    }
   ],
   "source": [
    "# Crea una lista, llamada 'nombres', con los nombres de los días de la semana. Empieza la lista por el miércoles \n",
    "# y termina por el martes para facilitar el siguiente apartado\n",
    "dias = ('Miercoles','Jueves','Viernes','Sabado','Domingo','Lunes','Martes')\n",
    "# Crea una lista de tuplas (orden, nombre del día), llamada 'dias_nombres', para todos los días del año 2020\n",
    "# Las primeras tuplas serían [(1, 'miércoles'), (2, 'jueves'), ...]\n",
    "dias_nombres = []\n",
    "for i in range(1,367):\n",
    "    dias_nombres.append((i,dias[i%7-1]))    \n",
    "print(dias_nombres)"
   ]
  },
  {
   "cell_type": "markdown",
   "metadata": {},
   "source": [
    "### 1.2. _Slicing_ <a name=\"sec_slicing_sec\"/>"
   ]
  },
  {
   "cell_type": "markdown",
   "metadata": {},
   "source": [
    "El **slicing** nos permite seleccionar un fragmento de una secuencia. Se usa para ello el operador <code>:</code> dentro de los corchetes, que nos permite especificar un rango de acceso a los elementos de la secuencia. Como en los rangos,se  incluye el límite inferior, pero se excluye el límite superior. Se puede aplicar _slicing_ sobre listas, tuplas, cadenas y rangos:"
   ]
  },
  {
   "cell_type": "code",
   "execution_count": 15,
   "metadata": {},
   "outputs": [
    {
     "name": "stdout",
     "output_type": "stream",
     "text": [
      "[23, 28]\n",
      "(4, 6)\n",
      "range(13, 16)\n",
      "[13, 14, 15]\n"
     ]
    }
   ],
   "source": [
    "temperaturas = [23, 23, 28, 29, 25, 24, 20]\n",
    "\n",
    "# Sobre listas\n",
    "print(temperaturas[1:3])\n",
    "\n",
    "# Sobre tuplas\n",
    "print((2, 4, 6, 8, 9)[1:3])\n",
    "\n",
    "# Sobre rangos\n",
    "print(range(10,20)[3:6])\n",
    "print(list(range(10,20)[3:6]))"
   ]
  },
  {
   "cell_type": "markdown",
   "metadata": {},
   "source": [
    "No es obligatorio definir ambos límites al especificar un _slicing_. Si no se especifica el límite inferior, se seleccionan los elementos de la secuencia desde el principio. Si no se especifica el límite superior, se seleccionan los elementos de la secuencia hasta el final:"
   ]
  },
  {
   "cell_type": "code",
   "execution_count": 16,
   "metadata": {},
   "outputs": [
    {
     "name": "stdout",
     "output_type": "stream",
     "text": [
      "[23, 23]\n",
      "[25, 24, 20]\n",
      "[23, 23, 28, 29, 25, 24, 20]\n"
     ]
    }
   ],
   "source": [
    "print(temperaturas[:2])\n",
    "print(temperaturas[4:])\n",
    "print(temperaturas[:])"
   ]
  },
  {
   "cell_type": "markdown",
   "metadata": {},
   "source": [
    "Se puede hacer _slicing_ tanto con índices positivos como con índices negativos:"
   ]
  },
  {
   "cell_type": "code",
   "execution_count": 17,
   "metadata": {},
   "outputs": [
    {
     "name": "stdout",
     "output_type": "stream",
     "text": [
      "[23, 28, 29, 25, 24]\n"
     ]
    }
   ],
   "source": [
    "print(temperaturas[1:-1])"
   ]
  },
  {
   "cell_type": "markdown",
   "metadata": {},
   "source": [
    "Al igual que ocurría en la definición de rangos, a la hora de especificar un _slicing_ se pueden indicar los límites junto con un _paso_. De esta forma, gracias al paso, se puede hacer una selección no continua de los elementos de la colección:  "
   ]
  },
  {
   "cell_type": "code",
   "execution_count": 18,
   "metadata": {},
   "outputs": [
    {
     "name": "stdout",
     "output_type": "stream",
     "text": [
      "[23, 28, 25, 20]\n"
     ]
    }
   ],
   "source": [
    "print(temperaturas[0:7:2])"
   ]
  },
  {
   "cell_type": "markdown",
   "metadata": {},
   "source": [
    "### ¡Prueba tú!"
   ]
  },
  {
   "cell_type": "code",
   "execution_count": 19,
   "metadata": {},
   "outputs": [
    {
     "name": "stdout",
     "output_type": "stream",
     "text": [
      "[(1, 'Miercoles'), (2, 'Jueves'), (3, 'Viernes'), (4, 'Sabado'), (5, 'Domingo'), (6, 'Lunes'), (7, 'Martes'), (8, 'Miercoles'), (9, 'Jueves'), (10, 'Viernes')]\n",
      "[(357, 'Martes'), (358, 'Miercoles'), (359, 'Jueves'), (360, 'Viernes'), (361, 'Sabado'), (362, 'Domingo'), (363, 'Lunes'), (364, 'Martes'), (365, 'Miercoles'), (366, 'Jueves')]\n",
      "[(5, 'Domingo'), (12, 'Domingo'), (19, 'Domingo'), (26, 'Domingo'), (33, 'Domingo'), (40, 'Domingo'), (47, 'Domingo'), (54, 'Domingo'), (61, 'Domingo'), (68, 'Domingo'), (75, 'Domingo'), (82, 'Domingo'), (89, 'Domingo'), (96, 'Domingo'), (103, 'Domingo'), (110, 'Domingo'), (117, 'Domingo'), (124, 'Domingo'), (131, 'Domingo'), (138, 'Domingo'), (145, 'Domingo'), (152, 'Domingo'), (159, 'Domingo'), (166, 'Domingo'), (173, 'Domingo'), (180, 'Domingo'), (187, 'Domingo'), (194, 'Domingo'), (201, 'Domingo'), (208, 'Domingo'), (215, 'Domingo'), (222, 'Domingo'), (229, 'Domingo'), (236, 'Domingo'), (243, 'Domingo'), (250, 'Domingo'), (257, 'Domingo'), (264, 'Domingo'), (271, 'Domingo'), (278, 'Domingo'), (285, 'Domingo'), (292, 'Domingo'), (299, 'Domingo'), (306, 'Domingo'), (313, 'Domingo'), (320, 'Domingo'), (327, 'Domingo'), (334, 'Domingo'), (341, 'Domingo'), (348, 'Domingo'), (355, 'Domingo'), (362, 'Domingo')]\n"
     ]
    }
   ],
   "source": [
    "# Obtén mediante slicing las tuplas (orden, nombre del día) de los primeros 10 días de la lista 'dias_nombres'\n",
    "print(dias_nombres[:10])\n",
    "# Obtén mediante slicing las tuplas (orden, nombre del día) de los últimos 10 días de la lista 'dias_nombres'\n",
    "print(dias_nombres[-10:])\n",
    "# Obtén mediante slicing las tuplas (orden, nombre del día) de todos los domingos de la lista 'dias_nombres'\n",
    "print(dias_nombres[4:366:7])"
   ]
  },
  {
   "cell_type": "markdown",
   "metadata": {},
   "source": [
    "### 1.3. Métodos y funciones _built-in_  para secuencias<a name=\"sec_builtin_sec\"/>"
   ]
  },
  {
   "cell_type": "markdown",
   "metadata": {},
   "source": [
    "En esta sección veremos algunas funciones _built-in_ aplicables a cualquier secuencia, y también algunos métodos que se pueden ejecutar para cualquier secuencia, ya sean mutables o inmutables. \n",
    "\n",
    "La primera de estas funciones es **len** que calcula el tamaño de una secuencia: "
   ]
  },
  {
   "cell_type": "code",
   "execution_count": 20,
   "metadata": {},
   "outputs": [
    {
     "name": "stdout",
     "output_type": "stream",
     "text": [
      "7\n",
      "3\n",
      "10\n"
     ]
    }
   ],
   "source": [
    "temperaturas = [23, 23, 28, 29, 25, 24, 20]\n",
    "\n",
    "print(len(temperaturas))\n",
    "print(len((2, 4, 'seis')))\n",
    "print(len(range(10, 20)))"
   ]
  },
  {
   "cell_type": "markdown",
   "metadata": {},
   "source": [
    "La función **sum** devuelve la suma de todos los elementos de una secuencia. La aplicaremos sólo para secuencias de números:"
   ]
  },
  {
   "cell_type": "code",
   "execution_count": 21,
   "metadata": {},
   "outputs": [
    {
     "name": "stdout",
     "output_type": "stream",
     "text": [
      "172\n"
     ]
    }
   ],
   "source": [
    "print(sum(temperaturas))"
   ]
  },
  {
   "cell_type": "markdown",
   "metadata": {},
   "source": [
    "---\n",
    "Las funciones **max** y **min** calculan, respectivamente, el máximo y el mínimo de una secuencia. Estas funciones se pueden aplicar sobre cualquier secuencia siempre que sean homogéneas (todos los elementos sean del mismo tipo) y exista una función de comparación para los elementos. Por ejemplo, los números (<code>int</code> y <code>float</code>) y las cadenas (<code>str</code>) sí tienen esas funciones de comparación. Si los elementos de la secuencia son a su vez secuencias (por ejemplo, es habitual que los elementos de una lista sean tuplas), entonces los elementos se comparan utilizando el primer elemento de las tuplas."
   ]
  },
  {
   "cell_type": "code",
   "execution_count": 22,
   "metadata": {},
   "outputs": [
    {
     "name": "stdout",
     "output_type": "stream",
     "text": [
      "20\n",
      "29\n",
      "verde\n",
      "10\n",
      "(7, 5)\n"
     ]
    },
    {
     "ename": "TypeError",
     "evalue": "'>' not supported between instances of 'int' and 'str'",
     "output_type": "error",
     "traceback": [
      "\u001b[1;31m---------------------------------------------------------------------------\u001b[0m",
      "\u001b[1;31mTypeError\u001b[0m                                 Traceback (most recent call last)",
      "\u001b[1;32m<ipython-input-22-9327c417ecd4>\u001b[0m in \u001b[0;36m<module>\u001b[1;34m\u001b[0m\n\u001b[0;32m     14\u001b[0m \u001b[1;33m\u001b[0m\u001b[0m\n\u001b[0;32m     15\u001b[0m \u001b[1;31m# ERROR: no se puede encontrar el máximo en una secuencia heterogénea\u001b[0m\u001b[1;33m\u001b[0m\u001b[1;33m\u001b[0m\u001b[1;33m\u001b[0m\u001b[0m\n\u001b[1;32m---> 16\u001b[1;33m \u001b[0mprint\u001b[0m\u001b[1;33m(\u001b[0m\u001b[0mmax\u001b[0m\u001b[1;33m(\u001b[0m\u001b[1;33m(\u001b[0m\u001b[1;34m'rojo'\u001b[0m\u001b[1;33m,\u001b[0m \u001b[1;34m'verde'\u001b[0m\u001b[1;33m,\u001b[0m \u001b[1;36m1\u001b[0m\u001b[1;33m)\u001b[0m\u001b[1;33m)\u001b[0m\u001b[1;33m)\u001b[0m\u001b[1;33m\u001b[0m\u001b[1;33m\u001b[0m\u001b[0m\n\u001b[0m",
      "\u001b[1;31mTypeError\u001b[0m: '>' not supported between instances of 'int' and 'str'"
     ]
    }
   ],
   "source": [
    "# Sobre listas\n",
    "print(min(temperaturas))\n",
    "print(max(temperaturas))\n",
    "\n",
    "# Sobre tuplas\n",
    "print(max(('rojo', 'verde', 'azul')))\n",
    "\n",
    "# Sobre rangos\n",
    "print(min(range(10, 20)))\n",
    "\n",
    "# Sobre listas de tuplas\n",
    "lista_tuplas = [(1,20), (2,30), (7,5)]\n",
    "print(max(lista_tuplas))\n",
    "\n",
    "# ERROR: no se puede encontrar el máximo en una secuencia heterogénea\n",
    "print(max(('rojo', 'verde', 1)))\n"
   ]
  },
  {
   "cell_type": "markdown",
   "metadata": {},
   "source": [
    "La función _built-in_ **reversed** calcula la inversa de una secuencia. No crea una secuencia, sino un iterador; esto significa que podemos recorrer los elementos, pero no acceder a posiciones arbitrarias mediante los corchetes. Si queremos _materializar_ la secuencia podemos hacerlo, por ejemplo, con la función <code>list</code>:"
   ]
  },
  {
   "cell_type": "code",
   "execution_count": 23,
   "metadata": {},
   "outputs": [
    {
     "name": "stdout",
     "output_type": "stream",
     "text": [
      "<list_reverseiterator object at 0x000002A918DA8BB0>\n",
      "[20, 24, 25, 29, 28, 23, 23]\n",
      "<reversed object at 0x000002A918DA8BB0>\n",
      "[3, 2, 1]\n",
      "<range_iterator object at 0x000002A918D964B0>\n",
      "[19, 18, 17, 16, 15, 14, 13, 12, 11, 10]\n"
     ]
    }
   ],
   "source": [
    "# Sobre listas\n",
    "print(reversed(temperaturas))\n",
    "print(list(reversed(temperaturas)))\n",
    "\n",
    "# Sobre tuplas\n",
    "print(reversed((1, 2, 3)))\n",
    "print(list(reversed((1, 2, 3))))\n",
    "\n",
    "# Sobre rangos\n",
    "print(reversed(range(10, 20)))\n",
    "print(list(reversed(range(10, 20))))"
   ]
  },
  {
   "cell_type": "markdown",
   "metadata": {},
   "source": [
    "---\n",
    "La función _built-in_ **sorted** crea una lista ordenada a partir de una secuencia. Se puede aplicar a cualquier secuencia (listas, tuplas o rangos) pero siempre produce una lista. El parámetro <code>reverse</code> nos permite indicar si queremos aplicar un orden ascendente o descendente:"
   ]
  },
  {
   "cell_type": "code",
   "execution_count": 24,
   "metadata": {},
   "outputs": [
    {
     "name": "stdout",
     "output_type": "stream",
     "text": [
      "[20, 23, 23, 24, 25, 28, 29]\n",
      "[29, 28, 25, 24, 23, 23, 20]\n",
      "[1, 2, 3]\n",
      "[11, 12, 13, 14, 15, 16, 17, 18, 19, 20]\n"
     ]
    }
   ],
   "source": [
    "# Sobre listas\n",
    "print(sorted(temperaturas))\n",
    "print(sorted(temperaturas, reverse=True))\n",
    "\n",
    "# Sobre tuplas\n",
    "print(sorted((3, 1, 2)))\n",
    "\n",
    "# Sobre rangos\n",
    "print(sorted(range(20, 10, -1)))"
   ]
  },
  {
   "cell_type": "markdown",
   "metadata": {},
   "source": [
    "Otro parámetro interesante de la función <code>sorted</code> es <code>key</code>. A través de ese parámetro podemos indicar el uso de una función de comparación específica. Un caso típico de aplicación de este parámetro es la ordenación de una lista de tuplas. El criterio de ordenación _por defecto_ de una lista de tuplas se basa en comparar los primeros componentes de las tuplas. En el siguiente ejemplo, se construye una función _lambda_ que permite ordenar las tuplas en función del segundo componente de las mismas:"
   ]
  },
  {
   "cell_type": "code",
   "execution_count": 25,
   "metadata": {},
   "outputs": [
    {
     "name": "stdout",
     "output_type": "stream",
     "text": [
      "[('domingo', 20), ('lunes', 23), ('martes', 23), ('sábado', 24), ('viernes', 25), ('miércoles', 28), ('jueves', 29)]\n"
     ]
    }
   ],
   "source": [
    "dias = ['lunes', 'martes', 'miércoles', 'jueves', 'viernes', 'sábado', 'domingo']\n",
    "dias_temps = zip(dias, temperaturas)\n",
    "print(sorted(dias_temps, key=lambda x: x[1]))\n",
    "\n",
    "#def fun(x):\n",
    "#    return x[1]\n",
    "#print(sorted(dias_temps, key=fun))"
   ]
  },
  {
   "cell_type": "markdown",
   "metadata": {},
   "source": [
    "---\n",
    "Las secuencias son objetos y, como tales, tienen métodos que permiten realizar ciertas operaciones de consulta. Dos de ellos son **count** e **index**, que permiten, respectivamente, contar el número de elementos de las secuencias y, determinar el índice de la primera ocurrencia de un determinado valor. Estas operaciones se pueden aplicar a cualquier tipo de secuencia: "
   ]
  },
  {
   "cell_type": "code",
   "execution_count": 26,
   "metadata": {},
   "outputs": [
    {
     "name": "stdout",
     "output_type": "stream",
     "text": [
      "3\n",
      "2\n",
      "3\n",
      "1\n"
     ]
    }
   ],
   "source": [
    "# Sobre listas\n",
    "estados = ['nublado', 'nublado', 'soleado', 'soleado', ('soleado','ventoso'), 'nublado', ('lluvioso', 'ventoso')]\n",
    "print(estados.count('nublado'))\n",
    "print(estados.index('soleado'))\n",
    "\n",
    "# Sobre tuplas\n",
    "print((0, 1, 2, 2, 1, 1).count(1))\n",
    "print((0, 1, 2, 2, 1, 1).index(1))"
   ]
  },
  {
   "cell_type": "markdown",
   "metadata": {},
   "source": [
    "### ¡Prueba tú!"
   ]
  },
  {
   "cell_type": "code",
   "execution_count": 117,
   "metadata": {},
   "outputs": [
    {
     "name": "stdout",
     "output_type": "stream",
     "text": [
      "[(5, 'Domingo'), (12, 'Domingo'), (19, 'Domingo'), (26, 'Domingo'), (33, 'Domingo'), (40, 'Domingo'), (47, 'Domingo'), (54, 'Domingo'), (61, 'Domingo'), (68, 'Domingo'), (75, 'Domingo'), (82, 'Domingo'), (89, 'Domingo'), (96, 'Domingo'), (103, 'Domingo'), (110, 'Domingo'), (117, 'Domingo'), (124, 'Domingo'), (131, 'Domingo'), (138, 'Domingo'), (145, 'Domingo'), (152, 'Domingo'), (159, 'Domingo'), (166, 'Domingo'), (173, 'Domingo'), (180, 'Domingo'), (187, 'Domingo'), (194, 'Domingo'), (201, 'Domingo'), (208, 'Domingo'), (215, 'Domingo'), (222, 'Domingo'), (229, 'Domingo'), (236, 'Domingo'), (243, 'Domingo'), (250, 'Domingo'), (257, 'Domingo'), (264, 'Domingo'), (271, 'Domingo'), (278, 'Domingo'), (285, 'Domingo'), (292, 'Domingo'), (299, 'Domingo'), (306, 'Domingo'), (313, 'Domingo'), (320, 'Domingo'), (327, 'Domingo'), (334, 'Domingo'), (341, 'Domingo'), (348, 'Domingo'), (355, 'Domingo'), (362, 'Domingo'), (2, 'Jueves'), (9, 'Jueves'), (16, 'Jueves'), (23, 'Jueves'), (30, 'Jueves'), (37, 'Jueves'), (44, 'Jueves'), (51, 'Jueves'), (58, 'Jueves'), (65, 'Jueves'), (72, 'Jueves'), (79, 'Jueves'), (86, 'Jueves'), (93, 'Jueves'), (100, 'Jueves'), (107, 'Jueves'), (114, 'Jueves'), (121, 'Jueves'), (128, 'Jueves'), (135, 'Jueves'), (142, 'Jueves'), (149, 'Jueves'), (156, 'Jueves'), (163, 'Jueves'), (170, 'Jueves'), (177, 'Jueves'), (184, 'Jueves'), (191, 'Jueves'), (198, 'Jueves'), (205, 'Jueves'), (212, 'Jueves'), (219, 'Jueves'), (226, 'Jueves'), (233, 'Jueves'), (240, 'Jueves'), (247, 'Jueves'), (254, 'Jueves'), (261, 'Jueves'), (268, 'Jueves'), (275, 'Jueves'), (282, 'Jueves'), (289, 'Jueves'), (296, 'Jueves'), (303, 'Jueves'), (310, 'Jueves'), (317, 'Jueves'), (324, 'Jueves'), (331, 'Jueves'), (338, 'Jueves'), (345, 'Jueves'), (352, 'Jueves'), (359, 'Jueves'), (366, 'Jueves'), (6, 'Lunes'), (13, 'Lunes'), (20, 'Lunes'), (27, 'Lunes'), (34, 'Lunes'), (41, 'Lunes'), (48, 'Lunes'), (55, 'Lunes'), (62, 'Lunes'), (69, 'Lunes'), (76, 'Lunes'), (83, 'Lunes'), (90, 'Lunes'), (97, 'Lunes'), (104, 'Lunes'), (111, 'Lunes'), (118, 'Lunes'), (125, 'Lunes'), (132, 'Lunes'), (139, 'Lunes'), (146, 'Lunes'), (153, 'Lunes'), (160, 'Lunes'), (167, 'Lunes'), (174, 'Lunes'), (181, 'Lunes'), (188, 'Lunes'), (195, 'Lunes'), (202, 'Lunes'), (209, 'Lunes'), (216, 'Lunes'), (223, 'Lunes'), (230, 'Lunes'), (237, 'Lunes'), (244, 'Lunes'), (251, 'Lunes'), (258, 'Lunes'), (265, 'Lunes'), (272, 'Lunes'), (279, 'Lunes'), (286, 'Lunes'), (293, 'Lunes'), (300, 'Lunes'), (307, 'Lunes'), (314, 'Lunes'), (321, 'Lunes'), (328, 'Lunes'), (335, 'Lunes'), (342, 'Lunes'), (349, 'Lunes'), (356, 'Lunes'), (363, 'Lunes'), (7, 'Martes'), (14, 'Martes'), (21, 'Martes'), (28, 'Martes'), (35, 'Martes'), (42, 'Martes'), (49, 'Martes'), (56, 'Martes'), (63, 'Martes'), (70, 'Martes'), (77, 'Martes'), (84, 'Martes'), (91, 'Martes'), (98, 'Martes'), (105, 'Martes'), (112, 'Martes'), (119, 'Martes'), (126, 'Martes'), (133, 'Martes'), (140, 'Martes'), (147, 'Martes'), (154, 'Martes'), (161, 'Martes'), (168, 'Martes'), (175, 'Martes'), (182, 'Martes'), (189, 'Martes'), (196, 'Martes'), (203, 'Martes'), (210, 'Martes'), (217, 'Martes'), (224, 'Martes'), (231, 'Martes'), (238, 'Martes'), (245, 'Martes'), (252, 'Martes'), (259, 'Martes'), (266, 'Martes'), (273, 'Martes'), (280, 'Martes'), (287, 'Martes'), (294, 'Martes'), (301, 'Martes'), (308, 'Martes'), (315, 'Martes'), (322, 'Martes'), (329, 'Martes'), (336, 'Martes'), (343, 'Martes'), (350, 'Martes'), (357, 'Martes'), (364, 'Martes'), (1, 'Miercoles'), (8, 'Miercoles'), (15, 'Miercoles'), (22, 'Miercoles'), (29, 'Miercoles'), (36, 'Miercoles'), (43, 'Miercoles'), (50, 'Miercoles'), (57, 'Miercoles'), (64, 'Miercoles'), (71, 'Miercoles'), (78, 'Miercoles'), (85, 'Miercoles'), (92, 'Miercoles'), (99, 'Miercoles'), (106, 'Miercoles'), (113, 'Miercoles'), (120, 'Miercoles'), (127, 'Miercoles'), (134, 'Miercoles'), (141, 'Miercoles'), (148, 'Miercoles'), (155, 'Miercoles'), (162, 'Miercoles'), (169, 'Miercoles'), (176, 'Miercoles'), (183, 'Miercoles'), (190, 'Miercoles'), (197, 'Miercoles'), (204, 'Miercoles'), (211, 'Miercoles'), (218, 'Miercoles'), (225, 'Miercoles'), (232, 'Miercoles'), (239, 'Miercoles'), (246, 'Miercoles'), (253, 'Miercoles'), (260, 'Miercoles'), (267, 'Miercoles'), (274, 'Miercoles'), (281, 'Miercoles'), (288, 'Miercoles'), (295, 'Miercoles'), (302, 'Miercoles'), (309, 'Miercoles'), (316, 'Miercoles'), (323, 'Miercoles'), (330, 'Miercoles'), (337, 'Miercoles'), (344, 'Miercoles'), (351, 'Miercoles'), (358, 'Miercoles'), (365, 'Miercoles'), (4, 'Sabado'), (11, 'Sabado'), (18, 'Sabado'), (25, 'Sabado'), (32, 'Sabado'), (39, 'Sabado'), (46, 'Sabado'), (53, 'Sabado'), (60, 'Sabado'), (67, 'Sabado'), (74, 'Sabado'), (81, 'Sabado'), (88, 'Sabado'), (95, 'Sabado'), (102, 'Sabado'), (109, 'Sabado'), (116, 'Sabado'), (123, 'Sabado'), (130, 'Sabado'), (137, 'Sabado'), (144, 'Sabado'), (151, 'Sabado'), (158, 'Sabado'), (165, 'Sabado'), (172, 'Sabado'), (179, 'Sabado'), (186, 'Sabado'), (193, 'Sabado'), (200, 'Sabado'), (207, 'Sabado'), (214, 'Sabado'), (221, 'Sabado'), (228, 'Sabado'), (235, 'Sabado'), (242, 'Sabado'), (249, 'Sabado'), (256, 'Sabado'), (263, 'Sabado'), (270, 'Sabado'), (277, 'Sabado'), (284, 'Sabado'), (291, 'Sabado'), (298, 'Sabado'), (305, 'Sabado'), (312, 'Sabado'), (319, 'Sabado'), (326, 'Sabado'), (333, 'Sabado'), (340, 'Sabado'), (347, 'Sabado'), (354, 'Sabado'), (361, 'Sabado'), (3, 'Viernes'), (10, 'Viernes'), (17, 'Viernes'), (24, 'Viernes'), (31, 'Viernes'), (38, 'Viernes'), (45, 'Viernes'), (52, 'Viernes'), (59, 'Viernes'), (66, 'Viernes'), (73, 'Viernes'), (80, 'Viernes'), (87, 'Viernes'), (94, 'Viernes'), (101, 'Viernes'), (108, 'Viernes'), (115, 'Viernes'), (122, 'Viernes'), (129, 'Viernes'), (136, 'Viernes'), (143, 'Viernes'), (150, 'Viernes'), (157, 'Viernes'), (164, 'Viernes'), (171, 'Viernes'), (178, 'Viernes'), (185, 'Viernes'), (192, 'Viernes'), (199, 'Viernes'), (206, 'Viernes'), (213, 'Viernes'), (220, 'Viernes'), (227, 'Viernes'), (234, 'Viernes'), (241, 'Viernes'), (248, 'Viernes'), (255, 'Viernes'), (262, 'Viernes'), (269, 'Viernes'), (276, 'Viernes'), (283, 'Viernes'), (290, 'Viernes'), (297, 'Viernes'), (304, 'Viernes'), (311, 'Viernes'), (318, 'Viernes'), (325, 'Viernes'), (332, 'Viernes'), (339, 'Viernes'), (346, 'Viernes'), (353, 'Viernes'), (360, 'Viernes')]\n",
      "___________________________________________________________________________________________________________________\n",
      "[(297, 'Viernes'), (304, 'Viernes'), (311, 'Viernes'), (318, 'Viernes'), (325, 'Viernes'), (332, 'Viernes'), (339, 'Viernes'), (346, 'Viernes'), (353, 'Viernes'), (360, 'Viernes')]\n"
     ]
    }
   ],
   "source": [
    "# Ordena la lista 'dias_nombres' por el día de la semana\n",
    "print(sorted(dias_nombres, key=lambda x: x[1]))\n",
    "# Obtén a partir de la lista anterior las tuplas correspondientes a los 10 últimos viernes\n",
    "print('___________________________________________________________________________________________________________________')\n",
    "#print(dias_nombres[-70::7])\n",
    "print(sorted(dias_nombres, key=lambda x: x[1])[-10:])"
   ]
  },
  {
   "cell_type": "code",
   "execution_count": 118,
   "metadata": {},
   "outputs": [
    {
     "name": "stdout",
     "output_type": "stream",
     "text": [
      "[20, 24, 25, 29, 28, 23, 23]\n",
      "[20, 23, 23, 24, 25, 28, 29]\n"
     ]
    }
   ],
   "source": [
    "temperaturas = [23, 23, 28, 29, 25, 24, 20]\n",
    "\n",
    "# Inversión in-place\n",
    "temperaturas.reverse()\n",
    "print(temperaturas)\n",
    "\n",
    "# Ordenación in-place\n",
    "temperaturas.sort()\n",
    "print(temperaturas)"
   ]
  },
  {
   "cell_type": "markdown",
   "metadata": {},
   "source": [
    "### ¡Prueba tú!"
   ]
  },
  {
   "cell_type": "code",
   "execution_count": 260,
   "metadata": {},
   "outputs": [
    {
     "name": "stdout",
     "output_type": "stream",
     "text": [
      "[(6, 'lunes'), (1, 'miercoles')]\n"
     ]
    }
   ],
   "source": [
    "# Cambia la lista 'dias_nombres' para que los nombres de los días 1 y 6 pasen a ser 'miercoles-festivo' y 'lunes-festivo'\n",
    "dias_nombres[0] = (1,'miercoles-festivo')\n",
    "dias_nombres[5] = (6,'lunes-festivo')\n",
    "print(dias_nombres)"
   ]
  },
  {
   "cell_type": "markdown",
   "metadata": {},
   "source": [
    "## 2. Listas <a name=\"sec_listas\"/>"
   ]
  },
  {
   "cell_type": "markdown",
   "metadata": {},
   "source": [
    "En muchas ocasiones tenemos varios datos que están relacionados entre sí. Las listas nos permiten almacenar todos esos datos en una misma variable, gracias a lo cual podemos realizar operaciones con todos los datos a la vez y no de uno en uno.\n",
    "\n",
    "Piensa por ejemplo en las temperaturas previstas para los próximos siete días, los nombres de  las capitales europeas o las edades de tus amigos. Si almacenas esos datos una lista, podrás acceder a cada uno de ellos por separado (la temperatura del próximo miércoles, por ejemplo), o realizar operaciones con todos a la vez (por ejemplo, saber cuál es la capital europea que tiene un nombre más largo)."
   ]
  },
  {
   "cell_type": "markdown",
   "metadata": {},
   "source": [
    "### 2.1 Creación de una lista <a name=\"sec_creacion\">"
   ]
  },
  {
   "cell_type": "markdown",
   "metadata": {
    "collapsed": true
   },
   "source": [
    "Para crear una lista escribimos su nombre y le asignamos un valor, que es una secuencia de elementos separados por comas y encerrados entre corchetes. Si solo ponemos los corchetes, estaremos creando una lista vacía, que más tarde podremos rellenar. También podemos crear una lista vacía invocando a la función list."
   ]
  },
  {
   "cell_type": "code",
   "execution_count": null,
   "metadata": {},
   "outputs": [],
   "source": [
    "# Una lista vacía:\n",
    "lista_vacia = []\n",
    "otra_lista_vacia = list()\n",
    "\n",
    "# Listas con elementos de distintos tipos:\n",
    "colores = [\"cyan\", \"magenta\", \"amarillo\"]\n",
    "temperaturas = [25.2, 24.9, 25.2, 26.7, 28.6, 29.5, 29.7]"
   ]
  },
  {
   "cell_type": "markdown",
   "metadata": {},
   "source": [
    "Observa que las listas pueden contener valores repetidos. Por ejemplo, el primer y el tercer elemento de la lista temperaturas tienen el mismo valor, aunque son dos elementos diferentes.\n",
    "\n",
    "También puedes ver que los elementos de una lista pueden ser de cualquier tipo. Incluso pueden ser tuplas, como en este otro ejemplo:"
   ]
  },
  {
   "cell_type": "code",
   "execution_count": null,
   "metadata": {},
   "outputs": [],
   "source": [
    "frecuencia_caracteres = [(23, \"e\"), (7, \"s\"), (12, \"a\")]"
   ]
  },
  {
   "cell_type": "markdown",
   "metadata": {},
   "source": [
    "Podemos incluso crear listas con elementos de tipos diferentes, si bien no es algo muy frecuente:"
   ]
  },
  {
   "cell_type": "code",
   "execution_count": null,
   "metadata": {},
   "outputs": [],
   "source": [
    "lista_mix = [\"Juan\", 23, 75.4]"
   ]
  },
  {
   "cell_type": "markdown",
   "metadata": {},
   "source": [
    "### ¡Prueba tú!\n",
    "Crea las siguientes listas:\n",
    "* Una lista con los nombres de tus amigos\n",
    "* Una lista con el nombre y la altura de 5 jugadores de baloncesto"
   ]
  },
  {
   "cell_type": "code",
   "execution_count": null,
   "metadata": {},
   "outputs": [],
   "source": []
  },
  {
   "cell_type": "markdown",
   "metadata": {},
   "source": [
    "### 2.2 Acceso a una lista <a name=\"sec_acceso\">"
   ]
  },
  {
   "cell_type": "markdown",
   "metadata": {
    "collapsed": true
   },
   "source": [
    "Podemos acceder a una lista escribiendo su nombre. Por ejemplo, para mostrar en pantalla los valores de la lista _temperaturas_ haremos lo siguiente:"
   ]
  },
  {
   "cell_type": "code",
   "execution_count": null,
   "metadata": {},
   "outputs": [],
   "source": [
    "print(temperaturas)"
   ]
  },
  {
   "cell_type": "markdown",
   "metadata": {},
   "source": [
    "Al igual que con cualquier secuencia, podemos acceder a un elemento concreto de la lista. Para ello hemos de indicar la posición que ocupa el elemento dentro de la lista, lo cual se hace de la siguiente forma: "
   ]
  },
  {
   "cell_type": "code",
   "execution_count": null,
   "metadata": {},
   "outputs": [],
   "source": [
    "print(\"La temperatura del lunes es:\", temperaturas[0])"
   ]
  },
  {
   "cell_type": "markdown",
   "metadata": {},
   "source": [
    "Si la lista está formada por tuplas, al acceder a un elemento tendremos una tupla. Podemos a su vez acceder a un elemento de la tupla indicando su posición. Por ejemplo, si queremos acceder al primer carácter de la lista de tuplas frecuencia_caracteres, haríamos lo siguiente:"
   ]
  },
  {
   "cell_type": "code",
   "execution_count": null,
   "metadata": {},
   "outputs": [],
   "source": [
    "# Accedemos a la tupla y después al carácter\n",
    "tupla = frecuencia_caracteres[0]\n",
    "primer_caracter = tupla[1]\n",
    "print(primer_caracter)\n",
    "\n",
    "# O bien, accedemos directamente al carácter:\n",
    "primer_caracter = frecuencia_caracteres[0][1]\n",
    "print(primer_caracter)"
   ]
  },
  {
   "cell_type": "markdown",
   "metadata": {},
   "source": [
    "A diferencia del resto de secuencias, que son inmutables, al ser las listas mutables podemos utilizar el acceso a una posición para cambiar un elemento de la lista, o incluso un trozo de la lista, si usamos *slicing*:"
   ]
  },
  {
   "cell_type": "code",
   "execution_count": null,
   "metadata": {},
   "outputs": [],
   "source": [
    "# Modificación de una posición\n",
    "temperaturas[3] = 12\n",
    "print(temperaturas)\n",
    "\n",
    "# Modificación de un grupo de posiciones\n",
    "temperaturas[0:3] = [-1, -1, -1]\n",
    "print(temperaturas)"
   ]
  },
  {
   "cell_type": "markdown",
   "metadata": {},
   "source": [
    "### 2.3 Otras operaciones con listas <a name=\"sec_otras\">"
   ]
  },
  {
   "cell_type": "markdown",
   "metadata": {
    "collapsed": true
   },
   "source": [
    "Veamos algunas operaciones básicas específicas de las listas. Ten en cuenta que, además de todas estas operaciones, con las listas podemos utilizar el resto de operaciones comunes a todas las secuencias, explicadas en la sección anterior."
   ]
  },
  {
   "cell_type": "markdown",
   "metadata": {},
   "source": [
    "Para añadir un elemento a una lista utilizamos el método **append**. El elemento se añade al final de la lista. Fíjate en su funcionamiento ejecutando el código siguiente y observando cómo cambia la lista:"
   ]
  },
  {
   "cell_type": "code",
   "execution_count": null,
   "metadata": {},
   "outputs": [],
   "source": [
    "print(colores)\n",
    "colores.append(\"negro\")\n",
    "print(colores)"
   ]
  },
  {
   "cell_type": "markdown",
   "metadata": {},
   "source": [
    "Si queremos añadir un elemento en una posición distinta al final, podemos hacerlo mediante el método **insert**, indicando la posición donde queremos añadir elemento como primer parámetro del método:"
   ]
  },
  {
   "cell_type": "code",
   "execution_count": null,
   "metadata": {},
   "outputs": [],
   "source": [
    "colores.insert(0, \"rojo\")\n",
    "print(colores)\n",
    "\n",
    "colores.insert(1, \"verde\")\n",
    "print(colores)"
   ]
  },
  {
   "cell_type": "markdown",
   "metadata": {},
   "source": [
    "---\n",
    "La operación contraria a la anterior es la de eliminar un elemento de una lista. Para hacerlo utilizamos la función **del**, a la cual hemos de pasar como parámetro la posición que ocupa en la lista el elemento que queremos eliminar. Observa su funcionamiento en el siguiente ejemplo:"
   ]
  },
  {
   "cell_type": "code",
   "execution_count": null,
   "metadata": {},
   "outputs": [],
   "source": [
    "print(temperaturas)\n",
    "del(temperaturas[2])\n",
    "print(temperaturas)"
   ]
  },
  {
   "cell_type": "markdown",
   "metadata": {},
   "source": [
    "Observa cómo se elimina el tercer elemento de la lista, el que ocupa la posición 2. Fíjate que el primer elemento permanece, aunque su valor sea el mismo que el que hemos eliminado. Solo se elimina el que ocupa la posición indicada. Lógicamente, los elementos que le siguen ven modificada su posición: el elemento 3 pasa a ser ahora el 2, el 4 pasa a ser el 3, y así sucesivamente.\n",
    "\n",
    "También podemos eliminar todos los elementos de la lista mediante el método **clear**:"
   ]
  },
  {
   "cell_type": "code",
   "execution_count": null,
   "metadata": {},
   "outputs": [],
   "source": [
    "temperaturas.clear()\n",
    "print(temperaturas)"
   ]
  },
  {
   "cell_type": "markdown",
   "metadata": {},
   "source": [
    "---\n",
    "El método **sort** permite modificar el orden de los elementos de una lista, para que dicha lista quede ordenada. Esto también se podía conseguir con la función predefinida *sorted*, como vimos antes. La diferencia es que en este caso no se obtiene una nueva lista, sino que se altera la posición de los elementos que componen la lista."
   ]
  },
  {
   "cell_type": "code",
   "execution_count": null,
   "metadata": {},
   "outputs": [],
   "source": [
    "temperaturas.sort()\n",
    "print(temperaturas)"
   ]
  },
  {
   "cell_type": "markdown",
   "metadata": {},
   "source": [
    "El método *sort* dispone de los mismos parámetros opcionales de la función *sorted*, esto es:\n",
    "* El parámetro *reverse*, para indicar que queremos ordenar de mayor a menor.\n",
    "* El parámetro *key*, para indicar una función de comparación específica."
   ]
  },
  {
   "cell_type": "markdown",
   "metadata": {},
   "source": [
    "### ¡Prueba tú!\n",
    "Completa el siguiente código para obtener la mayor de las edades de la lista. Hazlo de dos formas: a) Utiliza la función max; b) Ordena la lista de mayor a menor y accede al primer elemento de la lista."
   ]
  },
  {
   "cell_type": "code",
   "execution_count": null,
   "metadata": {},
   "outputs": [],
   "source": [
    "edades = [19, 20, 18, 21, 20, 19, 19, 18, 21]\n",
    "# Calculamos la mayor edad de la lista\n",
    "# a) Usando la función max:\n",
    "\n",
    "# b) Ordenando la lista y accediendo al primer elemento:\n"
   ]
  },
  {
   "cell_type": "markdown",
   "metadata": {},
   "source": [
    "¿Cuál de las dos opciones crees que es más eficiente en tiempo de ejecución? Es decir, ¿cuál se ejecuta más rápido?"
   ]
  },
  {
   "cell_type": "markdown",
   "metadata": {},
   "source": [
    "## 3. Comprensión de listas <a name=\"sec_comprension_listas\"/>"
   ]
  },
  {
   "cell_type": "markdown",
   "metadata": {},
   "source": [
    "Las listas pueden crearse también por comprensión (en inglés, *comprehension*). Esto tiene mucha relación con la definición de conjuntos por comprensión de las matemáticas. Sea por ejemplo, en matemáticas esta expresión:\n",
    "$$ S = \\{x^2 |\\ x \\in [3, 7), x \\  impar\\}$$\n",
    "Esta expresión define un conjunto $ S = \\{9, 25\\}$, puesto que el intervalo es abierto por la derecha, con lo que solo comprende los números 3, 4, 5 y 6, pero la condición dice que solo tengamos en cuenta los impares, es decir, 3 y 5, y la expresión del principio dice que tomemos los cuadrados. Recordando que para saber si un número es par o impar usamos en Python el operador módulo (`%`), esto se puede escribir (definiendo una lista `s` en lugar de un conjunto) como:\n"
   ]
  },
  {
   "cell_type": "code",
   "execution_count": null,
   "metadata": {},
   "outputs": [],
   "source": [
    "s = [x**2 for x in range(3, 7) if x % 2 == 1]\n",
    "print(s)"
   ]
  },
  {
   "cell_type": "markdown",
   "metadata": {},
   "source": [
    "Si tenemos un trozo de código que define una lista de este tipo:\n",
    "``` python\n",
    "nueva_lista = []\n",
    "for e in vieja_lista:\n",
    "    if filtro(e):\n",
    "        nueva_lista.append(transformacion(e))\n",
    "```\n",
    "Se puede escribir, usando comprensión, como:\n",
    "```python\n",
    "nueva_lista = [transformacion(e) for e in vieja_lista if filtro(e)]\n",
    "```\n",
    "Vamos a ver esto con un ejemplo. Supongamos que de la lista `edades` anterior queremos obtener una nueva lista, `mayores_edad` con las que sean mayores o iguales que 21. Escribiríamos:"
   ]
  },
  {
   "cell_type": "code",
   "execution_count": null,
   "metadata": {},
   "outputs": [],
   "source": [
    "print(edades)\n",
    "mayores_edad = [e for e in edades if e >= 21]\n",
    "print(mayores_edad)"
   ]
  },
  {
   "cell_type": "markdown",
   "metadata": {},
   "source": [
    "### ¡Prueba tú!\n",
    "Prueba a definir una lista temperaturas_menores, a partir de la lista temperaturas, con las temperaturas menores que 27 grados."
   ]
  },
  {
   "cell_type": "code",
   "execution_count": null,
   "metadata": {},
   "outputs": [],
   "source": []
  },
  {
   "cell_type": "markdown",
   "metadata": {},
   "source": [
    "La definición de listas por comprensión es muy cómoda, compacta y expresiva. No obstante, no debemos abusar de ella; si la expresión que escribimos es muy compleja se puede volver muy difícil de leer. En ese caso sería preferible la definición \"clásica\" de la lista."
   ]
  },
  {
   "cell_type": "markdown",
   "metadata": {},
   "source": [
    "## 4. Tuplas  <a name=\"sec_tuplas\"/>"
   ]
  },
  {
   "cell_type": "markdown",
   "metadata": {},
   "source": [
    "Una tupla es un tipo de secuencia similiar a las listas pero que es inmutable. Esto quiere decir que, una vez creada, no podemos añadir, eliminar ni modificar elementos.  \n",
    "\n",
    "Así como las listas se pueden definir por sus elementos colocados entre corchetes y separados por comas, las tuplas se pueden definir por sus elementos colocados entre paréntesis y separados también por comas:"
   ]
  },
  {
   "cell_type": "code",
   "execution_count": null,
   "metadata": {},
   "outputs": [],
   "source": [
    "t = (1, 2, 3)\n",
    "# del t[1]\n",
    "# t.append(4)\n",
    "# t[0] = 4\n",
    "t = 4, 5, 6   # Los paréntesis son opcionales...\n",
    "\n",
    "lista_tuplas = [(1,2), (3,4), (5,6)] # ... salvo que las tuplas sean elementos de otras secuencias"
   ]
  },
  {
   "cell_type": "markdown",
   "metadata": {},
   "source": [
    "Las tuplas, a diferencia de las listas, sí suelen usarse con elementos no homogéneos; pueden usarse, por ejemplo, para modelar diferentes características de un objeto. Por ejemplo, podemos definir las tuplas"
   ]
  },
  {
   "cell_type": "code",
   "execution_count": null,
   "metadata": {
    "scrolled": true
   },
   "outputs": [],
   "source": [
    "persona1 = 'John', 'Doe', 'varón', 23, 1.83, 87.3\n",
    "persona2 = ('Jane', 'Doe', 'mujer', 25, 1.62, 64.0)\n",
    "print(persona1, persona2)"
   ]
  },
  {
   "cell_type": "markdown",
   "metadata": {},
   "source": [
    "Podemos referenciar cada uno de los elementos de una tupla mediante una variable (aplicando *unpacking*) y tratarlos posteriormente como variables independientes:"
   ]
  },
  {
   "cell_type": "code",
   "execution_count": null,
   "metadata": {},
   "outputs": [],
   "source": [
    "nombre, apellidos, sexo, edad, estatura, peso = persona1\n",
    "print(nombre, apellidos)\n",
    "edad += 1\n",
    "print(edad)\n",
    "print(persona1)\n",
    "lista = [persona1 , persona2]\n",
    "lista[0]=  (nombre, apellidos, sexo, edad, estatura, peso)\n",
    "print (lista)"
   ]
  },
  {
   "cell_type": "markdown",
   "metadata": {},
   "source": [
    "Si solo queremos referenciar mediante un nombre una parte de la tupla podemos usar para las demás una variable sin nombre, que se expresa mediante un símbolo de subrayado o guion bajo (`_`)."
   ]
  },
  {
   "cell_type": "code",
   "execution_count": null,
   "metadata": {},
   "outputs": [],
   "source": [
    "nombre, apellidos, _, _, estatura, peso = persona1\n",
    "imc = peso / estatura**2\n",
    "print(\"El Índice de masa corporal de\", nombre, apellidos, \"es\", imc)"
   ]
  },
  {
   "cell_type": "markdown",
   "metadata": {},
   "source": [
    "Cuando se utilizan tuplas definidas por sus variable es muy importante que usemos tantas variables como elementos tenga la tupla, aunque, como hemos mencionado, podemos usar variables sin nombre"
   ]
  },
  {
   "cell_type": "code",
   "execution_count": null,
   "metadata": {},
   "outputs": [],
   "source": [
    "nombre, edad = persona2"
   ]
  },
  {
   "cell_type": "markdown",
   "metadata": {},
   "source": [
    "Si queremos definir una tupla con un solo elemento no basta con ponerlo entre paréntesis; esto lo interpretaría python simplemente como cualquier otra cosa entre paréntesis. En este caso hay que poner el elemento seguido de una coma y entre paréntesis. Por ejemplo:"
   ]
  },
  {
   "cell_type": "code",
   "execution_count": null,
   "metadata": {},
   "outputs": [],
   "source": [
    "a1 = (2)\n",
    "print(type(a1))\n",
    "a2 = (2,)\n",
    "print(type(a2))"
   ]
  },
  {
   "cell_type": "markdown",
   "metadata": {},
   "source": [
    "Las tuplas se usan frecuentemente para devolver varios valores en una función. Por ejemplo:"
   ]
  },
  {
   "cell_type": "code",
   "execution_count": null,
   "metadata": {},
   "outputs": [],
   "source": [
    "def identificacion(persona):\n",
    "    nombre, apellidos, _, _, _, _ = persona\n",
    "    return (nombre, apellidos)\n",
    "id2 = identificacion(persona2)\n",
    "print(id2)"
   ]
  },
  {
   "cell_type": "markdown",
   "metadata": {},
   "source": [
    "### ¡Prueba tú!\n",
    "Escribe una función `datos` que reciba una persona y devuelva una tupla formada por el sexo, la estatura y el peso de esa persona."
   ]
  },
  {
   "cell_type": "code",
   "execution_count": null,
   "metadata": {},
   "outputs": [],
   "source": []
  },
  {
   "cell_type": "markdown",
   "metadata": {},
   "source": [
    "---\n",
    "Podemos construir tuplas a partir de otras secuencias usando la función predefinida **tuple**:"
   ]
  },
  {
   "cell_type": "code",
   "execution_count": null,
   "metadata": {},
   "outputs": [],
   "source": [
    "lista_pares_menores_20 = ['12', '17', '15']\n",
    "print (lista_pares_menores_20)\n",
    "tupla_pares_menores_20 = tuple(lista_pares_menores_20)\n",
    "print(tupla_pares_menores_20)"
   ]
  },
  {
   "cell_type": "markdown",
   "metadata": {},
   "source": [
    "Vamos a realizar un pequeño ejemplo:\n",
    "Escribiremos una función que reciba una lista de palabras y construya una lista de tuplas formadas por la longitud de la palabra y la palabra. Posteriormente mostraremos la palabra más larga."
   ]
  },
  {
   "cell_type": "code",
   "execution_count": null,
   "metadata": {},
   "outputs": [],
   "source": [
    "def palabra_mas_larga(palabras):\n",
    "    tuplas = [(len(p), p) for p in palabras]\n",
    "    _, palabra = max(tuplas)\n",
    "    return palabra\n",
    "texto = \"Vamos a realizar un pequeño ejemplo Escribiremos una función que reciba una lista de palabras y construya una lista de tuplas formadas por la longitud de la palabra y la palabra Posteriormente mostraremos la palabra más larga\"\n",
    "lista_palabras = texto.lower().split(' ')\n",
    "print(lista_palabras)\n",
    "print(palabra_mas_larga(lista_palabras))"
   ]
  },
  {
   "cell_type": "code",
   "execution_count": null,
   "metadata": {},
   "outputs": [],
   "source": []
  }
 ],
 "metadata": {
  "anaconda-cloud": {},
  "kernelspec": {
   "display_name": "Python 3",
   "language": "python",
   "name": "python3"
  },
  "language_info": {
   "codemirror_mode": {
    "name": "ipython",
    "version": 3
   },
   "file_extension": ".py",
   "mimetype": "text/x-python",
   "name": "python",
   "nbconvert_exporter": "python",
   "pygments_lexer": "ipython3",
   "version": "3.8.3"
  }
 },
 "nbformat": 4,
 "nbformat_minor": 2
}
