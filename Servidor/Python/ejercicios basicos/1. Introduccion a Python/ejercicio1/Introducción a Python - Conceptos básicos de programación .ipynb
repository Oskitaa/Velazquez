{
 "cells": [
  {
   "cell_type": "markdown",
   "metadata": {},
   "source": [
    "# Una introducción a Python: Conceptos básicos de programación\n",
    "**Docente**: Antonio Gago.  **I.E.S. Velázquez:** Curso 2020-2021"
   ]
  },
  {
   "cell_type": "markdown",
   "metadata": {},
   "source": [
    "Este documento está pensado para que comiences a comprender los programas escritos en el lenguaje Python, y a escribir tus primeros programas. No tienes que tener ningún conocimiento previo para entenderlo. No pretendemos profundizar en ninguno de los contenidos que aquí se presentan, sino más bien dar un primer vistazo a lo que te puedes encontrar en un programa escrito en Python. Más adelante, iremos profundizando en cada uno de estos contenidos. \n",
    "\n",
    "\n",
    "Debes ir ejecutando cada una de las celdas de código\\* que vayas encontrado. Para hacer esto, puedes hacer clic en la celda en cuestión y luego en el botón con el icono de \"play\" que aparece en la barra de herramientas; también puedes pulsar las teclas \"Mayúsculas\" y \"Entrar\" al mismo tiempo. Si empiezas en la primera celda, puedes ir usando el mismo icono de \"play\" para ir ejecutando y avanzando a lo largo del notebook. Si \"ejecutas\" una celda como esta, que no contiene código, simplemente pasarás a la siguiente. **Debes ejecutar todas las celdas que contienen código**, si no lo haces es posible que algunos ejemplos de código\\* no funcionen. \n",
    "\n",
    "Los apartados marcados con el título **¡Prueba tú!** están pensados para que escribas pequeños trocitos de código\\*, de manera que compruebes si has comprendido lo que se acaba de explicar.\n",
    "\n",
    "\\* Cuando hablamos de \"código\" nos referimos a un trozo de texto sacado de un programa informático. En inglés, es frecuente usar el término **coding** para referirse al acto de escribir programas informáticos.\n",
    "\n",
    "### ¿Empezamos?"
   ]
  },
  {
   "cell_type": "markdown",
   "metadata": {},
   "source": [
    "## 1. Instrucciones y funciones"
   ]
  },
  {
   "cell_type": "markdown",
   "metadata": {
    "nbpresent": {
     "id": "71219fc3-c9cb-4700-9f0b-ab38b1b223da"
    },
    "slideshow": {
     "slide_type": "-"
    }
   },
   "source": [
    "Un programa Python está formado por **instrucciones** (a veces también son llamadas **sentencias**). Cada instrucción se escribe normalmente en una línea. Por ejemplo, la siguiente instrucción sirve para imprimir el mensaje \"Hola, mundo!\" en la pantalla.\n",
    "\n",
    "Para ejecutar la instrucción, haz clic sobre la celda de abajo y luego pulsa el icono de \"play\" (también puedes pulsar las teclas \"Mayúsculas+Entrar\")."
   ]
  },
  {
   "cell_type": "code",
   "execution_count": null,
   "metadata": {
    "nbpresent": {
     "id": "ae8725fa-30f7-4d7f-a2c2-5f86953d730b"
    }
   },
   "outputs": [],
   "source": [
    "print(\"Hola, mundo!\")"
   ]
  },
  {
   "cell_type": "markdown",
   "metadata": {
    "nbpresent": {
     "id": "86423d42-e808-47e6-b1a7-e925e195f821"
    }
   },
   "source": [
    "Si en un programa hay varias instrucciones, estas se ejecutan secuencialmente, una tras otra."
   ]
  },
  {
   "cell_type": "code",
   "execution_count": null,
   "metadata": {
    "nbpresent": {
     "id": "d0569bb0-fad8-48b7-8d48-0066bfb90401"
    }
   },
   "outputs": [],
   "source": [
    "print(\"Hola, mundo!\")\n",
    "print(\"Adiós, mundo!\")"
   ]
  },
  {
   "cell_type": "markdown",
   "metadata": {
    "nbpresent": {
     "id": "7adaaf8f-a83e-456b-b99a-d3b3d4cb6d1a"
    }
   },
   "source": [
    "La instrucción que hemos usado en los ejemplos anteriores, **print** (que significa imprimir en inglés), es una **función predefinida** (*built-in function*). Una función puede ser \"llamada\" (también se dice \"invocada\") desde un programa escribiendo su nombre y a continuación unos paréntesis de apertura y cierre. En ocasiones, las funciones reciben **parámetros**, que se escriben en la llamada dentro de los paréntesis, separados por comas si hay más de uno."
   ]
  },
  {
   "cell_type": "markdown",
   "metadata": {},
   "source": [
    "### ¡Prueba tú!"
   ]
  },
  {
   "cell_type": "code",
   "execution_count": 1,
   "metadata": {},
   "outputs": [
    {
     "name": "stdout",
     "output_type": "stream",
     "text": [
      "¡Hola, mundo!\n"
     ]
    }
   ],
   "source": [
    "# Escribe una llamada a la función print para mostrar algún mensaje en pantalla.\n",
    "\n",
    "print ('¡Hola, mundo!')\n"
   ]
  },
  {
   "cell_type": "markdown",
   "metadata": {},
   "source": [
    "Hay muchas funciones predefinidas, por ejemplo la función **help** nos proporciona ayuda sobre cualquier otra función. "
   ]
  },
  {
   "cell_type": "code",
   "execution_count": null,
   "metadata": {
    "nbpresent": {
     "id": "998dc7f5-ab6d-4fb8-866f-4fa96a06aaaa"
    }
   },
   "outputs": [],
   "source": [
    "help(print)   # Nos muestra información de ayuda sobre la función predefinida print"
   ]
  },
  {
   "cell_type": "markdown",
   "metadata": {},
   "source": [
    "### ¡Prueba tú!"
   ]
  },
  {
   "cell_type": "code",
   "execution_count": 4,
   "metadata": {},
   "outputs": [
    {
     "name": "stdout",
     "output_type": "stream",
     "text": [
      "Help on _Helper in module _sitebuiltins object:\n",
      "\n",
      "class _Helper(builtins.object)\n",
      " |  Define the builtin 'help'.\n",
      " |  \n",
      " |  This is a wrapper around pydoc.help that provides a helpful message\n",
      " |  when 'help' is typed at the Python interactive prompt.\n",
      " |  \n",
      " |  Calling help() at the Python prompt starts an interactive help session.\n",
      " |  Calling help(thing) prints help for the python object 'thing'.\n",
      " |  \n",
      " |  Methods defined here:\n",
      " |  \n",
      " |  __call__(self, *args, **kwds)\n",
      " |      Call self as a function.\n",
      " |  \n",
      " |  __repr__(self)\n",
      " |      Return repr(self).\n",
      " |  \n",
      " |  ----------------------------------------------------------------------\n",
      " |  Data descriptors defined here:\n",
      " |  \n",
      " |  __dict__\n",
      " |      dictionary for instance variables (if defined)\n",
      " |  \n",
      " |  __weakref__\n",
      " |      list of weak references to the object (if defined)\n",
      "\n"
     ]
    }
   ],
   "source": [
    "# Haz que se muestre la ayuda disponible sobre la propia función help\n",
    "\n",
    "help(help)\n"
   ]
  },
  {
   "cell_type": "markdown",
   "metadata": {
    "nbpresent": {
     "id": "829150e0-712b-4739-92d6-37b9c3d789cb"
    }
   },
   "source": [
    "En el ejemplo anterior hemos usado el carácter almohadilla (#) para escribir un **comentario** sobre el código. Los comentarios se usan en los programas para hacer aclaraciones, explicar el funcionamiento y, en general, hacer más fácil de entender nuestros programas. \n",
    "\n",
    "Las funciones anteriores se llaman funciones predefinidas porque ya vienen incluidas \"por defecto\" en Python. Por contra, los programadores pueden **definir** sus propias **funciones**, como se muestra a continuación."
   ]
  },
  {
   "cell_type": "code",
   "execution_count": 9,
   "metadata": {
    "nbpresent": {
     "id": "8dce188c-36b7-41fa-9020-b5cb5502e452"
    }
   },
   "outputs": [],
   "source": [
    "def saluda(nombre):\n",
    "    ''' \n",
    "    Esta función imprime un saludo personalizado con el nombre indicado mediante el parámetro \"nombre\".\n",
    "    '''\n",
    "    print(\"Hola, \" + nombre)"
   ]
  },
  {
   "cell_type": "markdown",
   "metadata": {
    "nbpresent": {
     "id": "35a148d4-f201-4441-bf5e-8a07f93dea84"
    }
   },
   "source": [
    "La función que acabamos de definir se llama *saluda* y recibe un único parámetro. Después de la primera línea (llamada **cabecera** o **prototipo** de la función) vienen una o varias instrucciones (llamadas **cuerpo** de la función), que serán ejecutadas cuando alguien llame a la función. Date cuenta de que las instrucciones que conforman el cuerpo de la función aparecen indentadas, es decir, tienen un tabulador delante. \n",
    "\n",
    "Las primeras líneas del cuerpo de la función, que comienzan y acaban con tres comillas simples, se llaman **comentario de documentación** de la función, y, aunque no son obligatorias, sí es recomendable incluirlas. Cuando alguien llame a la función predefinida *help* para pedir ayuda sobre nuestra función, se mostrará precisamente el texto aquí incluido.\n",
    "\n",
    "Lo que hará la función cuando alguien la llame será mostrar un mensaje de saludo. Hagamos una llamada para probar la función: prueba a escribir tu nombre entre las comillas."
   ]
  },
  {
   "cell_type": "code",
   "execution_count": 10,
   "metadata": {
    "nbpresent": {
     "id": "85d1ab90-cc65-4935-808b-a6f57ecc892e"
    }
   },
   "outputs": [
    {
     "name": "stdout",
     "output_type": "stream",
     "text": [
      "Hola, Antonio\n"
     ]
    }
   ],
   "source": [
    "saluda(\"Antonio\")"
   ]
  },
  {
   "cell_type": "markdown",
   "metadata": {
    "nbpresent": {
     "id": "d99a804c-9444-418b-bc94-3c2f064e2844"
    }
   },
   "source": [
    "Al definir una función conseguimos reutilizar la funcionalidad implementada las veces que queramos, simplemente llamando a la función en las partes del programa en que necesitemos dicha funcionalidad. Por ejemplo, ahora puedo realizar varios saludos, uno tras otro:"
   ]
  },
  {
   "cell_type": "code",
   "execution_count": 11,
   "metadata": {
    "nbpresent": {
     "id": "86172e20-fe16-447d-859f-24a81e563011"
    }
   },
   "outputs": [
    {
     "name": "stdout",
     "output_type": "stream",
     "text": [
      "Hola, John\n",
      "Hola, Paul\n",
      "Hola, George\n",
      "Hola, Ringo\n"
     ]
    }
   ],
   "source": [
    "saluda(\"John\")\n",
    "saluda(\"Paul\")\n",
    "saluda(\"George\")\n",
    "saluda(\"Ringo\")"
   ]
  },
  {
   "cell_type": "markdown",
   "metadata": {},
   "source": [
    "### ¡Prueba tú!"
   ]
  },
  {
   "cell_type": "markdown",
   "metadata": {},
   "source": [
    "Define una función llamada *saluda_educado* que reciba un nombre como parámetro, imprima el mismo saludo personalizado que la función saluda, y a continuación imprima el texto \"Encantado de conocerle\".\n",
    "\n",
    "**¡Truco!:** puedes llamar a la función anterior *saluda* desde el cuerpo de la nueva función *saluda_educado*."
   ]
  },
  {
   "cell_type": "code",
   "execution_count": 25,
   "metadata": {},
   "outputs": [
    {
     "name": "stdout",
     "output_type": "stream",
     "text": [
      "Hola, andres\n",
      "Encantado de conocerte.\n"
     ]
    }
   ],
   "source": [
    "def saluda_educado(nombre):\n",
    "    '''\n",
    "    Esta función mostrará por pantalla un saludo educado, con el nombre indicado.\n",
    "    '''\n",
    "    saluda(nombre)\n",
    "    print('Encantado de conocerte.')\n",
    "\n",
    "\n",
    "saluda_educado('andres')"
   ]
  },
  {
   "cell_type": "markdown",
   "metadata": {},
   "source": [
    "## 2. Expresiones y tipos"
   ]
  },
  {
   "cell_type": "markdown",
   "metadata": {
    "nbpresent": {
     "id": "9659b1c1-9aed-4d71-b830-4a60d408ad71"
    }
   },
   "source": [
    "En la instrucción que hemos escrito al definir la función *saluda*:\n",
    "```python \n",
    "print(\"Hola, \" + nombre)\n",
    "```\n",
    "\n",
    "hemos usado un **operador**, el signo +, que sirve para concatenar las dos cadenas de texto: la cadena *\"Hola, \"* y la cadena contenida en el parámetro *nombre*. \n",
    "\n",
    "El uso de operadores es habitual en todos los lenguajes de programación. Llamamos **expresiones** a las instrucciones formadas por operadores (como el +), literales (como la cadena *\"Hola, \"*) y variables (como el parámetro *nombre*). Una expresión es siempre evaluada por Python, para obtener un resultado, antes de seguir ejecutando el resto de instrucciones del programa. \n",
    "\n",
    "Veamos algunos ejemplos de expresiones utilizando los **operadores aritméticos**. Prueba a cambiar los ejemplos que se muestran para experimentar un poco."
   ]
  },
  {
   "cell_type": "code",
   "execution_count": null,
   "metadata": {
    "nbpresent": {
     "id": "5a579720-fa62-4525-85e3-dd049cbd73be"
    }
   },
   "outputs": [],
   "source": [
    "3 + 5"
   ]
  },
  {
   "cell_type": "code",
   "execution_count": null,
   "metadata": {
    "nbpresent": {
     "id": "f6847886-4044-43a7-9edd-f18efddcb7a9"
    }
   },
   "outputs": [],
   "source": [
    "3 + 5 * 8"
   ]
  },
  {
   "cell_type": "code",
   "execution_count": null,
   "metadata": {
    "nbpresent": {
     "id": "5d433d13-f44a-45bb-91fd-406f60b33b67"
    }
   },
   "outputs": [],
   "source": [
    "(3 + 5) * 8"
   ]
  },
  {
   "cell_type": "code",
   "execution_count": null,
   "metadata": {},
   "outputs": [],
   "source": [
    "(3 + 5) * 8 / 14"
   ]
  },
  {
   "cell_type": "markdown",
   "metadata": {},
   "source": [
    "### ¡Prueba tú!"
   ]
  },
  {
   "cell_type": "code",
   "execution_count": 37,
   "metadata": {},
   "outputs": [
    {
     "data": {
      "text/plain": [
       "0.0"
      ]
     },
     "execution_count": 37,
     "metadata": {},
     "output_type": "execute_result"
    }
   ],
   "source": [
    "# Escribe alguna expresión usando operadores aritméticos. Además de los anteriores tienes los siguientes:\n",
    "# - // % **\n",
    "\n",
    "\n",
    "((3*3) / (4*2+1) % 2) - 1\n",
    "\n"
   ]
  },
  {
   "cell_type": "markdown",
   "metadata": {},
   "source": [
    "En las expresiones también podemos usar llamadas a funciones, siempre que sean funciones que devuelvan algún resultado. Para que una función devuelva un valor cuando sea invocada, usaremos la instrucción **return** en algún punto del cuerpo de la función (casi siempre, al final del cuerpo de la función). Por ejemplo:"
   ]
  },
  {
   "cell_type": "code",
   "execution_count": null,
   "metadata": {},
   "outputs": [],
   "source": [
    "def doble(x):\n",
    "    return x * 2\n",
    "\n",
    "doble(10)"
   ]
  },
  {
   "cell_type": "markdown",
   "metadata": {
    "nbpresent": {
     "id": "ee1bdf03-6e13-4f1f-9dc9-22d4e344fdba"
    }
   },
   "source": [
    "A veces necesitamos guardar el resultado de una expresión para utilizarlo más adelante en nuestro programa. Para esto se usan las **variables**. "
   ]
  },
  {
   "cell_type": "code",
   "execution_count": null,
   "metadata": {
    "nbpresent": {
     "id": "14d1a927-b37f-4323-9404-17d453f3b487"
    }
   },
   "outputs": [],
   "source": [
    "resultado = (3 + 5) * doble(8)\n",
    "print(resultado / 5)"
   ]
  },
  {
   "cell_type": "markdown",
   "metadata": {
    "nbpresent": {
     "id": "c71a78d7-9d0e-4825-9c84-9998f971317d"
    }
   },
   "source": [
    "Hemos **asignado** a la variable *resultado* el valor de la expresión que hemos escrito a la derecha del carácter igual (=), de manera que más adelante en el programa podremos utilizar ese valor haciendo mención a la variable. A este carácter igual lo llamamos instrucción de **asignación**."
   ]
  },
  {
   "cell_type": "markdown",
   "metadata": {},
   "source": [
    "### ¡Prueba tú!"
   ]
  },
  {
   "cell_type": "markdown",
   "metadata": {},
   "source": [
    "Intenta definir una función de nombre *descuento* que reciba como parámetro un valor y un porcentaje y devuelva el resultado de aplicar el descuento correspondiente al porcentaje sobre el valor indicado."
   ]
  },
  {
   "cell_type": "code",
   "execution_count": 47,
   "metadata": {},
   "outputs": [],
   "source": [
    "# Define aquí la función\n",
    "def descuento(precio, descuento):\n",
    "    return precio -  (precio / descuento)\n",
    "\n",
    "\n"
   ]
  },
  {
   "cell_type": "markdown",
   "metadata": {},
   "source": [
    "Cuando la termines de escribir, puedes ejecutar esta prueba:"
   ]
  },
  {
   "cell_type": "code",
   "execution_count": 48,
   "metadata": {},
   "outputs": [
    {
     "name": "stdout",
     "output_type": "stream",
     "text": [
      "Precio con 10% de descuento: 180.0\n"
     ]
    }
   ],
   "source": [
    "precio = 200\n",
    "print(\"Precio con 10% de descuento:\", descuento(precio, 10))"
   ]
  },
  {
   "cell_type": "markdown",
   "metadata": {},
   "source": [
    "En los ejemplos anteriores, hemos utilizado **literales** de tipo **cadena de caracteres** (por ejemplo, *\"Hola, mundo!\"*) y literales de tipo número **entero** (por ejemplo, *3*, *5* y *8*). Hay más tipos de literales, por ejemplo literales de tipo número **real** o de tipo **lógico**: "
   ]
  },
  {
   "cell_type": "code",
   "execution_count": null,
   "metadata": {
    "nbpresent": {
     "id": "80be6133-d85a-4e43-9964-6578abcbaaac"
    }
   },
   "outputs": [],
   "source": [
    "PI = 3.14159\n",
    "radio = 1.5\n",
    "area = PI * radio**2   # El operador ** sirve para calcular potencias\n",
    "print(\"El área del círculo es\", area)\n",
    "\n",
    "umbral = 100.0\n",
    "area_superior_umbral = area > umbral  \n",
    "# El carácter > es un operador relacional, se evalúa como True (verdadero) o False (falso)\n",
    "print(\"¿Es el área superior al umbral?\", area_superior_umbral)"
   ]
  },
  {
   "cell_type": "markdown",
   "metadata": {},
   "source": [
    "## 3. Listas y tuplas"
   ]
  },
  {
   "cell_type": "markdown",
   "metadata": {
    "nbpresent": {
     "id": "9b7597e9-aaa9-4d9f-ba0d-22f43d1a3900"
    }
   },
   "source": [
    "Cuando necesitamos almacenar varios datos en una sola variable, utilizamos literales de tipo **lista**:"
   ]
  },
  {
   "cell_type": "code",
   "execution_count": 107,
   "metadata": {
    "nbpresent": {
     "id": "0281a659-abae-4cb9-b30f-b552b9db399e"
    }
   },
   "outputs": [
    {
     "name": "stdout",
     "output_type": "stream",
     "text": [
      "[28.5, 27.8, 29.5, 32.1, 30.7, 25.5, 26.0]\n"
     ]
    }
   ],
   "source": [
    "temperaturas = [28.5, 27.8, 29.5, 32.1, 30.7, 25.5, 26.0]\n",
    "print(temperaturas)"
   ]
  },
  {
   "cell_type": "code",
   "execution_count": 50,
   "metadata": {},
   "outputs": [
    {
     "name": "stdout",
     "output_type": "stream",
     "text": [
      "['Spiderman', 'Iron Man', 'Lobezno', 'Capitán América', 'Hulk']\n"
     ]
    }
   ],
   "source": [
    "heroes = [\"Spiderman\", \"Iron Man\", \"Lobezno\", \"Capitán América\", \"Hulk\"]\n",
    "print(heroes)"
   ]
  },
  {
   "cell_type": "markdown",
   "metadata": {
    "collapsed": true
   },
   "source": [
    "O, a veces, de tipo **tupla**, que se escriben igual pero usando paréntesis en lugar de corchetes:"
   ]
  },
  {
   "cell_type": "code",
   "execution_count": 61,
   "metadata": {},
   "outputs": [
    {
     "name": "stdout",
     "output_type": "stream",
     "text": [
      "('Mark', 'Lenders')\n"
     ]
    }
   ],
   "source": [
    "usuario = (\"Mark\", \"Lenders\")\n",
    "print(usuario)"
   ]
  },
  {
   "cell_type": "markdown",
   "metadata": {},
   "source": [
    "Ambos, listas y tuplas, se parecen mucho (ya veremos algunas diferencias más adelante). Podemos acceder a un elemento concreto, indicando el **índice** de dicho elemento (es decir, la posición que ocupa dentro de la lista o tupla, contando desde la izquierda):"
   ]
  },
  {
   "cell_type": "code",
   "execution_count": 62,
   "metadata": {},
   "outputs": [
    {
     "data": {
      "text/plain": [
       "29.0"
      ]
     },
     "execution_count": 62,
     "metadata": {},
     "output_type": "execute_result"
    }
   ],
   "source": [
    "temperaturas[0]   # La primera posición corresponde al índice 0"
   ]
  },
  {
   "cell_type": "code",
   "execution_count": 63,
   "metadata": {},
   "outputs": [
    {
     "data": {
      "text/plain": [
       "'Hulk'"
      ]
     },
     "execution_count": 63,
     "metadata": {},
     "output_type": "execute_result"
    }
   ],
   "source": [
    "heroes[4]"
   ]
  },
  {
   "cell_type": "code",
   "execution_count": 64,
   "metadata": {},
   "outputs": [
    {
     "data": {
      "text/plain": [
       "'Lenders'"
      ]
     },
     "execution_count": 64,
     "metadata": {},
     "output_type": "execute_result"
    }
   ],
   "source": [
    "usuario[1]"
   ]
  },
  {
   "cell_type": "code",
   "execution_count": 65,
   "metadata": {},
   "outputs": [
    {
     "name": "stdout",
     "output_type": "stream",
     "text": [
      "[29.0, 27.0, 29.5, 32.1, 30.7, 25.5, 26.0]\n"
     ]
    }
   ],
   "source": [
    "temperaturas[1] = 27.0\n",
    "# Puedo asignar un valor a una posición cualquiera de una lista\n",
    "print(temperaturas)"
   ]
  },
  {
   "cell_type": "code",
   "execution_count": 66,
   "metadata": {},
   "outputs": [
    {
     "name": "stdout",
     "output_type": "stream",
     "text": [
      "[29.5, 27.0, 29.5, 32.1, 30.7, 25.5, 26.0]\n"
     ]
    }
   ],
   "source": [
    "temperaturas[0] = temperaturas[0] + 0.5\n",
    "# Incrementamos en 0.5 grados la primera temperatura de la lista\n",
    "print(temperaturas)"
   ]
  },
  {
   "cell_type": "markdown",
   "metadata": {},
   "source": [
    "También podemos conocer en cualquier momento el número total de elementos dentro de una lista o una tupla mediante la función predefinida **len**:"
   ]
  },
  {
   "cell_type": "code",
   "execution_count": 67,
   "metadata": {},
   "outputs": [
    {
     "data": {
      "text/plain": [
       "7"
      ]
     },
     "execution_count": 67,
     "metadata": {},
     "output_type": "execute_result"
    }
   ],
   "source": [
    "len(temperaturas)"
   ]
  },
  {
   "cell_type": "code",
   "execution_count": 68,
   "metadata": {},
   "outputs": [
    {
     "data": {
      "text/plain": [
       "2"
      ]
     },
     "execution_count": 68,
     "metadata": {},
     "output_type": "execute_result"
    }
   ],
   "source": [
    "len(usuario)"
   ]
  },
  {
   "cell_type": "markdown",
   "metadata": {},
   "source": [
    "---\n",
    "**¡Cuidado!** No podemos asignar valores a las posiciones de una tupla. Prueba a ejecutar este código:"
   ]
  },
  {
   "cell_type": "code",
   "execution_count": 69,
   "metadata": {},
   "outputs": [
    {
     "ename": "TypeError",
     "evalue": "'tuple' object does not support item assignment",
     "output_type": "error",
     "traceback": [
      "\u001b[1;31m---------------------------------------------------------------------------\u001b[0m",
      "\u001b[1;31mTypeError\u001b[0m                                 Traceback (most recent call last)",
      "\u001b[1;32m<ipython-input-69-4064d3d57ed0>\u001b[0m in \u001b[0;36m<module>\u001b[1;34m\u001b[0m\n\u001b[1;32m----> 1\u001b[1;33m \u001b[0musuario\u001b[0m\u001b[1;33m[\u001b[0m\u001b[1;36m0\u001b[0m\u001b[1;33m]\u001b[0m \u001b[1;33m=\u001b[0m \u001b[1;34m\"Marcos\"\u001b[0m \u001b[1;31m# Cambiemos el nombre del usuario\u001b[0m\u001b[1;33m\u001b[0m\u001b[1;33m\u001b[0m\u001b[0m\n\u001b[0m",
      "\u001b[1;31mTypeError\u001b[0m: 'tuple' object does not support item assignment"
     ]
    }
   ],
   "source": [
    "usuario[0] = \"Marcos\" # Cambiemos el nombre del usuario"
   ]
  },
  {
   "cell_type": "markdown",
   "metadata": {},
   "source": [
    "Decimos que las tuplas son un **tipo inmutable**, lo que significa que una vez que hemos guardado un valor en una variable de este tipo, ¡ya no podremos cambiarlo!\n",
    "\n",
    "Lo que acaba de ocurrir es un **error en tiempo de ejecución**. Estos errores ocurren frecuentemente mientras estamos escribiendo y probando nuestros programas, y significan que no hemos hecho algo de la manera correcta. Cuando se produce uno de estos errores, el programa deja de ejecutarse. Cuando nuestro programa esté acabado y bien probado, no debería ocurrir ninguno de estos errores... Aunque ocasionalmente ocurre. Seguro que te suena esta ventana:\n",
    "\n",
    "![title](img001.png)\n"
   ]
  },
  {
   "cell_type": "markdown",
   "metadata": {},
   "source": [
    "### ¡Prueba tú!"
   ]
  },
  {
   "cell_type": "markdown",
   "metadata": {},
   "source": [
    "Los elementos de la lista *temperaturas* son números reales. Pero una lista puede contener elementos del tipo que quieras. Intenta definir una lista *usuarios*, en la que cada elemento sea una tupla *(nombre, apellido)*, como la tupla *usuario* que hemos definido anteriormente. Aquí tienes algunos pares nombre-apellido que puedes meter en la lista:\n",
    "* Mark Lenders\n",
    "* Oliver Atom\n",
    "* Benji Price"
   ]
  },
  {
   "cell_type": "code",
   "execution_count": 70,
   "metadata": {},
   "outputs": [
    {
     "name": "stdout",
     "output_type": "stream",
     "text": [
      "[('Óscar', 'Carballar'), ('Andres', 'Carmona'), ('Marcos', 'Sanchez')]\n"
     ]
    }
   ],
   "source": [
    "# Completa la instrucción siguiente:\n",
    "usuarios = [('Óscar','Carballar'),('Andres','Carmona'),('Marcos', 'Sanchez')]\n",
    "print(usuarios)"
   ]
  },
  {
   "cell_type": "markdown",
   "metadata": {},
   "source": [
    "## 4. Diccionarios\n",
    "\n",
    "Existen más tipos como las listas y las tuplas, que permiten almacenar conjuntos de datos. Uno muy utilizado es el **diccionario**. En un diccionario, cada valor almacenado se asocia a una clave, de manera que para acceder a los **valores** se utilizan dichas **claves** (de forma parecida a como para acceder a los valores de una lista se utilizan los índices).\n"
   ]
  },
  {
   "cell_type": "markdown",
   "metadata": {},
   "source": [
    "Puedes pensar en un diccionario como si se tratara de una tabla con dos columnas. Por ejemplo, un diccionario podría almacenar las temperaturas medias de las capitales andaluzas, indexando dichos valores mediante los nombres de las capitales:\n",
    "\n",
    "|Clave|Valor|\n",
    "|---|---|\n",
    "|\"Almería\"|19.9|\n",
    "|\"Cádiz\"| 19.1|\n",
    "|\"Córdoba\"| 19.1|\n",
    "|\"Granada\"|16.6|\n",
    "|\"Jaén\"|18.2|\n",
    "|\"Huelva\"|19.0|\n",
    "|\"Málaga\"|19.8|\n",
    "|\"Sevilla\"|20.0|\n",
    "\n",
    "Lo cual se escribiría en Python de la siguiente manera:"
   ]
  },
  {
   "cell_type": "code",
   "execution_count": 71,
   "metadata": {},
   "outputs": [
    {
     "name": "stdout",
     "output_type": "stream",
     "text": [
      "{'Almería': 19.9, 'Cádiz': 19.1, 'Córdoba': 19.1, 'Granada': 16.6, 'Jaén': 18.2, 'Huelva': 19.0, 'Málaga': 19.8, 'Sevilla': 20.0}\n"
     ]
    }
   ],
   "source": [
    "temperaturaMedia = {\"Almería\": 19.9, \"Cádiz\": 19.1, \"Córdoba\": 19.1, \"Granada\": 16.6, \n",
    "                    \"Jaén\": 18.2, \"Huelva\": 19.0, \"Málaga\": 19.8, \"Sevilla\": 20.0}\n",
    "print(temperaturaMedia)"
   ]
  },
  {
   "cell_type": "markdown",
   "metadata": {},
   "source": [
    "Ahora podemos trabajar con los datos del diccionario de forma parecida a las listas, aunque usando las claves para acceder a los valores, en lugar de los índices."
   ]
  },
  {
   "cell_type": "code",
   "execution_count": 72,
   "metadata": {},
   "outputs": [
    {
     "name": "stdout",
     "output_type": "stream",
     "text": [
      "Temperatura anterior: 20.0\n",
      "Temperatura actual: 21.0\n"
     ]
    }
   ],
   "source": [
    "print(\"Temperatura anterior:\", temperaturaMedia['Sevilla'])\n",
    "temperaturaMedia['Sevilla'] += 1.0   # ¡Cambio climático!\n",
    "print(\"Temperatura actual:\", temperaturaMedia['Sevilla'])"
   ]
  },
  {
   "cell_type": "markdown",
   "metadata": {},
   "source": [
    "### ¡Prueba tú!\n",
    "\n",
    "Intenta definir un diccionario en el que las claves sean los usuarios que definiste en el ejercicio anterior, y los valores asociados sean las claves de acceso a un sistema."
   ]
  },
  {
   "cell_type": "code",
   "execution_count": 95,
   "metadata": {},
   "outputs": [
    {
     "name": "stdout",
     "output_type": "stream",
     "text": [
      "{'Óscar': 12313, 'Andres': 128567, 'Marcos': 1563}\n"
     ]
    }
   ],
   "source": [
    "# Completa la instrucción siguiente:\n",
    "claves = {usuarios[0][0]:12313, usuarios[1][0]:128567,usuarios[2][0]:1563}\n",
    "print(claves)"
   ]
  },
  {
   "cell_type": "markdown",
   "metadata": {},
   "source": [
    "## 5. Objetos"
   ]
  },
  {
   "cell_type": "markdown",
   "metadata": {},
   "source": [
    "Si queremos añadir un elemento a la lista *temperaturas*, podemos hacerlo así:"
   ]
  },
  {
   "cell_type": "code",
   "execution_count": 74,
   "metadata": {},
   "outputs": [
    {
     "name": "stdout",
     "output_type": "stream",
     "text": [
      "[29.5, 27.0, 29.5, 32.1, 30.7, 25.5, 26.0, 29.2]\n",
      "8\n"
     ]
    }
   ],
   "source": [
    "temperaturas.append(29.2)  # añade el valor 29.2 al final de la lista\n",
    "print(temperaturas)\n",
    "print(len(temperaturas))"
   ]
  },
  {
   "cell_type": "markdown",
   "metadata": {},
   "source": [
    "Cuando una variable (*temperaturas*) puede ser usada como en el ejemplo anterior, escribiendo un punto (.) y a continuación invocando a una función (*append*), decimos que la variable es un **objeto**, y a la función en cuestión la llamamos **método**. La principal diferencia entre un método y una función es que el primero sólo se puede llamar si tenemos previamente un objeto del tipo adecuado. Por ejemplo, el método *append* sólo puede ser invocado sobre un objeto de tipo lista. \n",
    "\n",
    "Intentemos llamar a *append* como si fuese una función:"
   ]
  },
  {
   "cell_type": "code",
   "execution_count": 75,
   "metadata": {},
   "outputs": [
    {
     "ename": "NameError",
     "evalue": "name 'append' is not defined",
     "output_type": "error",
     "traceback": [
      "\u001b[1;31m---------------------------------------------------------------------------\u001b[0m",
      "\u001b[1;31mNameError\u001b[0m                                 Traceback (most recent call last)",
      "\u001b[1;32m<ipython-input-75-7a2cbbc23a19>\u001b[0m in \u001b[0;36m<module>\u001b[1;34m\u001b[0m\n\u001b[1;32m----> 1\u001b[1;33m \u001b[0mappend\u001b[0m\u001b[1;33m(\u001b[0m\u001b[1;36m29.2\u001b[0m\u001b[1;33m)\u001b[0m\u001b[1;33m\u001b[0m\u001b[1;33m\u001b[0m\u001b[0m\n\u001b[0m",
      "\u001b[1;31mNameError\u001b[0m: name 'append' is not defined"
     ]
    }
   ],
   "source": [
    "append(29.2)"
   ]
  },
  {
   "cell_type": "markdown",
   "metadata": {},
   "source": [
    "Puedes ver todos los métodos que tiene un objeto mediante la función predefinida **dir**:"
   ]
  },
  {
   "cell_type": "code",
   "execution_count": 76,
   "metadata": {},
   "outputs": [
    {
     "data": {
      "text/plain": [
       "['__add__',\n",
       " '__class__',\n",
       " '__contains__',\n",
       " '__delattr__',\n",
       " '__delitem__',\n",
       " '__dir__',\n",
       " '__doc__',\n",
       " '__eq__',\n",
       " '__format__',\n",
       " '__ge__',\n",
       " '__getattribute__',\n",
       " '__getitem__',\n",
       " '__gt__',\n",
       " '__hash__',\n",
       " '__iadd__',\n",
       " '__imul__',\n",
       " '__init__',\n",
       " '__init_subclass__',\n",
       " '__iter__',\n",
       " '__le__',\n",
       " '__len__',\n",
       " '__lt__',\n",
       " '__mul__',\n",
       " '__ne__',\n",
       " '__new__',\n",
       " '__reduce__',\n",
       " '__reduce_ex__',\n",
       " '__repr__',\n",
       " '__reversed__',\n",
       " '__rmul__',\n",
       " '__setattr__',\n",
       " '__setitem__',\n",
       " '__sizeof__',\n",
       " '__str__',\n",
       " '__subclasshook__',\n",
       " 'append',\n",
       " 'clear',\n",
       " 'copy',\n",
       " 'count',\n",
       " 'extend',\n",
       " 'index',\n",
       " 'insert',\n",
       " 'pop',\n",
       " 'remove',\n",
       " 'reverse',\n",
       " 'sort']"
      ]
     },
     "execution_count": 76,
     "metadata": {},
     "output_type": "execute_result"
    }
   ],
   "source": [
    "dir(temperaturas)"
   ]
  },
  {
   "cell_type": "markdown",
   "metadata": {},
   "source": [
    "Y si quieres una descripción más detallada de cada método, puedes usar la función **help**, que ya hemos usado anteriormente."
   ]
  },
  {
   "cell_type": "code",
   "execution_count": 77,
   "metadata": {},
   "outputs": [
    {
     "name": "stdout",
     "output_type": "stream",
     "text": [
      "Help on list object:\n",
      "\n",
      "class list(object)\n",
      " |  list(iterable=(), /)\n",
      " |  \n",
      " |  Built-in mutable sequence.\n",
      " |  \n",
      " |  If no argument is given, the constructor creates a new empty list.\n",
      " |  The argument must be an iterable if specified.\n",
      " |  \n",
      " |  Methods defined here:\n",
      " |  \n",
      " |  __add__(self, value, /)\n",
      " |      Return self+value.\n",
      " |  \n",
      " |  __contains__(self, key, /)\n",
      " |      Return key in self.\n",
      " |  \n",
      " |  __delitem__(self, key, /)\n",
      " |      Delete self[key].\n",
      " |  \n",
      " |  __eq__(self, value, /)\n",
      " |      Return self==value.\n",
      " |  \n",
      " |  __ge__(self, value, /)\n",
      " |      Return self>=value.\n",
      " |  \n",
      " |  __getattribute__(self, name, /)\n",
      " |      Return getattr(self, name).\n",
      " |  \n",
      " |  __getitem__(...)\n",
      " |      x.__getitem__(y) <==> x[y]\n",
      " |  \n",
      " |  __gt__(self, value, /)\n",
      " |      Return self>value.\n",
      " |  \n",
      " |  __iadd__(self, value, /)\n",
      " |      Implement self+=value.\n",
      " |  \n",
      " |  __imul__(self, value, /)\n",
      " |      Implement self*=value.\n",
      " |  \n",
      " |  __init__(self, /, *args, **kwargs)\n",
      " |      Initialize self.  See help(type(self)) for accurate signature.\n",
      " |  \n",
      " |  __iter__(self, /)\n",
      " |      Implement iter(self).\n",
      " |  \n",
      " |  __le__(self, value, /)\n",
      " |      Return self<=value.\n",
      " |  \n",
      " |  __len__(self, /)\n",
      " |      Return len(self).\n",
      " |  \n",
      " |  __lt__(self, value, /)\n",
      " |      Return self<value.\n",
      " |  \n",
      " |  __mul__(self, value, /)\n",
      " |      Return self*value.\n",
      " |  \n",
      " |  __ne__(self, value, /)\n",
      " |      Return self!=value.\n",
      " |  \n",
      " |  __repr__(self, /)\n",
      " |      Return repr(self).\n",
      " |  \n",
      " |  __reversed__(self, /)\n",
      " |      Return a reverse iterator over the list.\n",
      " |  \n",
      " |  __rmul__(self, value, /)\n",
      " |      Return value*self.\n",
      " |  \n",
      " |  __setitem__(self, key, value, /)\n",
      " |      Set self[key] to value.\n",
      " |  \n",
      " |  __sizeof__(self, /)\n",
      " |      Return the size of the list in memory, in bytes.\n",
      " |  \n",
      " |  append(self, object, /)\n",
      " |      Append object to the end of the list.\n",
      " |  \n",
      " |  clear(self, /)\n",
      " |      Remove all items from list.\n",
      " |  \n",
      " |  copy(self, /)\n",
      " |      Return a shallow copy of the list.\n",
      " |  \n",
      " |  count(self, value, /)\n",
      " |      Return number of occurrences of value.\n",
      " |  \n",
      " |  extend(self, iterable, /)\n",
      " |      Extend list by appending elements from the iterable.\n",
      " |  \n",
      " |  index(self, value, start=0, stop=9223372036854775807, /)\n",
      " |      Return first index of value.\n",
      " |      \n",
      " |      Raises ValueError if the value is not present.\n",
      " |  \n",
      " |  insert(self, index, object, /)\n",
      " |      Insert object before index.\n",
      " |  \n",
      " |  pop(self, index=-1, /)\n",
      " |      Remove and return item at index (default last).\n",
      " |      \n",
      " |      Raises IndexError if list is empty or index is out of range.\n",
      " |  \n",
      " |  remove(self, value, /)\n",
      " |      Remove first occurrence of value.\n",
      " |      \n",
      " |      Raises ValueError if the value is not present.\n",
      " |  \n",
      " |  reverse(self, /)\n",
      " |      Reverse *IN PLACE*.\n",
      " |  \n",
      " |  sort(self, /, *, key=None, reverse=False)\n",
      " |      Sort the list in ascending order and return None.\n",
      " |      \n",
      " |      The sort is in-place (i.e. the list itself is modified) and stable (i.e. the\n",
      " |      order of two equal elements is maintained).\n",
      " |      \n",
      " |      If a key function is given, apply it once to each list item and sort them,\n",
      " |      ascending or descending, according to their function values.\n",
      " |      \n",
      " |      The reverse flag can be set to sort in descending order.\n",
      " |  \n",
      " |  ----------------------------------------------------------------------\n",
      " |  Static methods defined here:\n",
      " |  \n",
      " |  __new__(*args, **kwargs) from builtins.type\n",
      " |      Create and return a new object.  See help(type) for accurate signature.\n",
      " |  \n",
      " |  ----------------------------------------------------------------------\n",
      " |  Data and other attributes defined here:\n",
      " |  \n",
      " |  __hash__ = None\n",
      "\n"
     ]
    }
   ],
   "source": [
    "help(temperaturas)"
   ]
  },
  {
   "cell_type": "markdown",
   "metadata": {},
   "source": [
    "### ¡Prueba tú!"
   ]
  },
  {
   "cell_type": "markdown",
   "metadata": {},
   "source": [
    "Intenta utilizar algunos de los métodos del objeto *temperaturas*:"
   ]
  },
  {
   "cell_type": "code",
   "execution_count": 117,
   "metadata": {},
   "outputs": [
    {
     "name": "stdout",
     "output_type": "stream",
     "text": [
      "[100, 26.0, 25.5, 30.7, 32.1, 29.5, 27.8, 28.5]\n"
     ]
    }
   ],
   "source": [
    "temperaturas.clear()\n",
    "temperaturas = [28.5, 27.8, 29.5, 32.1, 30.7, 25.5, 26.0]\n",
    "temperaturas.append(100)\n",
    "temperaturas.reverse()\n",
    "print(temperaturas)\n",
    "\n",
    "\n"
   ]
  },
  {
   "cell_type": "markdown",
   "metadata": {},
   "source": [
    "## 6. Control del flujo de ejecución"
   ]
  },
  {
   "cell_type": "markdown",
   "metadata": {},
   "source": [
    "Podemos utilizar la instrucción **for** para recorrer los elementos de una lista o una tupla. Llamamos a esto un **bucle**."
   ]
  },
  {
   "cell_type": "code",
   "execution_count": 78,
   "metadata": {},
   "outputs": [
    {
     "name": "stdout",
     "output_type": "stream",
     "text": [
      "Temperatura: 29.5\n",
      "Temperatura: 27.0\n",
      "Temperatura: 29.5\n",
      "Temperatura: 32.1\n",
      "Temperatura: 30.7\n",
      "Temperatura: 25.5\n",
      "Temperatura: 26.0\n",
      "Temperatura: 29.2\n"
     ]
    }
   ],
   "source": [
    "for temperatura in temperaturas:    # Se puede leer así: para cada valor \"temperatura\" en la lista \"temperaturas\"\n",
    "    print(\"Temperatura:\", temperatura)"
   ]
  },
  {
   "cell_type": "markdown",
   "metadata": {},
   "source": [
    "En el código anterior, la instrucción que aparece indentada se ejecuta una vez para cada elemento de la lista *temperaturas*. En cada ejecución, la variable *temperatura* almacena un elemento distinto de la lista, comenzando por el primero y pasando por cada elemento secuencialmente. Date cuenta también de que la función predefinida *print* se puede usar con varios parámetros, en cuyo caso mostrará cada uno de ellos por pantalla.\n",
    "\n",
    "Veamos otro ejemplo de bucle:"
   ]
  },
  {
   "cell_type": "code",
   "execution_count": 79,
   "metadata": {},
   "outputs": [
    {
     "name": "stdout",
     "output_type": "stream",
     "text": [
      "La temperatura media en la semana ha sido 28.687499999999996 grados.\n"
     ]
    }
   ],
   "source": [
    "suma = 0\n",
    "for temperatura in temperaturas:\n",
    "    suma += temperatura\n",
    "    # El operador += almacena en \"suma\" el resultado de sumar \"temperatura\" al valor anterior de \"suma\"\n",
    "print(\"La temperatura media en la semana ha sido\", suma / len(temperaturas), \"grados.\")"
   ]
  },
  {
   "cell_type": "markdown",
   "metadata": {},
   "source": [
    "Aunque realmente no hace falta hacer un bucle para sumar los elementos de una lista, ya que esto mismo podemos hacerlo en Python con la función predefinida **sum**."
   ]
  },
  {
   "cell_type": "code",
   "execution_count": 80,
   "metadata": {},
   "outputs": [
    {
     "name": "stdout",
     "output_type": "stream",
     "text": [
      "La temperatura media en la semana ha sido 28.687499999999996 grados.\n"
     ]
    }
   ],
   "source": [
    "print(\"La temperatura media en la semana ha sido\", sum(temperaturas) / len(temperaturas), \"grados.\")"
   ]
  },
  {
   "cell_type": "markdown",
   "metadata": {},
   "source": [
    "La instrucción *for* es una instrucción de **control del flujo de ejecución**, pues permite que la secuencia en que se van ejecutando las distintas instrucciones varíe con respecto a la ejecución esperada (recordemos que, por defecto, las instrucciones se van ejecutando una tras otra, en el orden en que las hemos escrito, y una sola vez). Otra instrucción que también altera el flujo normal de ejecución es la instrucción **if**. Veamos un ejemplo:"
   ]
  },
  {
   "cell_type": "code",
   "execution_count": 81,
   "metadata": {},
   "outputs": [
    {
     "name": "stdout",
     "output_type": "stream",
     "text": [
      "Buenos días, Antonio\n",
      "Buenas tardes, Antonio\n",
      "Buenas noches, Antonio\n"
     ]
    }
   ],
   "source": [
    "def saluda(nombre, hora):\n",
    "    if hora < 12:     # Si el parámetro \"hora\" es menor de 12, se ejecuta el siguiente bloque de instrucciones\n",
    "        print(\"Buenos días, \" + nombre)\n",
    "    elif hora < 21:   # En otro caso, si el parámetro \"hora\" es menor de 21, se ejecuta el siguiente bloque de instrucciones\n",
    "        print(\"Buenas tardes, \" + nombre)\n",
    "    else:           # En cualquier otro caso, se ejecuta el siguiente bloque de instrucciones\n",
    "        print(\"Buenas noches, \" + nombre)\n",
    "\n",
    "saluda(\"Antonio\", 11)\n",
    "saluda(\"Antonio\", 16)\n",
    "saluda(\"Antonio\", 23)\n"
   ]
  },
  {
   "cell_type": "markdown",
   "metadata": {},
   "source": [
    "Observa que las **palabras clave** que se usan son **if**, **elif** y **else**, y que a continuación de las dos primeras se escribe una expresión lógica (es decir, una expresión cuyo resultado es de tipo lógico: verdadero o falso). Las instrucciones que aparecen tras la palabra **if** sólo se ejecutan si la expresión correspondiente se evalúa como verdadera. Las instrucciones que aparecen tras la palabra **elif** sólo se ejecutan si no se han ejecutado las anteriores, y si la expresión correspondiente se evalúa como verdadera. Las instrucciones que aparecen tras la palabra **else** sólo se ejecutan si no se han ejecutado ninguna de las anteriores. \n",
    "\n",
    "Aquí tienes otros ejemplos:"
   ]
  },
  {
   "cell_type": "code",
   "execution_count": 82,
   "metadata": {},
   "outputs": [],
   "source": [
    "temperaturaActual = temperaturas[6]\n",
    "if temperaturaActual < 0:  # Si la temperatura es menor de cero grados\n",
    "    print(\"¡Cuidado! Riesgo de congelación.\")\n"
   ]
  },
  {
   "cell_type": "code",
   "execution_count": 83,
   "metadata": {},
   "outputs": [
    {
     "name": "stdout",
     "output_type": "stream",
     "text": [
      "Hola, Mark. Te estaba esperando.\n"
     ]
    }
   ],
   "source": [
    "# Si el primer elemento de la tupla \"usuario\" es igual a \"Mark\" y el segundo elemento es igual a \"Lenders\"\n",
    "if usuario[0] == \"Mark\" and usuario[1] == \"Lenders\": \n",
    "    print(\"Hola, Mark. Te estaba esperando.\")\n",
    "else:  # En otro caso\n",
    "    print(\"Hola, ¿nos conocemos?\")\n"
   ]
  },
  {
   "cell_type": "code",
   "execution_count": 124,
   "metadata": {},
   "outputs": [],
   "source": [
    "def acceso_restringido(usuario):\n",
    "    if usuario[0] == \"Mark\" and usuario[1] == \"Lenders\": \n",
    "        print(\"Hola, Mark. Te estaba esperando.\")\n",
    "    elif usuario[0] == \"Oliver\" and usuario[1] == \"Atom\": \n",
    "        print(\"Hola, Oliver. Te estaba esperando.\")\n",
    "    elif usuario[0] == \"Benji\" and usuario[1] == \"Price\": \n",
    "        print(\"Hola, Benji. Te estaba esperando.\")\n",
    "    else:  \n",
    "        print(\"Hola, ¿nos conocemos?\")"
   ]
  },
  {
   "cell_type": "markdown",
   "metadata": {},
   "source": [
    "Para escribir las expresiones lógicas se usan distintos **operadores lógicos** (como el operador **and**) y **operadores relacionales** (como los operadores **>** o **==**). Iremos viendo más operadores de estos tipos a medida que los vayamos necesitando."
   ]
  },
  {
   "cell_type": "markdown",
   "metadata": {},
   "source": [
    "### ¡Prueba tú!"
   ]
  },
  {
   "cell_type": "markdown",
   "metadata": {},
   "source": [
    "Escribe un bucle *for* para llamar a la función *acceso_restringido* pasándole cada uno de los elementos de la lista *usuarios*."
   ]
  },
  {
   "cell_type": "code",
   "execution_count": 126,
   "metadata": {},
   "outputs": [
    {
     "name": "stdout",
     "output_type": "stream",
     "text": [
      "Hola, ¿nos conocemos?\n",
      "Hola, ¿nos conocemos?\n",
      "Hola, ¿nos conocemos?\n"
     ]
    }
   ],
   "source": [
    "for usuario in usuarios:\n",
    "    acceso_restringido(usuario)\n",
    "\n"
   ]
  },
  {
   "cell_type": "markdown",
   "metadata": {},
   "source": [
    "## 7. Módulos y paquetes"
   ]
  },
  {
   "cell_type": "markdown",
   "metadata": {},
   "source": [
    "Además de las funciones predefinidas, hay muchas otras cosas que se pueden hacer con Python sin necesidad de implementar nosotros ninguna función ni tener que descargar o instalar nada en el ordenador. Eso sí, para poder hacer uso de estas funcionalidades incluidas en Python, es necesario **importar** el módulo o módulos donde están implementadas. Un **módulo** es cada uno de los ficheros con extensión .py en los que están escritos los programas en Python. Los módulos están agrupados en **paquetes**, que son parecidos a las carpetas del explorador de archivos de Windows.\n",
    "\n",
    "Por ejemplo, si queremos generar números aleatorios, podemos usar el módulo **random**. Antes de hacerlo, es necesario importarlo. Prueba a ejecutar varias veces el siguiente código y verás como cada vez se genera un número distinto:"
   ]
  },
  {
   "cell_type": "code",
   "execution_count": 85,
   "metadata": {},
   "outputs": [
    {
     "name": "stdout",
     "output_type": "stream",
     "text": [
      "3\n"
     ]
    }
   ],
   "source": [
    "import random\n",
    "\n",
    "print(random.randint(1, 10))"
   ]
  },
  {
   "cell_type": "markdown",
   "metadata": {},
   "source": [
    "Fíjate que para llamar a la función randint, que está definida dentro del módulo random, debemos escribir *random.randint(...)*. Si vamos a usar muy a menudo la función en nuestro código, también podemos importarla así:"
   ]
  },
  {
   "cell_type": "code",
   "execution_count": 86,
   "metadata": {},
   "outputs": [
    {
     "name": "stdout",
     "output_type": "stream",
     "text": [
      "7\n"
     ]
    }
   ],
   "source": [
    "from random import randint\n",
    "\n",
    "print(randint(1, 10))"
   ]
  },
  {
   "cell_type": "markdown",
   "metadata": {},
   "source": [
    "De esta manera ya no es necesario indicar la ubicación de la función cada vez que la llamemos. Aunque es más cómodo, no es del todo recomendable, como veremos más adelante.\n",
    "\n",
    "¿Y si queremos generar, pongamos, 20 números aleatorios, entre 1 y 10? Podemos hacerlo con la instrucción **for**, la misma que utilizamos antes para recorrer los elementos de una lista:"
   ]
  },
  {
   "cell_type": "code",
   "execution_count": 87,
   "metadata": {},
   "outputs": [
    {
     "name": "stdout",
     "output_type": "stream",
     "text": [
      "[7, 7, 8, 6, 2, 1, 7, 9, 2, 6, 1, 1, 1, 6, 10, 3, 10, 1, 8, 7]\n"
     ]
    }
   ],
   "source": [
    "numeros = []\n",
    "for i in range(20):  # la función predefinida \"range\" devuelve los números enteros del 0 al 19.\n",
    "    numeros.append(randint(1, 10))\n",
    "print(numeros)"
   ]
  },
  {
   "cell_type": "markdown",
   "metadata": {},
   "source": [
    "En el siguiente ejemplo, usamos el módulo *datetime*, que nos permite, entre otras cosas, saber la hora actual en que se está ejecutando el programa."
   ]
  },
  {
   "cell_type": "code",
   "execution_count": 128,
   "metadata": {},
   "outputs": [
    {
     "name": "stdout",
     "output_type": "stream",
     "text": [
      "Buenos días, Antonio\n"
     ]
    }
   ],
   "source": [
    "# El módulo se llama \"datetime\", y dentro hay definido un objeto que también se llama \"datetime\"\n",
    "from datetime import datetime\n",
    "horaActual = datetime.now()  # El método now() devuelve un objeto de tipo datetime\n",
    "# El objeto horaActual tiene un atributo hour que indica la hora actual (de 0 a 23)\n",
    "saluda(\"Antonio\", horaActual.hour)"
   ]
  },
  {
   "cell_type": "markdown",
   "metadata": {},
   "source": [
    "En el ejemplo anterior, cuando escribimos *horaActual.hour* estamos accediendo a un **atributo**, llamado *hour*, del objeto *horaActual*. Por tanto, los objetos tienen, además de métodos, atributos, los cuales son parecidos a las variables (al igual que los métodos eran parecidos a las funciones). La manera de diferenciar si estamos accediendo a un atributo o llamando a un método es que en el segundo caso usamos los paréntesis."
   ]
  },
  {
   "cell_type": "markdown",
   "metadata": {},
   "source": [
    "Con los distintos módulos existentes para Python se puede hacer prácticamente de todo. Por ejemplo, dibujar gráficas de todo tipo, mediante la librería **matplotlib**. Cuando hablamos de una **librería** nos referimos a un conjunto de módulos relacionados entre sí por el tipo de funcionalidad que ofrecen. Generalmente, los módulos de una librería están agrupados dentro de un paquete, como es el caso de *matplotlib*."
   ]
  },
  {
   "cell_type": "code",
   "execution_count": 129,
   "metadata": {
    "scrolled": false
   },
   "outputs": [
    {
     "data": {
      "application/javascript": [
       "/* Put everything inside the global mpl namespace */\n",
       "window.mpl = {};\n",
       "\n",
       "\n",
       "mpl.get_websocket_type = function() {\n",
       "    if (typeof(WebSocket) !== 'undefined') {\n",
       "        return WebSocket;\n",
       "    } else if (typeof(MozWebSocket) !== 'undefined') {\n",
       "        return MozWebSocket;\n",
       "    } else {\n",
       "        alert('Your browser does not have WebSocket support. ' +\n",
       "              'Please try Chrome, Safari or Firefox ≥ 6. ' +\n",
       "              'Firefox 4 and 5 are also supported but you ' +\n",
       "              'have to enable WebSockets in about:config.');\n",
       "    };\n",
       "}\n",
       "\n",
       "mpl.figure = function(figure_id, websocket, ondownload, parent_element) {\n",
       "    this.id = figure_id;\n",
       "\n",
       "    this.ws = websocket;\n",
       "\n",
       "    this.supports_binary = (this.ws.binaryType != undefined);\n",
       "\n",
       "    if (!this.supports_binary) {\n",
       "        var warnings = document.getElementById(\"mpl-warnings\");\n",
       "        if (warnings) {\n",
       "            warnings.style.display = 'block';\n",
       "            warnings.textContent = (\n",
       "                \"This browser does not support binary websocket messages. \" +\n",
       "                    \"Performance may be slow.\");\n",
       "        }\n",
       "    }\n",
       "\n",
       "    this.imageObj = new Image();\n",
       "\n",
       "    this.context = undefined;\n",
       "    this.message = undefined;\n",
       "    this.canvas = undefined;\n",
       "    this.rubberband_canvas = undefined;\n",
       "    this.rubberband_context = undefined;\n",
       "    this.format_dropdown = undefined;\n",
       "\n",
       "    this.image_mode = 'full';\n",
       "\n",
       "    this.root = $('<div/>');\n",
       "    this._root_extra_style(this.root)\n",
       "    this.root.attr('style', 'display: inline-block');\n",
       "\n",
       "    $(parent_element).append(this.root);\n",
       "\n",
       "    this._init_header(this);\n",
       "    this._init_canvas(this);\n",
       "    this._init_toolbar(this);\n",
       "\n",
       "    var fig = this;\n",
       "\n",
       "    this.waiting = false;\n",
       "\n",
       "    this.ws.onopen =  function () {\n",
       "            fig.send_message(\"supports_binary\", {value: fig.supports_binary});\n",
       "            fig.send_message(\"send_image_mode\", {});\n",
       "            if (mpl.ratio != 1) {\n",
       "                fig.send_message(\"set_dpi_ratio\", {'dpi_ratio': mpl.ratio});\n",
       "            }\n",
       "            fig.send_message(\"refresh\", {});\n",
       "        }\n",
       "\n",
       "    this.imageObj.onload = function() {\n",
       "            if (fig.image_mode == 'full') {\n",
       "                // Full images could contain transparency (where diff images\n",
       "                // almost always do), so we need to clear the canvas so that\n",
       "                // there is no ghosting.\n",
       "                fig.context.clearRect(0, 0, fig.canvas.width, fig.canvas.height);\n",
       "            }\n",
       "            fig.context.drawImage(fig.imageObj, 0, 0);\n",
       "        };\n",
       "\n",
       "    this.imageObj.onunload = function() {\n",
       "        fig.ws.close();\n",
       "    }\n",
       "\n",
       "    this.ws.onmessage = this._make_on_message_function(this);\n",
       "\n",
       "    this.ondownload = ondownload;\n",
       "}\n",
       "\n",
       "mpl.figure.prototype._init_header = function() {\n",
       "    var titlebar = $(\n",
       "        '<div class=\"ui-dialog-titlebar ui-widget-header ui-corner-all ' +\n",
       "        'ui-helper-clearfix\"/>');\n",
       "    var titletext = $(\n",
       "        '<div class=\"ui-dialog-title\" style=\"width: 100%; ' +\n",
       "        'text-align: center; padding: 3px;\"/>');\n",
       "    titlebar.append(titletext)\n",
       "    this.root.append(titlebar);\n",
       "    this.header = titletext[0];\n",
       "}\n",
       "\n",
       "\n",
       "\n",
       "mpl.figure.prototype._canvas_extra_style = function(canvas_div) {\n",
       "\n",
       "}\n",
       "\n",
       "\n",
       "mpl.figure.prototype._root_extra_style = function(canvas_div) {\n",
       "\n",
       "}\n",
       "\n",
       "mpl.figure.prototype._init_canvas = function() {\n",
       "    var fig = this;\n",
       "\n",
       "    var canvas_div = $('<div/>');\n",
       "\n",
       "    canvas_div.attr('style', 'position: relative; clear: both; outline: 0');\n",
       "\n",
       "    function canvas_keyboard_event(event) {\n",
       "        return fig.key_event(event, event['data']);\n",
       "    }\n",
       "\n",
       "    canvas_div.keydown('key_press', canvas_keyboard_event);\n",
       "    canvas_div.keyup('key_release', canvas_keyboard_event);\n",
       "    this.canvas_div = canvas_div\n",
       "    this._canvas_extra_style(canvas_div)\n",
       "    this.root.append(canvas_div);\n",
       "\n",
       "    var canvas = $('<canvas/>');\n",
       "    canvas.addClass('mpl-canvas');\n",
       "    canvas.attr('style', \"left: 0; top: 0; z-index: 0; outline: 0\")\n",
       "\n",
       "    this.canvas = canvas[0];\n",
       "    this.context = canvas[0].getContext(\"2d\");\n",
       "\n",
       "    var backingStore = this.context.backingStorePixelRatio ||\n",
       "\tthis.context.webkitBackingStorePixelRatio ||\n",
       "\tthis.context.mozBackingStorePixelRatio ||\n",
       "\tthis.context.msBackingStorePixelRatio ||\n",
       "\tthis.context.oBackingStorePixelRatio ||\n",
       "\tthis.context.backingStorePixelRatio || 1;\n",
       "\n",
       "    mpl.ratio = (window.devicePixelRatio || 1) / backingStore;\n",
       "\n",
       "    var rubberband = $('<canvas/>');\n",
       "    rubberband.attr('style', \"position: absolute; left: 0; top: 0; z-index: 1;\")\n",
       "\n",
       "    var pass_mouse_events = true;\n",
       "\n",
       "    canvas_div.resizable({\n",
       "        start: function(event, ui) {\n",
       "            pass_mouse_events = false;\n",
       "        },\n",
       "        resize: function(event, ui) {\n",
       "            fig.request_resize(ui.size.width, ui.size.height);\n",
       "        },\n",
       "        stop: function(event, ui) {\n",
       "            pass_mouse_events = true;\n",
       "            fig.request_resize(ui.size.width, ui.size.height);\n",
       "        },\n",
       "    });\n",
       "\n",
       "    function mouse_event_fn(event) {\n",
       "        if (pass_mouse_events)\n",
       "            return fig.mouse_event(event, event['data']);\n",
       "    }\n",
       "\n",
       "    rubberband.mousedown('button_press', mouse_event_fn);\n",
       "    rubberband.mouseup('button_release', mouse_event_fn);\n",
       "    // Throttle sequential mouse events to 1 every 20ms.\n",
       "    rubberband.mousemove('motion_notify', mouse_event_fn);\n",
       "\n",
       "    rubberband.mouseenter('figure_enter', mouse_event_fn);\n",
       "    rubberband.mouseleave('figure_leave', mouse_event_fn);\n",
       "\n",
       "    canvas_div.on(\"wheel\", function (event) {\n",
       "        event = event.originalEvent;\n",
       "        event['data'] = 'scroll'\n",
       "        if (event.deltaY < 0) {\n",
       "            event.step = 1;\n",
       "        } else {\n",
       "            event.step = -1;\n",
       "        }\n",
       "        mouse_event_fn(event);\n",
       "    });\n",
       "\n",
       "    canvas_div.append(canvas);\n",
       "    canvas_div.append(rubberband);\n",
       "\n",
       "    this.rubberband = rubberband;\n",
       "    this.rubberband_canvas = rubberband[0];\n",
       "    this.rubberband_context = rubberband[0].getContext(\"2d\");\n",
       "    this.rubberband_context.strokeStyle = \"#000000\";\n",
       "\n",
       "    this._resize_canvas = function(width, height) {\n",
       "        // Keep the size of the canvas, canvas container, and rubber band\n",
       "        // canvas in synch.\n",
       "        canvas_div.css('width', width)\n",
       "        canvas_div.css('height', height)\n",
       "\n",
       "        canvas.attr('width', width * mpl.ratio);\n",
       "        canvas.attr('height', height * mpl.ratio);\n",
       "        canvas.attr('style', 'width: ' + width + 'px; height: ' + height + 'px;');\n",
       "\n",
       "        rubberband.attr('width', width);\n",
       "        rubberband.attr('height', height);\n",
       "    }\n",
       "\n",
       "    // Set the figure to an initial 600x600px, this will subsequently be updated\n",
       "    // upon first draw.\n",
       "    this._resize_canvas(600, 600);\n",
       "\n",
       "    // Disable right mouse context menu.\n",
       "    $(this.rubberband_canvas).bind(\"contextmenu\",function(e){\n",
       "        return false;\n",
       "    });\n",
       "\n",
       "    function set_focus () {\n",
       "        canvas.focus();\n",
       "        canvas_div.focus();\n",
       "    }\n",
       "\n",
       "    window.setTimeout(set_focus, 100);\n",
       "}\n",
       "\n",
       "mpl.figure.prototype._init_toolbar = function() {\n",
       "    var fig = this;\n",
       "\n",
       "    var nav_element = $('<div/>');\n",
       "    nav_element.attr('style', 'width: 100%');\n",
       "    this.root.append(nav_element);\n",
       "\n",
       "    // Define a callback function for later on.\n",
       "    function toolbar_event(event) {\n",
       "        return fig.toolbar_button_onclick(event['data']);\n",
       "    }\n",
       "    function toolbar_mouse_event(event) {\n",
       "        return fig.toolbar_button_onmouseover(event['data']);\n",
       "    }\n",
       "\n",
       "    for(var toolbar_ind in mpl.toolbar_items) {\n",
       "        var name = mpl.toolbar_items[toolbar_ind][0];\n",
       "        var tooltip = mpl.toolbar_items[toolbar_ind][1];\n",
       "        var image = mpl.toolbar_items[toolbar_ind][2];\n",
       "        var method_name = mpl.toolbar_items[toolbar_ind][3];\n",
       "\n",
       "        if (!name) {\n",
       "            // put a spacer in here.\n",
       "            continue;\n",
       "        }\n",
       "        var button = $('<button/>');\n",
       "        button.addClass('ui-button ui-widget ui-state-default ui-corner-all ' +\n",
       "                        'ui-button-icon-only');\n",
       "        button.attr('role', 'button');\n",
       "        button.attr('aria-disabled', 'false');\n",
       "        button.click(method_name, toolbar_event);\n",
       "        button.mouseover(tooltip, toolbar_mouse_event);\n",
       "\n",
       "        var icon_img = $('<span/>');\n",
       "        icon_img.addClass('ui-button-icon-primary ui-icon');\n",
       "        icon_img.addClass(image);\n",
       "        icon_img.addClass('ui-corner-all');\n",
       "\n",
       "        var tooltip_span = $('<span/>');\n",
       "        tooltip_span.addClass('ui-button-text');\n",
       "        tooltip_span.html(tooltip);\n",
       "\n",
       "        button.append(icon_img);\n",
       "        button.append(tooltip_span);\n",
       "\n",
       "        nav_element.append(button);\n",
       "    }\n",
       "\n",
       "    var fmt_picker_span = $('<span/>');\n",
       "\n",
       "    var fmt_picker = $('<select/>');\n",
       "    fmt_picker.addClass('mpl-toolbar-option ui-widget ui-widget-content');\n",
       "    fmt_picker_span.append(fmt_picker);\n",
       "    nav_element.append(fmt_picker_span);\n",
       "    this.format_dropdown = fmt_picker[0];\n",
       "\n",
       "    for (var ind in mpl.extensions) {\n",
       "        var fmt = mpl.extensions[ind];\n",
       "        var option = $(\n",
       "            '<option/>', {selected: fmt === mpl.default_extension}).html(fmt);\n",
       "        fmt_picker.append(option);\n",
       "    }\n",
       "\n",
       "    // Add hover states to the ui-buttons\n",
       "    $( \".ui-button\" ).hover(\n",
       "        function() { $(this).addClass(\"ui-state-hover\");},\n",
       "        function() { $(this).removeClass(\"ui-state-hover\");}\n",
       "    );\n",
       "\n",
       "    var status_bar = $('<span class=\"mpl-message\"/>');\n",
       "    nav_element.append(status_bar);\n",
       "    this.message = status_bar[0];\n",
       "}\n",
       "\n",
       "mpl.figure.prototype.request_resize = function(x_pixels, y_pixels) {\n",
       "    // Request matplotlib to resize the figure. Matplotlib will then trigger a resize in the client,\n",
       "    // which will in turn request a refresh of the image.\n",
       "    this.send_message('resize', {'width': x_pixels, 'height': y_pixels});\n",
       "}\n",
       "\n",
       "mpl.figure.prototype.send_message = function(type, properties) {\n",
       "    properties['type'] = type;\n",
       "    properties['figure_id'] = this.id;\n",
       "    this.ws.send(JSON.stringify(properties));\n",
       "}\n",
       "\n",
       "mpl.figure.prototype.send_draw_message = function() {\n",
       "    if (!this.waiting) {\n",
       "        this.waiting = true;\n",
       "        this.ws.send(JSON.stringify({type: \"draw\", figure_id: this.id}));\n",
       "    }\n",
       "}\n",
       "\n",
       "\n",
       "mpl.figure.prototype.handle_save = function(fig, msg) {\n",
       "    var format_dropdown = fig.format_dropdown;\n",
       "    var format = format_dropdown.options[format_dropdown.selectedIndex].value;\n",
       "    fig.ondownload(fig, format);\n",
       "}\n",
       "\n",
       "\n",
       "mpl.figure.prototype.handle_resize = function(fig, msg) {\n",
       "    var size = msg['size'];\n",
       "    if (size[0] != fig.canvas.width || size[1] != fig.canvas.height) {\n",
       "        fig._resize_canvas(size[0], size[1]);\n",
       "        fig.send_message(\"refresh\", {});\n",
       "    };\n",
       "}\n",
       "\n",
       "mpl.figure.prototype.handle_rubberband = function(fig, msg) {\n",
       "    var x0 = msg['x0'] / mpl.ratio;\n",
       "    var y0 = (fig.canvas.height - msg['y0']) / mpl.ratio;\n",
       "    var x1 = msg['x1'] / mpl.ratio;\n",
       "    var y1 = (fig.canvas.height - msg['y1']) / mpl.ratio;\n",
       "    x0 = Math.floor(x0) + 0.5;\n",
       "    y0 = Math.floor(y0) + 0.5;\n",
       "    x1 = Math.floor(x1) + 0.5;\n",
       "    y1 = Math.floor(y1) + 0.5;\n",
       "    var min_x = Math.min(x0, x1);\n",
       "    var min_y = Math.min(y0, y1);\n",
       "    var width = Math.abs(x1 - x0);\n",
       "    var height = Math.abs(y1 - y0);\n",
       "\n",
       "    fig.rubberband_context.clearRect(\n",
       "        0, 0, fig.canvas.width / mpl.ratio, fig.canvas.height / mpl.ratio);\n",
       "\n",
       "    fig.rubberband_context.strokeRect(min_x, min_y, width, height);\n",
       "}\n",
       "\n",
       "mpl.figure.prototype.handle_figure_label = function(fig, msg) {\n",
       "    // Updates the figure title.\n",
       "    fig.header.textContent = msg['label'];\n",
       "}\n",
       "\n",
       "mpl.figure.prototype.handle_cursor = function(fig, msg) {\n",
       "    var cursor = msg['cursor'];\n",
       "    switch(cursor)\n",
       "    {\n",
       "    case 0:\n",
       "        cursor = 'pointer';\n",
       "        break;\n",
       "    case 1:\n",
       "        cursor = 'default';\n",
       "        break;\n",
       "    case 2:\n",
       "        cursor = 'crosshair';\n",
       "        break;\n",
       "    case 3:\n",
       "        cursor = 'move';\n",
       "        break;\n",
       "    }\n",
       "    fig.rubberband_canvas.style.cursor = cursor;\n",
       "}\n",
       "\n",
       "mpl.figure.prototype.handle_message = function(fig, msg) {\n",
       "    fig.message.textContent = msg['message'];\n",
       "}\n",
       "\n",
       "mpl.figure.prototype.handle_draw = function(fig, msg) {\n",
       "    // Request the server to send over a new figure.\n",
       "    fig.send_draw_message();\n",
       "}\n",
       "\n",
       "mpl.figure.prototype.handle_image_mode = function(fig, msg) {\n",
       "    fig.image_mode = msg['mode'];\n",
       "}\n",
       "\n",
       "mpl.figure.prototype.updated_canvas_event = function() {\n",
       "    // Called whenever the canvas gets updated.\n",
       "    this.send_message(\"ack\", {});\n",
       "}\n",
       "\n",
       "// A function to construct a web socket function for onmessage handling.\n",
       "// Called in the figure constructor.\n",
       "mpl.figure.prototype._make_on_message_function = function(fig) {\n",
       "    return function socket_on_message(evt) {\n",
       "        if (evt.data instanceof Blob) {\n",
       "            /* FIXME: We get \"Resource interpreted as Image but\n",
       "             * transferred with MIME type text/plain:\" errors on\n",
       "             * Chrome.  But how to set the MIME type?  It doesn't seem\n",
       "             * to be part of the websocket stream */\n",
       "            evt.data.type = \"image/png\";\n",
       "\n",
       "            /* Free the memory for the previous frames */\n",
       "            if (fig.imageObj.src) {\n",
       "                (window.URL || window.webkitURL).revokeObjectURL(\n",
       "                    fig.imageObj.src);\n",
       "            }\n",
       "\n",
       "            fig.imageObj.src = (window.URL || window.webkitURL).createObjectURL(\n",
       "                evt.data);\n",
       "            fig.updated_canvas_event();\n",
       "            fig.waiting = false;\n",
       "            return;\n",
       "        }\n",
       "        else if (typeof evt.data === 'string' && evt.data.slice(0, 21) == \"data:image/png;base64\") {\n",
       "            fig.imageObj.src = evt.data;\n",
       "            fig.updated_canvas_event();\n",
       "            fig.waiting = false;\n",
       "            return;\n",
       "        }\n",
       "\n",
       "        var msg = JSON.parse(evt.data);\n",
       "        var msg_type = msg['type'];\n",
       "\n",
       "        // Call the  \"handle_{type}\" callback, which takes\n",
       "        // the figure and JSON message as its only arguments.\n",
       "        try {\n",
       "            var callback = fig[\"handle_\" + msg_type];\n",
       "        } catch (e) {\n",
       "            console.log(\"No handler for the '\" + msg_type + \"' message type: \", msg);\n",
       "            return;\n",
       "        }\n",
       "\n",
       "        if (callback) {\n",
       "            try {\n",
       "                // console.log(\"Handling '\" + msg_type + \"' message: \", msg);\n",
       "                callback(fig, msg);\n",
       "            } catch (e) {\n",
       "                console.log(\"Exception inside the 'handler_\" + msg_type + \"' callback:\", e, e.stack, msg);\n",
       "            }\n",
       "        }\n",
       "    };\n",
       "}\n",
       "\n",
       "// from http://stackoverflow.com/questions/1114465/getting-mouse-location-in-canvas\n",
       "mpl.findpos = function(e) {\n",
       "    //this section is from http://www.quirksmode.org/js/events_properties.html\n",
       "    var targ;\n",
       "    if (!e)\n",
       "        e = window.event;\n",
       "    if (e.target)\n",
       "        targ = e.target;\n",
       "    else if (e.srcElement)\n",
       "        targ = e.srcElement;\n",
       "    if (targ.nodeType == 3) // defeat Safari bug\n",
       "        targ = targ.parentNode;\n",
       "\n",
       "    // jQuery normalizes the pageX and pageY\n",
       "    // pageX,Y are the mouse positions relative to the document\n",
       "    // offset() returns the position of the element relative to the document\n",
       "    var x = e.pageX - $(targ).offset().left;\n",
       "    var y = e.pageY - $(targ).offset().top;\n",
       "\n",
       "    return {\"x\": x, \"y\": y};\n",
       "};\n",
       "\n",
       "/*\n",
       " * return a copy of an object with only non-object keys\n",
       " * we need this to avoid circular references\n",
       " * http://stackoverflow.com/a/24161582/3208463\n",
       " */\n",
       "function simpleKeys (original) {\n",
       "  return Object.keys(original).reduce(function (obj, key) {\n",
       "    if (typeof original[key] !== 'object')\n",
       "        obj[key] = original[key]\n",
       "    return obj;\n",
       "  }, {});\n",
       "}\n",
       "\n",
       "mpl.figure.prototype.mouse_event = function(event, name) {\n",
       "    var canvas_pos = mpl.findpos(event)\n",
       "\n",
       "    if (name === 'button_press')\n",
       "    {\n",
       "        this.canvas.focus();\n",
       "        this.canvas_div.focus();\n",
       "    }\n",
       "\n",
       "    var x = canvas_pos.x * mpl.ratio;\n",
       "    var y = canvas_pos.y * mpl.ratio;\n",
       "\n",
       "    this.send_message(name, {x: x, y: y, button: event.button,\n",
       "                             step: event.step,\n",
       "                             guiEvent: simpleKeys(event)});\n",
       "\n",
       "    /* This prevents the web browser from automatically changing to\n",
       "     * the text insertion cursor when the button is pressed.  We want\n",
       "     * to control all of the cursor setting manually through the\n",
       "     * 'cursor' event from matplotlib */\n",
       "    event.preventDefault();\n",
       "    return false;\n",
       "}\n",
       "\n",
       "mpl.figure.prototype._key_event_extra = function(event, name) {\n",
       "    // Handle any extra behaviour associated with a key event\n",
       "}\n",
       "\n",
       "mpl.figure.prototype.key_event = function(event, name) {\n",
       "\n",
       "    // Prevent repeat events\n",
       "    if (name == 'key_press')\n",
       "    {\n",
       "        if (event.which === this._key)\n",
       "            return;\n",
       "        else\n",
       "            this._key = event.which;\n",
       "    }\n",
       "    if (name == 'key_release')\n",
       "        this._key = null;\n",
       "\n",
       "    var value = '';\n",
       "    if (event.ctrlKey && event.which != 17)\n",
       "        value += \"ctrl+\";\n",
       "    if (event.altKey && event.which != 18)\n",
       "        value += \"alt+\";\n",
       "    if (event.shiftKey && event.which != 16)\n",
       "        value += \"shift+\";\n",
       "\n",
       "    value += 'k';\n",
       "    value += event.which.toString();\n",
       "\n",
       "    this._key_event_extra(event, name);\n",
       "\n",
       "    this.send_message(name, {key: value,\n",
       "                             guiEvent: simpleKeys(event)});\n",
       "    return false;\n",
       "}\n",
       "\n",
       "mpl.figure.prototype.toolbar_button_onclick = function(name) {\n",
       "    if (name == 'download') {\n",
       "        this.handle_save(this, null);\n",
       "    } else {\n",
       "        this.send_message(\"toolbar_button\", {name: name});\n",
       "    }\n",
       "};\n",
       "\n",
       "mpl.figure.prototype.toolbar_button_onmouseover = function(tooltip) {\n",
       "    this.message.textContent = tooltip;\n",
       "};\n",
       "mpl.toolbar_items = [[\"Home\", \"Reset original view\", \"fa fa-home icon-home\", \"home\"], [\"Back\", \"Back to previous view\", \"fa fa-arrow-left icon-arrow-left\", \"back\"], [\"Forward\", \"Forward to next view\", \"fa fa-arrow-right icon-arrow-right\", \"forward\"], [\"\", \"\", \"\", \"\"], [\"Pan\", \"Pan axes with left mouse, zoom with right\", \"fa fa-arrows icon-move\", \"pan\"], [\"Zoom\", \"Zoom to rectangle\", \"fa fa-square-o icon-check-empty\", \"zoom\"], [\"\", \"\", \"\", \"\"], [\"Download\", \"Download plot\", \"fa fa-floppy-o icon-save\", \"download\"]];\n",
       "\n",
       "mpl.extensions = [\"eps\", \"jpeg\", \"pdf\", \"png\", \"ps\", \"raw\", \"svg\", \"tif\"];\n",
       "\n",
       "mpl.default_extension = \"png\";var comm_websocket_adapter = function(comm) {\n",
       "    // Create a \"websocket\"-like object which calls the given IPython comm\n",
       "    // object with the appropriate methods. Currently this is a non binary\n",
       "    // socket, so there is still some room for performance tuning.\n",
       "    var ws = {};\n",
       "\n",
       "    ws.close = function() {\n",
       "        comm.close()\n",
       "    };\n",
       "    ws.send = function(m) {\n",
       "        //console.log('sending', m);\n",
       "        comm.send(m);\n",
       "    };\n",
       "    // Register the callback with on_msg.\n",
       "    comm.on_msg(function(msg) {\n",
       "        //console.log('receiving', msg['content']['data'], msg);\n",
       "        // Pass the mpl event to the overridden (by mpl) onmessage function.\n",
       "        ws.onmessage(msg['content']['data'])\n",
       "    });\n",
       "    return ws;\n",
       "}\n",
       "\n",
       "mpl.mpl_figure_comm = function(comm, msg) {\n",
       "    // This is the function which gets called when the mpl process\n",
       "    // starts-up an IPython Comm through the \"matplotlib\" channel.\n",
       "\n",
       "    var id = msg.content.data.id;\n",
       "    // Get hold of the div created by the display call when the Comm\n",
       "    // socket was opened in Python.\n",
       "    var element = $(\"#\" + id);\n",
       "    var ws_proxy = comm_websocket_adapter(comm)\n",
       "\n",
       "    function ondownload(figure, format) {\n",
       "        window.open(figure.imageObj.src);\n",
       "    }\n",
       "\n",
       "    var fig = new mpl.figure(id, ws_proxy,\n",
       "                           ondownload,\n",
       "                           element.get(0));\n",
       "\n",
       "    // Call onopen now - mpl needs it, as it is assuming we've passed it a real\n",
       "    // web socket which is closed, not our websocket->open comm proxy.\n",
       "    ws_proxy.onopen();\n",
       "\n",
       "    fig.parent_element = element.get(0);\n",
       "    fig.cell_info = mpl.find_output_cell(\"<div id='\" + id + \"'></div>\");\n",
       "    if (!fig.cell_info) {\n",
       "        console.error(\"Failed to find cell for figure\", id, fig);\n",
       "        return;\n",
       "    }\n",
       "\n",
       "    var output_index = fig.cell_info[2]\n",
       "    var cell = fig.cell_info[0];\n",
       "\n",
       "};\n",
       "\n",
       "mpl.figure.prototype.handle_close = function(fig, msg) {\n",
       "    var width = fig.canvas.width/mpl.ratio\n",
       "    fig.root.unbind('remove')\n",
       "\n",
       "    // Update the output cell to use the data from the current canvas.\n",
       "    fig.push_to_output();\n",
       "    var dataURL = fig.canvas.toDataURL();\n",
       "    // Re-enable the keyboard manager in IPython - without this line, in FF,\n",
       "    // the notebook keyboard shortcuts fail.\n",
       "    IPython.keyboard_manager.enable()\n",
       "    $(fig.parent_element).html('<img src=\"' + dataURL + '\" width=\"' + width + '\">');\n",
       "    fig.close_ws(fig, msg);\n",
       "}\n",
       "\n",
       "mpl.figure.prototype.close_ws = function(fig, msg){\n",
       "    fig.send_message('closing', msg);\n",
       "    // fig.ws.close()\n",
       "}\n",
       "\n",
       "mpl.figure.prototype.push_to_output = function(remove_interactive) {\n",
       "    // Turn the data on the canvas into data in the output cell.\n",
       "    var width = this.canvas.width/mpl.ratio\n",
       "    var dataURL = this.canvas.toDataURL();\n",
       "    this.cell_info[1]['text/html'] = '<img src=\"' + dataURL + '\" width=\"' + width + '\">';\n",
       "}\n",
       "\n",
       "mpl.figure.prototype.updated_canvas_event = function() {\n",
       "    // Tell IPython that the notebook contents must change.\n",
       "    IPython.notebook.set_dirty(true);\n",
       "    this.send_message(\"ack\", {});\n",
       "    var fig = this;\n",
       "    // Wait a second, then push the new image to the DOM so\n",
       "    // that it is saved nicely (might be nice to debounce this).\n",
       "    setTimeout(function () { fig.push_to_output() }, 1000);\n",
       "}\n",
       "\n",
       "mpl.figure.prototype._init_toolbar = function() {\n",
       "    var fig = this;\n",
       "\n",
       "    var nav_element = $('<div/>');\n",
       "    nav_element.attr('style', 'width: 100%');\n",
       "    this.root.append(nav_element);\n",
       "\n",
       "    // Define a callback function for later on.\n",
       "    function toolbar_event(event) {\n",
       "        return fig.toolbar_button_onclick(event['data']);\n",
       "    }\n",
       "    function toolbar_mouse_event(event) {\n",
       "        return fig.toolbar_button_onmouseover(event['data']);\n",
       "    }\n",
       "\n",
       "    for(var toolbar_ind in mpl.toolbar_items){\n",
       "        var name = mpl.toolbar_items[toolbar_ind][0];\n",
       "        var tooltip = mpl.toolbar_items[toolbar_ind][1];\n",
       "        var image = mpl.toolbar_items[toolbar_ind][2];\n",
       "        var method_name = mpl.toolbar_items[toolbar_ind][3];\n",
       "\n",
       "        if (!name) { continue; };\n",
       "\n",
       "        var button = $('<button class=\"btn btn-default\" href=\"#\" title=\"' + name + '\"><i class=\"fa ' + image + ' fa-lg\"></i></button>');\n",
       "        button.click(method_name, toolbar_event);\n",
       "        button.mouseover(tooltip, toolbar_mouse_event);\n",
       "        nav_element.append(button);\n",
       "    }\n",
       "\n",
       "    // Add the status bar.\n",
       "    var status_bar = $('<span class=\"mpl-message\" style=\"text-align:right; float: right;\"/>');\n",
       "    nav_element.append(status_bar);\n",
       "    this.message = status_bar[0];\n",
       "\n",
       "    // Add the close button to the window.\n",
       "    var buttongrp = $('<div class=\"btn-group inline pull-right\"></div>');\n",
       "    var button = $('<button class=\"btn btn-mini btn-primary\" href=\"#\" title=\"Stop Interaction\"><i class=\"fa fa-power-off icon-remove icon-large\"></i></button>');\n",
       "    button.click(function (evt) { fig.handle_close(fig, {}); } );\n",
       "    button.mouseover('Stop Interaction', toolbar_mouse_event);\n",
       "    buttongrp.append(button);\n",
       "    var titlebar = this.root.find($('.ui-dialog-titlebar'));\n",
       "    titlebar.prepend(buttongrp);\n",
       "}\n",
       "\n",
       "mpl.figure.prototype._root_extra_style = function(el){\n",
       "    var fig = this\n",
       "    el.on(\"remove\", function(){\n",
       "\tfig.close_ws(fig, {});\n",
       "    });\n",
       "}\n",
       "\n",
       "mpl.figure.prototype._canvas_extra_style = function(el){\n",
       "    // this is important to make the div 'focusable\n",
       "    el.attr('tabindex', 0)\n",
       "    // reach out to IPython and tell the keyboard manager to turn it's self\n",
       "    // off when our div gets focus\n",
       "\n",
       "    // location in version 3\n",
       "    if (IPython.notebook.keyboard_manager) {\n",
       "        IPython.notebook.keyboard_manager.register_events(el);\n",
       "    }\n",
       "    else {\n",
       "        // location in version 2\n",
       "        IPython.keyboard_manager.register_events(el);\n",
       "    }\n",
       "\n",
       "}\n",
       "\n",
       "mpl.figure.prototype._key_event_extra = function(event, name) {\n",
       "    var manager = IPython.notebook.keyboard_manager;\n",
       "    if (!manager)\n",
       "        manager = IPython.keyboard_manager;\n",
       "\n",
       "    // Check for shift+enter\n",
       "    if (event.shiftKey && event.which == 13) {\n",
       "        this.canvas_div.blur();\n",
       "        // select the cell after this one\n",
       "        var index = IPython.notebook.find_cell_index(this.cell_info[0]);\n",
       "        IPython.notebook.select(index + 1);\n",
       "    }\n",
       "}\n",
       "\n",
       "mpl.figure.prototype.handle_save = function(fig, msg) {\n",
       "    fig.ondownload(fig, null);\n",
       "}\n",
       "\n",
       "\n",
       "mpl.find_output_cell = function(html_output) {\n",
       "    // Return the cell and output element which can be found *uniquely* in the notebook.\n",
       "    // Note - this is a bit hacky, but it is done because the \"notebook_saving.Notebook\"\n",
       "    // IPython event is triggered only after the cells have been serialised, which for\n",
       "    // our purposes (turning an active figure into a static one), is too late.\n",
       "    var cells = IPython.notebook.get_cells();\n",
       "    var ncells = cells.length;\n",
       "    for (var i=0; i<ncells; i++) {\n",
       "        var cell = cells[i];\n",
       "        if (cell.cell_type === 'code'){\n",
       "            for (var j=0; j<cell.output_area.outputs.length; j++) {\n",
       "                var data = cell.output_area.outputs[j];\n",
       "                if (data.data) {\n",
       "                    // IPython >= 3 moved mimebundle to data attribute of output\n",
       "                    data = data.data;\n",
       "                }\n",
       "                if (data['text/html'] == html_output) {\n",
       "                    return [cell, data, j];\n",
       "                }\n",
       "            }\n",
       "        }\n",
       "    }\n",
       "}\n",
       "\n",
       "// Register the function which deals with the matplotlib target/channel.\n",
       "// The kernel may be null if the page has been refreshed.\n",
       "if (IPython.notebook.kernel != null) {\n",
       "    IPython.notebook.kernel.comm_manager.register_target('matplotlib', mpl.mpl_figure_comm);\n",
       "}\n"
      ],
      "text/plain": [
       "<IPython.core.display.Javascript object>"
      ]
     },
     "metadata": {},
     "output_type": "display_data"
    },
    {
     "data": {
      "text/html": [
       "<img src=\"data:image/png;base64,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\" width=\"640\">"
      ],
      "text/plain": [
       "<IPython.core.display.HTML object>"
      ]
     },
     "metadata": {},
     "output_type": "display_data"
    },
    {
     "data": {
      "text/plain": [
       "[<matplotlib.lines.Line2D at 0x18fe7351580>]"
      ]
     },
     "execution_count": 129,
     "metadata": {},
     "output_type": "execute_result"
    }
   ],
   "source": [
    "# Para que las gráficas se muestren sobre el propio notebook, en lugar de en una ventana, hay que escribir:\n",
    "%matplotlib notebook    \n",
    "\n",
    "from matplotlib import pyplot  # pyplot es el módulo que permite dibujar gráficas matemáticas\n",
    "\n",
    "x = []   # \"x\" es una lista vacía, es decir, aún no contiene elementos\n",
    "y = []   # \"y\" también es una lista vacía\n",
    "for i in range(20):\n",
    "    x.append(randint(-50, 50))\n",
    "    y.append(randint(-50, 50))\n",
    "\n",
    "# El tercer parámetro sirve para especificar el formato de la representación gráfica de los datos\n",
    "pyplot.plot(x, y, \"o\")"
   ]
  },
  {
   "cell_type": "markdown",
   "metadata": {},
   "source": [
    "Todos los paquetes, módulos y librerías más usados están ampliamente documentados en Internet: sólo tienes que hacer una consulta a tu buscador favorito. Por ejemplo, si quieres ver qué otras cosas se pueden hacer con la función *plot*, puedes verlo aquí: https://matplotlib.org/api/pyplot_api.html#matplotlib.pyplot.plot"
   ]
  },
  {
   "cell_type": "markdown",
   "metadata": {},
   "source": [
    "### ¡Prueba tú!"
   ]
  },
  {
   "cell_type": "markdown",
   "metadata": {},
   "source": [
    "Intenta completar el siguiente código para mostrar una gráfica de la función coseno para los valores de la x contenidos en el intervalo \\[-10,10\\]. Busca documentación sobre el módulo **math** para ver cómo calcular el coseno de un número [prueba buscando en Google \"math Python 3\"](https://www.google.es/search?q=math+Python+3)."
   ]
  },
  {
   "cell_type": "code",
   "execution_count": 130,
   "metadata": {},
   "outputs": [
    {
     "data": {
      "application/javascript": [
       "/* Put everything inside the global mpl namespace */\n",
       "window.mpl = {};\n",
       "\n",
       "\n",
       "mpl.get_websocket_type = function() {\n",
       "    if (typeof(WebSocket) !== 'undefined') {\n",
       "        return WebSocket;\n",
       "    } else if (typeof(MozWebSocket) !== 'undefined') {\n",
       "        return MozWebSocket;\n",
       "    } else {\n",
       "        alert('Your browser does not have WebSocket support. ' +\n",
       "              'Please try Chrome, Safari or Firefox ≥ 6. ' +\n",
       "              'Firefox 4 and 5 are also supported but you ' +\n",
       "              'have to enable WebSockets in about:config.');\n",
       "    };\n",
       "}\n",
       "\n",
       "mpl.figure = function(figure_id, websocket, ondownload, parent_element) {\n",
       "    this.id = figure_id;\n",
       "\n",
       "    this.ws = websocket;\n",
       "\n",
       "    this.supports_binary = (this.ws.binaryType != undefined);\n",
       "\n",
       "    if (!this.supports_binary) {\n",
       "        var warnings = document.getElementById(\"mpl-warnings\");\n",
       "        if (warnings) {\n",
       "            warnings.style.display = 'block';\n",
       "            warnings.textContent = (\n",
       "                \"This browser does not support binary websocket messages. \" +\n",
       "                    \"Performance may be slow.\");\n",
       "        }\n",
       "    }\n",
       "\n",
       "    this.imageObj = new Image();\n",
       "\n",
       "    this.context = undefined;\n",
       "    this.message = undefined;\n",
       "    this.canvas = undefined;\n",
       "    this.rubberband_canvas = undefined;\n",
       "    this.rubberband_context = undefined;\n",
       "    this.format_dropdown = undefined;\n",
       "\n",
       "    this.image_mode = 'full';\n",
       "\n",
       "    this.root = $('<div/>');\n",
       "    this._root_extra_style(this.root)\n",
       "    this.root.attr('style', 'display: inline-block');\n",
       "\n",
       "    $(parent_element).append(this.root);\n",
       "\n",
       "    this._init_header(this);\n",
       "    this._init_canvas(this);\n",
       "    this._init_toolbar(this);\n",
       "\n",
       "    var fig = this;\n",
       "\n",
       "    this.waiting = false;\n",
       "\n",
       "    this.ws.onopen =  function () {\n",
       "            fig.send_message(\"supports_binary\", {value: fig.supports_binary});\n",
       "            fig.send_message(\"send_image_mode\", {});\n",
       "            if (mpl.ratio != 1) {\n",
       "                fig.send_message(\"set_dpi_ratio\", {'dpi_ratio': mpl.ratio});\n",
       "            }\n",
       "            fig.send_message(\"refresh\", {});\n",
       "        }\n",
       "\n",
       "    this.imageObj.onload = function() {\n",
       "            if (fig.image_mode == 'full') {\n",
       "                // Full images could contain transparency (where diff images\n",
       "                // almost always do), so we need to clear the canvas so that\n",
       "                // there is no ghosting.\n",
       "                fig.context.clearRect(0, 0, fig.canvas.width, fig.canvas.height);\n",
       "            }\n",
       "            fig.context.drawImage(fig.imageObj, 0, 0);\n",
       "        };\n",
       "\n",
       "    this.imageObj.onunload = function() {\n",
       "        fig.ws.close();\n",
       "    }\n",
       "\n",
       "    this.ws.onmessage = this._make_on_message_function(this);\n",
       "\n",
       "    this.ondownload = ondownload;\n",
       "}\n",
       "\n",
       "mpl.figure.prototype._init_header = function() {\n",
       "    var titlebar = $(\n",
       "        '<div class=\"ui-dialog-titlebar ui-widget-header ui-corner-all ' +\n",
       "        'ui-helper-clearfix\"/>');\n",
       "    var titletext = $(\n",
       "        '<div class=\"ui-dialog-title\" style=\"width: 100%; ' +\n",
       "        'text-align: center; padding: 3px;\"/>');\n",
       "    titlebar.append(titletext)\n",
       "    this.root.append(titlebar);\n",
       "    this.header = titletext[0];\n",
       "}\n",
       "\n",
       "\n",
       "\n",
       "mpl.figure.prototype._canvas_extra_style = function(canvas_div) {\n",
       "\n",
       "}\n",
       "\n",
       "\n",
       "mpl.figure.prototype._root_extra_style = function(canvas_div) {\n",
       "\n",
       "}\n",
       "\n",
       "mpl.figure.prototype._init_canvas = function() {\n",
       "    var fig = this;\n",
       "\n",
       "    var canvas_div = $('<div/>');\n",
       "\n",
       "    canvas_div.attr('style', 'position: relative; clear: both; outline: 0');\n",
       "\n",
       "    function canvas_keyboard_event(event) {\n",
       "        return fig.key_event(event, event['data']);\n",
       "    }\n",
       "\n",
       "    canvas_div.keydown('key_press', canvas_keyboard_event);\n",
       "    canvas_div.keyup('key_release', canvas_keyboard_event);\n",
       "    this.canvas_div = canvas_div\n",
       "    this._canvas_extra_style(canvas_div)\n",
       "    this.root.append(canvas_div);\n",
       "\n",
       "    var canvas = $('<canvas/>');\n",
       "    canvas.addClass('mpl-canvas');\n",
       "    canvas.attr('style', \"left: 0; top: 0; z-index: 0; outline: 0\")\n",
       "\n",
       "    this.canvas = canvas[0];\n",
       "    this.context = canvas[0].getContext(\"2d\");\n",
       "\n",
       "    var backingStore = this.context.backingStorePixelRatio ||\n",
       "\tthis.context.webkitBackingStorePixelRatio ||\n",
       "\tthis.context.mozBackingStorePixelRatio ||\n",
       "\tthis.context.msBackingStorePixelRatio ||\n",
       "\tthis.context.oBackingStorePixelRatio ||\n",
       "\tthis.context.backingStorePixelRatio || 1;\n",
       "\n",
       "    mpl.ratio = (window.devicePixelRatio || 1) / backingStore;\n",
       "\n",
       "    var rubberband = $('<canvas/>');\n",
       "    rubberband.attr('style', \"position: absolute; left: 0; top: 0; z-index: 1;\")\n",
       "\n",
       "    var pass_mouse_events = true;\n",
       "\n",
       "    canvas_div.resizable({\n",
       "        start: function(event, ui) {\n",
       "            pass_mouse_events = false;\n",
       "        },\n",
       "        resize: function(event, ui) {\n",
       "            fig.request_resize(ui.size.width, ui.size.height);\n",
       "        },\n",
       "        stop: function(event, ui) {\n",
       "            pass_mouse_events = true;\n",
       "            fig.request_resize(ui.size.width, ui.size.height);\n",
       "        },\n",
       "    });\n",
       "\n",
       "    function mouse_event_fn(event) {\n",
       "        if (pass_mouse_events)\n",
       "            return fig.mouse_event(event, event['data']);\n",
       "    }\n",
       "\n",
       "    rubberband.mousedown('button_press', mouse_event_fn);\n",
       "    rubberband.mouseup('button_release', mouse_event_fn);\n",
       "    // Throttle sequential mouse events to 1 every 20ms.\n",
       "    rubberband.mousemove('motion_notify', mouse_event_fn);\n",
       "\n",
       "    rubberband.mouseenter('figure_enter', mouse_event_fn);\n",
       "    rubberband.mouseleave('figure_leave', mouse_event_fn);\n",
       "\n",
       "    canvas_div.on(\"wheel\", function (event) {\n",
       "        event = event.originalEvent;\n",
       "        event['data'] = 'scroll'\n",
       "        if (event.deltaY < 0) {\n",
       "            event.step = 1;\n",
       "        } else {\n",
       "            event.step = -1;\n",
       "        }\n",
       "        mouse_event_fn(event);\n",
       "    });\n",
       "\n",
       "    canvas_div.append(canvas);\n",
       "    canvas_div.append(rubberband);\n",
       "\n",
       "    this.rubberband = rubberband;\n",
       "    this.rubberband_canvas = rubberband[0];\n",
       "    this.rubberband_context = rubberband[0].getContext(\"2d\");\n",
       "    this.rubberband_context.strokeStyle = \"#000000\";\n",
       "\n",
       "    this._resize_canvas = function(width, height) {\n",
       "        // Keep the size of the canvas, canvas container, and rubber band\n",
       "        // canvas in synch.\n",
       "        canvas_div.css('width', width)\n",
       "        canvas_div.css('height', height)\n",
       "\n",
       "        canvas.attr('width', width * mpl.ratio);\n",
       "        canvas.attr('height', height * mpl.ratio);\n",
       "        canvas.attr('style', 'width: ' + width + 'px; height: ' + height + 'px;');\n",
       "\n",
       "        rubberband.attr('width', width);\n",
       "        rubberband.attr('height', height);\n",
       "    }\n",
       "\n",
       "    // Set the figure to an initial 600x600px, this will subsequently be updated\n",
       "    // upon first draw.\n",
       "    this._resize_canvas(600, 600);\n",
       "\n",
       "    // Disable right mouse context menu.\n",
       "    $(this.rubberband_canvas).bind(\"contextmenu\",function(e){\n",
       "        return false;\n",
       "    });\n",
       "\n",
       "    function set_focus () {\n",
       "        canvas.focus();\n",
       "        canvas_div.focus();\n",
       "    }\n",
       "\n",
       "    window.setTimeout(set_focus, 100);\n",
       "}\n",
       "\n",
       "mpl.figure.prototype._init_toolbar = function() {\n",
       "    var fig = this;\n",
       "\n",
       "    var nav_element = $('<div/>');\n",
       "    nav_element.attr('style', 'width: 100%');\n",
       "    this.root.append(nav_element);\n",
       "\n",
       "    // Define a callback function for later on.\n",
       "    function toolbar_event(event) {\n",
       "        return fig.toolbar_button_onclick(event['data']);\n",
       "    }\n",
       "    function toolbar_mouse_event(event) {\n",
       "        return fig.toolbar_button_onmouseover(event['data']);\n",
       "    }\n",
       "\n",
       "    for(var toolbar_ind in mpl.toolbar_items) {\n",
       "        var name = mpl.toolbar_items[toolbar_ind][0];\n",
       "        var tooltip = mpl.toolbar_items[toolbar_ind][1];\n",
       "        var image = mpl.toolbar_items[toolbar_ind][2];\n",
       "        var method_name = mpl.toolbar_items[toolbar_ind][3];\n",
       "\n",
       "        if (!name) {\n",
       "            // put a spacer in here.\n",
       "            continue;\n",
       "        }\n",
       "        var button = $('<button/>');\n",
       "        button.addClass('ui-button ui-widget ui-state-default ui-corner-all ' +\n",
       "                        'ui-button-icon-only');\n",
       "        button.attr('role', 'button');\n",
       "        button.attr('aria-disabled', 'false');\n",
       "        button.click(method_name, toolbar_event);\n",
       "        button.mouseover(tooltip, toolbar_mouse_event);\n",
       "\n",
       "        var icon_img = $('<span/>');\n",
       "        icon_img.addClass('ui-button-icon-primary ui-icon');\n",
       "        icon_img.addClass(image);\n",
       "        icon_img.addClass('ui-corner-all');\n",
       "\n",
       "        var tooltip_span = $('<span/>');\n",
       "        tooltip_span.addClass('ui-button-text');\n",
       "        tooltip_span.html(tooltip);\n",
       "\n",
       "        button.append(icon_img);\n",
       "        button.append(tooltip_span);\n",
       "\n",
       "        nav_element.append(button);\n",
       "    }\n",
       "\n",
       "    var fmt_picker_span = $('<span/>');\n",
       "\n",
       "    var fmt_picker = $('<select/>');\n",
       "    fmt_picker.addClass('mpl-toolbar-option ui-widget ui-widget-content');\n",
       "    fmt_picker_span.append(fmt_picker);\n",
       "    nav_element.append(fmt_picker_span);\n",
       "    this.format_dropdown = fmt_picker[0];\n",
       "\n",
       "    for (var ind in mpl.extensions) {\n",
       "        var fmt = mpl.extensions[ind];\n",
       "        var option = $(\n",
       "            '<option/>', {selected: fmt === mpl.default_extension}).html(fmt);\n",
       "        fmt_picker.append(option);\n",
       "    }\n",
       "\n",
       "    // Add hover states to the ui-buttons\n",
       "    $( \".ui-button\" ).hover(\n",
       "        function() { $(this).addClass(\"ui-state-hover\");},\n",
       "        function() { $(this).removeClass(\"ui-state-hover\");}\n",
       "    );\n",
       "\n",
       "    var status_bar = $('<span class=\"mpl-message\"/>');\n",
       "    nav_element.append(status_bar);\n",
       "    this.message = status_bar[0];\n",
       "}\n",
       "\n",
       "mpl.figure.prototype.request_resize = function(x_pixels, y_pixels) {\n",
       "    // Request matplotlib to resize the figure. Matplotlib will then trigger a resize in the client,\n",
       "    // which will in turn request a refresh of the image.\n",
       "    this.send_message('resize', {'width': x_pixels, 'height': y_pixels});\n",
       "}\n",
       "\n",
       "mpl.figure.prototype.send_message = function(type, properties) {\n",
       "    properties['type'] = type;\n",
       "    properties['figure_id'] = this.id;\n",
       "    this.ws.send(JSON.stringify(properties));\n",
       "}\n",
       "\n",
       "mpl.figure.prototype.send_draw_message = function() {\n",
       "    if (!this.waiting) {\n",
       "        this.waiting = true;\n",
       "        this.ws.send(JSON.stringify({type: \"draw\", figure_id: this.id}));\n",
       "    }\n",
       "}\n",
       "\n",
       "\n",
       "mpl.figure.prototype.handle_save = function(fig, msg) {\n",
       "    var format_dropdown = fig.format_dropdown;\n",
       "    var format = format_dropdown.options[format_dropdown.selectedIndex].value;\n",
       "    fig.ondownload(fig, format);\n",
       "}\n",
       "\n",
       "\n",
       "mpl.figure.prototype.handle_resize = function(fig, msg) {\n",
       "    var size = msg['size'];\n",
       "    if (size[0] != fig.canvas.width || size[1] != fig.canvas.height) {\n",
       "        fig._resize_canvas(size[0], size[1]);\n",
       "        fig.send_message(\"refresh\", {});\n",
       "    };\n",
       "}\n",
       "\n",
       "mpl.figure.prototype.handle_rubberband = function(fig, msg) {\n",
       "    var x0 = msg['x0'] / mpl.ratio;\n",
       "    var y0 = (fig.canvas.height - msg['y0']) / mpl.ratio;\n",
       "    var x1 = msg['x1'] / mpl.ratio;\n",
       "    var y1 = (fig.canvas.height - msg['y1']) / mpl.ratio;\n",
       "    x0 = Math.floor(x0) + 0.5;\n",
       "    y0 = Math.floor(y0) + 0.5;\n",
       "    x1 = Math.floor(x1) + 0.5;\n",
       "    y1 = Math.floor(y1) + 0.5;\n",
       "    var min_x = Math.min(x0, x1);\n",
       "    var min_y = Math.min(y0, y1);\n",
       "    var width = Math.abs(x1 - x0);\n",
       "    var height = Math.abs(y1 - y0);\n",
       "\n",
       "    fig.rubberband_context.clearRect(\n",
       "        0, 0, fig.canvas.width / mpl.ratio, fig.canvas.height / mpl.ratio);\n",
       "\n",
       "    fig.rubberband_context.strokeRect(min_x, min_y, width, height);\n",
       "}\n",
       "\n",
       "mpl.figure.prototype.handle_figure_label = function(fig, msg) {\n",
       "    // Updates the figure title.\n",
       "    fig.header.textContent = msg['label'];\n",
       "}\n",
       "\n",
       "mpl.figure.prototype.handle_cursor = function(fig, msg) {\n",
       "    var cursor = msg['cursor'];\n",
       "    switch(cursor)\n",
       "    {\n",
       "    case 0:\n",
       "        cursor = 'pointer';\n",
       "        break;\n",
       "    case 1:\n",
       "        cursor = 'default';\n",
       "        break;\n",
       "    case 2:\n",
       "        cursor = 'crosshair';\n",
       "        break;\n",
       "    case 3:\n",
       "        cursor = 'move';\n",
       "        break;\n",
       "    }\n",
       "    fig.rubberband_canvas.style.cursor = cursor;\n",
       "}\n",
       "\n",
       "mpl.figure.prototype.handle_message = function(fig, msg) {\n",
       "    fig.message.textContent = msg['message'];\n",
       "}\n",
       "\n",
       "mpl.figure.prototype.handle_draw = function(fig, msg) {\n",
       "    // Request the server to send over a new figure.\n",
       "    fig.send_draw_message();\n",
       "}\n",
       "\n",
       "mpl.figure.prototype.handle_image_mode = function(fig, msg) {\n",
       "    fig.image_mode = msg['mode'];\n",
       "}\n",
       "\n",
       "mpl.figure.prototype.updated_canvas_event = function() {\n",
       "    // Called whenever the canvas gets updated.\n",
       "    this.send_message(\"ack\", {});\n",
       "}\n",
       "\n",
       "// A function to construct a web socket function for onmessage handling.\n",
       "// Called in the figure constructor.\n",
       "mpl.figure.prototype._make_on_message_function = function(fig) {\n",
       "    return function socket_on_message(evt) {\n",
       "        if (evt.data instanceof Blob) {\n",
       "            /* FIXME: We get \"Resource interpreted as Image but\n",
       "             * transferred with MIME type text/plain:\" errors on\n",
       "             * Chrome.  But how to set the MIME type?  It doesn't seem\n",
       "             * to be part of the websocket stream */\n",
       "            evt.data.type = \"image/png\";\n",
       "\n",
       "            /* Free the memory for the previous frames */\n",
       "            if (fig.imageObj.src) {\n",
       "                (window.URL || window.webkitURL).revokeObjectURL(\n",
       "                    fig.imageObj.src);\n",
       "            }\n",
       "\n",
       "            fig.imageObj.src = (window.URL || window.webkitURL).createObjectURL(\n",
       "                evt.data);\n",
       "            fig.updated_canvas_event();\n",
       "            fig.waiting = false;\n",
       "            return;\n",
       "        }\n",
       "        else if (typeof evt.data === 'string' && evt.data.slice(0, 21) == \"data:image/png;base64\") {\n",
       "            fig.imageObj.src = evt.data;\n",
       "            fig.updated_canvas_event();\n",
       "            fig.waiting = false;\n",
       "            return;\n",
       "        }\n",
       "\n",
       "        var msg = JSON.parse(evt.data);\n",
       "        var msg_type = msg['type'];\n",
       "\n",
       "        // Call the  \"handle_{type}\" callback, which takes\n",
       "        // the figure and JSON message as its only arguments.\n",
       "        try {\n",
       "            var callback = fig[\"handle_\" + msg_type];\n",
       "        } catch (e) {\n",
       "            console.log(\"No handler for the '\" + msg_type + \"' message type: \", msg);\n",
       "            return;\n",
       "        }\n",
       "\n",
       "        if (callback) {\n",
       "            try {\n",
       "                // console.log(\"Handling '\" + msg_type + \"' message: \", msg);\n",
       "                callback(fig, msg);\n",
       "            } catch (e) {\n",
       "                console.log(\"Exception inside the 'handler_\" + msg_type + \"' callback:\", e, e.stack, msg);\n",
       "            }\n",
       "        }\n",
       "    };\n",
       "}\n",
       "\n",
       "// from http://stackoverflow.com/questions/1114465/getting-mouse-location-in-canvas\n",
       "mpl.findpos = function(e) {\n",
       "    //this section is from http://www.quirksmode.org/js/events_properties.html\n",
       "    var targ;\n",
       "    if (!e)\n",
       "        e = window.event;\n",
       "    if (e.target)\n",
       "        targ = e.target;\n",
       "    else if (e.srcElement)\n",
       "        targ = e.srcElement;\n",
       "    if (targ.nodeType == 3) // defeat Safari bug\n",
       "        targ = targ.parentNode;\n",
       "\n",
       "    // jQuery normalizes the pageX and pageY\n",
       "    // pageX,Y are the mouse positions relative to the document\n",
       "    // offset() returns the position of the element relative to the document\n",
       "    var x = e.pageX - $(targ).offset().left;\n",
       "    var y = e.pageY - $(targ).offset().top;\n",
       "\n",
       "    return {\"x\": x, \"y\": y};\n",
       "};\n",
       "\n",
       "/*\n",
       " * return a copy of an object with only non-object keys\n",
       " * we need this to avoid circular references\n",
       " * http://stackoverflow.com/a/24161582/3208463\n",
       " */\n",
       "function simpleKeys (original) {\n",
       "  return Object.keys(original).reduce(function (obj, key) {\n",
       "    if (typeof original[key] !== 'object')\n",
       "        obj[key] = original[key]\n",
       "    return obj;\n",
       "  }, {});\n",
       "}\n",
       "\n",
       "mpl.figure.prototype.mouse_event = function(event, name) {\n",
       "    var canvas_pos = mpl.findpos(event)\n",
       "\n",
       "    if (name === 'button_press')\n",
       "    {\n",
       "        this.canvas.focus();\n",
       "        this.canvas_div.focus();\n",
       "    }\n",
       "\n",
       "    var x = canvas_pos.x * mpl.ratio;\n",
       "    var y = canvas_pos.y * mpl.ratio;\n",
       "\n",
       "    this.send_message(name, {x: x, y: y, button: event.button,\n",
       "                             step: event.step,\n",
       "                             guiEvent: simpleKeys(event)});\n",
       "\n",
       "    /* This prevents the web browser from automatically changing to\n",
       "     * the text insertion cursor when the button is pressed.  We want\n",
       "     * to control all of the cursor setting manually through the\n",
       "     * 'cursor' event from matplotlib */\n",
       "    event.preventDefault();\n",
       "    return false;\n",
       "}\n",
       "\n",
       "mpl.figure.prototype._key_event_extra = function(event, name) {\n",
       "    // Handle any extra behaviour associated with a key event\n",
       "}\n",
       "\n",
       "mpl.figure.prototype.key_event = function(event, name) {\n",
       "\n",
       "    // Prevent repeat events\n",
       "    if (name == 'key_press')\n",
       "    {\n",
       "        if (event.which === this._key)\n",
       "            return;\n",
       "        else\n",
       "            this._key = event.which;\n",
       "    }\n",
       "    if (name == 'key_release')\n",
       "        this._key = null;\n",
       "\n",
       "    var value = '';\n",
       "    if (event.ctrlKey && event.which != 17)\n",
       "        value += \"ctrl+\";\n",
       "    if (event.altKey && event.which != 18)\n",
       "        value += \"alt+\";\n",
       "    if (event.shiftKey && event.which != 16)\n",
       "        value += \"shift+\";\n",
       "\n",
       "    value += 'k';\n",
       "    value += event.which.toString();\n",
       "\n",
       "    this._key_event_extra(event, name);\n",
       "\n",
       "    this.send_message(name, {key: value,\n",
       "                             guiEvent: simpleKeys(event)});\n",
       "    return false;\n",
       "}\n",
       "\n",
       "mpl.figure.prototype.toolbar_button_onclick = function(name) {\n",
       "    if (name == 'download') {\n",
       "        this.handle_save(this, null);\n",
       "    } else {\n",
       "        this.send_message(\"toolbar_button\", {name: name});\n",
       "    }\n",
       "};\n",
       "\n",
       "mpl.figure.prototype.toolbar_button_onmouseover = function(tooltip) {\n",
       "    this.message.textContent = tooltip;\n",
       "};\n",
       "mpl.toolbar_items = [[\"Home\", \"Reset original view\", \"fa fa-home icon-home\", \"home\"], [\"Back\", \"Back to previous view\", \"fa fa-arrow-left icon-arrow-left\", \"back\"], [\"Forward\", \"Forward to next view\", \"fa fa-arrow-right icon-arrow-right\", \"forward\"], [\"\", \"\", \"\", \"\"], [\"Pan\", \"Pan axes with left mouse, zoom with right\", \"fa fa-arrows icon-move\", \"pan\"], [\"Zoom\", \"Zoom to rectangle\", \"fa fa-square-o icon-check-empty\", \"zoom\"], [\"\", \"\", \"\", \"\"], [\"Download\", \"Download plot\", \"fa fa-floppy-o icon-save\", \"download\"]];\n",
       "\n",
       "mpl.extensions = [\"eps\", \"jpeg\", \"pdf\", \"png\", \"ps\", \"raw\", \"svg\", \"tif\"];\n",
       "\n",
       "mpl.default_extension = \"png\";var comm_websocket_adapter = function(comm) {\n",
       "    // Create a \"websocket\"-like object which calls the given IPython comm\n",
       "    // object with the appropriate methods. Currently this is a non binary\n",
       "    // socket, so there is still some room for performance tuning.\n",
       "    var ws = {};\n",
       "\n",
       "    ws.close = function() {\n",
       "        comm.close()\n",
       "    };\n",
       "    ws.send = function(m) {\n",
       "        //console.log('sending', m);\n",
       "        comm.send(m);\n",
       "    };\n",
       "    // Register the callback with on_msg.\n",
       "    comm.on_msg(function(msg) {\n",
       "        //console.log('receiving', msg['content']['data'], msg);\n",
       "        // Pass the mpl event to the overridden (by mpl) onmessage function.\n",
       "        ws.onmessage(msg['content']['data'])\n",
       "    });\n",
       "    return ws;\n",
       "}\n",
       "\n",
       "mpl.mpl_figure_comm = function(comm, msg) {\n",
       "    // This is the function which gets called when the mpl process\n",
       "    // starts-up an IPython Comm through the \"matplotlib\" channel.\n",
       "\n",
       "    var id = msg.content.data.id;\n",
       "    // Get hold of the div created by the display call when the Comm\n",
       "    // socket was opened in Python.\n",
       "    var element = $(\"#\" + id);\n",
       "    var ws_proxy = comm_websocket_adapter(comm)\n",
       "\n",
       "    function ondownload(figure, format) {\n",
       "        window.open(figure.imageObj.src);\n",
       "    }\n",
       "\n",
       "    var fig = new mpl.figure(id, ws_proxy,\n",
       "                           ondownload,\n",
       "                           element.get(0));\n",
       "\n",
       "    // Call onopen now - mpl needs it, as it is assuming we've passed it a real\n",
       "    // web socket which is closed, not our websocket->open comm proxy.\n",
       "    ws_proxy.onopen();\n",
       "\n",
       "    fig.parent_element = element.get(0);\n",
       "    fig.cell_info = mpl.find_output_cell(\"<div id='\" + id + \"'></div>\");\n",
       "    if (!fig.cell_info) {\n",
       "        console.error(\"Failed to find cell for figure\", id, fig);\n",
       "        return;\n",
       "    }\n",
       "\n",
       "    var output_index = fig.cell_info[2]\n",
       "    var cell = fig.cell_info[0];\n",
       "\n",
       "};\n",
       "\n",
       "mpl.figure.prototype.handle_close = function(fig, msg) {\n",
       "    var width = fig.canvas.width/mpl.ratio\n",
       "    fig.root.unbind('remove')\n",
       "\n",
       "    // Update the output cell to use the data from the current canvas.\n",
       "    fig.push_to_output();\n",
       "    var dataURL = fig.canvas.toDataURL();\n",
       "    // Re-enable the keyboard manager in IPython - without this line, in FF,\n",
       "    // the notebook keyboard shortcuts fail.\n",
       "    IPython.keyboard_manager.enable()\n",
       "    $(fig.parent_element).html('<img src=\"' + dataURL + '\" width=\"' + width + '\">');\n",
       "    fig.close_ws(fig, msg);\n",
       "}\n",
       "\n",
       "mpl.figure.prototype.close_ws = function(fig, msg){\n",
       "    fig.send_message('closing', msg);\n",
       "    // fig.ws.close()\n",
       "}\n",
       "\n",
       "mpl.figure.prototype.push_to_output = function(remove_interactive) {\n",
       "    // Turn the data on the canvas into data in the output cell.\n",
       "    var width = this.canvas.width/mpl.ratio\n",
       "    var dataURL = this.canvas.toDataURL();\n",
       "    this.cell_info[1]['text/html'] = '<img src=\"' + dataURL + '\" width=\"' + width + '\">';\n",
       "}\n",
       "\n",
       "mpl.figure.prototype.updated_canvas_event = function() {\n",
       "    // Tell IPython that the notebook contents must change.\n",
       "    IPython.notebook.set_dirty(true);\n",
       "    this.send_message(\"ack\", {});\n",
       "    var fig = this;\n",
       "    // Wait a second, then push the new image to the DOM so\n",
       "    // that it is saved nicely (might be nice to debounce this).\n",
       "    setTimeout(function () { fig.push_to_output() }, 1000);\n",
       "}\n",
       "\n",
       "mpl.figure.prototype._init_toolbar = function() {\n",
       "    var fig = this;\n",
       "\n",
       "    var nav_element = $('<div/>');\n",
       "    nav_element.attr('style', 'width: 100%');\n",
       "    this.root.append(nav_element);\n",
       "\n",
       "    // Define a callback function for later on.\n",
       "    function toolbar_event(event) {\n",
       "        return fig.toolbar_button_onclick(event['data']);\n",
       "    }\n",
       "    function toolbar_mouse_event(event) {\n",
       "        return fig.toolbar_button_onmouseover(event['data']);\n",
       "    }\n",
       "\n",
       "    for(var toolbar_ind in mpl.toolbar_items){\n",
       "        var name = mpl.toolbar_items[toolbar_ind][0];\n",
       "        var tooltip = mpl.toolbar_items[toolbar_ind][1];\n",
       "        var image = mpl.toolbar_items[toolbar_ind][2];\n",
       "        var method_name = mpl.toolbar_items[toolbar_ind][3];\n",
       "\n",
       "        if (!name) { continue; };\n",
       "\n",
       "        var button = $('<button class=\"btn btn-default\" href=\"#\" title=\"' + name + '\"><i class=\"fa ' + image + ' fa-lg\"></i></button>');\n",
       "        button.click(method_name, toolbar_event);\n",
       "        button.mouseover(tooltip, toolbar_mouse_event);\n",
       "        nav_element.append(button);\n",
       "    }\n",
       "\n",
       "    // Add the status bar.\n",
       "    var status_bar = $('<span class=\"mpl-message\" style=\"text-align:right; float: right;\"/>');\n",
       "    nav_element.append(status_bar);\n",
       "    this.message = status_bar[0];\n",
       "\n",
       "    // Add the close button to the window.\n",
       "    var buttongrp = $('<div class=\"btn-group inline pull-right\"></div>');\n",
       "    var button = $('<button class=\"btn btn-mini btn-primary\" href=\"#\" title=\"Stop Interaction\"><i class=\"fa fa-power-off icon-remove icon-large\"></i></button>');\n",
       "    button.click(function (evt) { fig.handle_close(fig, {}); } );\n",
       "    button.mouseover('Stop Interaction', toolbar_mouse_event);\n",
       "    buttongrp.append(button);\n",
       "    var titlebar = this.root.find($('.ui-dialog-titlebar'));\n",
       "    titlebar.prepend(buttongrp);\n",
       "}\n",
       "\n",
       "mpl.figure.prototype._root_extra_style = function(el){\n",
       "    var fig = this\n",
       "    el.on(\"remove\", function(){\n",
       "\tfig.close_ws(fig, {});\n",
       "    });\n",
       "}\n",
       "\n",
       "mpl.figure.prototype._canvas_extra_style = function(el){\n",
       "    // this is important to make the div 'focusable\n",
       "    el.attr('tabindex', 0)\n",
       "    // reach out to IPython and tell the keyboard manager to turn it's self\n",
       "    // off when our div gets focus\n",
       "\n",
       "    // location in version 3\n",
       "    if (IPython.notebook.keyboard_manager) {\n",
       "        IPython.notebook.keyboard_manager.register_events(el);\n",
       "    }\n",
       "    else {\n",
       "        // location in version 2\n",
       "        IPython.keyboard_manager.register_events(el);\n",
       "    }\n",
       "\n",
       "}\n",
       "\n",
       "mpl.figure.prototype._key_event_extra = function(event, name) {\n",
       "    var manager = IPython.notebook.keyboard_manager;\n",
       "    if (!manager)\n",
       "        manager = IPython.keyboard_manager;\n",
       "\n",
       "    // Check for shift+enter\n",
       "    if (event.shiftKey && event.which == 13) {\n",
       "        this.canvas_div.blur();\n",
       "        // select the cell after this one\n",
       "        var index = IPython.notebook.find_cell_index(this.cell_info[0]);\n",
       "        IPython.notebook.select(index + 1);\n",
       "    }\n",
       "}\n",
       "\n",
       "mpl.figure.prototype.handle_save = function(fig, msg) {\n",
       "    fig.ondownload(fig, null);\n",
       "}\n",
       "\n",
       "\n",
       "mpl.find_output_cell = function(html_output) {\n",
       "    // Return the cell and output element which can be found *uniquely* in the notebook.\n",
       "    // Note - this is a bit hacky, but it is done because the \"notebook_saving.Notebook\"\n",
       "    // IPython event is triggered only after the cells have been serialised, which for\n",
       "    // our purposes (turning an active figure into a static one), is too late.\n",
       "    var cells = IPython.notebook.get_cells();\n",
       "    var ncells = cells.length;\n",
       "    for (var i=0; i<ncells; i++) {\n",
       "        var cell = cells[i];\n",
       "        if (cell.cell_type === 'code'){\n",
       "            for (var j=0; j<cell.output_area.outputs.length; j++) {\n",
       "                var data = cell.output_area.outputs[j];\n",
       "                if (data.data) {\n",
       "                    // IPython >= 3 moved mimebundle to data attribute of output\n",
       "                    data = data.data;\n",
       "                }\n",
       "                if (data['text/html'] == html_output) {\n",
       "                    return [cell, data, j];\n",
       "                }\n",
       "            }\n",
       "        }\n",
       "    }\n",
       "}\n",
       "\n",
       "// Register the function which deals with the matplotlib target/channel.\n",
       "// The kernel may be null if the page has been refreshed.\n",
       "if (IPython.notebook.kernel != null) {\n",
       "    IPython.notebook.kernel.comm_manager.register_target('matplotlib', mpl.mpl_figure_comm);\n",
       "}\n"
      ],
      "text/plain": [
       "<IPython.core.display.Javascript object>"
      ]
     },
     "metadata": {},
     "output_type": "display_data"
    },
    {
     "data": {
      "text/html": [
       "<img src=\"data:image/png;base64,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\" width=\"640\">"
      ],
      "text/plain": [
       "<IPython.core.display.HTML object>"
      ]
     },
     "metadata": {},
     "output_type": "display_data"
    },
    {
     "data": {
      "text/plain": [
       "[<matplotlib.lines.Line2D at 0x18fe777c550>]"
      ]
     },
     "execution_count": 130,
     "metadata": {},
     "output_type": "execute_result"
    }
   ],
   "source": [
    "%matplotlib notebook    \n",
    "import math\n",
    "\n",
    "lista_x = []  # En esta lista guardaremos los valores para los que vamos a calcular el coseno\n",
    "for i in range(-100, 101):\n",
    "    lista_x.append(i / 10)\n",
    "    pass # ESCRIBE AQUÍ una instrucción para \"añadir a lista_x el valor i / 10\"\n",
    "    \n",
    "lista_y = []  # En esta lista guardaremos los cosenos de los valores anteriores\n",
    "for x in lista_x:\n",
    "    lista_y.append(math.cos(x))\n",
    "    pass # ESCRIBE AQUÍ una instrucción para \"añadir a lista_y el valor coseno(x)\"\n",
    "    \n",
    "\n",
    "# ESCRIBE AQUÍ una instrucción para dibujar la gráfica correspondiente a las coordenadas lista_x y lista_y.\n",
    "# Elige las opciones de formato de la representación gráfica que quieras\n",
    "\n",
    "\n",
    "pyplot.plot(lista_x, lista_y, \"o\")\n"
   ]
  },
  {
   "cell_type": "markdown",
   "metadata": {},
   "source": [
    "## 8. Ficheros"
   ]
  },
  {
   "cell_type": "markdown",
   "metadata": {},
   "source": [
    "Es muy habitual trabajar con **ficheros**. Aunque los ficheros pueden contener todo tipo de datos, nosotros trabajaremos con ficheros de texto. Al igual que haces tú mismo cuando quieres trabajar con un documento en el ordenador, para trabajar con un fichero en Python primero tenemos que abrirlo; después podemos leer o escribir datos en el mismo, y finalmente hemos de cerrarlo. Aquí tienes un pequeño ejemplo que abre un fichero de texto y muestra su contenido en pantalla:\n"
   ]
  },
  {
   "cell_type": "code",
   "execution_count": 131,
   "metadata": {},
   "outputs": [
    {
     "name": "stdout",
     "output_type": "stream",
     "text": [
      "Un pequeño texto de prueba.\n",
      "\n",
      "Sólo hay dos líneas en este fichero.\n"
     ]
    }
   ],
   "source": [
    "with open(\"prueba.txt\") as f:\n",
    "    for linea in f:\n",
    "        print(linea)\n",
    "\n",
    "# El archivo se cierra automáticamente cuando acaban las instrucciones escritas dentro de la instrucción \"with\""
   ]
  },
  {
   "cell_type": "markdown",
   "metadata": {},
   "source": [
    "Si el código anterior ocasiona un error al ser ejecutado, asegúrate de que tienes el archivo *prueba.txt* en la misma carpeta desde la que estás ejecutando este notebook."
   ]
  },
  {
   "cell_type": "markdown",
   "metadata": {},
   "source": [
    "## 9. Función principal"
   ]
  },
  {
   "cell_type": "markdown",
   "metadata": {},
   "source": [
    "Cuando escribimos nuestro código en un fichero de texto con extensión \".py\", estamos definiendo un módulo. Otros programadores podrán importar nuestro módulo, y hacer uso en sus programas de las funciones que hayamos definido en el mismo, o de las variables y objetos que aparezcan definidos sin indentar.\n",
    "\n",
    "Sin embargo, algunas veces queremos que el código que hemos escrito sea ejecutado por un usuario; es decir, estamos definiendo un **programa ejecutable**. En este caso, el usuario puede ejecutar el programa con el siguiente comando, escrito desde el **terminal** o **ventana de comandos** del sistema operativo:\n",
    "\n",
    "<pre>\n",
    "python nombre_fichero.py\n",
    "</pre>\n",
    "\n",
    "Cuando un programa es ejecutable, debe existir un **punto de entrada**. Un punto de entrada es un conjunto de instrucciones que se ejecutarán cuando se lance el programa. En Python, estas instrucciones se deben escribir dentro de un bloque **if** como el que se muestra a continuación:"
   ]
  },
  {
   "cell_type": "code",
   "execution_count": 135,
   "metadata": {},
   "outputs": [
    {
     "name": "stdout",
     "output_type": "stream",
     "text": [
      "Buenos días, Antonio\n"
     ]
    }
   ],
   "source": [
    "if __name__ == '__main__':\n",
    "    # Aquí vienen las instrucciones que definen el punto de entrada del programa\n",
    "    horaActual = datetime.now() \n",
    "    saluda(\"Antonio\", horaActual.hour)\n",
    "    "
   ]
  },
  {
   "cell_type": "markdown",
   "metadata": {},
   "source": [
    "A veces, el conjunto de instrucciones que definen el punto de entrada se escribe dentro de una función, a la que se le suele dar el nombre **main**. Esto en Python no es obligatorio, aunque sí lo es en otros lenguajes de programación. Si queremos hacerlo así, entonces el programa ejecutable anterior quedaría como sigue (se muestra a continuación el programa completo, con las sentencias *import* y las definiciones de funciones necesarias):\n"
   ]
  },
  {
   "cell_type": "code",
   "execution_count": 136,
   "metadata": {},
   "outputs": [
    {
     "name": "stdout",
     "output_type": "stream",
     "text": [
      "Buenos días, Antonio\n"
     ]
    }
   ],
   "source": [
    "from datetime import datetime\n",
    "\n",
    "\n",
    "def main():\n",
    "    horaActual = datetime.now() \n",
    "    saluda(\"Antonio\", horaActual.hour)\n",
    "\n",
    "\n",
    "def saluda(nombre, hora):\n",
    "    if hora < 12:     # Si el parámetro \"hora\" es menor de 12, se ejecuta el siguiente bloque de instrucciones\n",
    "        print(\"Buenos días, \" + nombre)\n",
    "    elif hora < 21:   # En otro caso, si el parámetro \"hora\" es menor de 21, se ejecuta el siguiente bloque de instrucciones\n",
    "        print(\"Buenas tardes, \" + nombre)\n",
    "    else:           # En cualquier otro caso, se ejecuta el siguiente bloque de instrucciones\n",
    "        print(\"Buenas noches, \" + nombre)\n",
    "\n",
    "\n",
    "if __name__ == '__main__':\n",
    "    main()\n",
    " "
   ]
  },
  {
   "cell_type": "markdown",
   "metadata": {},
   "source": [
    "### ¡Prueba tú!"
   ]
  },
  {
   "cell_type": "markdown",
   "metadata": {},
   "source": [
    "Escribe el código anterior en un fichero de texto llamado \"saluda.py\", y trata de ejecutarlo desde el terminal o ventana de comandos de tu sistema operativo."
   ]
  },
  {
   "cell_type": "markdown",
   "metadata": {},
   "source": [
    "---\n",
    "\n",
    "Ya sabes lo básico para entender programas simples escritos en Python y para escribir los tuyos propios."
   ]
  }
 ],
 "metadata": {
  "anaconda-cloud": {},
  "celltoolbar": "Raw Cell Format",
  "kernelspec": {
   "display_name": "Python 3",
   "language": "python",
   "name": "python3"
  },
  "language_info": {
   "codemirror_mode": {
    "name": "ipython",
    "version": 3
   },
   "file_extension": ".py",
   "mimetype": "text/x-python",
   "name": "python",
   "nbconvert_exporter": "python",
   "pygments_lexer": "ipython3",
   "version": "3.8.3"
  },
  "nbpresent": {
   "slides": {
    "1390653e-bdb6-444a-b611-39c60ffb77a1": {
     "id": "1390653e-bdb6-444a-b611-39c60ffb77a1",
     "prev": "5c2c8cc8-3676-4c06-b94c-d3f866ade69b",
     "regions": {
      "620813b3-9326-41e6-9d30-f5ac4f858225": {
       "attrs": {
        "height": 0.8,
        "width": 0.8,
        "x": 0.1,
        "y": 0.1
       },
       "content": {
        "cell": "86423d42-e808-47e6-b1a7-e925e195f821",
        "part": "whole"
       },
       "id": "620813b3-9326-41e6-9d30-f5ac4f858225"
      }
     }
    },
    "21036f68-a492-4532-a832-b213435c0ad2": {
     "id": "21036f68-a492-4532-a832-b213435c0ad2",
     "prev": "2c1c7f11-e5ee-4a25-8975-f0b033ba739a",
     "regions": {
      "a3908958-0784-4faa-ac97-b9325abe8ede": {
       "attrs": {
        "height": 0.8,
        "width": 0.8,
        "x": 0.1,
        "y": 0.1
       },
       "content": {
        "cell": "9aa64747-dc13-4bd9-bf26-73606628ad1c",
        "part": "whole"
       },
       "id": "a3908958-0784-4faa-ac97-b9325abe8ede"
      }
     }
    },
    "2c1c7f11-e5ee-4a25-8975-f0b033ba739a": {
     "id": "2c1c7f11-e5ee-4a25-8975-f0b033ba739a",
     "prev": "f3f10f50-4cad-4149-b308-c66e6a493a72",
     "regions": {
      "9e2d820e-ec17-4915-b960-0e0d5f640379": {
       "attrs": {
        "height": 0.8,
        "width": 0.8,
        "x": 0.1,
        "y": 0.1
       },
       "content": {
        "cell": "0281a659-abae-4cb9-b30f-b552b9db399e",
        "part": "whole"
       },
       "id": "9e2d820e-ec17-4915-b960-0e0d5f640379"
      }
     }
    },
    "30509a9a-dbd8-4dbd-9fab-852a7266d894": {
     "id": "30509a9a-dbd8-4dbd-9fab-852a7266d894",
     "prev": "8b078b7a-c2c6-4129-a19f-2a4f5c4a26f3",
     "regions": {
      "7baa4379-8f84-4d8f-b002-5a5ffd051489": {
       "attrs": {
        "height": 0.8,
        "width": 0.8,
        "x": 0.1,
        "y": 0.1
       },
       "content": {
        "cell": "14d1a927-b37f-4323-9404-17d453f3b487",
        "part": "whole"
       },
       "id": "7baa4379-8f84-4d8f-b002-5a5ffd051489"
      }
     }
    },
    "42d1bd80-265e-4acf-bbc1-b202afddade3": {
     "id": "42d1bd80-265e-4acf-bbc1-b202afddade3",
     "prev": "9bfe6214-4631-45b5-a05e-8923f178bb57",
     "regions": {
      "f2340145-4108-4fed-a0bc-4b91ca6c10ae": {
       "attrs": {
        "height": 0.8,
        "width": 0.8,
        "x": 0.1,
        "y": 0.1
       },
       "content": {
        "cell": "80be6133-d85a-4e43-9964-6578abcbaaac",
        "part": "whole"
       },
       "id": "f2340145-4108-4fed-a0bc-4b91ca6c10ae"
      }
     }
    },
    "5c2c8cc8-3676-4c06-b94c-d3f866ade69b": {
     "id": "5c2c8cc8-3676-4c06-b94c-d3f866ade69b",
     "prev": "6c4bc874-f3fc-472c-a81c-cd415b91c24b",
     "regions": {
      "e1de7ab6-4ef2-4b14-92d7-b174bf32806e": {
       "attrs": {
        "height": 0.8,
        "width": 0.8,
        "x": 0.1,
        "y": 0.1
       },
       "content": {
        "cell": "ae8725fa-30f7-4d7f-a2c2-5f86953d730b",
        "part": "whole"
       },
       "id": "e1de7ab6-4ef2-4b14-92d7-b174bf32806e"
      }
     }
    },
    "5cab5674-74dc-4378-93d7-eaa79e90cdae": {
     "id": "5cab5674-74dc-4378-93d7-eaa79e90cdae",
     "prev": "ba274d18-2760-4e55-ad47-2727b824fd00",
     "regions": {
      "2178d7cf-bf1e-4850-95a2-1509f15febfa": {
       "attrs": {
        "height": 0.8,
        "width": 0.8,
        "x": 0.1,
        "y": 0.1
       },
       "content": {
        "cell": "5d433d13-f44a-45bb-91fd-406f60b33b67",
        "part": "whole"
       },
       "id": "2178d7cf-bf1e-4850-95a2-1509f15febfa"
      }
     }
    },
    "638df7e1-84d1-4fd4-a15c-c94b731d1bea": {
     "id": "638df7e1-84d1-4fd4-a15c-c94b731d1bea",
     "prev": "b9dddf99-da24-46e1-81d4-8ac33b6fc3a3",
     "regions": {
      "deba8b1f-d997-4426-8f1b-978df7f19b41": {
       "attrs": {
        "height": 0.8,
        "width": 0.8,
        "x": 0.1,
        "y": 0.1
       },
       "content": {
        "cell": "7adaaf8f-a83e-456b-b99a-d3b3d4cb6d1a",
        "part": "whole"
       },
       "id": "deba8b1f-d997-4426-8f1b-978df7f19b41"
      }
     }
    },
    "6bda9eb4-0724-4e53-9971-131d0cb5f9e2": {
     "id": "6bda9eb4-0724-4e53-9971-131d0cb5f9e2",
     "prev": "ee33e624-cd65-4b8c-b28b-c95623a56dbf",
     "regions": {
      "feffbbd2-27d1-4318-8359-7d57583ee2bc": {
       "attrs": {
        "height": 0.8,
        "width": 0.8,
        "x": 0.1,
        "y": 0.1
       },
       "content": {
        "cell": "8dce188c-36b7-41fa-9020-b5cb5502e452",
        "part": "whole"
       },
       "id": "feffbbd2-27d1-4318-8359-7d57583ee2bc"
      }
     }
    },
    "6c4bc874-f3fc-472c-a81c-cd415b91c24b": {
     "id": "6c4bc874-f3fc-472c-a81c-cd415b91c24b",
     "prev": null,
     "regions": {
      "c9eac7e8-d033-4b03-8bf7-abd58ffe8d41": {
       "attrs": {
        "height": 0.8,
        "width": 0.8,
        "x": 0.1,
        "y": 0.1
       },
       "content": {
        "cell": "71219fc3-c9cb-4700-9f0b-ab38b1b223da",
        "part": "whole"
       },
       "id": "c9eac7e8-d033-4b03-8bf7-abd58ffe8d41"
      }
     }
    },
    "6d7ab34f-9d99-4c74-9877-27b25abc73f0": {
     "id": "6d7ab34f-9d99-4c74-9877-27b25abc73f0",
     "prev": "febe7de9-9362-4079-bfe9-2d4dfddf00e2",
     "regions": {
      "2ee252de-db5f-43e7-b4b7-7f59bba29962": {
       "attrs": {
        "height": 0.8,
        "width": 0.8,
        "x": 0.1,
        "y": 0.1
       },
       "content": {
        "cell": "85d1ab90-cc65-4935-808b-a6f57ecc892e",
        "part": "whole"
       },
       "id": "2ee252de-db5f-43e7-b4b7-7f59bba29962"
      }
     }
    },
    "7ea582c3-439d-4ec2-9f27-dea18bcacc31": {
     "id": "7ea582c3-439d-4ec2-9f27-dea18bcacc31",
     "prev": "f0727a74-61a1-48c1-94a5-3e7490c29f0b",
     "regions": {
      "652960af-b61f-4c36-b122-3eacd714867b": {
       "attrs": {
        "height": 0.8,
        "width": 0.8,
        "x": 0.1,
        "y": 0.1
       },
       "content": {
        "cell": "86172e20-fe16-447d-859f-24a81e563011",
        "part": "whole"
       },
       "id": "652960af-b61f-4c36-b122-3eacd714867b"
      }
     }
    },
    "8b078b7a-c2c6-4129-a19f-2a4f5c4a26f3": {
     "id": "8b078b7a-c2c6-4129-a19f-2a4f5c4a26f3",
     "prev": "5cab5674-74dc-4378-93d7-eaa79e90cdae",
     "regions": {
      "dce1e605-9342-414d-b8c6-7dcb922fbf47": {
       "attrs": {
        "height": 0.8,
        "width": 0.8,
        "x": 0.1,
        "y": 0.1
       },
       "content": {
        "cell": "ee1bdf03-6e13-4f1f-9dc9-22d4e344fdba",
        "part": "whole"
       },
       "id": "dce1e605-9342-414d-b8c6-7dcb922fbf47"
      }
     }
    },
    "999513ad-b53e-4d84-b9ef-ed37967f74d6": {
     "id": "999513ad-b53e-4d84-b9ef-ed37967f74d6",
     "prev": "638df7e1-84d1-4fd4-a15c-c94b731d1bea",
     "regions": {
      "2e85c1b2-3c30-413e-9b0f-141281da3a2a": {
       "attrs": {
        "height": 0.8,
        "width": 0.8,
        "x": 0.1,
        "y": 0.1
       },
       "content": {
        "cell": "998dc7f5-ab6d-4fb8-866f-4fa96a06aaaa",
        "part": "whole"
       },
       "id": "2e85c1b2-3c30-413e-9b0f-141281da3a2a"
      }
     }
    },
    "9add3d79-8621-4167-8e1d-d4ae48fba71b": {
     "id": "9add3d79-8621-4167-8e1d-d4ae48fba71b",
     "prev": "7ea582c3-439d-4ec2-9f27-dea18bcacc31",
     "regions": {
      "d5f4537e-4d8c-4179-b14b-6c475f50b04e": {
       "attrs": {
        "height": 0.8,
        "width": 0.8,
        "x": 0.1,
        "y": 0.1
       },
       "content": {
        "cell": "9659b1c1-9aed-4d71-b830-4a60d408ad71",
        "part": "whole"
       },
       "id": "d5f4537e-4d8c-4179-b14b-6c475f50b04e"
      }
     }
    },
    "9bfe6214-4631-45b5-a05e-8923f178bb57": {
     "id": "9bfe6214-4631-45b5-a05e-8923f178bb57",
     "prev": "30509a9a-dbd8-4dbd-9fab-852a7266d894",
     "regions": {
      "aac53254-d149-49f2-8f92-670c6f2714bb": {
       "attrs": {
        "height": 0.8,
        "width": 0.8,
        "x": 0.1,
        "y": 0.1
       },
       "content": {
        "cell": "c71a78d7-9d0e-4825-9c84-9998f971317d",
        "part": "whole"
       },
       "id": "aac53254-d149-49f2-8f92-670c6f2714bb"
      }
     }
    },
    "b9dddf99-da24-46e1-81d4-8ac33b6fc3a3": {
     "id": "b9dddf99-da24-46e1-81d4-8ac33b6fc3a3",
     "prev": "1390653e-bdb6-444a-b611-39c60ffb77a1",
     "regions": {
      "0b31dbb4-f15b-4a16-9420-c5dc8ed4e871": {
       "attrs": {
        "height": 0.8,
        "width": 0.8,
        "x": 0.1,
        "y": 0.1
       },
       "content": {
        "cell": "d0569bb0-fad8-48b7-8d48-0066bfb90401",
        "part": "whole"
       },
       "id": "0b31dbb4-f15b-4a16-9420-c5dc8ed4e871"
      }
     }
    },
    "ba274d18-2760-4e55-ad47-2727b824fd00": {
     "id": "ba274d18-2760-4e55-ad47-2727b824fd00",
     "prev": "ed47079d-58cf-4b87-a9fa-a709d8a7c3c6",
     "regions": {
      "13000b51-bd66-4fb5-970b-20bfad440880": {
       "attrs": {
        "height": 0.8,
        "width": 0.8,
        "x": 0.1,
        "y": 0.1
       },
       "content": {
        "cell": "f6847886-4044-43a7-9edd-f18efddcb7a9",
        "part": "whole"
       },
       "id": "13000b51-bd66-4fb5-970b-20bfad440880"
      }
     }
    },
    "ed47079d-58cf-4b87-a9fa-a709d8a7c3c6": {
     "id": "ed47079d-58cf-4b87-a9fa-a709d8a7c3c6",
     "prev": "9add3d79-8621-4167-8e1d-d4ae48fba71b",
     "regions": {
      "a96aea94-1714-4020-83f9-dbc03e9fd55e": {
       "attrs": {
        "height": 0.8,
        "width": 0.8,
        "x": 0.1,
        "y": 0.1
       },
       "content": {
        "cell": "5a579720-fa62-4525-85e3-dd049cbd73be",
        "part": "whole"
       },
       "id": "a96aea94-1714-4020-83f9-dbc03e9fd55e"
      }
     }
    },
    "ee33e624-cd65-4b8c-b28b-c95623a56dbf": {
     "id": "ee33e624-cd65-4b8c-b28b-c95623a56dbf",
     "prev": "999513ad-b53e-4d84-b9ef-ed37967f74d6",
     "regions": {
      "325ae98d-0855-4d16-8408-6d12f47efa24": {
       "attrs": {
        "height": 0.8,
        "width": 0.8,
        "x": 0.1,
        "y": 0.1
       },
       "content": {
        "cell": "829150e0-712b-4739-92d6-37b9c3d789cb",
        "part": "whole"
       },
       "id": "325ae98d-0855-4d16-8408-6d12f47efa24"
      }
     }
    },
    "f0727a74-61a1-48c1-94a5-3e7490c29f0b": {
     "id": "f0727a74-61a1-48c1-94a5-3e7490c29f0b",
     "prev": "6d7ab34f-9d99-4c74-9877-27b25abc73f0",
     "regions": {
      "1666081e-448d-4f80-90f2-9f26f1568cdc": {
       "attrs": {
        "height": 0.8,
        "width": 0.8,
        "x": 0.1,
        "y": 0.1
       },
       "content": {
        "cell": "d99a804c-9444-418b-bc94-3c2f064e2844",
        "part": "whole"
       },
       "id": "1666081e-448d-4f80-90f2-9f26f1568cdc"
      }
     }
    },
    "f3f10f50-4cad-4149-b308-c66e6a493a72": {
     "id": "f3f10f50-4cad-4149-b308-c66e6a493a72",
     "prev": "42d1bd80-265e-4acf-bbc1-b202afddade3",
     "regions": {
      "4fc1185f-bdb8-46fc-99bd-b8d30defeca9": {
       "attrs": {
        "height": 0.8,
        "width": 0.8,
        "x": 0.1,
        "y": 0.1
       },
       "content": {
        "cell": "9b7597e9-aaa9-4d9f-ba0d-22f43d1a3900",
        "part": "whole"
       },
       "id": "4fc1185f-bdb8-46fc-99bd-b8d30defeca9"
      }
     }
    },
    "febe7de9-9362-4079-bfe9-2d4dfddf00e2": {
     "id": "febe7de9-9362-4079-bfe9-2d4dfddf00e2",
     "prev": "6bda9eb4-0724-4e53-9971-131d0cb5f9e2",
     "regions": {
      "42348103-1cd6-4bac-b346-33cd41aea444": {
       "attrs": {
        "height": 0.8,
        "width": 0.8,
        "x": 0.1,
        "y": 0.1
       },
       "content": {
        "cell": "35a148d4-f201-4441-bf5e-8a07f93dea84",
        "part": "whole"
       },
       "id": "42348103-1cd6-4bac-b346-33cd41aea444"
      }
     }
    }
   },
   "themes": {}
  }
 },
 "nbformat": 4,
 "nbformat_minor": 1
}
