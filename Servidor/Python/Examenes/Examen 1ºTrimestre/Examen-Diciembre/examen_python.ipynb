{
 "cells": [
  {
   "cell_type": "markdown",
   "metadata": {},
   "source": [
    "# Examen Python \n",
    "**Fecha**: 9 de Diciembre 2020  **I.E.S. Velázquez:** Curso 2020-2021\n",
    "**Alumno**: Óscar Carballar Bocanegra"
   ]
  },
  {
   "cell_type": "markdown",
   "metadata": {},
   "source": [
    "## Índice de ejercicios\n",
    "* [Ejercicio 1](#ejercicio_uno)\n",
    "* [Ejercicio 2](#ejercicio_dos)\n",
    "* [Ejercicio 3](#ejercicio_tres)\n",
    "* [Ejercicio 4](#ejercicio_cuatro)\n",
    "* [Ejercicio 5](#ejercicio_cinco)\n",
    "* [Ejercicio 6](#ejercicio_seis)\n",
    "* [Ejercicio 7](#ejercicio_siete)\n",
    "* [Ejercicio 8](#ejercicio_ocho)"
   ]
  },
  {
   "cell_type": "markdown",
   "metadata": {},
   "source": [
    "## Ejercicio 1 <a name=\"ejercicio_uno\"/>"
   ]
  },
  {
   "cell_type": "markdown",
   "metadata": {},
   "source": [
    "Escribe una función que recibe un **conjunto de números enteros aleatorios** y devuelve **dos listas ordenadas**. La primera lista ordenada contiene los números pares y la segunda los números impares.\n",
    "\n",
    "El conjunto estará formado como máximo por 100 números enteros aleatorios comprendidos entre el 1 y 999.\n"
   ]
  },
  {
   "cell_type": "markdown",
   "metadata": {},
   "source": [
    "### ¡Prueba tú!"
   ]
  },
  {
   "cell_type": "code",
   "execution_count": 33,
   "metadata": {},
   "outputs": [
    {
     "name": "stdout",
     "output_type": "stream",
     "text": [
      "[5, 13, 15, 19, 21, 23, 25, 27, 33, 35, 45, 47, 51, 53, 55, 57, 67, 69, 71, 73, 77, 79, 83, 85, 89, 91, 97, 99, 101, 103, 105, 113, 117, 125, 129, 131, 135, 141, 143, 147, 149, 151, 153, 155, 159, 163, 165, 167, 171, 173, 177, 181, 183, 185, 191, 193, 199, 203, 205, 207, 209, 211, 213, 215, 217, 235, 237, 239, 241, 245, 247, 249, 253, 257, 259, 261, 263, 265, 269, 271, 277, 279, 281, 283, 285, 289, 293, 295, 307, 309, 311, 323, 335, 337, 339, 341, 343, 347, 349, 353, 357, 361, 363, 367, 369, 371, 373, 377, 381, 395, 397, 399, 401, 403, 407, 411, 417, 421, 423, 425, 427, 433, 439, 441, 443, 445, 447, 453, 455, 461, 463, 467, 469, 471, 475, 477, 479, 481, 483, 485, 487, 489, 491, 497, 499, 501, 503, 505, 507, 509, 511, 513, 515, 519, 523, 525, 531, 535, 539, 541, 545, 547, 549, 555, 557, 561, 563, 567, 569, 571, 573, 575, 577, 583, 585, 587, 589, 591, 593, 603, 607, 609, 615, 617, 621, 629, 637, 639, 641, 645, 647, 651, 653, 655, 657, 659, 661, 667, 671, 677, 679, 681, 683, 685, 689, 695, 697, 699, 701, 703, 705, 711, 715, 717, 719, 721, 729, 731, 741, 745, 751, 757, 761, 763, 765, 767, 769, 771, 773, 775, 777, 783, 785, 787, 789, 795, 797, 801, 803, 805, 807, 809, 811, 815, 817, 819, 823, 825, 827, 833, 835, 839, 841, 843, 845, 847, 851, 853, 855, 857, 861, 867, 871, 873, 875, 877, 881, 883, 885, 887, 889, 891, 897, 899, 903, 907, 911, 913, 917, 919, 923, 927, 929, 931, 933, 937, 941, 943, 945, 947, 951, 953, 959, 963, 965, 967, 969, 973, 975, 977, 979, 983, 985, 989, 991, 993, 995, 997]\n"
     ]
    }
   ],
   "source": [
    "#importación de la librería random\n",
    "import random\n",
    "# randrange devuelve un número aleatorio en un rango\n",
    "num_ale = 0;\n",
    "\n",
    "for i in range(1,100):\n",
    "    conjunto.add(random.randrange(1,999))\n",
    "\n",
    "def separarConjunto(conjunto):\n",
    "    par = []\n",
    "    impar = []\n",
    "    for i in conjunto:\n",
    "        if(i%2):\n",
    "            impar.append(i)\n",
    "        else:\n",
    "            par.append(i)\n",
    "    return par,impar\n",
    "\n",
    "print (separarConjunto(conjunto))"
   ]
  },
  {
   "cell_type": "markdown",
   "metadata": {},
   "source": [
    "<hr>"
   ]
  },
  {
   "cell_type": "markdown",
   "metadata": {},
   "source": [
    "## Ejercicio 2 <a name=\"ejercicio_dos\"/>"
   ]
  },
  {
   "cell_type": "markdown",
   "metadata": {},
   "source": [
    "Escribe un programa que genere una lista, de la forma más eficiente, con los números del 1 al 10 y los muestre por pantalla en orden inverso separados por comas."
   ]
  },
  {
   "cell_type": "markdown",
   "metadata": {},
   "source": [
    "## ¡Prueba tú!"
   ]
  },
  {
   "cell_type": "code",
   "execution_count": 1,
   "metadata": {},
   "outputs": [
    {
     "name": "stdout",
     "output_type": "stream",
     "text": [
      "[10, 9, 8, 7, 6, 5, 4, 3, 2, 1]\n"
     ]
    }
   ],
   "source": [
    "print (list(range(1,11))[::-1])"
   ]
  },
  {
   "cell_type": "markdown",
   "metadata": {},
   "source": [
    "<hr>"
   ]
  },
  {
   "cell_type": "markdown",
   "metadata": {},
   "source": [
    "## Ejercicio 3 <a name=\"ejercicio_tres\"/>"
   ]
  },
  {
   "cell_type": "markdown",
   "metadata": {},
   "source": [
    "Obtener múltiplos de \"tres\" y \"nueve\".\n",
    "\n",
    "Construye una lista de tuplas en el que cada tupla es de la forma (número con tres dígitos, mayor divisor entre tres y nueve) En las lista sólo se deben incluir los números desde el 1 hasta el 900 que sean múltiplos de tres o de nueve. \n",
    "[('003',\"tres\"), ('006',\"tres\"), ('009',\"nueve\"), ('012', \"tres\"), ('015', \"tres\"), ('018',\"nueve\"),....('900',\"nueve\")]\n",
    "\n",
    "Obtén mediante slicing las tuplas (número con tres dígitos, mayor divisor entre tres y nueve) de los 10 primeros números que acaben en número par (0,2,4,6 o 8) que sean múltiplos de 3 o de 9.<br>\n",
    "Obtén mediante slicing las tuplas (número con tres dígitos, mayor divisor entre tres y nueve) de los últimos 7 números multiplos de tres o de nueve que acaben en cero.<br>\n",
    "Obtén mediante slicing las tuplas (número con tres dígitos, mayor divisor entre tres y nueve) de todos los múltiplos de nueve."
   ]
  },
  {
   "cell_type": "markdown",
   "metadata": {},
   "source": [
    "## ¡Prueba tú!"
   ]
  },
  {
   "cell_type": "code",
   "execution_count": 12,
   "metadata": {},
   "outputs": [
    {
     "name": "stdout",
     "output_type": "stream",
     "text": [
      "[('006', 'tres'), ('012', 'tres'), ('018', 'nueve'), ('024', 'tres'), ('030', 'tres'), ('036', 'nueve'), ('042', 'tres'), ('048', 'tres'), ('054', 'nueve'), ('060', 'tres'), ('066', 'tres'), ('072', 'nueve'), ('078', 'tres'), ('084', 'tres'), ('090', 'nueve')]\n",
      "______________________________________________________________________________________________________________\n",
      "[('240', 'tres'), ('270', 'nueve'), ('300', 'tres'), ('330', 'tres'), ('360', 'nueve'), ('390', 'tres'), ('420', 'tres'), ('450', 'nueve'), ('480', 'tres'), ('510', 'tres'), ('540', 'nueve'), ('570', 'tres'), ('600', 'tres'), ('630', 'nueve'), ('660', 'tres'), ('690', 'tres'), ('720', 'nueve'), ('750', 'tres'), ('780', 'tres'), ('810', 'nueve'), ('840', 'tres'), ('870', 'tres'), ('900', 'nueve')]\n",
      "______________________________________________________________________________________________________________\n",
      "[('009', 'nueve'), ('018', 'nueve'), ('027', 'nueve'), ('036', 'nueve'), ('045', 'nueve'), ('054', 'nueve'), ('063', 'nueve'), ('072', 'nueve'), ('081', 'nueve'), ('090', 'nueve'), ('099', 'nueve'), ('108', 'nueve'), ('117', 'nueve'), ('126', 'nueve'), ('135', 'nueve'), ('144', 'nueve'), ('153', 'nueve'), ('162', 'nueve'), ('171', 'nueve'), ('180', 'nueve'), ('189', 'nueve'), ('198', 'nueve'), ('207', 'nueve'), ('216', 'nueve'), ('225', 'nueve'), ('234', 'nueve'), ('243', 'nueve'), ('252', 'nueve'), ('261', 'nueve'), ('270', 'nueve'), ('279', 'nueve'), ('288', 'nueve'), ('297', 'nueve'), ('306', 'nueve'), ('315', 'nueve'), ('324', 'nueve'), ('333', 'nueve'), ('342', 'nueve'), ('351', 'nueve'), ('360', 'nueve'), ('369', 'nueve'), ('378', 'nueve'), ('387', 'nueve'), ('396', 'nueve'), ('405', 'nueve'), ('414', 'nueve'), ('423', 'nueve'), ('432', 'nueve'), ('441', 'nueve'), ('450', 'nueve'), ('459', 'nueve'), ('468', 'nueve'), ('477', 'nueve'), ('486', 'nueve'), ('495', 'nueve'), ('504', 'nueve'), ('513', 'nueve'), ('522', 'nueve'), ('531', 'nueve'), ('540', 'nueve'), ('549', 'nueve'), ('558', 'nueve'), ('567', 'nueve'), ('576', 'nueve'), ('585', 'nueve'), ('594', 'nueve'), ('603', 'nueve'), ('612', 'nueve'), ('621', 'nueve'), ('630', 'nueve'), ('639', 'nueve'), ('648', 'nueve'), ('657', 'nueve'), ('666', 'nueve'), ('675', 'nueve'), ('684', 'nueve'), ('693', 'nueve'), ('702', 'nueve'), ('711', 'nueve'), ('720', 'nueve'), ('729', 'nueve'), ('738', 'nueve'), ('747', 'nueve'), ('756', 'nueve'), ('765', 'nueve'), ('774', 'nueve'), ('783', 'nueve'), ('792', 'nueve'), ('801', 'nueve'), ('810', 'nueve'), ('819', 'nueve'), ('828', 'nueve'), ('837', 'nueve'), ('846', 'nueve'), ('855', 'nueve'), ('864', 'nueve'), ('873', 'nueve'), ('882', 'nueve'), ('891', 'nueve'), ('900', 'nueve')]\n"
     ]
    }
   ],
   "source": [
    "num_escr = (\"tres\",\"nueve\")\n",
    "numer = []\n",
    "for i in range(3,901):\n",
    "    if(i%9==0):\n",
    "        numer.append((\"{0:03d}\".format(i),num_escr[i%9+1]))\n",
    "    elif(i%3==0):\n",
    "         numer.append((\"{0:03d}\".format(i),num_escr[i%3]))\n",
    "print(numer[1::2][:15])\n",
    "print(\"______________________________________________________________________________________________________________\")\n",
    "print(numer[9::10][7:])\n",
    "print(\"______________________________________________________________________________________________________________\")\n",
    "print(numer[2::3])\n",
    "    "
   ]
  },
  {
   "cell_type": "markdown",
   "metadata": {},
   "source": [
    "<hr>"
   ]
  },
  {
   "cell_type": "markdown",
   "metadata": {},
   "source": [
    "## Ejercicio 4 <a name=\"ejercicio_cuatro\"/>"
   ]
  },
  {
   "cell_type": "markdown",
   "metadata": {},
   "source": [
    "Escribe un programa que simule un juego de dados entre dos jugadores (Juan y Ana). Cada jugador lanza dos dados. Si no coincide ningún dado, gana Juan. Si coincide uno de los dados, gana Ana. Si coinciden los dos dados, empatan.\n",
    "\n",
    "Ejemplos<br>\n",
    "JUEGO DE DADOS<br>\n",
    "Juan ha sacado 3 y 5.<br>\n",
    "Ana ha sacado 1 y 3.<br>\n",
    "Ha ganado Ana.<br>\n",
    "\n",
    "JUEGO DE DADOS<br>\n",
    "Juan ha sacado 5 y 3,<br>\n",
    "Ana ha sacado 6 y 1.<br>\n",
    "Ha ganado Juan.<br>\n",
    "\n",
    "JUEGO DE DADOS<br>\n",
    "Juan ha sacado 3 y 3.<br>\n",
    "Ana ha sacado 3 y 1.<br>\n",
    "Ha ganado Ana.<br>\n",
    "\n",
    "JUEGO DE DADOS<br>\n",
    "Juan ha sacado 5 y 2.<br>\n",
    "Ana ha sacado 2 y 5.<br>\n",
    "Han empatado.<br>"
   ]
  },
  {
   "cell_type": "markdown",
   "metadata": {},
   "source": [
    "### ¡Prueba tú!\n"
   ]
  },
  {
   "cell_type": "code",
   "execution_count": 67,
   "metadata": {},
   "outputs": [
    {
     "name": "stdout",
     "output_type": "stream",
     "text": [
      "JUEGO DE DADOS\n",
      "Juan ha sacado 2 y 2\n",
      "Ana ha sacado 1 y 1\n",
      "Han empatado\n"
     ]
    }
   ],
   "source": [
    "#importación de la librería random\n",
    "import random\n",
    "# randrange devuelve un número aleatorio en un rango\n",
    "conjunto = set()\n",
    "\n",
    "print (\"JUEGO DE DADOS\")\n",
    "\n",
    "dados_juan = [random.randrange(1,7),random.randrange(1,7)]\n",
    "dados_ana = [random.randrange(1,7),random.randrange(1,7)]\n",
    "print (\"Juan ha sacado\" ,dados_juan[0] , \"y\" , dados_juan[1])\n",
    "print (\"Ana ha sacado\" ,dados_ana[0] , \"y\" , dados_ana[1])\n",
    "\n",
    "dados_juan.append(dados_ana[0])\n",
    "dados_juan.append(dados_ana[1])\n",
    "conjunto=set(dados_juan)\n",
    "if(len(conjunto)==4):\n",
    "    print (\"Ha ganado Juan\")\n",
    "elif(len(conjunto)==3):\n",
    "        print (\"Ha ganado Ana\")\n",
    "else:print(\"Han empatado\")\n"
   ]
  },
  {
   "cell_type": "markdown",
   "metadata": {},
   "source": [
    "<hr>"
   ]
  },
  {
   "cell_type": "markdown",
   "metadata": {},
   "source": [
    "## Ejercicio 5 <a name=\"ejercicio_cinco\"/>"
   ]
  },
  {
   "cell_type": "markdown",
   "metadata": {},
   "source": [
    "Escribe un programa que permita encriptar un texto que sólo contenga letras y espacios. La regla seguida para la encriptación es que a cada letra del abecedario independientemente de que esté en minúscula o mayúscula le corresponde un número cardinal empezando en el 1. Al espacio en blanco le corresponde el 0. \n",
    "\n",
    "Tras la encriptación de una letra irá un guión medio salvo que sea la última letra, que no irá nada. El texto encriptado se tendrá que guardar en un fichero txt, con encoding utf-8, con el nombre **ejercicio5.txt**\n",
    "\n",
    "Correspondencia de letras y números:\n",
    "\n",
    "* Al espacio \" \" le corresponde el 0.\n",
    "* A la letra \"A\" le corresponde el 1.\n",
    "* A la letra \"B\" le corresponde el 2.\n",
    "* A la letra \"C\" le corresponde el 3.\n",
    "* ....\n",
    "* A la letra \"Y\" le corresponde el 26.\n",
    "* A la letra \"Z\" le corresponde el 27.\n",
    "\n",
    "\n",
    "Utilizar el siguiente texto para probar el programa\n",
    "\"_Este año mi amigo Juan cursa un ciclo superior_\"\n"
   ]
  },
  {
   "cell_type": "markdown",
   "metadata": {},
   "source": [
    "### ¡Prueba tú!"
   ]
  },
  {
   "cell_type": "code",
   "execution_count": 246,
   "metadata": {},
   "outputs": [],
   "source": [
    "texto =\"Este año mi amigo Juan cursa un ciclo superior\"\n",
    "abc = \" ABCDEFGHIJKLMNÑOPQRSTUVWXYZ\"\n",
    "encrypt = {abc[i]: i for i in range(0,28)}\n",
    "texto_encrypt =[]\n",
    "for i in texto.upper():\n",
    "    texto_encrypt.append(encrypt[i])\n",
    "with open('./ejercicio5.txt', mode='w', encoding='utf-8') as f:\n",
    "    for i in texto_encrypt:\n",
    "        f.write(str(i)+\"-\")"
   ]
  },
  {
   "cell_type": "markdown",
   "metadata": {},
   "source": [
    "<hr>"
   ]
  },
  {
   "cell_type": "markdown",
   "metadata": {},
   "source": [
    "# Ejercicio 6 <a name=\"ejercicio_seis\"/>"
   ]
  },
  {
   "cell_type": "markdown",
   "metadata": {},
   "source": [
    "Escribe un programa que lea el contenido del fichero \"fichero6.txt\" y cree un diccionario con todas las palabras que aparecen en él. Si una palabra aparece más de una vez, aunque esté en mayúscula y en minúscula, sólo se debe incorporar al diccionario en una ocasión salvo que la misma palabra esté acentuada y sin acentuar en cuyo caso sí debe aparecer dos veces (Ejemplo \"que\" y \"qué\").\n",
    "\n",
    "El diccionario tiene que estar ordenado alfabéticamente tanto por las letras, claves del diccionario, como por los valores, lista asociada a cada letra.\n",
    "\n",
    "**NOTA**: En una ordenación alfabética en Python las letras acentuadas **á,é,í,ó,ú** y la **ñ** van tras la **z**. (Ejemplo \n",
    "'variada', 'viene', 'válidas')\n",
    "\n",
    "Para el contenido del fichero anterior, fichero6.txt, el resultado debe ser:\n",
    "\n",
    "\n",
    "{'a': ['a', 'acciones', 'al', 'alfabeto', 'algoritmos', 'almacenados', 'aplicando', 'artificial'], 'b': ['bajo', 'bien', 'básicamente'], 'c': ['capacidad', 'característica', 'caso', 'circunstancias', 'clases', 'codificación', 'colaborativa', 'comandos', 'como', 'compilación', 'comportamiento', 'comprendidas', 'computadora', 'común', 'con', 'conjunto', 'construcción', 'contenido', 'controlar', 'convertirlo', 'crear', 'código', 'cómo'], 'd': ['datos', 'de', 'debe', 'deben', 'define', 'definen', 'definidas', 'del', 'denomina', 'depuración', 'desarrollo', 'determinadas', 'dicho', 'dichos', 'diversas', 'documentación', 'documentos'], 'e': ['ejecutar', 'ejemplo', 'el', 'ellos', 'empleando', 'en', 'engloban', 'entre', 'error', 'es', 'escribir', 'escritos', 'escritura', 'especificar', 'específico', 'estar', 'este', 'esto', 'estructurar', 'estructuras', 'están', 'existe'], 'f': ['fiable', 'fin', 'forma', 'formados', 'formal', 'fuente', 'físico'], 'g': ['gama', 'gramaticales'], 'h': ['hasta', 'html', 'humano'], 'i': ['informático', 'informáticos', 'instrucciones', 'intenta', 'interpretación'], 'l': ['la', 'las', 'le', 'lenguaje', 'lenguajes', 'llamado', 'los', 'lógica', 'lógicamente', 'lógico'], 'm': ['manera', 'mantenimiento', 'marcado', 'mediante', 'máquina', 'más'], 'n': ['natural', 'no'], 'o': ['o', 'obtener', 'operar', 'otros'], 'p': ['para', 'particular', 'pasos', 'permite', 'permiten', 'persona', 'por', 'precisa', 'precisamente', 'problema', 'proceso', 'programa', 'programación', 'programador', 'programar', 'propiamente', 'proporciona', 'prueba', 'próximo', 'pueda', 'puedan', 'páginas'], 'q': ['que', 'qué'], 'r': ['realizar', 'reglas', 'relativamente', 'relevante', 'resolver'], 's': ['se', 'sean', 'secuencias', 'semánticas', 'ser', 'serie', 'significado', 'siguientes', 'sino', 'sinónimos', 'sobre', 'software', 'su', 'símbolos'], 't': ['tareas', 'todo', 'tomar', 'transmitidos', 'tratar', 'través', 'términos'], 'u': ['un', 'una', 'usar'], 'v': ['variada', 'viene', 'válidas'], 'w': ['web'], 'y': ['y']}"
   ]
  },
  {
   "cell_type": "markdown",
   "metadata": {},
   "source": [
    "### ¡Prueba tú!"
   ]
  },
  {
   "cell_type": "code",
   "execution_count": 71,
   "metadata": {},
   "outputs": [
    {
     "name": "stdout",
     "output_type": "stream",
     "text": [
      "['E', 'I', 'V', 'U', 'Q', 'F', 'Ñ', 'S', 'G', 'M', 'O', 'K', 'T', 'X', 'N', 'Z', 'H', 'B', 'R', 'D', ' ', 'A', 'P', 'W', 'C', 'L', 'J', 'Y']\n"
     ]
    },
    {
     "ename": "TypeError",
     "evalue": "unhashable type: 'list'",
     "output_type": "error",
     "traceback": [
      "\u001b[1;31m---------------------------------------------------------------------------\u001b[0m",
      "\u001b[1;31mTypeError\u001b[0m                                 Traceback (most recent call last)",
      "\u001b[1;32m<ipython-input-71-2d03aabf19d5>\u001b[0m in \u001b[0;36m<module>\u001b[1;34m\u001b[0m\n\u001b[0;32m      8\u001b[0m     \u001b[0miniciales\u001b[0m \u001b[1;33m=\u001b[0m \u001b[0mlist\u001b[0m\u001b[1;33m(\u001b[0m\u001b[0miniciales\u001b[0m\u001b[1;33m)\u001b[0m\u001b[1;33m\u001b[0m\u001b[1;33m\u001b[0m\u001b[0m\n\u001b[0;32m      9\u001b[0m     \u001b[0mprint\u001b[0m\u001b[1;33m(\u001b[0m\u001b[0miniciales\u001b[0m\u001b[1;33m)\u001b[0m\u001b[1;33m\u001b[0m\u001b[1;33m\u001b[0m\u001b[0m\n\u001b[1;32m---> 10\u001b[1;33m     palabras_por_iniciales = {iniciales: [palabra for palabra in abc.split() \n\u001b[0m\u001b[0;32m     11\u001b[0m                                     if palabra[0]==inicial]\n\u001b[0;32m     12\u001b[0m                           for inicial in sorted(iniciales)}\n",
      "\u001b[1;32m<ipython-input-71-2d03aabf19d5>\u001b[0m in \u001b[0;36m<dictcomp>\u001b[1;34m(.0)\u001b[0m\n\u001b[0;32m      8\u001b[0m     \u001b[0miniciales\u001b[0m \u001b[1;33m=\u001b[0m \u001b[0mlist\u001b[0m\u001b[1;33m(\u001b[0m\u001b[0miniciales\u001b[0m\u001b[1;33m)\u001b[0m\u001b[1;33m\u001b[0m\u001b[1;33m\u001b[0m\u001b[0m\n\u001b[0;32m      9\u001b[0m     \u001b[0mprint\u001b[0m\u001b[1;33m(\u001b[0m\u001b[0miniciales\u001b[0m\u001b[1;33m)\u001b[0m\u001b[1;33m\u001b[0m\u001b[1;33m\u001b[0m\u001b[0m\n\u001b[1;32m---> 10\u001b[1;33m     palabras_por_iniciales = {iniciales: [palabra for palabra in abc.split() \n\u001b[0m\u001b[0;32m     11\u001b[0m                                     if palabra[0]==inicial]\n\u001b[0;32m     12\u001b[0m                           for inicial in sorted(iniciales)}\n",
      "\u001b[1;31mTypeError\u001b[0m: unhashable type: 'list'"
     ]
    }
   ],
   "source": [
    "with open('./ejercicio6.txt', encoding='utf-8') as f:\n",
    "    contenido = f.read()\n",
    "    iniciales = []\n",
    "    abc = \" ABCDEFGHIJKLMNÑOPQRSTUVWXYZ\"\n",
    "    for palabra in abc:\n",
    "        iniciales.append(palabra[0])\n",
    "    iniciales =set(iniciales)\n",
    "    iniciales = list(iniciales)\n",
    "    print(iniciales)\n",
    "    palabras_por_iniciales = {iniciales: [palabra for palabra in abc.split() \n",
    "                                    if palabra[0]==inicial]\n",
    "                          for inicial in sorted(iniciales)}\n",
    "    print (palabras_por_iniciales)"
   ]
  },
  {
   "cell_type": "markdown",
   "metadata": {},
   "source": [
    "<hr>"
   ]
  },
  {
   "cell_type": "markdown",
   "metadata": {},
   "source": [
    "# Ejercicio 7 <a name=\"ejercicio_siete\"/>"
   ]
  },
  {
   "cell_type": "markdown",
   "metadata": {},
   "source": [
    "Escribe una función con nombre **obtenerInfo** que reciba dos parámetros:\n",
    "* El primer parámetro es una cadena de texto con valor por defecto a cadena vacía que recibe una dirección que no tiene que estar completa.\n",
    "* Un segundo parámetro que es un booleano con valor por defecto a **False** que indica si queremos o no información detallada.\n",
    "\n",
    "La función debe devolver:\n",
    "<ul>\n",
    "    <li>En el caso de que la información detalla sea <b>False</b> un diccionario con la siguiente información:</li>\n",
    "    <ul>\n",
    "        <li>Dirección recibida en la función y de la que se desea obtener información.</li>\n",
    "        <li>El número total de bicicletas cuya dirección contiene la cadena recibida.</li>\n",
    "        <li>El número total de bicicletas libres cuya dirección contiene la cadena recibida.</li>\n",
    "    </ul>\n",
    "    <li>En el caso de que la información detalla sea <b>True</b> una lista de diccionarios:</li>\n",
    "        En cada elemento de la lista debe ir un diccionario con:\n",
    "        <ul>\n",
    "            <li>Dirección dentro del fichero json que cumple con la dirección recibida.</li>\n",
    "            <li>El número total de bicicletas para esa dirección.</li>\n",
    "            <li>El número total de bicicletas libres para esa dirección.</li>\n",
    "        </ul>\n",
    "\n",
    "\n",
    "</ul>\n",
    "\n",
    "La información sobre las direcciones y las bicicletas se puede consultar en el fichero **sevici.json** que debe ser cargado en la función.\n",
    "\n",
    "Dentro del fichero json la información necesaria se encuentra en las siguientes claves:\n",
    "* 'address': Dirección de la estación\n",
    "* 'slots': Número de bicicletas\n",
    "* 'free_bikes': Bicicletas libres\n",
    "\n",
    "**Ejemplos**<br>\n",
    "Para la siguiente llamada a la función  <b>obtenerInfo(\"REINA MERCEDES\")</b> se obtiene<br>\n",
    "[{'Direccion': 'REINA MERCEDES', 'Total': 122, 'Libres': 25}]\n",
    "\n",
    "Para la siguiente llamada a la función  <b>obtenerInfo(\"REINA MERCEDES\", True)</b> se obtiene<br>\n",
    "[{'Direccion': 'AVENIDA REINA MERCEDES - Aprox. Facultad de Informática', 'Total': 25, 'Libres': 17}, {'Direccion': 'AVENIDA REINA MERCEDES - Aprox. Escuela de arquitectura', 'Total': 27, 'Libres': 1}, {'Direccion': 'AVENIDA REINA MERCEDES - Aprox. C/ Profesor García González', 'Total ': 20, 'Libres': 2}, {'Direccion': 'AVENIDA REINA MERCEDES - Aprox. Glorieta Alcalde de Parias Merry', 'Total': 30, 'Libres': 0}, {'Direccion': 'AVENIDA REINA MERCEDES - Aprox. C/ Profesor García González', 'Total': 20, 'Libres': 5}]"
   ]
  },
  {
   "cell_type": "markdown",
   "metadata": {},
   "source": [
    "### ¡Prueba tú!"
   ]
  },
  {
   "cell_type": "code",
   "execution_count": null,
   "metadata": {},
   "outputs": [],
   "source": [
    "import json\n"
   ]
  },
  {
   "cell_type": "markdown",
   "metadata": {},
   "source": [
    "<hr>"
   ]
  },
  {
   "cell_type": "markdown",
   "metadata": {},
   "source": [
    "## Ejercicio 8 <a name=\"ejercicio_ocho\"/>"
   ]
  },
  {
   "cell_type": "markdown",
   "metadata": {},
   "source": [
    "Escribe una función **realizarOperacion** que recibe dos números enteros introducidos por el usuario y la operación a realizar.\n",
    "\n",
    "La operación a realizar también es un número entero que introduce el usuario entre los siguientes posibles valores:\n",
    "<ul>\n",
    "    <li>1 - SUMA</li>\n",
    "    <li>2 - RESTA</li>\n",
    "    <li>3 - MULTIPLICACIÓN</li>\n",
    "    <li>4 - DIVISIÓN</li>\n",
    "</ul>\n",
    "\n",
    "\n",
    "Capturar la excepción si el usuario no introduce un número entero o una operación válida y no terminar el programa hasta que se hayan introducido valores válidos.\n",
    " \n",
    "Capturar también la excepción en la función **realizarOperacion** en el caso de que la operación a realizar sea la de  dividir y el segundo número sea un cero (excepción de dividir por cero). En este caso propagar la excepción al programa principal mostrando el siguiente mensaje \"No se puede dividir los números introducidos\".\n",
    "\n",
    "Ejemplos<br>\n",
    "Usuario introduce:<br>\n",
    "Primer número: 10<br>\n",
    "Segundo número 5<br>\n",
    "Operacion: 1<br>\n",
    "Resultado 15<br><br>\n",
    "\n",
    "Usuario introduce:<br>\n",
    "Primer número: 10<br>\n",
    "Segundo número 5<br>\n",
    "Operacion: 2<br>\n",
    "Resultado 5<br><br>\n",
    "\n",
    "Usuario introduce:<br>\n",
    "Primer número: 10<br>\n",
    "Segundo número 5<br>\n",
    "Operacion: 3<br>\n",
    "Resultado 50<br><br>\n",
    "\n",
    "Usuario introduce:<br>\n",
    "Primer número: 10<br>\n",
    "Segundo número 5<br>\n",
    "Operacion: 4<br>\n",
    "Resultado 2<br><br>\n",
    "\n",
    "Usuario introduce:<br>\n",
    "Primer número: 10<br>\n",
    "Segundo número 0<br>\n",
    "No se puede dividir los números introducidos\n"
   ]
  },
  {
   "cell_type": "markdown",
   "metadata": {},
   "source": [
    "### ¡Prueba tú!"
   ]
  },
  {
   "cell_type": "code",
   "execution_count": 73,
   "metadata": {},
   "outputs": [
    {
     "name": "stdout",
     "output_type": "stream",
     "text": [
      "Escribe un numero: 9\n",
      "Escribe otro numero: 9\n",
      "1 - SUMA 2 - RESTA 3 - MULTIPLICACIÓN 4 - DIVISIÓN\n",
      "Introduce una operacion: 4\n",
      "Usuario introduce:\n",
      "Primer número:  9\n",
      "Segundo número:  9\n",
      "Operacion:  4\n",
      "Resultado 1.0\n"
     ]
    }
   ],
   "source": [
    "while True:\n",
    "    try:\n",
    "        num1 = int(input(\"Escribe un numero: \"))\n",
    "        break\n",
    "    except ValueError                                :\n",
    "        print(\"Numero incorrecto\")\n",
    "while True:\n",
    "    try:\n",
    "        num2 = int(input(\"Escribe otro numero: \"))\n",
    "        break\n",
    "    except ValueError                                :\n",
    "        print(\"Numero incorrecto\")\n",
    "salir = True\n",
    "while salir:\n",
    "    try:\n",
    "        print(\"1 - SUMA 2 - RESTA 3 - MULTIPLICACIÓN 4 - DIVISIÓN\")\n",
    "        op = int(input(\"Introduce una operacion: \"))\n",
    "        if((op<=0) | (op>=5)):\n",
    "            salir = True\n",
    "        else:\n",
    "            break\n",
    "    except ValueError:\n",
    "        print(\"Numero incorrecto\")\n",
    "\n",
    "def realizarOperacion(a,b,op):\n",
    "    if(op==1):\n",
    "        return a+b\n",
    "    elif(op==2):\n",
    "        return a-b\n",
    "    elif(op==3):\n",
    "        return a*b\n",
    "    elif(op==4):\n",
    "        try:\n",
    "            return a/b\n",
    "        except ZeroDivisionError:\n",
    "            raise\n",
    "print(\"Usuario introduce:\")\n",
    "print(\"Primer número: \", num1)\n",
    "print(\"Segundo número: \", num2)\n",
    "print(\"Operacion: \", op)\n",
    "try:\n",
    "    print(\"Resultado\",realizarOperacion(num1,num2,op))\n",
    "except: \n",
    "    print(\"No se puede dividir por 0\")\n",
    "\n"
   ]
  },
  {
   "cell_type": "code",
   "execution_count": 96,
   "metadata": {},
   "outputs": [
    {
     "name": "stdout",
     "output_type": "stream",
     "text": [
      "1 - SUMA 2 - RESTA 3 - MULTIPLICACIÓN 4 - DIVISIÓN\n",
      "Introduce una operacion: 0\n",
      "entra\n",
      "1 - SUMA 2 - RESTA 3 - MULTIPLICACIÓN 4 - DIVISIÓN\n",
      "Introduce una operacion: 1\n",
      "entra2\n"
     ]
    }
   ],
   "source": []
  }
 ],
 "metadata": {
  "kernelspec": {
   "display_name": "Python 3",
   "language": "python",
   "name": "python3"
  },
  "language_info": {
   "codemirror_mode": {
    "name": "ipython",
    "version": 3
   },
   "file_extension": ".py",
   "mimetype": "text/x-python",
   "name": "python",
   "nbconvert_exporter": "python",
   "pygments_lexer": "ipython3",
   "version": "3.8.3"
  }
 },
 "nbformat": 4,
 "nbformat_minor": 4
}
